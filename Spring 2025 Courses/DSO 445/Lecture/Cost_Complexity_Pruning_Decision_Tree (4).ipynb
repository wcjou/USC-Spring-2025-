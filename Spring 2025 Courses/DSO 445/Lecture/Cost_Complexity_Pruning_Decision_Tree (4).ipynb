{
 "cells": [
  {
   "cell_type": "markdown",
   "id": "4d78dcbc",
   "metadata": {},
   "source": [
    "# Cost Complexity Pruning and Decision Tree Evaluation in Python\n",
    "This notebook covers the use of cost complexity pruning (CCP) in decision trees using Python's `scikit-learn` library. We'll explore code snippets to grow a full tree, identify optimal pruning parameters, and compare different `ccp_alpha` values.\n"
   ]
  },
  {
   "cell_type": "markdown",
   "id": "edd0f654",
   "metadata": {},
   "source": [
    "## 1. Example Code: Cost Complexity Pruning in Python\n",
    "First, we grow a decision tree classifier on the Iris dataset and use the `cost_complexity_pruning_path` method to find effective values for the `ccp_alpha` parameter.\n",
    "\n",
    "Then, we evaluate model performance at each pruning level and select the best `ccp_alpha` based on cross-validation."
   ]
  },
  {
   "cell_type": "code",
   "execution_count": null,
   "id": "03a61efc",
   "metadata": {},
   "outputs": [],
   "source": [
    "\n",
    "from sklearn.tree import DecisionTreeClassifier\n",
    "from sklearn.model_selection import train_test_split, cross_val_score\n",
    "from sklearn.datasets import load_iris\n",
    "import matplotlib.pyplot as plt\n",
    "\n",
    "# Load the Iris dataset and split into training and testing sets\n",
    "data = load_iris()\n",
    "X_train, X_test, y_train, y_test = train_test_split(data.data, data.target, test_size=0.3, random_state=42)\n",
    "\n",
    "# Train an unpruned decision tree and extract the ccp_alpha path\n",
    "clf = DecisionTreeClassifier(random_state=0)\n",
    "path = clf.cost_complexity_pruning_path(X_train, y_train)\n",
    "ccp_alphas, impurities = path.ccp_alphas, path.impurities\n",
    "\n",
    "# Plot impurities vs. ccp_alpha\n",
    "plt.figure(figsize=(8, 5))\n",
    "plt.plot(ccp_alphas[:-1], impurities[:-1], marker='o', drawstyle=\"steps-post\")\n",
    "plt.xlabel(\"Effective Alpha (ccp_alpha)\")\n",
    "plt.ylabel(\"Total Impurity of Leaves\")\n",
    "plt.title(\"Impurity vs Effective Alpha for Training Set\")\n",
    "plt.show()\n"
   ]
  },
  {
   "cell_type": "markdown",
   "id": "88fb5f4b",
   "metadata": {},
   "source": [
    "## 2. Cross-Validate Different `ccp_alpha` Values\n",
    "Using the generated `ccp_alpha` values, we cross-validate the model with each value to find the best pruning level. The optimal `ccp_alpha` will minimize overfitting while keeping model complexity reasonable."
   ]
  },
  {
   "cell_type": "code",
   "execution_count": null,
   "id": "291b2044",
   "metadata": {},
   "outputs": [],
   "source": [
    "\n",
    "# Perform cross-validation to select the best `ccp_alpha`\n",
    "train_scores = []\n",
    "test_scores = []\n",
    "for alpha in ccp_alphas:\n",
    "    clf = DecisionTreeClassifier(random_state=0, ccp_alpha=alpha)\n",
    "    clf.fit(X_train, y_train)\n",
    "    train_scores.append(clf.score(X_train, y_train))\n",
    "    test_scores.append(clf.score(X_test, y_test))\n",
    "\n",
    "# Plot training and testing accuracy vs alpha\n",
    "plt.figure(figsize=(8, 5))\n",
    "plt.plot(ccp_alphas[:-1], train_scores[:-1], marker='o', label=\"Train\", drawstyle=\"steps-post\")\n",
    "plt.plot(ccp_alphas[:-1], test_scores[:-1], marker='o', label=\"Test\", drawstyle=\"steps-post\")\n",
    "plt.xlabel(\"Effective Alpha (ccp_alpha)\")\n",
    "plt.ylabel(\"Accuracy\")\n",
    "plt.legend()\n",
    "plt.title(\"Accuracy vs Effective Alpha\")\n",
    "plt.show()\n"
   ]
  },
  {
   "cell_type": "markdown",
   "id": "0d5d45ac",
   "metadata": {},
   "source": [
    "## 3. Train Final Model with Optimal `ccp_alpha`\n",
    "After identifying the optimal `ccp_alpha` value that balances training and test accuracy, we train a pruned decision tree using this alpha value."
   ]
  },
  {
   "cell_type": "code",
   "execution_count": null,
   "id": "6ae94583",
   "metadata": {},
   "outputs": [],
   "source": [
    "\n",
    "# Find the best alpha based on test scores\n",
    "best_alpha = ccp_alphas[test_scores.index(max(test_scores))]\n",
    "print(f\"Optimal ccp_alpha: {best_alpha}\")\n",
    "\n",
    "# Train a pruned model with the optimal `ccp_alpha`\n",
    "clf_pruned = DecisionTreeClassifier(random_state=0, ccp_alpha=best_alpha)\n",
    "clf_pruned.fit(X_train, y_train)\n",
    "print(f\"Pruned Model Accuracy on Test Set: {clf_pruned.score(X_test, y_test)}\")\n"
   ]
  }
 ],
 "metadata": {},
 "nbformat": 4,
 "nbformat_minor": 5
}
