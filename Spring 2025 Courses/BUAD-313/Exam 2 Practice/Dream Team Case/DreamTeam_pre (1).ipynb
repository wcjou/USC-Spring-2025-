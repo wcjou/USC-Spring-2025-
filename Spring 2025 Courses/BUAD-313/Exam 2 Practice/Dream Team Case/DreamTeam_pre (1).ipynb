{
 "cells": [
  {
   "cell_type": "markdown",
   "metadata": {},
   "source": [
    "<b>Dream Team Optimization (Session 10)</b>"
   ]
  },
  {
   "cell_type": "code",
   "execution_count": null,
   "metadata": {},
   "outputs": [],
   "source": [
    "# typical BUAD 313 import:\n",
    "import numpy as np\n",
    "from gurobipy import GRB, Model, quicksum"
   ]
  },
  {
   "cell_type": "code",
   "execution_count": null,
   "metadata": {},
   "outputs": [],
   "source": [
    "# define the model m labeled \"Dream Team\"\n",
    "m = Model('Dream Team')\n",
    "\n",
    "# DATA \n",
    "\n",
    "# define a list of players, numbered 1 through 20\n",
    "players = range(1, 21)\n",
    "Rebounds = [1, 2, 3, 4, 5, 7, 7, 4, 8, 5, 10, 8, 10, 9, 6, 16, 11, 12, 11, 9]\n",
    "Assists = [7, 14, 12, 4, 9, 6, 8, 2, 2, 5, 6, 8, 2, 5, 3, 2, 1, 5, 1, 1]\n",
    "Points = [10, 14, 19, 18, 20, 21, 23, 13, 17, 25, 20, 30, 24, 15, 17, 3, 27, 26, 21, 14]\n",
    "Defense = [10, 9, 8, 6, 8, 10, 10, 5, 8, 8, 9, 10, 9, 7, 6, 6, 9, 10, 9, 8]\n",
    "Heights = [71, 72, 76, 72, 75, 77, 80, 77, 82, 76, 82, 81, 87, 82, 82, 81, 88, 86, 87, 84]\n",
    "\n",
    "\n",
    "### Dictionary versions are all lower-case\n",
    "# create a dictionary of the rebound data indexed by player\n",
    "rebounds = dict(zip(players, Rebounds))\n",
    "\n",
    "# create a dictionary of the assist data indexed by player\n",
    "assists = dict(zip(players, Assists))\n",
    "\n",
    "# create a dictionary of the points data indexed by player\n",
    "points = dict(zip(players, Points))\n",
    "\n",
    "# create a dictionary of the defense data indexed by player\n",
    "defense = dict(zip(players, Defense))\n",
    "\n",
    "# create a dictionary of the height data indexed by player\n",
    "heights = dict(zip(players, Heights))\n",
    "\n",
    "# print a table of rebounds, assists, heights, points, and defense by player. specifically, each row should be one player and the columns should be tab spaced. abbreviate the column names as needed to fit the table in the space provided.\n",
    "print(\"Player\\tReb\\tAst\\tPts\\tDef\\tHt\")\n",
    "for p in players:\n",
    "    print(f\"{p}\\t{rebounds[p]}\\t{assists[p]}\\t{points[p]}\\t{defense[p]}\\t{heights[p]}\")"
   ]
  }
 ],
 "metadata": {
  "kernelspec": {
   "display_name": "base",
   "language": "python",
   "name": "python3"
  },
  "language_info": {
   "codemirror_mode": {
    "name": "ipython",
    "version": 3
   },
   "file_extension": ".py",
   "mimetype": "text/x-python",
   "name": "python",
   "nbconvert_exporter": "python",
   "pygments_lexer": "ipython3",
   "version": "3.11.7"
  },
  "orig_nbformat": 4
 },
 "nbformat": 4,
 "nbformat_minor": 2
}
