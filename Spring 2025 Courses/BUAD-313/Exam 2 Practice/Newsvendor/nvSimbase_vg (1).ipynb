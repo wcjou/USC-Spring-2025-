{
 "cells": [
  {
   "cell_type": "markdown",
   "metadata": {},
   "source": [
    "### BUAD 313: Newsvendor Simulation Solution\n",
    "\n",
    "Python packages for simulation"
   ]
  },
  {
   "cell_type": "code",
   "execution_count": null,
   "metadata": {},
   "outputs": [],
   "source": [
    "import numpy as np"
   ]
  },
  {
   "cell_type": "markdown",
   "metadata": {},
   "source": [
    "Some parameters for our simulation based on the game we played."
   ]
  },
  {
   "cell_type": "code",
   "execution_count": null,
   "metadata": {},
   "outputs": [],
   "source": [
    "# number of replications we will run in simulation\n",
    "numRep = 10000\n",
    "\n",
    "p = 25 # sales price\n",
    "c = 10  # procurement cost\n",
    "salvage = 5 # salvage value"
   ]
  },
  {
   "cell_type": "markdown",
   "metadata": {},
   "source": [
    "Simulation code:"
   ]
  },
  {
   "cell_type": "code",
   "execution_count": null,
   "metadata": {},
   "outputs": [],
   "source": [
    "# create an array to store the profit for each replication\n",
    "profit = np.zeros(numRep)\n",
    "\n",
    "#fix an order quantity and our best estimate of demand distribution for simulation \n",
    "q = 100\n",
    "mean_est = 100\n",
    "stdev_est = 10\n",
    "\n",
    "#set the seed for reproducibility\n",
    "np.random.seed(1234)"
   ]
  },
  {
   "cell_type": "code",
   "execution_count": null,
   "metadata": {},
   "outputs": [],
   "source": []
  },
  {
   "cell_type": "markdown",
   "metadata": {},
   "source": [
    "### Try to optimize the q\n",
    "\n",
    "We're going to \"optimize\" q in the laziest way possible. We'll consider a grid of possible values, and then evaluate the expected profit for each of them by simulation. It'll be easier to do this though if we define a function first that encapsulates the run of the simulation.\n"
   ]
  },
  {
   "cell_type": "code",
   "execution_count": null,
   "metadata": {},
   "outputs": [],
   "source": []
  },
  {
   "cell_type": "code",
   "execution_count": null,
   "metadata": {},
   "outputs": [],
   "source": [
    "q_grid = np.arange(80, 120, 1)\n",
    "avg_profit_grid = np.zeros(len(q_grid))\n",
    "for i in range(len(q_grid)):\n",
    "    q = q_grid[i]\n",
    "    # run the simulation for each order quantity in the grid\n",
    "    profit, _ = run_simulation(q, mean_est, stdev_est)\n",
    "    avg_profit = np.mean(profit)\n",
    "    avg_profit_grid[i] = avg_profit\n",
    "    std_profit = np.std(profit)\n",
    "    confInt = [avg_profit - 1.96 * std_profit / np.sqrt(numRep),\n",
    "               avg_profit + 1.96 * std_profit / np.sqrt(numRep)]\n",
    "    print(f\"Order Quantity: {q}, Average Profit: {avg_profit}, Standard Deviation of Profit: {std_profit}, 95% Confidence Interval: {confInt}\")"
   ]
  },
  {
   "cell_type": "code",
   "execution_count": null,
   "metadata": {},
   "outputs": [],
   "source": []
  },
  {
   "cell_type": "code",
   "execution_count": null,
   "metadata": {},
   "outputs": [],
   "source": []
  },
  {
   "cell_type": "markdown",
   "metadata": {},
   "source": [
    "### What about Realized Profits?   \n",
    "Suppose we order 107.  We don't expect to get 1439.2 every time, do we?\n",
    "Let's make a histogram of the realized profits for 107."
   ]
  },
  {
   "cell_type": "code",
   "execution_count": null,
   "metadata": {},
   "outputs": [],
   "source": []
  },
  {
   "cell_type": "code",
   "execution_count": null,
   "metadata": {},
   "outputs": [],
   "source": []
  }
 ],
 "metadata": {
  "kernelspec": {
   "display_name": "base",
   "language": "python",
   "name": "python3"
  },
  "language_info": {
   "codemirror_mode": {
    "name": "ipython",
    "version": 3
   },
   "file_extension": ".py",
   "mimetype": "text/x-python",
   "name": "python",
   "nbconvert_exporter": "python",
   "pygments_lexer": "ipython3",
   "version": "3.12.3"
  }
 },
 "nbformat": 4,
 "nbformat_minor": 2
}
