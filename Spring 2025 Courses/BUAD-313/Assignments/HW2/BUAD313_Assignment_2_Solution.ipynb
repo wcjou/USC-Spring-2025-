{
  "cells": [
    {
      "cell_type": "markdown",
      "metadata": {
        "id": "43Q1Kr27slP2"
      },
      "source": [
        "# BUAD 313 - Spring 2025 - Assignment 2\n",
        "\n",
        "Notes:\n",
        " - You may work in teams of up to 3.  Submit one assignment for the three of you, but please ensure it has all 3 of your names and @usc.edu emails.\n",
        " - You must submit your work as a .ipynb file (jupyter notebook). The grader has to be able to run your notebook. Code that doesn't run gets zero points.  A Great way to check that your code runs is to Select \"Clear All Outputs\", \"Restart\" and then \"Run All\" and make sure it still shows all your answer properly!\n",
        " - Use the existing sections below to submit your answers below.  You can add additional Python/markdown cells to describe and explain your solution, but keep it tidy.  Consider formatting some of your markdown cells for the grader.  [Markdown Guide](https://www.markdownguide.org/basic-syntax/)\n",
        "\n",
        "The deadline for this assignment is **11:59 PM Pacific Time on Friday February 21, 2024**. Late submissions will not be accepted."
      ]
    },
    {
      "cell_type": "markdown",
      "metadata": {
        "id": "gl2SRTZtslP6"
      },
      "source": [
        "Below are the standard Python packages that we use for optimization models in this course. By running this next Python cell, you will have these packages available to use in all your answers contained in this file."
      ]
    },
    {
      "cell_type": "code",
      "execution_count": null,
      "metadata": {
        "id": "I7B24wZdslP7",
        "colab": {
          "base_uri": "https://localhost:8080/",
          "height": 357
        },
        "outputId": "94916b0d-6536-4431-b44a-6ac3d9fb128f"
      },
      "outputs": [
        {
          "output_type": "error",
          "ename": "ModuleNotFoundError",
          "evalue": "No module named 'gurobipy'",
          "traceback": [
            "\u001b[0;31m---------------------------------------------------------------------------\u001b[0m",
            "\u001b[0;31mModuleNotFoundError\u001b[0m                       Traceback (most recent call last)",
            "\u001b[0;32m<ipython-input-1-153f9eb50bdc>\u001b[0m in \u001b[0;36m<cell line: 0>\u001b[0;34m()\u001b[0m\n\u001b[1;32m      1\u001b[0m \u001b[0;32mimport\u001b[0m \u001b[0mnumpy\u001b[0m \u001b[0;32mas\u001b[0m \u001b[0mnp\u001b[0m\u001b[0;34m\u001b[0m\u001b[0;34m\u001b[0m\u001b[0m\n\u001b[0;32m----> 2\u001b[0;31m \u001b[0;32mfrom\u001b[0m \u001b[0mgurobipy\u001b[0m \u001b[0;32mimport\u001b[0m \u001b[0mModel\u001b[0m\u001b[0;34m,\u001b[0m \u001b[0mGRB\u001b[0m\u001b[0;34m,\u001b[0m \u001b[0mquicksum\u001b[0m\u001b[0;34m\u001b[0m\u001b[0;34m\u001b[0m\u001b[0m\n\u001b[0m\u001b[1;32m      3\u001b[0m \u001b[0;32mimport\u001b[0m \u001b[0mpandas\u001b[0m \u001b[0;32mas\u001b[0m \u001b[0mpd\u001b[0m\u001b[0;34m\u001b[0m\u001b[0;34m\u001b[0m\u001b[0m\n",
            "\u001b[0;31mModuleNotFoundError\u001b[0m: No module named 'gurobipy'",
            "",
            "\u001b[0;31m---------------------------------------------------------------------------\u001b[0;32m\nNOTE: If your import is failing due to a missing package, you can\nmanually install dependencies using either !pip or !apt.\n\nTo view examples of installing some common dependencies, click the\n\"Open Examples\" button below.\n\u001b[0;31m---------------------------------------------------------------------------\u001b[0m\n"
          ],
          "errorDetails": {
            "actions": [
              {
                "action": "open_url",
                "actionText": "Open Examples",
                "url": "/notebooks/snippets/importing_libraries.ipynb"
              }
            ]
          }
        }
      ],
      "source": [
        "import numpy as np\n",
        "from gurobipy import Model, GRB, quicksum\n",
        "import pandas as pd"
      ]
    },
    {
      "cell_type": "markdown",
      "metadata": {
        "id": "Rg9OV7uAslP8"
      },
      "source": [
        "## Team Names and Emails:\n",
        " <font color=\"blue\">**(Edit this cell)**</font>\n",
        " - Team Member 1\n",
        " - Team Member 2\n",
        " - Team Member 3"
      ]
    },
    {
      "cell_type": "markdown",
      "metadata": {
        "id": "pBtXL4yxslP8"
      },
      "source": [
        "## Question 1 (45 Points):  Portfolio Allocation Revisited\n",
        "\n",
        "In this problem, we are revisiting the portfolio allocation problem we started developing in Session 9.  You may want to review that lecture and the mathematical formulation we developed. As a reminder, here was the formulation for the base model from class:\n",
        "\n",
        "<img src=\"PortfolioProblem.png\" alt=\"Base Portfolio Allocation Model Model\" width=\"400\" height=auto>\n",
        "\n",
        "\n",
        "Assume a target return of .01.  \n",
        "\n",
        "Our data for this problem are available on brightspace and include:\n",
        "- monthly_ret_simple.csv\n",
        "- asset_metadata.csv\n",
        "\n",
        "I did all the data-wrangling for you (because I'm a nice guy).  Below I load up monthly_ret_simple.csv into a monthly_returns_dict like we did in class.  I also load up asset_metadata.csv into a dictionary called asset_metadata_dict.  You'll probably need that dictionary later in the question."
      ]
    },
    {
      "cell_type": "code",
      "execution_count": null,
      "metadata": {
        "id": "yMdwDZ52ahH-"
      },
      "outputs": [],
      "source": [
        "#read monthly_ret_simple.csv using numpy, but ignore the first row and ignore first column\n",
        "monthly_returns = np.genfromtxt('monthly_ret_simple.csv', delimiter=',', skip_header=True)[:,1:]\n",
        "\n",
        "#read in just the first row of monthly_ret_simple.csv, ignore first column and label as tickers\n",
        "tickers = np.genfromtxt('monthly_ret_simple.csv', delimiter=',', max_rows=1, dtype=str) [1:]\n",
        "\n",
        "#read in just the first column of monthly_ret_simple.csv, ignoring the first row and label as dates\n",
        "dates = np.genfromtxt('monthly_ret_simple.csv', delimiter=',', skip_header=True, usecols=0, dtype=str)\n",
        "\n",
        "#convert monthly_returns into a dictionary where\n",
        "# the keys are pairs of (date, ticker) and values are the return\n",
        "monthly_returns_dict = { (dates[i], tickers[j]) : monthly_returns[i,j] for i in range(len(dates)) for j in range(len(tickers)) }\n",
        "\n",
        "#compute a dictionary of the average returns for each asset\n",
        "average_returns = { ticker : np.mean([ monthly_returns_dict[(date, ticker)] for date in dates ]) for ticker in tickers }"
      ]
    },
    {
      "cell_type": "code",
      "execution_count": null,
      "metadata": {
        "id": "BleCLoolahH-"
      },
      "outputs": [],
      "source": [
        "#read asset_metadata.csv into a dataframe and convert to a dictionary\n",
        "asset_metadata = pd.read_csv('asset_metadata.csv')\n",
        "\n",
        "# Convert to a dictionary where (ticker, column_label) -> value\n",
        "asset_dict = {(row[\"Ticker\"], col): row[col] for _, row in asset_metadata.iterrows() for col in asset_metadata.columns if col != \"Ticker\"}\n",
        "\n",
        "categories = [col for col in asset_metadata.columns if col != \"Ticker\"]"
      ]
    },
    {
      "cell_type": "markdown",
      "metadata": {
        "id": "mXRSgTWHahH_"
      },
      "source": [
        "### Part a) (10 points):\n",
        "One of the criticisms brought up in class was that absolute deviation penalizes being above the expected return the same way it penalizes being below the expected return.  That seems silly because being above the expected return is a good thing.  \n",
        "\n",
        "One way to address this problem is to use semi-deviation.  The monthly semi-deviation of a portfolio is\n",
        " - 0 if the return of the portfolio in that month is above its expected return.\n",
        " - the expected return of the portfolio minus the return of the portfolio in that month, otherwise.\n",
        "\n",
        "Thus, there is no penalty if the portfolio outperforms the expected return, but there is a penalty if it underperforms.\n",
        "\n",
        "Modify our base model to minimize the average semi-deviation over the dataset.  Write out a full linear optimization formulation for your new model (decision varaibles, constraints, and objective).  You may add/remove variables and constraints from the base model, and/or change the objective.  All variables should be continuous.  Be sure to explain any new variables, constraints or objective in words and in mathematical formulas."
      ]
    },
    {
      "cell_type": "markdown",
      "metadata": {
        "id": "r15m4zaBahH_"
      },
      "source": [
        "<font color=\"blue\">  Let\n",
        "- $x_i$ be the fraction of the portfolio invested in asset i for i in tickers\n",
        "- $d_t$ be a variable that will be the monthly semideviation at optimality for each t in dates\n",
        "\n",
        "Our formulation is:\n",
        "\n",
        "<img src=\"SemiDeviation_Solution.png\" alt=\"Base Portfolio Allocation Model Model\" width=\"400\" height=auto>\n",
        "\n",
        "All the constraints not involving $d_t$ mean the same as they did before.  The $d_t$ constraints are constructed so that optimality, $d_t$ will be the monthly semideviation at month $t$.  To see this, notice, $d_t$ will always be non-negative from the first $d_t$ constraint. We then have two cases:\n",
        "1. If the monthly return of the portfolio exceeds expected return (outperformance), then the right side of the second $d_t$ constraint will be negative.  So because $d_t \\geq 0$, the first constraint will become tight and $d_t$ will be zero in the optimal solution.  \n",
        "2. If the expected return exceeds the monthly return (under performance), the right side of the second $d_t$ constraint will be positive, so when we are minimining, $d_t$ will be equal to this difference in the optimal solution.  \n",
        "\n",
        "Either way, $d_t$ encodes the semi-deviation at optimality.  The objective then correctly represents the average of the semi-deviations."
      ]
    },
    {
      "cell_type": "markdown",
      "metadata": {
        "id": "mL7yWwdeahH_"
      },
      "source": [
        "<font color=\"red\"> **Grading Guidelines** This question was difficult and we were lenient in grading.  Don't assume you really understood it just because you got high marks.  Check your work!\n",
        "\n",
        "- 2 points were awarded for introducing variables and constraints that define semi-deviation. (Reusing $d_t$ as I did was not necessary as long as what you wrote was clear.) Attempts that represented semi-deviation with a non-linear constraint received no points.  Partial credit on this part was sparingly allocated. While there are possibly other solutions, your response must be essentially correct to earn these two points.\n",
        "- 3 points were awarded for clearly explaining why the above constraints correctly represented semi-deviation.  Unclear explanations or explanations that did not explain both \"halves\" of the if received only partial credit. Reversing the direction of semi-deviation lost 1/2 point.  Failure to recognize that d_t only represents semi-deviation at the optimal solution lost 1/2 point.  \n",
        "- 5 points were awarded if the remainder of the formulation was correcty formulated as a linear optimization problem and described clearly.  (Hence, any reasonable answer should receive at least 5 points from this portion.)"
      ]
    },
    {
      "cell_type": "markdown",
      "metadata": {
        "id": "kl7qygUZahIA"
      },
      "source": [
        "### Part b) (10 points)\n",
        "The client decides this whole semi-deviation idea is too complicated for their taste.  They propose a simpler optimization model similar to the base model. They want to change the objective to maximize the worst monthly return the portfolio earns over the whole dataset, but otherwise keep the other portions of the problem the same (invest all the wealth, don't short-sell, achieve a target return of .01).  \n",
        "\n",
        "Write a linear optimization formulation for this new problem (decision variables, constraints, and objective).  Be clear and explain mathematics in words where appropriate. Your formulation should only use continuous decision variables.\n",
        "\n",
        "**Hint** Even though the client only wants to change the objective, you might need to change the constraints and variables too to achieve what they want\n"
      ]
    },
    {
      "cell_type": "markdown",
      "metadata": {
        "id": "VETaAOFcahIA"
      },
      "source": [
        "<font color=\"blue\"> Solution:\n",
        "Let\n",
        "- $x_i$ be the fraction of the portfolio invested in asset $i$ for i in Tickers\n",
        "- w be an auxiliary decision variable that will represent the worst monthly return at optimality.\n",
        "\n",
        "<img src=\"worst_return_solution.png\" alt=\"Base Portfolio Allocation Model Model\" width=\"400\" height=auto>\n",
        "\n",
        "Most of the contraints mean the same as they did in the base model.  The only difference are the constraints for $w$.  Since we are maximizing, these constraints will make $w$ as big as possible, but it has to be less than the monthly return of hte portfolio in for each $t$. So at optimality, it will be equal to the smallest of these monthly returns, i.e., the worst return."
      ]
    },
    {
      "cell_type": "markdown",
      "metadata": {
        "id": "tL__7wIXahIA"
      },
      "source": [
        "<font color=\"red\"> Grading Guidelines:\n",
        " - 3 points were allocated for correctly introducing a new decision variable w and introducing the appropraite constraints.  If students reversed the $\\leq$ to a $\\geq$, they lost 1.5 points.  If they failed to specify these constraints held for all $t$ in dates, they lost 1 point.  Other attempts that were getting at the right notion but incorrect might receive some (limited) partial credit.  No points were given for formulation that introduced nonlinear constraints.\n",
        " - 3 points were allocated for clearly explaining why $w$ represents the worst monthly return.  Failure to note that this only holds at optimality lost 1/2 a point.\n",
        " - 4 points (generous) were given as long as the remainder of the problem was a cogent linear optimization problem.  1 point deduction if students left in the deviation or semi-devaition variables.  "
      ]
    },
    {
      "cell_type": "markdown",
      "metadata": {
        "id": "x2O5RcOSahIA"
      },
      "source": [
        "### Part c) 10 points\n",
        "Using your formulation in part b, code up your model in Gurobi and solve it.  (Use a target_return of .01).  \n",
        "\n",
        "Include your Python code for the model in one or more Python cells.  Your code should print out the optimal value and optimal solution from your model as its last step. Be sure to label which is which and what the units are! Code that does not run earns no credit!"
      ]
    },
    {
      "cell_type": "markdown",
      "metadata": {
        "id": "VHDXWnTEahIA"
      },
      "source": [
        "<font color=\"blue\"> **Solution**"
      ]
    },
    {
      "cell_type": "code",
      "execution_count": null,
      "metadata": {
        "id": "jMENE9p9ahIA",
        "outputId": "ee089acb-efd3-4e7f-fd89-5cf502da570d"
      },
      "outputs": [
        {
          "name": "stdout",
          "output_type": "stream",
          "text": [
            "Gurobi Optimizer version 11.0.3 build v11.0.3rc0 (mac64[x86] - Darwin 23.6.0 23G93)\n",
            "\n",
            "CPU model: Intel(R) Core(TM) i7-1068NG7 CPU @ 2.30GHz\n",
            "Thread count: 4 physical cores, 8 logical processors, using up to 8 threads\n",
            "\n",
            "Optimize a model with 28 rows, 23 columns and 642 nonzeros\n",
            "Model fingerprint: 0xbbffce86\n",
            "Coefficient statistics:\n",
            "  Matrix range     [9e-05, 1e+00]\n",
            "  Objective range  [1e+00, 1e+00]\n",
            "  Bounds range     [0e+00, 0e+00]\n",
            "  RHS range        [1e-02, 1e+00]\n",
            "Presolve time: 0.01s\n",
            "Presolved: 28 rows, 23 columns, 642 nonzeros\n",
            "\n",
            "Iteration    Objective       Primal Inf.    Dual Inf.      Time\n",
            "       0      handle free variables                          0s\n",
            "       7   -3.4811432e-02   0.000000e+00   0.000000e+00      0s\n",
            "\n",
            "Solved in 7 iterations and 0.03 seconds (0.00 work units)\n",
            "Optimal objective -3.481143246e-02\n"
          ]
        }
      ],
      "source": [
        "#create a gurobi model called wc\n",
        "wc = Model(\"wc\")\n",
        "\n",
        "#add a continuous, nonnegative decision variable for each ticker\n",
        "x = wc.addVars(tickers, vtype=GRB.CONTINUOUS, name='x')\n",
        "\n",
        "#add a continuous, unbounded decision variables w\n",
        "w = wc.addVar(vtype=GRB.CONTINUOUS, name='w', lb = -GRB.INFINITY)\n",
        "\n",
        "#add a constraint that the sum over i in tickers of x_i = 1\n",
        "wc.addConstr(quicksum(x[i] for i in tickers) == 1)\n",
        "\n",
        "#add a constraint that the sum over i in tickers of x_i * average_returns[i] >= .01\n",
        "wc.addConstr(quicksum(x[i] * average_returns[i] for i in tickers) >= .01)\n",
        "\n",
        "for t in dates:\n",
        "    #add a constraint that w <= sum over i in tickers of x_i * monthly_returns[t,i]\n",
        "    wc.addConstr(w <= quicksum(x[i] * monthly_returns_dict[(t,i)] for i in tickers))\n",
        "\n",
        "#set a constraint to maximize w\n",
        "wc.setObjective(w, GRB.MAXIMIZE)\n",
        "\n",
        "#optimize the model\n",
        "wc.optimize()\n"
      ]
    },
    {
      "cell_type": "code",
      "execution_count": null,
      "metadata": {
        "id": "4ox-4JliahIB",
        "outputId": "95b2c9ad-7e77-409f-dac8-57bcb14e33b5"
      },
      "outputs": [
        {
          "name": "stdout",
          "output_type": "stream",
          "text": [
            "Optimal Solution:\n",
            "AAPL: 0.0\n",
            "ARKK: 0.0\n",
            "BABA: 0.0\n",
            "BITO: 0.0\n",
            "EEM: 0.0\n",
            "EWJ: 0.0\n",
            "FSLR: 0.11413340447750517\n",
            "GLD: 0.6337683048220752\n",
            "GRN: 0.0\n",
            "HASI: 0.0\n",
            "ICLN: 0.0\n",
            "LIT: 0.0\n",
            "MSFT: 0.0\n",
            "NVDA: 0.0\n",
            "PLD: 0.0\n",
            "SWBI: 0.0\n",
            "TSLA: 0.06303073061566174\n",
            "TSM: 0.0\n",
            "USO: 0.12476085274813556\n",
            "VNO: 0.0\n",
            "VOO: 0.0\n",
            "XOM: 0.06430670733662228\n",
            "Optimal Value: -0.03481143246158523\n"
          ]
        }
      ],
      "source": [
        "print(\"Optimal Solution:\")\n",
        "for i in tickers:\n",
        "    print(f\"{i}: {x[i].x}\")\n",
        "\n",
        "#print the optimal value\n",
        "print(f\"Optimal Value: {w.x}\")\n"
      ]
    },
    {
      "cell_type": "markdown",
      "metadata": {
        "id": "gn-1FkaLahIB"
      },
      "source": [
        "<font color = \"red\">**Grading guidelines:**\n",
        " - Code needs to implement the model defined by the student in the previous parts, i.e, earlier mistakes do *not* carry forward.  Partial credit may be awarded if some, but not all of the coded model matches the mathematical model described in earlier parts.  Full points should be reserved for the implementation matching the formulation exactly, solving, and reporting both the optimal solution (values for all decision variables) and the optimal value.\n",
        " - Failure to lable the optimal solution and optimal value separately loses 1 point (as does switching the terminology.)\n",
        " - Failure to specify the optimal solution loses 3 points.  Failure to specify optimal value loses 1 point.\n",
        " - No code presented receives zero points, as does code that does not run.  \n",
        " - Mild rounding of the optimal vlaue or the value of the optimal K does not matter.  But we should NOT round to nearest integer (loses 1/2 point).\n",
        "</font>"
      ]
    },
    {
      "cell_type": "markdown",
      "metadata": {
        "id": "VijAlhH1slP9"
      },
      "source": [
        "### Part d) (15 points)\n",
        "\n",
        "The client saw your initial work in class and has now articulated a variety of additional constraints on the portfolio.  For each of the constraints below, write (paper and pencil) how you would represent the constraint mathematically as one or more linear constraints in our model.  You may add additional auxiliary variables if you need them, but clearly define them and what they should mean.  You may use the indexed data originally loaded at the top of this question.  You may also define new Index Sets if you so choose.\n",
        "\n",
        "Add a Markdown Cell directly below this cell with your answer.  You do NOT need to code these constraints in your model.  Be sure to label each constraint (same way in question) so we know which one is which!\n",
        "\n",
        "1. (China Tariff Concerns) The client is concerned about the impending trade war with China.  They want at most 10% of the portfolio invested in Chinese assets.\n",
        "1. (ESG Requirement) No more than 30% of the portfolio can be invested in assets with a \"low\" ESG rating.  \n",
        "1. (Liquidity Requirement) The ratio of \"Low\" liquidity assets to \"High\" liquidy assets should be no more than 10%.\n",
        "1. (Commodities Minimum) The amount invested in the Asset Class \"Commodities\" should be at least 10% of the amount invested in the Asset Class \"Equities.\"\n",
        "1. (Diversifying Equities) Within the investments in Equities, a third of them should be Small Cap, a third should be Mid Cap, and a third should be Large Cap.  \n",
        "1. (No Tesla) The client does not want to invest in Tesla (TSLA) at all."
      ]
    },
    {
      "cell_type": "markdown",
      "metadata": {
        "id": "oA6GW3ZrahIC"
      },
      "source": [
        "**Hint 1:**  DO THIS WITH PAPER AND PENCIL BEFORE TYPING ANYTHING.  \n",
        "\n",
        "**Hint 2:** I\"m going to solve the first part of the problem for you.  Read my answer and mimic it for remaining parts.\n",
        "\n",
        "**China Tariff Concerns** Let C be the set of tickers $i$ where asset_data[$i$, \"Region] = \"China.\"  (C is an Index Set.)  Then, the constraint can be written as\n",
        "- sum over i in C of x[i] <= .3.  \n",
        "  \n",
        "Or, if I want to make it look a bit prettier, I can write\n",
        " - $ \\sum_{i \\text{ in C}} x_i \\leq .1 $\n",
        "\n",
        "(Either answer is fine.)"
      ]
    },
    {
      "cell_type": "markdown",
      "metadata": {
        "id": "BM892ad6slP9"
      },
      "source": [
        "<font color = \"blue\"> Solution:\n",
        "The constraints are:\n",
        "\n",
        "#### ESG Requirement\n",
        "Let LowESG be the set of tickers i where asset_data[i, \"ESG Rating\"] = \"Low\".  (L is an index set.)  Then the constraint can be written as:\n",
        " - $ \\sum_{i \\text{ in LowESG}} x_i \\leq .3$\n",
        "\n",
        " #### Liquidity Requirement\n",
        " Let LowLiq be the set of tickers i where asset_data[i, \"Liquidity\"] = \"Low\" and let HighLiq be the tickers i where asset_data[i, \"Liquidity\"] == \"High\".  (LowLiq and HighLiq are both index sets.)  Then teh constraint can be written as:\n",
        " - $\\sum_{i \\text{ in LowLiq}} x_i \\leq .1 \\sum_{i \\text{ in HighLiq}} x_i$\n",
        "\n",
        "\n",
        " ### Commodities Minimum\n",
        " Let Com be the set of tickers i where asset_data[i, \"Asset Class\"] == \"Commodities\".  Let Eq be the tickers i where asset_data[i, \"Asset Class\"] == \"Equities\".  (Both Com and Eq are index sets.)  Then the constraint can be written as:\n",
        " - $\\sum_{i \\text{ in Com}} x_i \\geq .1 \\sum_{{i \\text{ in Eq}}} x_i$\n",
        "\n",
        " ### Diversifying Equities\n",
        " Let\n",
        "  - SC be the set of tickers i where asset_data[i, \"Sub-Class\"] = \"Small Cap\",\n",
        "  - MC be the set of tickers i where asset_data[i, \"Sub-Class\"] = \"Mid Cap\",\n",
        "  - LC be the set of tickers i where asset_data[i, \"Sub-Class\"] = \"Large Cap\".\n",
        "\n",
        "  Then we need to add the constraints that\n",
        "  - $ \\sum_{i \\text{ in SC} } x_i  = \\sum_{i \\text{ in MC}}  x_i$\n",
        "  - $\\sum_{i \\text{ in SC} } x_i = \\sum_{i \\text{ in LC}} x_i$\n",
        "\n",
        "  Note, this is not the only way to do this.  There are many other equivalent formulations, all correct.\n",
        "\n",
        "  #### No Tesla\n",
        "  - $x_{\\text{TSLA}} = 0$.\n",
        "\n"
      ]
    },
    {
      "cell_type": "markdown",
      "metadata": {
        "id": "LLvdIo4zslP-"
      },
      "source": [
        "<font color = \"red\">**Grading guidelines:**\n",
        "- You do not have to use latex in your markdown for full credit.  Any typed response that was clear was ok.  Unclear or vague responses may lose credit.\n",
        "- Most constraints had many equivalent formulations.  Credit was awarded 3 points per constraint.\n",
        "- Failure to clearly define and index set loses 1 pt.  Note, an alternate acceptable way to write the indexing without an index set would have been (for the China Tariff Concerns Constraint)\n",
        "$$\n",
        "\\sum_{\\substack{i \\text{in Tickers}\\\\ \\text{asset\\_data[i, \"Region\"] = \"China\"}}} x_i \\leq .1\n",
        "$$\n",
        "Students who did this correctly (or described it correctly) received full credit.\n",
        "- The following was also ok:\n",
        "$$\n",
        "\\sum_{i} x_i \\leq .1  \\qquad \\text{where the sum is over tickers such that asset\\_data[i, \"Region\"] = \"China\"}\n",
        "$$\n",
        "- Logically incorrect constraints that were still syntactically correct received 1 point.  \n",
        "</font>"
      ]
    },
    {
      "cell_type": "markdown",
      "metadata": {
        "id": "aD0EdpnSahIC"
      },
      "source": [
        "## Question 2 (26 Points): After that last question, I could use a ...\n",
        "\n",
        "Trojan Microbrewers brews four types beers: Light, Dark, Ale, and Premium (abreviated L, D, A, P).  Beer is made from 3 main ingredients: malt, hops and yeast.  Each of the different beers requires different amounts of each ingredient to make one beer, plus a lot of other minor ingredients like artificial flavors and preservatives.\n",
        "\n",
        "Trojan Microbrewers currently has some inventory of malt, hops and yeast (in pounds), but it has an essentially unlimited supply of artificial flavors and preservatives.\n",
        "\n",
        "Finally, each beer has its own revenue per bottle sold (in dollars)."
      ]
    },
    {
      "cell_type": "markdown",
      "metadata": {
        "id": "8pSHgzdxahIC"
      },
      "source": [
        "Your colleague formulated a linear optimization model to maximize the revenue of Trojan Microbrewers\n",
        "subject to the constraints on the availability of current inventory of main ingredients, taking into account the different recipes. (They assumed we're not buying any more main ingredients at the moment.)\n",
        "                                                                      \n",
        "After formulating the model, they solved it and computed the following sensitivity analysis table, but forgot to share the actual formulation with you.\n",
        "\n",
        "<img src=\"beer_sensitivity2.png\" alt=\"Sensitivity Table for the Beer model\" width=\"800\" height=auto>\n"
      ]
    },
    {
      "cell_type": "markdown",
      "metadata": {
        "id": "vf4bKaLFahIC"
      },
      "source": [
        "#### Part a (5 points)\n",
        "From just the sensitivity table, can you say what the optimal objective value is?  If so, be sure to explain your answer and how you deduced it from the table for full credit and give units. If not, explain why not and give the best bounds you can."
      ]
    },
    {
      "cell_type": "markdown",
      "metadata": {
        "id": "4KRKaGkJahIC"
      },
      "source": [
        "<font color=\"blue\"> Solution:\n",
        "Reading from the first half of the table, the final Value tells us the optimal solution. The third column (Objective Coefficient) gives us the corresponding objective function.  Multiplying and summing gives\n",
        "$6 \\times 30 + 5 \\times 20 + 3 \\times 35 + 7 \\times 0 = 385$."
      ]
    },
    {
      "cell_type": "markdown",
      "metadata": {
        "id": "zMlKeR_fahIC"
      },
      "source": [
        "<font color=\"red\"> Grading Notes:\n",
        "3 points of partial credit were given to any correct interpretation of the table having to do with the first half., but to earn full credit, a student must show work.  If student shows numeric values but does not explain where they come from, lose 1.5 points."
      ]
    },
    {
      "cell_type": "markdown",
      "metadata": {
        "id": "Ir2hoMHoahIC"
      },
      "source": [
        "#### Part b (3 points)\n",
        "From just the sensitivity table, can you say what the current inventory of Malt, Hops and yeast is?  If so, provide them and explain how you deduced this from the table.  If not, explain why not and provide any bounds you can."
      ]
    },
    {
      "cell_type": "markdown",
      "metadata": {
        "id": "FAw9zAVMahID"
      },
      "source": [
        "<font color=\"blue\"> **Solution** This is Constr. RHS of the second half of the table.  So we have 50, 150, 85 pounds respectively. </font>\n",
        "\n",
        " <font color = \"red\"> Grading Notes:  If student confused and answered with the final value or did not specify that it was the right hand side of the table, lose 1 point. </font>"
      ]
    },
    {
      "cell_type": "markdown",
      "metadata": {
        "id": "q90_rLu3ahID"
      },
      "source": [
        "#### Part c (3 points)\n",
        "How would you describe the optimal solution to a non-technical stakeholder?  Explain why your description is sufficient to articulate the optimal solution."
      ]
    },
    {
      "cell_type": "markdown",
      "metadata": {
        "id": "mwvLKLhQahID"
      },
      "source": [
        "<font color = \"blue\"> Solution:  Do not make any Premium Beer and make sure you use all your main ingredients.\n",
        "This description is enough because it encodes all the tight constraints of the model.\n",
        "</font>\n",
        "\n",
        "<font color = \"red\">Grading solution:  For full credit, the description should make clear all the tight constraints, and the explanation must mention tight constraints.  Failure to mention tight constraints in explanation (even with corect description) loses 1.5 points.  A description that just describes the numerical values loses 2 points.  Not mentioning an explanation loses 1.5 points.\n",
        "</font>"
      ]
    },
    {
      "cell_type": "markdown",
      "metadata": {
        "id": "sWycbRu6ahID"
      },
      "source": [
        "The remaining questions all require you to answer the question and justify your response using the table.  If you cannot provide a precise response without resolving the model, indicate so, and give the best answer you can with the information at hand."
      ]
    },
    {
      "cell_type": "markdown",
      "metadata": {
        "id": "cDqpE9PwahID"
      },
      "source": [
        "<font color = \"red\"> Grading Notes: For each of the following parts, the same grading was applied.  A correct answer with no explanation or an incorrect explanation receives no credit.  Failure to discuss whether the change is within the allowable increase/decrease loses 1 point.  For questions that require resolving and stating a bound, simply stating the model needs to be resolved only earns 1 point.  Partial credit may be given for some discussion of the bound, but full credit resolved for a complete answer that provides a suitable (upper or lower) bound for the relevant question."
      ]
    },
    {
      "cell_type": "markdown",
      "metadata": {
        "id": "zERYB-ZJahID"
      },
      "source": [
        "#### Part d) (3 points)\n",
        "Upon inspection, your floor manager tells you some mice got into the yeast.  You've lost about 5 lbs of yeast that must be discarded.  How do you expect your optimal value to change?"
      ]
    },
    {
      "cell_type": "markdown",
      "metadata": {
        "id": "oHV6SvJdahID"
      },
      "source": [
        "<font color = \"blue\"> Solution:  5 is within the allowable decrase of yeast (which is 10) and the shadow price is $1, so the changein optimal value should -$5."
      ]
    },
    {
      "cell_type": "markdown",
      "metadata": {
        "id": "96Y-ZOBOahID"
      },
      "source": [
        "#### Part e) (3 points)\n",
        "Marketing suggests we can increase the price of ale $3 without affecting demand.  If we did this, what would be the change in objective value?"
      ]
    },
    {
      "cell_type": "markdown",
      "metadata": {
        "id": "-vXhadcUahID"
      },
      "source": [
        "<font color = \"blue\"> an increase of 3 is exactly the allowable increase (also 3) in the top table for Ale, so the optimal solution should not change.  As a consequence, we jsut make $3 extra for every bottle of ale we make, i.e., we make $3 * 35 = $105."
      ]
    },
    {
      "cell_type": "markdown",
      "metadata": {
        "id": "lLcttiBRahID"
      },
      "source": [
        "#### Part f) (3 points)\n",
        "Your buddy also runs a microbrewery, and they've had a similar problem with mice.  He wants to buy 20 lbs of Malt off you.  You want to quote him a fair price (i.e. you're not trying to make a profit off your friend). What would you sell it for?"
      ]
    },
    {
      "cell_type": "markdown",
      "metadata": {
        "id": "kuZzNQyOahID"
      },
      "source": [
        "<font color = \"blue\">  20 lbs decrease is within the allowable decrease of Malt which is 35.  So the shadow price pertains.  So I would sell it for $3 /lb, or $60 overall."
      ]
    },
    {
      "cell_type": "markdown",
      "metadata": {
        "id": "KsO3KtirahIJ"
      },
      "source": [
        "### Part g) (3 points)\n",
        "Assuming demand stays fixed, what is the minimal price increase you'd ask for in Premium Beer to consider producing it?"
      ]
    },
    {
      "cell_type": "markdown",
      "metadata": {
        "id": "BIA_n3MEahIK"
      },
      "source": [
        "<font color=\"blue\"> Solution:  Right now the optimal solution makes no premium Beer (final value is zero in first half of table).  The allowable increase is $7. We don't know that if we increase more than $7 that we'd start making beer, but we certainly have to increase the price at least $7 to consider it.  "
      ]
    },
    {
      "cell_type": "markdown",
      "metadata": {
        "id": "YUalPlZbahIK"
      },
      "source": [
        "#### Part h) (3 points)\n",
        "An alternate supplier is willing to sell you 25 lbs of hops at $1 per lb.  Should you take the deal?  Would you expect to make a profit, neither make a profit nor lose money, or lose money if you did? If you can't be sure, explain why.  "
      ]
    },
    {
      "cell_type": "markdown",
      "metadata": {
        "id": "b7gF9SnPahIK"
      },
      "source": [
        "<font color =\"blue\">Solution: I'd would not take the deal because I'd expect probably to lose money.  An increase of 25 lbs is outside the allowable increase (which is 20 lbs). Hence, I can't precisely know how much the optimal value will change.  But I do know that for the first 20 lbs, the shadow price is $1 per lb, so they're worth $20.  \n",
        "\n",
        "The issue is for the remaining 5 lbs, I should expect decreasing marginal returns. In a BEST case scenario, those 5 lbs are also worth 1 dollar lb, in which case I'd breakeven.  But if the marginal price does decrease, I'd lose money.  It's not worth the risk."
      ]
    }
  ],
  "metadata": {
    "colab": {
      "provenance": []
    },
    "kernelspec": {
      "display_name": "base",
      "language": "python",
      "name": "python3"
    },
    "language_info": {
      "codemirror_mode": {
        "name": "ipython",
        "version": 3
      },
      "file_extension": ".py",
      "mimetype": "text/x-python",
      "name": "python",
      "nbconvert_exporter": "python",
      "pygments_lexer": "ipython3",
      "version": "3.11.5"
    }
  },
  "nbformat": 4,
  "nbformat_minor": 0
}