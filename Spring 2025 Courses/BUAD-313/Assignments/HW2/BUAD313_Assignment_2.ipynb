{
  "cells": [
    {
      "cell_type": "markdown",
      "metadata": {
        "id": "43Q1Kr27slP2"
      },
      "source": [
        "# BUAD 313 - Spring 2025 - Assignment 2\n",
        "\n",
        "Notes:\n",
        " - You may work in teams of up to 3.  Submit one assignment for the three of you, but please ensure it has all 3 of your names and @usc.edu emails.\n",
        " - You must submit your work as a .ipynb file (jupyter notebook). The grader has to be able to run your notebook. Code that doesn't run gets zero points.  A Great way to check that your code runs is to Select \"Clear All Outputs\", \"Restart\" and then \"Run All\" and make sure it still shows all your answer properly!\n",
        " - Use the existing sections below to submit your answers below.  You can add additional Python/markdown cells to describe and explain your solution, but keep it tidy.  Consider formatting some of your markdown cells for the grader.  [Markdown Guide](https://www.markdownguide.org/basic-syntax/)\n",
        "\n",
        "The deadline for this assignment is **11:59 PM Pacific Time on Friday February 21, 2024**. Late submissions will not be accepted."
      ]
    },
    {
      "cell_type": "markdown",
      "metadata": {
        "id": "gl2SRTZtslP6"
      },
      "source": [
        "Below are the standard Python packages that we use for optimization models in this course. By running this next Python cell, you will have these packages available to use in all your answers contained in this file."
      ]
    },
    {
      "cell_type": "code",
      "execution_count": 1,
      "metadata": {
        "colab": {
          "base_uri": "https://localhost:8080/",
          "height": 357
        },
        "id": "I7B24wZdslP7",
        "outputId": "94916b0d-6536-4431-b44a-6ac3d9fb128f"
      },
      "outputs": [],
      "source": [
        "import numpy as np\n",
        "from gurobipy import Model, GRB, quicksum\n",
        "import pandas as pd"
      ]
    },
    {
      "cell_type": "markdown",
      "metadata": {
        "id": "Rg9OV7uAslP8"
      },
      "source": [
        "## Team Names and Emails:\n",
        " <font color=\"blue\">**(Edit this cell)**</font>\n",
        " - William Jou: wcjou@usc.edu"
      ]
    },
    {
      "cell_type": "markdown",
      "metadata": {
        "id": "pBtXL4yxslP8"
      },
      "source": [
        "## Question 1 (45 Points):  Portfolio Allocation Revisited\n",
        "\n",
        "In this problem, we are revisiting the portfolio allocation problem we started developing in Session 9.  You may want to review that lecture and the mathematical formulation we developed. As a reminder, here was the formulation for the base model from class:\n",
        "\n",
        "<img src=\"PortfolioProblem.png\" alt=\"Base Portfolio Allocation Model Model\" width=\"400\" height=auto>\n",
        "\n",
        "\n",
        "Assume a target return of .01.  \n",
        "\n",
        "Our data for this problem are available on brightspace and include:\n",
        "- monthly_ret_simple.csv\n",
        "- asset_metadata.csv\n",
        "\n",
        "I did all the data-wrangling for you (because I'm a nice guy).  Below I load up monthly_ret_simple.csv into a monthly_returns_dict like we did in class.  I also load up asset_metadata.csv into a dictionary called asset_metadata_dict.  You'll probably need that dictionary later in the question."
      ]
    },
    {
      "cell_type": "code",
      "execution_count": 2,
      "metadata": {
        "id": "yMdwDZ52ahH-"
      },
      "outputs": [],
      "source": [
        "#read monthly_ret_simple.csv using numpy, but ignore the first row and ignore first column\n",
        "monthly_returns = np.genfromtxt('monthly_ret_simple.csv', delimiter=',', skip_header=True)[:,1:]\n",
        "\n",
        "#read in just the first row of monthly_ret_simple.csv, ignore first column and label as tickers\n",
        "tickers = np.genfromtxt('monthly_ret_simple.csv', delimiter=',', max_rows=1, dtype=str) [1:]\n",
        "\n",
        "#read in just the first column of monthly_ret_simple.csv, ignoring the first row and label as dates\n",
        "dates = np.genfromtxt('monthly_ret_simple.csv', delimiter=',', skip_header=True, usecols=0, dtype=str)\n",
        "\n",
        "#convert monthly_returns into a dictionary where\n",
        "# the keys are pairs of (date, ticker) and values are the return\n",
        "monthly_returns_dict = { (dates[i], tickers[j]) : monthly_returns[i,j] for i in range(len(dates)) for j in range(len(tickers)) }\n",
        "\n",
        "#compute a dictionary of the average returns for each asset\n",
        "average_returns = { ticker : np.mean([ monthly_returns_dict[(date, ticker)] for date in dates ]) for ticker in tickers }"
      ]
    },
    {
      "cell_type": "code",
      "execution_count": 3,
      "metadata": {
        "id": "BleCLoolahH-"
      },
      "outputs": [],
      "source": [
        "#read asset_metadata.csv into a dataframe and convert to a dictionary\n",
        "asset_metadata = pd.read_csv('asset_metadata.csv')\n",
        "\n",
        "# Convert to a dictionary where (ticker, column_label) -> value\n",
        "asset_dict = {(row[\"Ticker\"], col): row[col] for _, row in asset_metadata.iterrows() for col in asset_metadata.columns if col != \"Ticker\"}\n",
        "\n",
        "categories = [col for col in asset_metadata.columns if col != \"Ticker\"]"
      ]
    },
    {
      "cell_type": "markdown",
      "metadata": {
        "id": "mXRSgTWHahH_"
      },
      "source": [
        "### Part a) (10 points):\n",
        "One of the criticisms brought up in class was that absolute deviation penalizes being above the expected return the same way it penalizes being below the expected return.  That seems silly because being above the expected return is a good thing.  \n",
        "\n",
        "One way to address this problem is to use semi-deviation.  The monthly semi-deviation of a portfolio is\n",
        " - 0 if the return of the portfolio in that month is above its expected return.\n",
        " - the expected return of the portfolio minus the return of the portfolio in that month, otherwise.\n",
        "\n",
        "Thus, there is no penalty if the portfolio outperforms the expected return, but there is a penalty if it underperforms.\n",
        "\n",
        "Modify our base model to minimize the average semi-deviation over the dataset.  Write out a full linear optimization formulation for your new model (decision varaibles, constraints, and objective).  You may add/remove variables and constraints from the base model, and/or change the objective.  All variables should be continuous.  Be sure to explain any new variables, constraints or objective in words and in mathematical formulas."
      ]
    },
    {
      "cell_type": "code",
      "execution_count": null,
      "metadata": {},
      "outputs": [],
      "source": [
        "m = Model('portfolio')\n",
        "target_return = 0.01\n",
        "\n",
        "# Decision Variables\n",
        "\n",
        "# Constraints\n",
        "\n",
        "# Objective Function"
      ]
    },
    {
      "cell_type": "markdown",
      "metadata": {
        "id": "kl7qygUZahIA"
      },
      "source": [
        "### Part b) (10 points)\n",
        "The client decides this whole semi-deviation idea is too complicated for their taste.  They propose a simpler optimization model similar to the base model. They want to change the objective to maximize the worst monthly return the portfolio earns over the whole dataset, but otherwise keep the other portions of the problem the same (invest all the wealth, don't short-sell, achieve a target return of .01).  \n",
        "\n",
        "Write a linear optimization formulation for this new problem (decision variables, constraints, and objective).  Be clear and explain mathematics in words where appropriate. Your formulation should only use continuous decision variables.\n",
        "\n",
        "**Hint** Even though the client only wants to change the objective, you might need to change the constraints and variables too to achieve what they want\n"
      ]
    },
    {
      "cell_type": "code",
      "execution_count": null,
      "metadata": {},
      "outputs": [],
      "source": []
    },
    {
      "cell_type": "markdown",
      "metadata": {
        "id": "x2O5RcOSahIA"
      },
      "source": [
        "### Part c) 10 points\n",
        "Using your formulation in part b, code up your model in Gurobi and solve it.  (Use a target_return of .01).  \n",
        "\n",
        "Include your Python code for the model in one or more Python cells.  Your code should print out the optimal value and optimal solution from your model as its last step. Be sure to label which is which and what the units are! Code that does not run earns no credit!"
      ]
    },
    {
      "cell_type": "code",
      "execution_count": null,
      "metadata": {},
      "outputs": [],
      "source": []
    },
    {
      "cell_type": "markdown",
      "metadata": {
        "id": "VijAlhH1slP9"
      },
      "source": [
        "### Part d) (15 points)\n",
        "\n",
        "The client saw your initial work in class and has now articulated a variety of additional constraints on the portfolio.  For each of the constraints below, write (paper and pencil) how you would represent the constraint mathematically as one or more linear constraints in our model.  You may add additional auxiliary variables if you need them, but clearly define them and what they should mean.  You may use the indexed data originally loaded at the top of this question.  You may also define new Index Sets if you so choose.\n",
        "\n",
        "Add a Markdown Cell directly below this cell with your answer.  You do NOT need to code these constraints in your model.  Alternatively, if typing in markdown isn't your thing, you can write this on paper and pencil (clearly) and take a photo, and include the photo in markdown the way I've down above for the formulation.  Just make sure you remember to upload the photo with your assignment else you won't get credit!\n",
        "\n",
        "Finally, be sure to label each constraint (same way in question) so we know which one is which!\n",
        "\n",
        "1. (China Tariff Concerns) The client is concerned about the impending trade war with China.  They want at most 10% of the portfolio invested in Chinese assets.\n",
        "1. (ESG Requirement) No more than 30% of the portfolio can be invested in assets with a \"low\" ESG rating.  \n",
        "1. (Liquidity Requirement) The ratio of \"Low\" liquidity assets to \"High\" liquidy assets should be no more than 10%.\n",
        "1. (Commodities Minimum) The amount invested in the Asset Class \"Commodities\" should be at least 10% of the amount invested in the Asset Class \"Equities.\"\n",
        "1. (Diversifying Equities) Within the investments in Equities, a third of them should be Small Cap, a third should be Mid Cap, and a third should be Large Cap.  \n",
        "1. (No Tesla) The client does not want to invest in Tesla (TSLA) at all."
      ]
    },
    {
      "cell_type": "markdown",
      "metadata": {
        "id": "oA6GW3ZrahIC"
      },
      "source": [
        "**Hint 1:**  DO THIS WITH PAPER AND PENCIL BEFORE TYPING ANYTHING.  \n",
        "\n",
        "**Hint 2:** I\"m going to solve the first part of the problem for you.  Read my answer and mimic it for remaining parts.\n",
        "\n",
        "**China Tariff Concerns** Let C be the set of tickers $i$ where asset_data[$i$, \"Region] = \"China.\"  (C is an Index Set.)  Then, the constraint can be written as\n",
        "- sum over i in C of x[i] <= .3.  \n",
        "  \n",
        "Or, if I want to make it look a bit prettier, I can write\n",
        " - $ \\sum_{i \\text{ in C}} x_i \\leq .1 $\n",
        "\n",
        "(Either answer is fine.)"
      ]
    },
    {
      "cell_type": "markdown",
      "metadata": {
        "id": "aD0EdpnSahIC"
      },
      "source": [
        "## Question 2 (26 Points): After that last question, I could use a ...\n",
        "\n",
        "Trojan Microbrewers brews four types beers: Light, Dark, Ale, and Premium (abreviated L, D, A, P).  Beer is made from 3 main ingredients: malt, hops and yeast.  Each of the different beers requires different amounts of each ingredient to make one beer, plus a lot of other minor ingredients like artificial flavors and preservatives.\n",
        "\n",
        "Trojan Microbrewers currently has some inventory of malt, hops and yeast (in pounds), but it has an essentially unlimited supply of artificial flavors and preservatives.\n",
        "\n",
        "Finally, each beer has its own revenue per bottle sold (in dollars)."
      ]
    },
    {
      "cell_type": "markdown",
      "metadata": {
        "id": "8pSHgzdxahIC"
      },
      "source": [
        "Your colleague formulated a linear optimization model to maximize the revenue of Trojan Microbrewers\n",
        "subject to the constraints on the availability of current inventory of main ingredients, taking into account the different recipes. (They assumed we're not buying any more main ingredients at the moment.)\n",
        "                                                                      \n",
        "After formulating the model, they solved it and computed the following sensitivity analysis table, but forgot to share the actual formulation with you.\n",
        "\n",
        "<img src=\"beer_sensitivity2.png\" alt=\"Sensitivity Table for the Beer model\" width=\"800\" height=\"auto\">\n"
      ]
    },
    {
      "cell_type": "markdown",
      "metadata": {
        "id": "vf4bKaLFahIC"
      },
      "source": [
        "#### Part a (5 points)\n",
        "From just the sensitivity table, can you say what the optimal objective value is?  If so, be sure to explain your answer and how you deduced it from the table for full credit and give units. If not, explain why not and give the best bounds you can."
      ]
    },
    {
      "cell_type": "markdown",
      "metadata": {},
      "source": []
    },
    {
      "cell_type": "markdown",
      "metadata": {
        "id": "Ir2hoMHoahIC"
      },
      "source": [
        "#### Part b (3 points)\n",
        "From just the sensitivity table, can you say what the current inventory of Malt, Hops and yeast is?  If so, provide them and explain how you deduced this from the table.  If not, explain why not and provide any bounds you can."
      ]
    },
    {
      "cell_type": "markdown",
      "metadata": {},
      "source": []
    },
    {
      "cell_type": "markdown",
      "metadata": {
        "id": "q90_rLu3ahID"
      },
      "source": [
        "#### Part c (3 points)\n",
        "How would you describe the optimal solution to a non-technical stakeholder?  Explain why your description is sufficient to articulate the optimal solution."
      ]
    },
    {
      "cell_type": "markdown",
      "metadata": {},
      "source": []
    },
    {
      "cell_type": "markdown",
      "metadata": {
        "id": "sWycbRu6ahID"
      },
      "source": [
        "The remaining questions all require you to answer the question and justify your response using the table.  If you cannot provide a precise response without resolving the model, indicate so, and give the best answer you can with the information at hand."
      ]
    },
    {
      "cell_type": "markdown",
      "metadata": {
        "id": "zERYB-ZJahID"
      },
      "source": [
        "#### Part d) (3 points)\n",
        "Upon inspection, your floor manager tells you some mice got into the yeast.  You've lost about 5 lbs of yeast that must be discarded.  How do you expect your optimal value to change?"
      ]
    },
    {
      "cell_type": "markdown",
      "metadata": {},
      "source": []
    },
    {
      "cell_type": "markdown",
      "metadata": {
        "id": "96Y-ZOBOahID"
      },
      "source": [
        "#### Part e) (3 points)\n",
        "Marketing suggests we can increase the price of ale $3 without affecting demand.  If we did this, what would be the change in objective value?"
      ]
    },
    {
      "cell_type": "markdown",
      "metadata": {},
      "source": []
    },
    {
      "cell_type": "markdown",
      "metadata": {
        "id": "lLcttiBRahID"
      },
      "source": [
        "#### Part f) (3 points)\n",
        "Your buddy also runs a microbrewery, and they've had a similar problem with mice.  He wants to buy 20 lbs of Malt off you.  You want to quote him a fair price (i.e. you're not trying to make a profit off your friend). What would you sell it for?"
      ]
    },
    {
      "cell_type": "markdown",
      "metadata": {},
      "source": []
    },
    {
      "cell_type": "markdown",
      "metadata": {
        "id": "KsO3KtirahIJ"
      },
      "source": [
        "### Part g) (3 points)\n",
        "Assuming demand stays fixed, what is the minimal price increase you'd ask for in Premium Beer to consider producing it?"
      ]
    },
    {
      "cell_type": "markdown",
      "metadata": {},
      "source": []
    },
    {
      "cell_type": "markdown",
      "metadata": {
        "id": "YUalPlZbahIK"
      },
      "source": [
        "### Part h) (3 points)\n",
        "An alternate supplier is willing to sell you 25 lbs of hops at $1 per lb.  Should you take the deal?  Would you expect to make a profit, neither make a profit nor lose money, or lose money if you did? If you can't be sure, explain why.  "
      ]
    },
    {
      "cell_type": "markdown",
      "metadata": {},
      "source": []
    },
    {
      "cell_type": "markdown",
      "metadata": {},
      "source": []
    }
  ],
  "metadata": {
    "colab": {
      "provenance": []
    },
    "kernelspec": {
      "display_name": "base",
      "language": "python",
      "name": "python3"
    },
    "language_info": {
      "codemirror_mode": {
        "name": "ipython",
        "version": 3
      },
      "file_extension": ".py",
      "mimetype": "text/x-python",
      "name": "python",
      "nbconvert_exporter": "python",
      "pygments_lexer": "ipython3",
      "version": "3.12.7"
    }
  },
  "nbformat": 4,
  "nbformat_minor": 0
}
