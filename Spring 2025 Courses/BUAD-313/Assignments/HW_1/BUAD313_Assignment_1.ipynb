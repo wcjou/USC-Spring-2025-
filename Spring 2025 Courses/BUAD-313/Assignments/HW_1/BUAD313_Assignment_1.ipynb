{
  "cells": [
    {
      "cell_type": "markdown",
      "metadata": {
        "id": "43Q1Kr27slP2"
      },
      "source": [
        "# BUAD 313 - Spring 2025 - Assignment 1 (100 points)\n",
        "\n",
        "Notes:\n",
        " - You may work in teams of up to 3.  Submit one assignment for the three of you, but please ensure it has all 3 of your names and @usc.edu emails.\n",
        " - You must submit your work as a .ipynb file (jupyter notebook). The grader has to be able to run your notebook. Code that doesn't run gets zero points.  You may also submit a .pdf version if you wish.  \n",
        " - Use the existing sections below to submit your answers below.  You can add additional Python/markdown cells to describe and explain your solution, but keep it tidy.\n",
        "\n",
        "The deadline for this assignment is **11:59 PM Pacific Time on Friday February 7, 2024**. Late submissions will not be accepted."
      ]
    },
    {
      "cell_type": "markdown",
      "metadata": {
        "id": "gl2SRTZtslP6"
      },
      "source": [
        "Below are the standard Python packages that we use for optimization models in this course. By running this next Python cell, you will have these packages available to use in all your answers contained in this file."
      ]
    },
    {
      "cell_type": "code",
      "execution_count": 1,
      "metadata": {
        "id": "I7B24wZdslP7"
      },
      "outputs": [],
      "source": [
        "import numpy as np\n",
        "from gurobipy import Model, GRB, quicksum"
      ]
    },
    {
      "cell_type": "markdown",
      "metadata": {
        "id": "Rg9OV7uAslP8"
      },
      "source": [
        "## Team Names and Emails:\n",
        " <font color=\"blue\">**(Edit this cell)**</font>\n",
        " - Team Member 1\n",
        " - Team Member 2\n",
        " - Team Member 3"
      ]
    },
    {
      "cell_type": "markdown",
      "metadata": {
        "id": "pBtXL4yxslP8"
      },
      "source": [
        "## Question 1 (36 Points)\n",
        "\n",
        "Trojan Kicks manufactures kick scooters. The firm’s assembly process has four workstations. See the process flow diagram below.\n",
        "\n",
        "<img src=\"trojanScootersFlow.png\" width=\"1000\" />\n",
        "\n",
        "*Note that if you do not have the file trojanScootersflow.png in the same folder or directory as this notebook, the image will not display. Displaying the figure is not necessary for receiving full credit on this assignment.*\n",
        "\n",
        "\n",
        "- **Station A** makes the decks; at this workstation, decks are stamped out, welded, and painted.\n",
        "- At **Station B**, workers assemble the fork, steer support, and T-handle.\n",
        "- At **Station C**, workers assemble the wheel, brake, and steering mechanism.\n",
        "- At **Station D**, workers apply decals and grip tape, and conduct the final functional test.\n",
        "\n",
        "The firm manufactures three products that compete in different segments of the market—**Trojan** scooters in the premium high-end segment, **Tommy** scooters in the mid-market segment, and  **TK** scooters in the low-end segment.\n",
        "\n",
        "The decks for TK are outsourced; hence, **Station A produces decks only for two products**—Trojan and Tommy. Processing times (in minutes per unit) and the number of workers at each workstation are given in the table below. In each workstation, each worker works independently on their own scooter. The firm operates **8 hours a day, 5 days a week**.  Notice the last column gives the demand for each type of scooter.\n",
        "\n",
        "| **Product**          | **Station A** (mins/unit) | **Station B** (mins/unit) | **Station C** (mins/unit) | **Finishing** (mins/unit) | **Demand (scooters/week)** |\n",
        "|----------------------|-------------------------|-------------------------|-------------------------|-------------------------|-------------------------|\n",
        "| **Trojan**          | 20                      | 15                      | 19                      | 28                      | 150                     |\n",
        "| **Tommy**           | 16                      | 12                      | 13                      | 22                      | 180                     |\n",
        "| **TK**              | -                        | 10                      | 11                      | 21                      | 120                     |\n",
        "| *Number of workers* | **3**                    | **5**                    | **6**                    | **4**                    | **N/A**                 |\n",
        "\n",
        "\n",
        "Given their different marketing, different scooters earn different revenue:\n",
        "\n",
        "| **Product** | Trojan | Tommy | TK  |\n",
        "|------------|--------|--------|-----|\n",
        "| **Price ($)** | 200    | 150    | 100 |\n",
        "\n",
        "\n",
        "Your goal is to decide how many scooters of  each type to manufacture in a given week to maximize revenue. Note, you are NOT obligated to serve all demand.\n",
        "\n",
        "**Teaching Note:  Note, this is a substantively more interesting version of a process analysis problem with multiple product types with different flows through the system and different demands.  The point of this problem is to show you how you can use linear optimization to tackle such process analysis questions**"
      ]
    },
    {
      "cell_type": "markdown",
      "metadata": {
        "id": "VijAlhH1slP9"
      },
      "source": [
        "### Part a) (5 points)\n",
        "What are the decision variables in this this problem?  (Add a Markdown Cell directly below this cell with your answer).  Describe your decision variables in math and in words, and include units.  "
      ]
    },
    {
      "cell_type": "markdown",
      "metadata": {
        "id": "YAiNMKfIslP-"
      },
      "source": [
        "### Part b) (5 points):\n",
        "\n",
        "What is the objective function for this problem? (Add a markdown cell directly below this oen with your answer.) Describe the objective function both in words and in math.  include units."
      ]
    },
    {
      "cell_type": "markdown",
      "metadata": {
        "id": "aEl4G82dslP_"
      },
      "source": [
        "### Part c) (10 points)\n",
        "What are the constraints for this problem? For each constraint, be sure to include a short description (in words) of what the constraint represents.  Your description should make the units clear. You should also relax any integrality constraints (i.e. you **can** make fractional scooters since we're thinking about the long-term steady-state performance of the faculty.)"
      ]
    },
    {
      "cell_type": "markdown",
      "metadata": {
        "id": "E-1Ex8NeslP_"
      },
      "source": [
        "### Part d) (10 points)\n",
        "Using your formulation above, code up your model in Gurobi and solve it.  Write the optimal value and optimal solution in a markdown cell direclty below this one.  Be sure to label which is which and what the units are!\n",
        "\n",
        "Below that markdown cell, include your python code for the model in one or more python cells.  Your code should print out the optimal value and optimal solution from your model as its last step. Code that does not run earns no credit!"
      ]
    },
    {
      "cell_type": "markdown",
      "metadata": {
        "id": "_3JWrsDLslQB"
      },
      "source": [
        "### part d) (6 points)\n",
        "What are the tight constraints at optimality?  (Hint: You'd expect that there should be 3 of them...)\n",
        "\n",
        "How would you use these to communicate the optimal solution to a non-technical stakeholder?"
      ]
    },
    {
      "cell_type": "markdown",
      "metadata": {
        "id": "p7fUzWL6slQB"
      },
      "source": [
        "## Question 2 ( 30 Points ):  Fulfillment at \"Tamazon\"\n",
        "\n",
        "We'll consider a stylized fulfillment problem, similar to the one Amazon solves every day to meet 2 day shipping guarantees for prime members.  \n",
        "\n",
        "Tamazon has 3 principal warehouses in Los Angeles described in the table below.  With the debut of the new season of Squid Games, green track suits are far and away the most popular item on the site.  Each of the warehouses has a limited supply of track suits (one size fits most) listed as \"Inventory\" in the table below.  \n",
        "\n",
        "| Warehouse     | Latitude | Longitude  | Inventory |\n",
        "|------------------|----------|------------|-----------|\n",
        "| Hollywood        | 34.0928  | -118.3287  | 600      |\n",
        "| Venice           | 33.9850  | -118.4695  | 300      |\n",
        "| Downtown LA      | 34.0407  | -118.2468  | 200      |\n",
        "\n",
        "There are hundreds of customers who have ordered the track suits and expect them to be delivered in the next two days.  The \"fulfillment problem\" is to decide from which warehosue we should ship the tracksuit to each customer in order to minimize total costs.  \n",
        "\n",
        "To get some intuiton and make things simpler, your data science team clustered customer demand and identified 5 zones where most of the demand comes from.  \n",
        "\n",
        "| Zone       | Latitude | Longitude  | Demand |\n",
        "|--------------------|----------|------------|--------|\n",
        "| Beverly Hills      | 34.0736  | -118.4004  | 250    |\n",
        "| Santa Monica       | 34.0195  | -118.4912  | 150    |\n",
        "| Westwood           | 34.0635  | -118.4455  | 200    |\n",
        "| Silver Lake        | 34.0869  | -118.2702  | 310    |\n",
        "| Echo Park          | 34.0782  | -118.2606  | 50     |\n",
        "\n",
        "Shipping costs between places in LA is a bit tricky, especially with LA Traffic.  To make things simpler for now, let's assume that shipping costs per track suit are proportional to the distance between two points.  I did this calculation for you, so you don't have to code it.  The distances (in km) are given in the following table:\n",
        "\n",
        "| Warehouse \\ Zone   | Beverly Hills | Santa Monica | Westwood | Silver Lake | Echo Park |\n",
        "|-------------|--------------:|-------------:|---------:|------------:|----------:|\n",
        "| Hollywood   |          6.94 |        17.05 |    11.24 |        5.43 |      6.48 |\n",
        "| Venice      |         11.73 |         4.33 |     9.00 |       21.58 |     21.86 |\n",
        "| Downtown LA |         14.62 |        22.64 |    18.48 |        5.57 |      4.36 |\n",
        "\n",
        "Remember, your goal is to ship track suits from the warehouses to the demand zones at minimal cost.\n"
      ]
    },
    {
      "cell_type": "markdown",
      "metadata": {
        "id": "BksebyJgslQB"
      },
      "source": [
        "### Part a) (5 pts)\n",
        "What are the decision variables in this this problem?  (Add a Markdown Cell directly below this cell with your answer).  Describe your decision variables in math and in words, and include units.  "
      ]
    },
    {
      "cell_type": "markdown",
      "metadata": {
        "id": "bIT9BS_uslQC"
      },
      "source": [
        "### Part b) (5 points):\n",
        "\n",
        "What is the objective function for this problem? (Add a markdown cell directly below this one with your answer.) Describe the objective function both in words and in math.  include units."
      ]
    },
    {
      "cell_type": "markdown",
      "metadata": {
        "id": "cGNGO8uKslQC"
      },
      "source": [
        "### Part c) (10 points)\n",
        "What are the constraints for this problem? For each constraint, be sure to include a short description (in words) of what the constraint represents.  Your description should make the units clear. You should also relax any integrality constraints (i.e. you **can** ship fractional track suits.)"
      ]
    },
    {
      "cell_type": "markdown",
      "metadata": {
        "id": "JqlmMoA6slQD"
      },
      "source": [
        "### Part d) (10 points)\n",
        "Using your formulation above, code up your model in Gurobi and solve it.  Write the optimal value and optimal solution in a markdown cell direclty below this one.  Be sure to label which is which and what the units are!\n",
        "\n",
        "Below that markdown cell, include your python code for the model in one or more python cells.  Your code should print out the optimal value and optimal solution from your model as its last step. Code that does not run earns no credit!"
      ]
    },
    {
      "cell_type": "markdown",
      "metadata": {
        "id": "ekcmOsgPslQN"
      },
      "source": [
        "## Question 3 ( Points 34 pts ) : Cooling a Server Farm\n",
        "\n",
        "This question is meant to push  your modeling abilities.  I believe in you.   Work together.  Think. Struggle.  Grow. :)\n",
        "\n",
        "One of the unforeseen challenges in scaling up computing has been the massive envergy requirements of server farms and compute clusters.  A big portion of these requirements come from the need to cool the room (so the servers don't overheat).  But as they're working, the compute servers generate heat themselves.  We'll look at a stylized model to think about how to minimize cooling costs for a server farm.  We will focus for simplicity on an 8 hour day (although real farms run around the clock!).  In what follows, you should think like a physicist and interpret \"cooling\" as \"negative heat.\"\n",
        "\n",
        "In the absence of any other effects, we would expect that the temperature at the beginning of an hour would be the same as the temperature at the beginning of the previous hour.  We will say that to operate effecively, the server room must remain at or below 25 degrees Celsius at all times.  Notice the day starts at 9 am with a temperature of $22$ degrees Celsius.\n",
        "\n",
        "That said, there are a few effects we should model:\n",
        "  - During the  hour, the compute servers will do work.  As they work they generate additional heat.\n",
        "  - During the hour, the ambient temperature provide additional heat (if it's hotter outside) or reduce the heat (if it's colder outside).  \n",
        "  - During the hour, any cooling we apply (e.g. by cranking up the AC) will reduce the heat in the room.\n",
        "\n",
        "In theory, we should model the precise temperature in the server room at all points in time (i.e. continuously).  As an approximation, we're only going to think about the temperature in the room at the beginning of every hour (starting at 9 am, and including 4:00 pm) and also at the end of the day (5:00 pm).  We're also going to assume that any additional heat generated or removed *during* the hour doesn't affect the temperature now, but affects the temperature in the next hour.\n",
        "\n",
        "\n",
        "#### Server Work\n",
        "\n",
        "Suppose that the demand for the server farm (in Teraflops/hr or TFLOPS/hr) is as follows:\n",
        "\n",
        "| Hour | Time  | Server Work (TFLOPs/hr) |\n",
        "|------|-------|--------------------------------|\n",
        "| 0    | 9 AM  | 150                            |\n",
        "| 1    | 10 AM | 250                            |\n",
        "| 2    | 11 AM | 400                            |\n",
        "| 3    | 12 PM | 500                            |\n",
        "| 4    | 1 PM  | 500                            |\n",
        "| 5    | 2 PM  | 450                            |\n",
        "| 6    | 3 PM  | 350                            |\n",
        "| 7    | 4 PM  | 200                            |\n",
        "\n",
        "The additional heat (measured in Celsius) contributed by working is equal to  $.004$ per TFLOP.  \n",
        "\n",
        "\n",
        "#### Ambient Temperature\n",
        "At the same time, the room temperature is affected by the ambient environmental temperature.  Here is a forecasted temperature profile for a typical day:\n",
        "\n",
        "| Hour | Time  | Ambient Temperature (°C) |\n",
        "|------|-------|--------------------------|\n",
        "| 0    | 9 AM  | 22                       |\n",
        "| 1    | 10 AM | 24                       |\n",
        "| 2    | 11 AM | 26                       |\n",
        "| 3    | 12 PM | 28                       |\n",
        "| 4    | 1 PM  | 30                       |\n",
        "| 5    | 2 PM  | 31                       |\n",
        "| 6    | 3 PM  | 30                       |\n",
        "| 7    | 4 PM  | 28                       |\n",
        "\n",
        "We will assume that the additional heat added to the room during hour $h$ is equal to\n",
        "$$\n",
        ".1 * ( \\text{Ambient Temperature}_h- \\text{Temperature in Room}_h).\n",
        "$$\n",
        "This value can be positive or negative (e.g. if it's cold outside.)  The constant $0.1$ represents the natural heat exchange of the building (depending on insulation, etc.)\n",
        "\n",
        "#### Cooling Effort\n",
        "Finally, we can exert effort to cool the room (cranking up the AC). For every kilowatt of Cooling Effort we exert in hour $h$, we expect the temperature to decrease by $0.5$ degrees centigrade.\n",
        "\n",
        "\n",
        "Your goal is to write a linear optimization problem that minimizes the amount of cooling effort needed to keep the server room at a temperature of at most $25$ degrees Celsius throughout the day. Assume the server room starts at a temperature of $22$  degrees at the beginning of the day.\n",
        "\n"
      ]
    },
    {
      "cell_type": "markdown",
      "metadata": {
        "id": "r8hTheFEslQN"
      },
      "source": [
        "### Part a) Decision Variables (0 points)\n",
        "I'm going to help you out a bit to get started.  We're going to us the following decision variables:\n",
        "- Let $T_h$ be the room temperature (Celsius) in hour $h$, for $h = 0, \\ldots, 7$.\n",
        "- Let $C_h$ be the amount of cooling effort (in kilowatts) we apply in hour $h$, for $h = 0, \\ldots, 7$.\n",
        "\n",
        "So we have $16$ decision variables.  Make sure you count them and understand them.\n",
        "\n",
        "*Teaching Note:  Note that $T_h$ is a bit weird as a decision-variable.  We don't really \"decide\" it... We decicde $C_h$ and $T_h$ seems to be a consequence of the thermodynamic equations above.  But just trust me. We're going to need this extra decision-variable to make things work.*"
      ]
    },
    {
      "cell_type": "markdown",
      "metadata": {
        "id": "wdeuixhVslQN"
      },
      "source": [
        "### Part b) (5 points):\n",
        "\n",
        "What is the objective function for this problem? (Add a markdown cell directly below this one with your answer.) Describe the objective function both in words and in math.  include units."
      ]
    },
    {
      "cell_type": "markdown",
      "metadata": {
        "id": "_VG-Vx9JslQN"
      },
      "source": [
        "### Part c) (15 points)\n",
        "What are the constraints for this problem? For each constraint, be sure to include a short description (in words) of what the constraint represents.  Your description should make the units clear. You should also relax any integrality constraints.  \n",
        "\n",
        "**Hint:  Can you write an equation using the decision variables that tells you the temperature in the room at hour $1$ in terms of the temperature in hour $0$, the ambient temperature at hour $0$, and the cooling effort you put in at hour $0$?**\n"
      ]
    },
    {
      "cell_type": "markdown",
      "metadata": {
        "id": "pN3WbNR4slQO"
      },
      "source": [
        "### Part d) (10 points)\n",
        "Using your formulation above, code up your model in Gurobi and solve it.  Write the optimal value and optimal solution in a markdown cell directly below this one.  Be sure to label which is which and what the units are!\n",
        "\n",
        "Below that markdown cell, include your python code for the model in one or more python cells.  Your code should print out the optimal value and optimal solution from your model as its last step. Code that does not run earns no credit!"
      ]
    },
    {
      "cell_type": "markdown",
      "metadata": {
        "id": "o_QWWqIgslQP"
      },
      "source": [
        "### part e) (4 points)\n",
        "In actuality, the price of electricity changes throughout the day.  In particular, it is more expensive in the afternoon when it is hot (because everyone turns on their AC and demand is high but supply is limited.)  Suppose you were given a forecast of the hourly price of electricity (similar to the forecasted temperatures).  How would you incorporate this information into your model to improve it? Does  it affect the decision variables, constraints, or objective? Describe the change in detailed paragraph.  \n",
        "\n",
        "You do NOT need to reimplement your model.  A well-written description is enough."
      ]
    },
    {
      "cell_type": "markdown",
      "metadata": {
        "id": "CWdcBaX3slQP"
      },
      "source": []
    }
  ],
  "metadata": {
    "colab": {
      "provenance": []
    },
    "kernelspec": {
      "display_name": "base",
      "language": "python",
      "name": "python3"
    },
    "language_info": {
      "codemirror_mode": {
        "name": "ipython",
        "version": 3
      },
      "file_extension": ".py",
      "mimetype": "text/x-python",
      "name": "python",
      "nbconvert_exporter": "python",
      "pygments_lexer": "ipython3",
      "version": "3.11.5"
    }
  },
  "nbformat": 4,
  "nbformat_minor": 0
}
