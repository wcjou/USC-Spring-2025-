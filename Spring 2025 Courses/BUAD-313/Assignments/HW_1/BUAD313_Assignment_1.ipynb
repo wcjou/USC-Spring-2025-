{
  "cells": [
    {
      "cell_type": "markdown",
      "metadata": {
        "id": "43Q1Kr27slP2"
      },
      "source": [
        "# BUAD 313 - Spring 2025 - Assignment 1 (100 points)\n",
        "\n",
        "Notes:\n",
        " - You may work in teams of up to 3.  Submit one assignment for the three of you, but please ensure it has all 3 of your names and @usc.edu emails.\n",
        " - You must submit your work as a .ipynb file (jupyter notebook). The grader has to be able to run your notebook. Code that doesn't run gets zero points.  You may also submit a .pdf version if you wish.  \n",
        " - Use the existing sections below to submit your answers below.  You can add additional Python/markdown cells to describe and explain your solution, but keep it tidy.\n",
        "\n",
        "The deadline for this assignment is **11:59 PM Pacific Time on Friday February 7, 2024**. Late submissions will not be accepted."
      ]
    },
    {
      "cell_type": "markdown",
      "metadata": {
        "id": "gl2SRTZtslP6"
      },
      "source": [
        "Below are the standard Python packages that we use for optimization models in this course. By running this next Python cell, you will have these packages available to use in all your answers contained in this file."
      ]
    },
    {
      "cell_type": "code",
      "execution_count": 1,
      "metadata": {
        "id": "I7B24wZdslP7"
      },
      "outputs": [],
      "source": [
        "import numpy as np\n",
        "from gurobipy import Model, GRB, quicksum"
      ]
    },
    {
      "cell_type": "markdown",
      "metadata": {
        "id": "Rg9OV7uAslP8"
      },
      "source": [
        "## Team Names and Emails:\n",
        " <font color=\"blue\">**(Edit this cell)**</font>\n",
        " - William Jou: wcjou@usc.edu\n",
        " - Bain Higgins: cbhiggin@usc.edu\n",
        " - Jiya Valiram: jvaliram@usc.edu"
      ]
    },
    {
      "cell_type": "markdown",
      "metadata": {
        "id": "pBtXL4yxslP8"
      },
      "source": [
        "## Question 1 (36 Points)\n",
        "\n",
        "Trojan Kicks manufactures kick scooters. The firm’s assembly process has four workstations. See the process flow diagram below.\n",
        "\n",
        "<img src=\"trojanScootersFlow.png\" width=\"1000\" />\n",
        "\n",
        "*Note that if you do not have the file trojanScootersflow.png in the same folder or directory as this notebook, the image will not display. Displaying the figure is not necessary for receiving full credit on this assignment.*\n",
        "\n",
        "\n",
        "- **Station A** makes the decks; at this workstation, decks are stamped out, welded, and painted.\n",
        "- At **Station B**, workers assemble the fork, steer support, and T-handle.\n",
        "- At **Station C**, workers assemble the wheel, brake, and steering mechanism.\n",
        "- At **Station D**, workers apply decals and grip tape, and conduct the final functional test.\n",
        "\n",
        "The firm manufactures three products that compete in different segments of the market—**Trojan** scooters in the premium high-end segment, **Tommy** scooters in the mid-market segment, and  **TK** scooters in the low-end segment.\n",
        "\n",
        "The decks for TK are outsourced; hence, **Station A produces decks only for two products**—Trojan and Tommy. Processing times (in minutes per unit) and the number of workers at each workstation are given in the table below. In each workstation, each worker works independently on their own scooter. The firm operates **8 hours a day, 5 days a week**.  Notice the last column gives the demand for each type of scooter.\n",
        "\n",
        "| **Product**          | **Station A** (mins/unit) | **Station B** (mins/unit) | **Station C** (mins/unit) | **Finishing** (mins/unit) | **Demand (scooters/week)** |\n",
        "|----------------------|-------------------------|-------------------------|-------------------------|-------------------------|-------------------------|\n",
        "| **Trojan**          | 20                      | 15                      | 19                      | 28                      | 150                     |\n",
        "| **Tommy**           | 16                      | 12                      | 13                      | 22                      | 180                     |\n",
        "| **TK**              | -                        | 10                      | 11                      | 21                      | 120                     |\n",
        "| *Number of workers* | **3**                    | **5**                    | **6**                    | **4**                    | **N/A**                 |\n",
        "\n",
        "\n",
        "Given their different marketing, different scooters earn different revenue:\n",
        "\n",
        "| **Product** | Trojan | Tommy | TK  |\n",
        "|------------|--------|--------|-----|\n",
        "| **Price ($)** | 200    | 150    | 100 |\n",
        "\n",
        "\n",
        "Your goal is to decide how many scooters of  each type to manufacture in a given week to maximize revenue. Note, you are NOT obligated to serve all demand.\n",
        "\n",
        "**Teaching Note:  Note, this is a substantively more interesting version of a process analysis problem with multiple product types with different flows through the system and different demands.  The point of this problem is to show you how you can use linear optimization to tackle such process analysis questions**"
      ]
    },
    {
      "cell_type": "markdown",
      "metadata": {
        "id": "VijAlhH1slP9"
      },
      "source": [
        "### Part a) (5 points)\n",
        "What are the decision variables in this this problem?  (Add a Markdown Cell directly below this cell with your answer).  Describe your decision variables in math and in words, and include units.  "
      ]
    },
    {
      "cell_type": "markdown",
      "metadata": {},
      "source": [
        "The decision variables are:\n",
        "- How many of each type of scooter to produce (ie. Trojan, Tommy, or TK)\n",
        "- let S_Trojan = number of Trojan scooters produced\n",
        "- let S_Tommy = number of Tommy scooters produced\n",
        "- let S_TK = number of TK scooters produced\n"
      ]
    },
    {
      "cell_type": "markdown",
      "metadata": {
        "id": "YAiNMKfIslP-"
      },
      "source": [
        "### Part b) (5 points):\n",
        "\n",
        "What is the objective function for this problem? (Add a markdown cell directly below this oen with your answer.) Describe the objective function both in words and in math.  include units."
      ]
    },
    {
      "cell_type": "markdown",
      "metadata": {},
      "source": [
        "The objective function of this problem is to maximize the dollar revenue of Trojan Kicks \n",
        "\n",
        "max(Revenue) = max($200 * S_Trojan + $150 * S_Tommy + $100 * S_TK)"
      ]
    },
    {
      "cell_type": "markdown",
      "metadata": {
        "id": "aEl4G82dslP_"
      },
      "source": [
        "### Part c) (10 points)\n",
        "What are the constraints for this problem? For each constraint, be sure to include a short description (in words) of what the constraint represents.  Your description should make the units clear. You should also relax any integrality constraints (i.e. you **can** make fractional scooters since we're thinking about the long-term steady-state performance of the faculty.)"
      ]
    },
    {
      "cell_type": "markdown",
      "metadata": {},
      "source": [
        "Station A Constraint: The time it takes to complete the process in station A should be less than or equal to the number of minutes the firm operates per week times the number of workers they have in station A\n",
        "- 20 minutes * S_Trojan + 16 minutes * S_Tommy <= 3 workers * 2,400 minutes\n",
        "- Simplified: 20 * S_Trojan + 16 * S_Tommy <= 7,200\n",
        "\n",
        "Station B Constraint: The time it takes to complete the station B process should be less than or equal to the number of minutes the firm operates per week times the number of workers they have in station B\n",
        "- 15 minutes * S_Trojan + 12 minutes * S_Tommy + 10 minutes * S_TK <= 5 workers * 2,400 minutes\n",
        "- Simplified: 15 * S_Trojan + 12 * S_Tommy + 10 * S_TK <= 12,000\n",
        "\n",
        "Station C Constraint: The time it takes to complete the station C process should be less than or equal to the number of minutes the firm operates per week times the number of workers they have in station C\n",
        "- 19 minutes * S_Trojan + 13 minutes * S_Tommy + 11 minutes * S_TK <= 6 workers * 2,400 minutes\n",
        "- Simplified: 19 * S_Trojan + 13 * S_Tommy + 11 * S_TK <= 14,400 \n",
        "\n",
        "Finishing Constraint: The time it takes to complete the finishing stage process should be less than or equal to the number of minutes the firm operates per week times the number of workers they have in the finishing stage\n",
        "- 28 minutes * S_Trojan + 22 minutes * S_Tommy + 21 minutes * S_TK <= 4 workers * 2,400 minutes\n",
        "- Simplified: 28 * S_Trojan + 22 * S_Tommy + 21 * S_TK <= 9,600\n",
        "\n",
        "Demand Constraints: The firm should not produce more than the demand for each product\n",
        "- S_Trojan <= 150\n",
        "- S_Tommy <= 180\n",
        "- S_TK <= 120\n",
        "\n",
        "Non-negative Constraints: The firm cannot produce a negative number of scooters\n",
        "- S_Trojan >= 0\n",
        "- S_Tommy >= 0\n",
        "- S_TK >= 0"
      ]
    },
    {
      "cell_type": "markdown",
      "metadata": {
        "id": "E-1Ex8NeslP_"
      },
      "source": [
        "### Part d) (10 points)\n",
        "Using your formulation above, code up your model in Gurobi and solve it.  Write the optimal value and optimal solution in a markdown cell direclty below this one.  Be sure to label which is which and what the units are!\n",
        "\n",
        "Below that markdown cell, include your python code for the model in one or more python cells.  Your code should print out the optimal value and optimal solution from your model as its last step. Code that does not run earns no credit!"
      ]
    },
    {
      "cell_type": "markdown",
      "metadata": {},
      "source": [
        "Optimal Value: 63857.14286\n",
        "Optimal Solution:\n",
        "- S_Trojan = 150\n",
        "- S_Tommy = 180\n",
        "- S_TK = 68.5714\n"
      ]
    },
    {
      "cell_type": "code",
      "execution_count": 2,
      "metadata": {},
      "outputs": [
        {
          "name": "stdout",
          "output_type": "stream",
          "text": [
            "Set parameter Username\n",
            "Set parameter LicenseID to value 2614665\n"
          ]
        },
        {
          "name": "stdout",
          "output_type": "stream",
          "text": [
            "Academic license - for non-commercial use only - expires 2026-01-23\n",
            "Gurobi Optimizer version 12.0.0 build v12.0.0rc1 (win64 - Windows 11.0 (26100.2))\n",
            "\n",
            "CPU model: Intel(R) Core(TM) Ultra 7 265K, instruction set [SSE2|AVX|AVX2]\n",
            "Thread count: 20 physical cores, 20 logical processors, using up to 20 threads\n",
            "\n",
            "Optimize a model with 10 rows, 3 columns and 17 nonzeros\n",
            "Model fingerprint: 0xe5e8d769\n",
            "Coefficient statistics:\n",
            "  Matrix range     [1e+00, 3e+01]\n",
            "  Objective range  [1e+02, 2e+02]\n",
            "  Bounds range     [0e+00, 0e+00]\n",
            "  RHS range        [1e+02, 1e+04]\n",
            "Presolve removed 9 rows and 0 columns\n",
            "Presolve time: 0.02s\n",
            "Presolved: 1 rows, 3 columns, 3 nonzeros\n",
            "\n",
            "Iteration    Objective       Primal Inf.    Dual Inf.      Time\n",
            "       0    6.8571429e+04   1.928571e+02   0.000000e+00      0s\n",
            "       1    6.3857143e+04   0.000000e+00   0.000000e+00      0s\n",
            "\n",
            "Solved in 1 iterations and 0.03 seconds (0.00 work units)\n",
            "Optimal objective  6.385714286e+04\n",
            "\n",
            "Optimal Values: \n",
            "S_Trojan 150\n",
            "S_Tommy 180\n",
            "S_TK 68.5714\n"
          ]
        }
      ],
      "source": [
        "# Defining Model\n",
        "m = Model(\"TrojanKicks\")\n",
        "\n",
        "# Decision Variables\n",
        "S_Trojan = m.addVar(vtype=GRB.CONTINUOUS, name=\"S_Trojan\")\n",
        "S_Tommy = m.addVar(vtype=GRB.CONTINUOUS, name=\"S_Tommy\")\n",
        "S_TK = m.addVar(vtype=GRB.CONTINUOUS, name=\"S_TK\")\n",
        "\n",
        "# Setting Objectivve Function\n",
        "m.setObjective(200 * S_Trojan + 150 * S_Tommy + 100 * S_TK, GRB.MAXIMIZE)\n",
        "\n",
        "# Setting Constraints\n",
        "m.addConstr(20 * S_Trojan + 16 * S_Tommy <= 7200, name=\"StationAConstraint\")\n",
        "m.addConstr(15 * S_Trojan + 12 * S_Tommy + 10 * S_TK <= 12000, name=\"StationBConstraint\")\n",
        "m.addConstr(19 * S_Trojan + 13 * S_Tommy + 11 * S_TK <= 14400, name=\"StationCConstraint\")\n",
        "m.addConstr(28 * S_Trojan + 22 * S_Tommy + 21 * S_TK <= 9600, name=\"FinishingStationConstraint\")\n",
        "m.addConstr(S_Trojan <= 150, name=\"TrojanDemandConstraint\")\n",
        "m.addConstr(S_Tommy <= 180, name=\"TommyDemandConstraint\")\n",
        "m.addConstr(S_TK <= 120, name=\"TKDemandConstraint\")\n",
        "m.addConstr(S_Trojan >= 0, name=\"TrojanNonNegativityConstraint\")\n",
        "m.addConstr(S_Tommy >= 0, name=\"TommyNonNegativityConstraint\")\n",
        "m.addConstr(S_TK >= 0, name=\"TKNonNegativityConstraint\")\n",
        "\n",
        "m.optimize()\n",
        "\n",
        "print()\n",
        "print('Optimal Values: ')\n",
        "for v in m.getVars():\n",
        "    print('%s %g' % (v.varName, v.x))\n"
      ]
    },
    {
      "cell_type": "markdown",
      "metadata": {
        "id": "_3JWrsDLslQB"
      },
      "source": [
        "### part d) (6 points)\n",
        "What are the tight constraints at optimality?  (Hint: You'd expect that there should be 3 of them...)\n",
        "\n",
        "How would you use these to communicate the optimal solution to a non-technical stakeholder?"
      ]
    },
    {
      "cell_type": "markdown",
      "metadata": {},
      "source": [
        "The tight constraints at optimality are the Trojan demand constraint, the Tommy demand constraint, and the finishing station constraint. \n",
        "\n",
        "The optimal solution gives us the values that would maximize the revenue function. In other words, it gives us the specific numbers of Trojan, Tommy, and TK scooters that we should produce in order to maximize revenue given the constraints that we have. So to a non-technical stakeholder, I would say that as long as we fufill all of the demand for Trojan scotters and Tommy scooters, and also max out the finishing station, we are able to maximize revenue.\n",
        "\n"
      ]
    },
    {
      "cell_type": "markdown",
      "metadata": {
        "id": "p7fUzWL6slQB"
      },
      "source": [
        "## Question 2 ( 30 Points ):  Fulfillment at \"Tamazon\"\n",
        "\n",
        "We'll consider a stylized fulfillment problem, similar to the one Amazon solves every day to meet 2 day shipping guarantees for prime members.  \n",
        "\n",
        "Tamazon has 3 principal warehouses in Los Angeles described in the table below.  With the debut of the new season of Squid Games, green track suits are far and away the most popular item on the site.  Each of the warehouses has a limited supply of track suits (one size fits most) listed as \"Inventory\" in the table below.  \n",
        "\n",
        "| Warehouse     | Latitude | Longitude  | Inventory |\n",
        "|------------------|----------|------------|-----------|\n",
        "| Hollywood        | 34.0928  | -118.3287  | 600      |\n",
        "| Venice           | 33.9850  | -118.4695  | 300      |\n",
        "| Downtown LA      | 34.0407  | -118.2468  | 200      |\n",
        "\n",
        "There are hundreds of customers who have ordered the track suits and expect them to be delivered in the next two days.  The \"fulfillment problem\" is to decide from which warehosue we should ship the tracksuit to each customer in order to minimize total costs.  \n",
        "\n",
        "To get some intuiton and make things simpler, your data science team clustered customer demand and identified 5 zones where most of the demand comes from.  \n",
        "\n",
        "| Zone       | Latitude | Longitude  | Demand |\n",
        "|--------------------|----------|------------|--------|\n",
        "| Beverly Hills      | 34.0736  | -118.4004  | 250    |\n",
        "| Santa Monica       | 34.0195  | -118.4912  | 150    |\n",
        "| Westwood           | 34.0635  | -118.4455  | 200    |\n",
        "| Silver Lake        | 34.0869  | -118.2702  | 310    |\n",
        "| Echo Park          | 34.0782  | -118.2606  | 50     |\n",
        "\n",
        "Shipping costs between places in LA is a bit tricky, especially with LA Traffic.  To make things simpler for now, let's assume that shipping costs per track suit are proportional to the distance between two points.  I did this calculation for you, so you don't have to code it.  The distances (in km) are given in the following table:\n",
        "\n",
        "| Warehouse \\ Zone   | Beverly Hills | Santa Monica | Westwood | Silver Lake | Echo Park |\n",
        "|-------------|--------------:|-------------:|---------:|------------:|----------:|\n",
        "| Hollywood   |          6.94 |        17.05 |    11.24 |        5.43 |      6.48 |\n",
        "| Venice      |         11.73 |         4.33 |     9.00 |       21.58 |     21.86 |\n",
        "| Downtown LA |         14.62 |        22.64 |    18.48 |        5.57 |      4.36 |\n",
        "\n",
        "Remember, your goal is to ship track suits from the warehouses to the demand zones at minimal cost.\n"
      ]
    },
    {
      "cell_type": "markdown",
      "metadata": {
        "id": "BksebyJgslQB"
      },
      "source": [
        "### Part a) (5 pts)\n",
        "What are the decision variables in this this problem?  (Add a Markdown Cell directly below this cell with your answer).  Describe your decision variables in math and in words, and include units.  "
      ]
    },
    {
      "cell_type": "markdown",
      "metadata": {},
      "source": [
        "The decision variables for this problem are:\n",
        "- The number of tracks suits that are shipped from each warehouse to each demand zone\n",
        "\n",
        "- Let i_HBH = the inventory shipped from Hollywood to Beverley Hills\n",
        "- Let i_HSM = the inventory shipped from Hollywood to Santa Monica\n",
        "- Let i_HW = the inventory shipped from Hollywood to Westwood \n",
        "- Let i_HSL = the inventory shipped from Hollywood to Silver Lake\n",
        "- Let i_HEP = the inventory shipped from Hollywood to Echo Park\n",
        "\n",
        "- Let i_VBH = the inventory shipped from Venice to Beverley Hills\n",
        "- Let i_VSM = the inventory shipped from Venice to Santa Monica\n",
        "- Let i_VW = the inventory shipped from Venice to Westwood \n",
        "- Let i_VSL = the inventory shipped from Venice to Silver Lake\n",
        "- Let i_VEP = the inventory shipped from Venice to Echo Park\n",
        "\n",
        "- Let i_DBH = the inventory shipped from DTLA to Beverley Hills\n",
        "- Let i_DSM = the inventory shipped from DTLA to Santa Monica\n",
        "- Let i_DW = the inventory shipped from DTLA to Westwood \n",
        "- Let i_DSL = the inventory shipped from DTLA to Silver Lake\n",
        "- Let i_DEP = the inventory shipped from DTLA to Echo Park"
      ]
    },
    {
      "cell_type": "markdown",
      "metadata": {
        "id": "bIT9BS_uslQC"
      },
      "source": [
        "### Part b) (5 points):\n",
        "\n",
        "What is the objective function for this problem? (Add a markdown cell directly below this one with your answer.) Describe the objective function both in words and in math.  include units."
      ]
    },
    {
      "cell_type": "markdown",
      "metadata": {},
      "source": [
        " The objective function of this problem is to minimize the cost of shipping from warehouses to demand zones\n",
        "\n",
        "Min(Cost) = Min(6.94 * i_HBH + 17.05 * i_HSM + 11.24 * i_HW + 5.43 * i_HSL + 6.48 * i_HEP\n",
        "                + 11.73 * i_VBH + 4.33 * i_VSM + 9.00 * i_VW + 21.58 * i_VSL + 21.86 * i_VEP\n",
        "                + 14.62 * i_DBH + 22.64 * i_DSM + 18.48 * i_DW + 5.57 * i_DSL + 4.36 * i_DEP)\n",
        "\n",
        "\n",
        "                "
      ]
    },
    {
      "cell_type": "markdown",
      "metadata": {
        "id": "cGNGO8uKslQC"
      },
      "source": [
        "### Part c) (10 points)\n",
        "What are the constraints for this problem? For each constraint, be sure to include a short description (in words) of what the constraint represents.  Your description should make the units clear. You should also relax any integrality constraints (i.e. you **can** ship fractional track suits.)"
      ]
    },
    {
      "cell_type": "markdown",
      "metadata": {},
      "source": [
        "Hollywood Warehouse Inventory Constraints:\n",
        "- The total number of track suits shipped from Hollywood must be less than or equal to 600 (it's inventory)\n",
        "- i_HBH + i_HSM + i_HW + i_HSL + i_HEP <= 600\n",
        "\n",
        "Venice Warehouse Constraints:\n",
        "- The total number of track suits shipped from Venice must be less than or equal to 300 (it's inventory)\n",
        "- i_VBH + i_VSM + i_VW + i_VSL + i_VEP <= 300\n",
        "\n",
        "DTLA Warehouse Constraints:\n",
        "- The total number of track suits shipped from DTLA must be less than or equal to 200 (it's inventory)\n",
        "- i_DBH + i_DSM + i_DW + i_DSL + i_DEP <= 200\n",
        "\n",
        "Non Negativity Constraints:\n",
        "- You cannot ship a negative number of track suits\n",
        "- i_HBH >= 0 \n",
        "- i_HSM >= 0 \n",
        "- i_HW >= 0 \n",
        "- i_HSL >= 0\n",
        "- i_HEP >= 0\n",
        "\n",
        "- i_VBH >= 0 \n",
        "- i_VSM >= 0 \n",
        "- i_VW >= 0 \n",
        "- i_VSL >= 0\n",
        "- i_VEP >= 0\n",
        "\n",
        "- i_DBH >= 0 \n",
        "- i_DSM >= 0 \n",
        "- i_DW >= 0 \n",
        "- i_DSL >= 0\n",
        "- i_DEP >= 0\n",
        "\n",
        "Demand Constraints:\n",
        "- The number of track suits shipped to Beverly Hills should not exceed the demand of 250\n",
        "- i_HBH + i_VBH + i_DBH <= 250\n",
        "- The number of track suits shipped to Santa Monica should not exceed the demand of 150\n",
        "- i_HSM + i_VSM + i_DSM <= 150\n",
        "- The number of track suits shipped to Westwood should not exceed the demand of 200\n",
        "- i_HW + i_VW + i_DW <= 200\n",
        "- The number of track suits shipped to Silver lake should not exceed the demand of 310\n",
        "- i_HSL + i_VSL + i_DSL <= 310\n",
        "- The number of track suits shipped to Echo Park should not exceed the demand of 50\n",
        "- i_HEP + i_VEP + i_DEP <= 50"
      ]
    },
    {
      "cell_type": "markdown",
      "metadata": {
        "id": "JqlmMoA6slQD"
      },
      "source": [
        "### Part d) (10 points)\n",
        "Using your formulation above, code up your model in Gurobi and solve it.  Write the optimal value and optimal solution in a markdown cell direclty below this one.  Be sure to label which is which and what the units are!\n",
        "\n",
        "Below that markdown cell, include your python code for the model in one or more python cells.  Your code should print out the optimal value and optimal solution from your model as its last step. Code that does not run earns no credit!"
      ]
    },
    {
      "cell_type": "markdown",
      "metadata": {},
      "source": [
        "Optimal Value: $6199.2\n",
        "- i_HBH = 250 track suits\n",
        "- i_HSM = 0 track suits\n",
        "- i_HW = 50 track suits\n",
        "- i_HSL = 300 track suits\n",
        "- i_HEP = 0 track suits\n",
        "- i_VBH = 0 track suits\n",
        "- i_VSM = 150 track suits\n",
        "- i_VW = 150 track suits\n",
        "- i_VSL = 0 track suits\n",
        "- i_VEP = 0 track suits\n",
        "- i_DBH = 0 track suits\n",
        "- i_DSM = 0 track suits\n",
        "- i_DW = 0 track suits\n",
        "- i_DSL = 10 track suits\n",
        "- i_DEP = 50 track suits"
      ]
    },
    {
      "cell_type": "code",
      "execution_count": 3,
      "metadata": {},
      "outputs": [
        {
          "name": "stdout",
          "output_type": "stream",
          "text": [
            "Gurobi Optimizer version 12.0.0 build v12.0.0rc1 (win64 - Windows 11.0 (26100.2))\n",
            "\n",
            "CPU model: Intel(R) Core(TM) Ultra 7 265K, instruction set [SSE2|AVX|AVX2]\n",
            "Thread count: 20 physical cores, 20 logical processors, using up to 20 threads\n",
            "\n",
            "Optimize a model with 23 rows, 15 columns and 45 nonzeros\n",
            "Model fingerprint: 0xc8d39a03\n",
            "Coefficient statistics:\n",
            "  Matrix range     [1e+00, 1e+00]\n",
            "  Objective range  [4e+00, 2e+01]\n",
            "  Bounds range     [0e+00, 0e+00]\n",
            "  RHS range        [5e+01, 6e+02]\n",
            "Presolve removed 15 rows and 0 columns\n",
            "Presolve time: 0.00s\n",
            "Presolved: 8 rows, 15 columns, 30 nonzeros\n",
            "\n",
            "Iteration    Objective       Primal Inf.    Dual Inf.      Time\n",
            "       0    6.0858000e+03   6.250000e+00   0.000000e+00      0s\n",
            "       2    6.1992000e+03   0.000000e+00   0.000000e+00      0s\n",
            "\n",
            "Solved in 2 iterations and 0.00 seconds (0.00 work units)\n",
            "Optimal objective  6.199200000e+03\n",
            "i_HBH 250\n",
            "i_HSM 0\n",
            "i_HW 50\n",
            "i_HSL 300\n",
            "i_HEP 0\n",
            "i_VBH 0\n",
            "i_VSM 150\n",
            "i_VW 150\n",
            "i_VSL 0\n",
            "i_VEP 0\n",
            "i_DBH 0\n",
            "i_DSM 0\n",
            "i_DW 0\n",
            "i_DSL 10\n",
            "i_DEP 50\n"
          ]
        }
      ],
      "source": [
        "m = Model(\"Tamazon\")\n",
        "\n",
        "# Decision Variables\n",
        "\n",
        "i_HBH = m.addVar(vtype=GRB.CONTINUOUS, name=\"i_HBH\")\n",
        "i_HSM = m.addVar(vtype=GRB.CONTINUOUS, name=\"i_HSM\")\n",
        "i_HW = m.addVar(vtype=GRB.CONTINUOUS, name=\"i_HW\")\n",
        "i_HSL = m.addVar(vtype=GRB.CONTINUOUS, name=\"i_HSL\")\n",
        "i_HEP = m.addVar(vtype=GRB.CONTINUOUS, name=\"i_HEP\")\n",
        "\n",
        "i_VBH = m.addVar(vtype=GRB.CONTINUOUS, name=\"i_VBH\")\n",
        "i_VSM = m.addVar(vtype=GRB.CONTINUOUS, name=\"i_VSM\")\n",
        "i_VW = m.addVar(vtype=GRB.CONTINUOUS, name=\"i_VW\")\n",
        "i_VSL = m.addVar(vtype=GRB.CONTINUOUS, name=\"i_VSL\")\n",
        "i_VEP = m.addVar(vtype=GRB.CONTINUOUS, name=\"i_VEP\")\n",
        "\n",
        "i_DBH = m.addVar(vtype=GRB.CONTINUOUS, name=\"i_DBH\")\n",
        "i_DSM = m.addVar(vtype=GRB.CONTINUOUS, name=\"i_DSM\")\n",
        "i_DW = m.addVar(vtype=GRB.CONTINUOUS, name=\"i_DW\")\n",
        "i_DSL = m.addVar(vtype=GRB.CONTINUOUS, name=\"i_DSL\")\n",
        "i_DEP = m.addVar(vtype=GRB.CONTINUOUS, name=\"i_DEP\")\n",
        "\n",
        "# Setting Objective Function\n",
        "m.setObjective(6.94 * i_HBH + 17.05 * i_HSM + 11.24 * i_HW + 5.43 * i_HSL + 6.48 * i_HEP\n",
        "             + 11.73 * i_VBH + 4.33 * i_VSM + 9.00 * i_VW + 21.58 * i_VSL + 21.86 * i_VEP\n",
        "             + 14.62 * i_DBH + 22.64 * i_DSM + 18.48 * i_DW + 5.57 * i_DSL + 4.36 * i_DEP, GRB.MINIMIZE)\n",
        "\n",
        "# Constraints\n",
        "\n",
        "m.addConstr(i_HBH + i_HSM + i_HW + i_HSL + i_HEP <= 600, name=\"HollyWoodInventoryConstraint\")\n",
        "m.addConstr(i_VBH + i_VSM + i_VW + i_VSL + i_VEP <= 300, name=\"VeniceInventoryConstraint\")\n",
        "m.addConstr(i_DBH + i_DSM + i_DW + i_DSL + i_DEP <= 200, name=\"DTLAInventoryConstraint\")\n",
        "\n",
        "m.addConstr(i_HBH >= 0, name=\"HollyWoodBHNonNegativityConstraint\")\n",
        "m.addConstr(i_HSM >= 0, name=\"HollyWoodSMNonNegativityConstraint\")\n",
        "m.addConstr(i_HW >= 0, name=\"HollyWoodWNonNegativityConstraint\")\n",
        "m.addConstr(i_HSL >= 0, name=\"HollyWoodSLNonNegativityConstraint\")\n",
        "m.addConstr(i_HEP >= 0, name=\"HollyWoodEPNonNegativityConstraint\")\n",
        "\n",
        "m.addConstr(i_VBH >= 0, name=\"VeniceBHNonNegativityConstraint\")\n",
        "m.addConstr(i_VSM >= 0, name=\"VeniceSMNonNegativityConstraint\")\n",
        "m.addConstr(i_VW >= 0, name=\"VeniceWNonNegativityConstraint\")\n",
        "m.addConstr(i_VSL >= 0, name=\"VeniceSLNonNegativityConstraint\")\n",
        "m.addConstr(i_VEP >= 0, name=\"VeniceEPNonNegativityConstraint\")\n",
        "\n",
        "m.addConstr(i_DBH >= 0, name=\"DTLABHNonNegativityConstraint\")\n",
        "m.addConstr(i_DSM >= 0, name=\"DTLASMNonNegativityConstraint\")\n",
        "m.addConstr(i_DW >= 0, name=\"DTLAWNonNegativityConstraint\")\n",
        "m.addConstr(i_DSL >= 0, name=\"DTLASLNonNegativityConstraint\")\n",
        "m.addConstr(i_DEP >= 0, name=\"DTLAEPNonNegativityConstraint\")\n",
        "\n",
        "m.addConstr(i_HBH + i_VBH + i_DBH == 250, name=\"BHDemandConstraint\")\n",
        "m.addConstr(i_HSM + i_VSM + i_DSM == 150, name=\"SMDemandConstraint\")\n",
        "m.addConstr(i_HW + i_VW + i_DW == 200, name=\"WDemandConstraint\")\n",
        "m.addConstr(i_HSL + i_VSL + i_DSL == 310, name=\"SLDemandConstraint\")\n",
        "m.addConstr(i_HEP + i_VEP + i_DEP == 50, name=\"EPDemandConstraint\")\n",
        "\n",
        "m.optimize()\n",
        "\n",
        "for v in m.getVars():\n",
        "    print('%s %g' % (v.varName, v.x))\n"
      ]
    },
    {
      "cell_type": "markdown",
      "metadata": {
        "id": "ekcmOsgPslQN"
      },
      "source": [
        "## Question 3 ( Points 34 pts ) : Cooling a Server Farm\n",
        "\n",
        "This question is meant to push  your modeling abilities.  I believe in you.   Work together.  Think. Struggle.  Grow. :)\n",
        "\n",
        "One of the unforeseen challenges in scaling up computing has been the massive envergy requirements of server farms and compute clusters.  A big portion of these requirements come from the need to cool the room (so the servers don't overheat).  But as they're working, the compute servers generate heat themselves.  We'll look at a stylized model to think about how to minimize cooling costs for a server farm.  We will focus for simplicity on an 8 hour day (although real farms run around the clock!).  In what follows, you should think like a physicist and interpret \"cooling\" as \"negative heat.\"\n",
        "\n",
        "In the absence of any other effects, we would expect that the temperature at the beginning of an hour would be the same as the temperature at the beginning of the previous hour.  We will say that to operate effecively, the server room must remain at or below 25 degrees Celsius at all times.  Notice the day starts at 9 am with a temperature of $22$ degrees Celsius.\n",
        "\n",
        "That said, there are a few effects we should model:\n",
        "  - During the  hour, the compute servers will do work.  As they work they generate additional heat.\n",
        "  - During the hour, the ambient temperature provide additional heat (if it's hotter outside) or reduce the heat (if it's colder outside).  \n",
        "  - During the hour, any cooling we apply (e.g. by cranking up the AC) will reduce the heat in the room.\n",
        "\n",
        "In theory, we should model the precise temperature in the server room at all points in time (i.e. continuously).  As an approximation, we're only going to think about the temperature in the room at the beginning of every hour (starting at 9 am, and including 4:00 pm) and also at the end of the day (5:00 pm).  We're also going to assume that any additional heat generated or removed *during* the hour doesn't affect the temperature now, but affects the temperature in the next hour.\n",
        "\n",
        "\n",
        "#### Server Work\n",
        "\n",
        "Suppose that the demand for the server farm (in Teraflops/hr or TFLOPS/hr) is as follows:\n",
        "\n",
        "| Hour | Time  | Server Work (TFLOPs/hr) |\n",
        "|------|-------|--------------------------------|\n",
        "| 0    | 9 AM  | 150                            |\n",
        "| 1    | 10 AM | 250                            |\n",
        "| 2    | 11 AM | 400                            |\n",
        "| 3    | 12 PM | 500                            |\n",
        "| 4    | 1 PM  | 500                            |\n",
        "| 5    | 2 PM  | 450                            |\n",
        "| 6    | 3 PM  | 350                            |\n",
        "| 7    | 4 PM  | 200                            |\n",
        "\n",
        "The additional heat (measured in Celsius) contributed by working is equal to  $.004$ per TFLOP.  \n",
        "\n",
        "\n",
        "#### Ambient Temperature\n",
        "At the same time, the room temperature is affected by the ambient environmental temperature.  Here is a forecasted temperature profile for a typical day:\n",
        "\n",
        "| Hour | Time  | Ambient Temperature (°C) |\n",
        "|------|-------|--------------------------|\n",
        "| 0    | 9 AM  | 22                       |\n",
        "| 1    | 10 AM | 24                       |\n",
        "| 2    | 11 AM | 26                       |\n",
        "| 3    | 12 PM | 28                       |\n",
        "| 4    | 1 PM  | 30                       |\n",
        "| 5    | 2 PM  | 31                       |\n",
        "| 6    | 3 PM  | 30                       |\n",
        "| 7    | 4 PM  | 28                       |\n",
        "\n",
        "We will assume that the additional heat added to the room during hour $h$ is equal to\n",
        "$$\n",
        ".1 * ( \\text{Ambient Temperature}_h- \\text{Temperature in Room}_h).\n",
        "$$\n",
        "This value can be positive or negative (e.g. if it's cold outside.)  The constant $0.1$ represents the natural heat exchange of the building (depending on insulation, etc.)\n",
        "\n",
        "#### Cooling Effort\n",
        "Finally, we can exert effort to cool the room (cranking up the AC). For every kilowatt of Cooling Effort we exert in hour $h$, we expect the temperature to decrease by $0.5$ degrees centigrade.\n",
        "\n",
        "\n",
        "Your goal is to write a linear optimization problem that minimizes the amount of cooling effort needed to keep the server room at a temperature of at most $25$ degrees Celsius throughout the day. Assume the server room starts at a temperature of $22$  degrees at the beginning of the day.\n",
        "\n"
      ]
    },
    {
      "cell_type": "markdown",
      "metadata": {
        "id": "r8hTheFEslQN"
      },
      "source": [
        "### Part a) Decision Variables (0 points)\n",
        "I'm going to help you out a bit to get started.  We're going to us the following decision variables:\n",
        "- Let $T_h$ be the room temperature (Celsius) in hour $h$, for $h = 0, \\ldots, 7$.\n",
        "- Let $C_h$ be the amount of cooling effort (in kilowatts) we apply in hour $h$, for $h = 0, \\ldots, 7$.\n",
        "\n",
        "So we have $16$ decision variables.  Make sure you count them and understand them.\n",
        "\n",
        "*Teaching Note:  Note that $T_h$ is a bit weird as a decision-variable.  We don't really \"decide\" it... We decicde $C_h$ and $T_h$ seems to be a consequence of the thermodynamic equations above.  But just trust me. We're going to need this extra decision-variable to make things work.*"
      ]
    },
    {
      "cell_type": "markdown",
      "metadata": {
        "id": "wdeuixhVslQN"
      },
      "source": [
        "### Part b) (5 points):\n",
        "\n",
        "What is the objective function for this problem? (Add a markdown cell directly below this one with your answer.) Describe the objective function both in words and in math.  include units."
      ]
    },
    {
      "cell_type": "markdown",
      "metadata": {},
      "source": [
        "The objective function of this problem is to minimize the amount of cooling effort needed to keep the server room temperature less than or equal to 25 degrees Celsius throughout the 8 hours of operation\n",
        "\n",
        "Min(Ch) = Min(C0 + C1 + C2 + C3 + C4 + C5 + C6 + C7)\n",
        "\n",
        "\n",
        "\n"
      ]
    },
    {
      "cell_type": "markdown",
      "metadata": {
        "id": "_VG-Vx9JslQN"
      },
      "source": [
        "### Part c) (15 points)\n",
        "What are the constraints for this problem? For each constraint, be sure to include a short description (in words) of what the constraint represents.  Your description should make the units clear. You should also relax any integrality constraints.  \n",
        "\n",
        "**Hint:  Can you write an equation using the decision variables that tells you the temperature in the room at hour $1$ in terms of the temperature in hour $0$, the ambient temperature at hour $0$, and the cooling effort you put in at hour $0$?**\n"
      ]
    },
    {
      "cell_type": "markdown",
      "metadata": {},
      "source": [
        "The temperature at the next hour is equal to the previous hour's temperature plus the temperature added from the work done in the previous hour, plus the temperature added/subtracted from the ambient temperature minus however much cooling effort was put in the previous hour:\n",
        "- T_h+1 = T_h + 0.004 * W_h + 0.1(AmbT_h - T_h) - 0.5 * C_h\n",
        "\n",
        "The maximum temperature the room can be at is 25 degrees Celsius:\n",
        "- T_h <= 25\n",
        "\n",
        "The initial temperature at time 0 is 22 degrees Celsius:\n",
        "- T_0 = 22\n",
        "\n",
        "Cooling effort cannot be negative:\n",
        "- Ch >= 0"
      ]
    },
    {
      "cell_type": "markdown",
      "metadata": {
        "id": "pN3WbNR4slQO"
      },
      "source": [
        "### Part d) (10 points)\n",
        "Using your formulation above, code up your model in Gurobi and solve it.  Write the optimal value and optimal solution in a markdown cell directly below this one.  Be sure to label which is which and what the units are!\n",
        "\n",
        "Below that markdown cell, include your python code for the model in one or more python cells.  Your code should print out the optimal value and optimal solution from your model as its last step. Code that does not run earns no credit!"
      ]
    },
    {
      "cell_type": "markdown",
      "metadata": {},
      "source": [
        "Optimal Value: 19.332 kilowatts \n",
        "Optimal Solution:\n",
        "- T0 = 22 Degrees Celcius\n",
        "- T1 = 22.6 Degrees Celcius\n",
        "- T2 = 23.74 Degrees Celcius\n",
        "- T3 = 25 Degrees Celcius\n",
        "- T4 = 25 Degrees Celcius\n",
        "- T5 = 25 Degrees Celcius\n",
        "- T6 = 25 Degrees Celcius\n",
        "- T7 = 25 Degrees Celcius\n",
        "- C0 = 0 kilowatts \n",
        "- C1 = 0 kilowatts \n",
        "- C2 = 1.132 kilowatts \n",
        "- C3 = 4.6 kilowatts \n",
        "- C4 = 5 kilowatts \n",
        "- C5 = 4.8 kilowatts \n",
        "- C6 = 3.8 kilowatts \n",
        "- C7 = 0 kilowatts "
      ]
    },
    {
      "cell_type": "code",
      "execution_count": 4,
      "metadata": {},
      "outputs": [
        {
          "name": "stdout",
          "output_type": "stream",
          "text": [
            "Gurobi Optimizer version 12.0.0 build v12.0.0rc1 (win64 - Windows 11.0 (26100.2))\n",
            "\n",
            "CPU model: Intel(R) Core(TM) Ultra 7 265K, instruction set [SSE2|AVX|AVX2]\n",
            "Thread count: 20 physical cores, 20 logical processors, using up to 20 threads\n",
            "\n",
            "Optimize a model with 24 rows, 16 columns and 38 nonzeros\n",
            "Model fingerprint: 0x94594437\n",
            "Coefficient statistics:\n",
            "  Matrix range     [5e-01, 1e+00]\n",
            "  Objective range  [1e+00, 1e+00]\n",
            "  Bounds range     [0e+00, 0e+00]\n",
            "  RHS range        [3e+00, 3e+01]\n",
            "Presolve removed 24 rows and 16 columns\n",
            "Presolve time: 0.00s\n",
            "Presolve: All rows and columns removed\n",
            "Iteration    Objective       Primal Inf.    Dual Inf.      Time\n",
            "       0    1.9332000e+01   0.000000e+00   0.000000e+00      0s\n",
            "\n",
            "Solved in 0 iterations and 0.01 seconds (0.00 work units)\n",
            "Optimal objective  1.933200000e+01\n",
            "T0 22\n",
            "T1 22.6\n",
            "T2 23.74\n",
            "T3 25\n",
            "T4 25\n",
            "T5 25\n",
            "T6 25\n",
            "T7 25\n",
            "C0 0\n",
            "C1 0\n",
            "C2 1.132\n",
            "C3 4.6\n",
            "C4 5\n",
            "C5 4.8\n",
            "C6 3.8\n",
            "C7 0\n"
          ]
        }
      ],
      "source": [
        "m = Model(\"CoolingEffort\")\n",
        "\n",
        "# Decision Variables\n",
        "\n",
        "T0 = m.addVar(vtype=GRB.CONTINUOUS, name=\"T0\")\n",
        "T1 = m.addVar(vtype=GRB.CONTINUOUS, name=\"T1\")\n",
        "T2 = m.addVar(vtype=GRB.CONTINUOUS, name=\"T2\")\n",
        "T3 = m.addVar(vtype=GRB.CONTINUOUS, name=\"T3\")\n",
        "T4 = m.addVar(vtype=GRB.CONTINUOUS, name=\"T4\")\n",
        "T5 = m.addVar(vtype=GRB.CONTINUOUS, name=\"T5\")\n",
        "T6 = m.addVar(vtype=GRB.CONTINUOUS, name=\"T6\")\n",
        "T7 = m.addVar(vtype=GRB.CONTINUOUS, name=\"T7\")\n",
        "\n",
        "C0 = m.addVar(vtype=GRB.CONTINUOUS, name=\"C0\")\n",
        "C1 = m.addVar(vtype=GRB.CONTINUOUS, name=\"C1\")\n",
        "C2 = m.addVar(vtype=GRB.CONTINUOUS, name=\"C2\")\n",
        "C3 = m.addVar(vtype=GRB.CONTINUOUS, name=\"C3\")\n",
        "C4 = m.addVar(vtype=GRB.CONTINUOUS, name=\"C4\")\n",
        "C5 = m.addVar(vtype=GRB.CONTINUOUS, name=\"C5\")\n",
        "C6 = m.addVar(vtype=GRB.CONTINUOUS, name=\"C6\")\n",
        "C7 = m.addVar(vtype=GRB.CONTINUOUS, name=\"C7\")\n",
        "\n",
        "# Setting Objective Function\n",
        "\n",
        "m.setObjective(C0 + C1 + C2 + C3 + C4 + C5 + C6 + C7, GRB.MINIMIZE)\n",
        "\n",
        "# Constraints\n",
        "\n",
        "# Temperature Balance Constraints\n",
        "m.addConstr(T0 == 22, name=\"InitialTemperatureConstraint\")\n",
        "m.addConstr(T1 == T0 + 0.004 * 150 + 0.1 * (22 - T0) - 0.5 * C0, name=\"Temperature1Constraint\")\n",
        "m.addConstr(T2 == T1 + 0.004 * 250 + 0.1 * (24 - T1) - 0.5 * C1, name=\"Temperature2Constraint\")\n",
        "m.addConstr(T3 == T2 + 0.004 * 400 + 0.1 * (26 - T2) - 0.5 * C2, name=\"Temperature3Constraint\")\n",
        "m.addConstr(T4 == T3 + 0.004 * 500 + 0.1 * (28 - T3) - 0.5 * C3, name=\"Temperature4Constraint\")\n",
        "m.addConstr(T5 == T4 + 0.004 * 500 + 0.1 * (30 - T4) - 0.5 * C4, name=\"Temperature5Constraint\")\n",
        "m.addConstr(T6 == T5 + 0.004 * 450 + 0.1 * (31 - T5) - 0.5 * C5, name=\"Temperature6Constraint\")\n",
        "m.addConstr(T7 == T6 + 0.004 * 350 + 0.1 * (30 - T6) - 0.5 * C6, name=\"Temperature7Constraint\")\n",
        "\n",
        "\n",
        "# Max Temperature Constraints\n",
        "m.addConstr(T0 <= 25, name=\"MaxTemperature0Constraint\")\n",
        "m.addConstr(T1 <= 25, name=\"MaxTemperature1Constraint\")\n",
        "m.addConstr(T2 <= 25, name=\"MaxTemperature2Constraint\")\n",
        "m.addConstr(T3 <= 25, name=\"MaxTemperature3Constraint\")\n",
        "m.addConstr(T4 <= 25, name=\"MaxTemperature4Constraint\")\n",
        "m.addConstr(T5 <= 25, name=\"MaxTemperature5Constraint\")\n",
        "m.addConstr(T6 <= 25, name=\"MaxTemperature6Constraint\")\n",
        "m.addConstr(T7 <= 25, name=\"MaxTemperature7Constraint\")\n",
        "\n",
        "# Non-Negativity Constraints\n",
        "m.addConstr(C0 >= 0, name=\"CoolingEffort0NonNegativityConstraint\")\n",
        "m.addConstr(C1 >= 0, name=\"CoolingEffort1NonNegativityConstraint\")\n",
        "m.addConstr(C2 >= 0, name=\"CoolingEffort2NonNegativityConstraint\")\n",
        "m.addConstr(C3 >= 0, name=\"CoolingEffort3NonNegativityConstraint\")\n",
        "m.addConstr(C4 >= 0, name=\"CoolingEffort4NonNegativityConstraint\")\n",
        "m.addConstr(C5 >= 0, name=\"CoolingEffort5NonNegativityConstraint\")\n",
        "m.addConstr(C6 >= 0, name=\"CoolingEffort6NonNegativityConstraint\")\n",
        "m.addConstr(C7 >= 0, name=\"CoolingEffort7NonNegativityConstraint\")\n",
        "\n",
        "m.optimize()\n",
        "\n",
        "for v in m.getVars():\n",
        "    print('%s %g' % (v.varName, v.x))\n",
        "\n",
        "\n"
      ]
    },
    {
      "cell_type": "markdown",
      "metadata": {
        "id": "o_QWWqIgslQP"
      },
      "source": [
        "### part e) (4 points)\n",
        "In actuality, the price of electricity changes throughout the day.  In particular, it is more expensive in the afternoon when it is hot (because everyone turns on their AC and demand is high but supply is limited.)  Suppose you were given a forecast of the hourly price of electricity (similar to the forecasted temperatures).  How would you incorporate this information into your model to improve it? Does  it affect the decision variables, constraints, or objective? Describe the change in detailed paragraph.  \n",
        "\n",
        "You do NOT need to reimplement your model.  A well-written description is enough."
      ]
    },
    {
      "cell_type": "markdown",
      "metadata": {
        "id": "CWdcBaX3slQP"
      },
      "source": [
        "If I was given a forecast of the hourly price of electricity, the model could be adjusted to reflect the cost in dollars as opposed to the kilowatts. We could change the objective function to instead reflect the cost in dollars of the electricity and minimize that dollar cost. This new objective function would add a weight Ph (the price of electricity in hour h), to each of the cooling efforts Ch. So the new objective function would be to minimize the sum of Ph * Ch for all 8 hours. However, neither the decision variables nor the constraints are changed with this adjustment, as we do not control the price and the constraints remain the same."
      ]
    }
  ],
  "metadata": {
    "colab": {
      "provenance": []
    },
    "kernelspec": {
      "display_name": "base",
      "language": "python",
      "name": "python3"
    },
    "language_info": {
      "codemirror_mode": {
        "name": "ipython",
        "version": 3
      },
      "file_extension": ".py",
      "mimetype": "text/x-python",
      "name": "python",
      "nbconvert_exporter": "python",
      "pygments_lexer": "ipython3",
      "version": "3.12.7"
    }
  },
  "nbformat": 4,
  "nbformat_minor": 0
}
