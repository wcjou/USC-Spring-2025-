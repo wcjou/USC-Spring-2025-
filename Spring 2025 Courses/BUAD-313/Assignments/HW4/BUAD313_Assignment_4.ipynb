{
  "cells": [
    {
      "cell_type": "markdown",
      "metadata": {
        "id": "43Q1Kr27slP2"
      },
      "source": [
        "# BUAD 313 - Spring 2025 - Assignment 4 (95 points)\n",
        "\n",
        "Notes:\n",
        " - You may work in teams of up to 3.  Submit one assignment for the three of you, but please ensure it has all 3 of your names and @usc.edu emails.\n",
        " - You must submit your work as a .ipynb file (jupyter notebook). The grader has to be able to run your notebook. Code that doesn't run gets zero points.  A Great way to check that your code runs is to Select \"Clear All Outputs\", \"Restart\" and then \"Run All\" and make sure it still shows all your answer properly!\n",
        " - Use the existing sections below to submit your answers below.  You can add additional Python/markdown cells to describe and explain your solution, but keep it tidy.  Consider formatting some of your markdown cells for the grader.  [Markdown Guide](https://www.markdownguide.org/basic-syntax/)\n",
        " - For some of hte modeling quesitons, you may prefer to write your solution with paper and pencil and then include a photo in the markdown.  That's OK! Just please remember to include the file for your photo in your submission so that it renders proeprly.\n",
        "\n",
        "The deadline for this assignment is **11:59 PM Pacific Time on Friday April 11, 2025**. Late submissions will not be accepted. (note the extended deadline!)"
      ]
    },
    {
      "cell_type": "markdown",
      "metadata": {
        "id": "gl2SRTZtslP6"
      },
      "source": [
        "Below are the standard Python packages that we use for optimization models in this course. By running this next Python cell, you will have these packages available to use in all your answers contained in this file."
      ]
    },
    {
      "cell_type": "code",
      "execution_count": 3,
      "metadata": {
        "id": "I7B24wZdslP7"
      },
      "outputs": [],
      "source": [
        "import numpy as np\n",
        "from gurobipy import Model, GRB, quicksum\n",
        "import pandas as pd"
      ]
    },
    {
      "cell_type": "markdown",
      "metadata": {
        "id": "Rg9OV7uAslP8"
      },
      "source": [
        "## Team Names and Emails:\n",
        " <font color=\"blue\">**(Edit this cell)**</font>\n",
        " - William Jou: wcjou@usc.edu\n",
        " - Bain Higgins: cbhiggin@usc.edu\n",
        " - Jiya Valiram: jvaliram@usc.edu"
      ]
    },
    {
      "cell_type": "markdown",
      "metadata": {
        "id": "aD0EdpnSahIC"
      },
      "source": [
        "## Question 1 (40 Points): E-Commerce Fulfillment (A Mixed Binary Perspective)\n",
        "\n",
        "SwiftShip is a fast-growing e-commerce company that delivers products throughout the United States. As the company plans for the upcoming year, it must decide which of **five potential fulfillment centers** to rent and use for shipping products to its customers. Renting a fulfillment center comes with a **fixed annual cost**, which includes facility operations, staffing, and infrastructure.\n",
        "\n",
        "Customer demand for products is **random and fluctuates daily**, but SwiftShip’s analytics team has provided **forecasted annual demand** for **20 customer zones** spread across the country. These forecasts represent the total number of units expected to be shipped to each zone in the upcoming year.\n",
        "\n",
        "Each fulfillment center has a **maximum shipping capacity** — the total number of units it can process and send out over the year. Products can be shipped from any active fulfillment center to any customer zone. However, **shipping costs vary** depending on the distance between the fulfillment center and the customer zone.\n",
        "\n",
        "SwiftShip’s goal is to meet the forecasted demand for all 20 zones **at the lowest possible total cost**, which includes both:\n",
        "\n",
        "- **Rental costs** for any fulfillment centers they choose to activate\n",
        "- **Shipping costs** based on how many units are sent from each center to each zone\n",
        "\n",
        "\n",
        "### Potential Fulfillment Center Locations (5 cities):\n",
        "\n",
        "- Atlanta, GA  \n",
        "- Chicago, IL  \n",
        "- Dallas, TX  \n",
        "- Los Angeles, CA  \n",
        "- Philadelphia, PA\n",
        "\n",
        "### Customer Zones (20 regions):\n",
        "\n",
        "- **Northeast**: Boston, MA; New York, NY; Washington, DC; Buffalo, NY  \n",
        "- **Southeast**: Miami, FL; Charlotte, NC; Nashville, TN; Birmingham, AL  \n",
        "- **Midwest**: Detroit, MI; Minneapolis, MN; St. Louis, MO; Cleveland, OH  \n",
        "- **South Central**: Houston, TX; New Orleans, LA; Oklahoma City, OK  \n",
        "- **West**: Phoenix, AZ; Denver, CO; Seattle, WA; San Francisco, CA; Salt Lake City, UT\n",
        "\n",
        "I've provided some data that you might find useful as .csv files:\n",
        " - Rental Costs (in thousands of dolalrs per year) and Capacities (in thousands of units per year) for the 5 fulfillment centers\n",
        " - Forecasted Demand (in thousands of units) for each of the 20 customer zones\n",
        " - Shipping Costs (in dollars per unit) from each center to each zone\n",
        "\n",
        "And because I'm a very generous professor, I've even done the data-wrangling to get these into dictionaries for you. "
      ]
    },
    {
      "cell_type": "code",
      "execution_count": 4,
      "metadata": {},
      "outputs": [
        {
          "name": "stdout",
          "output_type": "stream",
          "text": [
            "Rental Costs: {'Atlanta': 502, 'Chicago': 670, 'Dallas': 506, 'Los Angeles': 471, 'Philadelphia': 588}\n",
            "Capacity: {'Atlanta': 120, 'Chicago': 182, 'Dallas': 186, 'Los Angeles': 174, 'Philadelphia': 174}\n",
            "Demand: {'Boston': 13, 'New York': 17, 'Washington': 12, 'Buffalo': 11, 'Miami': 21, 'Charlotte': 15, 'Nashville': 11, 'Birmingham': 10, 'Detroit': 21, 'Minneapolis': 21, 'St. Louis': 26, 'Cleveland': 19, 'Houston': 25, 'New Orleans': 24, 'Oklahoma City': 24, 'Phoenix': 28, 'Denver': 21, 'Seattle': 29, 'San Francisco': 12, 'Salt Lake City': 14}\n",
            "Shipping Costs (sample): {('Atlanta', 'Boston'): 6.86, ('Atlanta', 'New York'): 3.36, ('Atlanta', 'Washington'): 2.52, ('Atlanta', 'Buffalo'): 9.59, ('Atlanta', 'Miami'): 9.73}\n"
          ]
        }
      ],
      "source": [
        "import pandas as pd\n",
        "\n",
        "# Read CSVs\n",
        "rental_df = pd.read_csv(\"rental_costs_and_capacities.csv\", index_col=0)\n",
        "demand_df = pd.read_csv(\"customer_zone_demands.csv\", index_col=0)\n",
        "shipping_df = pd.read_csv(\"shipping_costs.csv\", index_col=0)\n",
        "\n",
        "# Helper to abbreviate city name (drop state abbreviation)\n",
        "def abbreviate(name):\n",
        "    return name.split(\",\")[0]\n",
        "\n",
        "# 1. Rental costs dictionary\n",
        "rental_costs = {abbreviate(city): cost for city, cost in rental_df[\"Rental_Cost_$K\"].items()}\n",
        "\n",
        "# 2. Capacity dictionary\n",
        "capacity = {abbreviate(city): cap for city, cap in rental_df[\"Capacity_1000_Units\"].items()}\n",
        "\n",
        "# 3. Demand dictionary\n",
        "demand = {abbreviate(zone): d for zone, d in demand_df[\"Demand_1000_Units\"].items()}\n",
        "\n",
        "# 4. Shipping costs dictionary (keys are (facility, zone))\n",
        "shipping_costs = {\n",
        "    (abbreviate(fac), abbreviate(zone)): shipping_df.loc[fac, zone]\n",
        "    for fac in shipping_df.index\n",
        "    for zone in shipping_df.columns\n",
        "}\n",
        "\n",
        "# Optional: check a few values\n",
        "print(\"Rental Costs:\", rental_costs)\n",
        "print(\"Capacity:\", capacity)\n",
        "print(\"Demand:\", demand)\n",
        "print(\"Shipping Costs (sample):\", dict(list(shipping_costs.items())[:5]))\n"
      ]
    },
    {
      "cell_type": "markdown",
      "metadata": {
        "id": "vf4bKaLFahIC"
      },
      "source": [
        "#### Part a (20 points)\n",
        "Write a mathematical formulation for this problem.  If you want to write it by hand, be sure to write some markdown here that includes your photo as part of the notebook.  (See the markdown guide above for help.)\n",
        "\n",
        "Your mathematical formulation should be clear and indicate what variables are binary, integer, and continuous.  Be clear about indexing and include any English descriptions/intuition you think make the formulation clearer for me and the Grader.  "
      ]
    },
    {
      "cell_type": "markdown",
      "metadata": {},
      "source": [
        "## Part A\n",
        "\n",
        "### Decision Variables\n",
        "- Let F_i be a binary variable that is 1 when fufillment center i is opened and 0 when otherwise\n",
        "- Let x_i_z be the number of units shipped from fufillment center i to customer zone j\n",
        "\n",
        "### Objective Function\n",
        "We want to minimize the cost \n",
        "- let R_i = the annual rental cost for fufillment center i\n",
        "- let D_j = the forecasted demand for customer zone j\n",
        "- let S_i_z = the shipping cost per unit from fufillment center i to customer zone j\n",
        "- let C_i = the annual shipping capacity of fufillment center i \n",
        "\n",
        "Min((sum(R_i * F_i) for all in in fufillment centers) + (sum(R_i * S_i_z * x_i_z) for all i in fufillment centers and all z in customer zones)\n",
        "\n",
        "### Constraints\n",
        "- F_i must be 0 or 1 for all i\n",
        "- Cannot ship negative units: x_i_z >= 0 for all i in fufillment centers and all z in customer zones\n",
        "- The number of units shipped to each zone must atleast meet the demand for that zone: Sum(x_i_z for all i in fufillment centers) >= D_z for all z in customer zones\n",
        "- The number of units shipped from a fufillment center must not exceed the shipment capacity of that fufillment zone: Sum(x_i_z for all z in customer zones) <= C_i * F_i for all i in fufillment centers"
      ]
    },
    {
      "cell_type": "markdown",
      "metadata": {},
      "source": [
        "### Part b (20 points) \n",
        "Implement your model in Gurobi.  You should print out:\n",
        "1. Which facilities you will rent.\n",
        "2. The total rental costs. \n",
        "3. The total forecasted shipping costs.\n",
        "\n",
        "In your implementation, you should ASSUME that the amount of product shipped from each facility can be fractional in order to simplify things a bit."
      ]
    },
    {
      "cell_type": "code",
      "execution_count": 5,
      "metadata": {},
      "outputs": [
        {
          "name": "stdout",
          "output_type": "stream",
          "text": [
            "Set parameter Username\n",
            "Set parameter LicenseID to value 2614665\n",
            "Academic license - for non-commercial use only - expires 2026-01-23\n",
            "Gurobi Optimizer version 12.0.0 build v12.0.0rc1 (win64 - Windows 11.0 (26100.2))\n",
            "\n",
            "CPU model: Intel(R) Core(TM) Ultra 7 265K, instruction set [SSE2|AVX|AVX2]\n",
            "Thread count: 20 physical cores, 20 logical processors, using up to 20 threads\n",
            "\n",
            "Optimize a model with 125 rows, 105 columns and 405 nonzeros\n",
            "Model fingerprint: 0x5be2ec81\n",
            "Variable types: 100 continuous, 5 integer (5 binary)\n",
            "Coefficient statistics:\n",
            "  Matrix range     [1e+00, 2e+02]\n",
            "  Objective range  [2e+00, 7e+02]\n",
            "  Bounds range     [1e+00, 1e+00]\n",
            "  RHS range        [1e+01, 3e+01]\n",
            "Presolve removed 100 rows and 0 columns\n",
            "Presolve time: 0.00s\n",
            "Presolved: 25 rows, 105 columns, 205 nonzeros\n",
            "Variable types: 100 continuous, 5 integer (5 binary)\n",
            "Found heuristic solution: objective 4085.0200000\n",
            "\n",
            "Root relaxation: objective 2.523372e+03, 32 iterations, 0.00 seconds (0.00 work units)\n",
            "\n",
            "    Nodes    |    Current Node    |     Objective Bounds      |     Work\n",
            " Expl Unexpl |  Obj  Depth IntInf | Incumbent    BestBd   Gap | It/Node Time\n",
            "\n",
            "     0     0 2523.37195    0    5 4085.02000 2523.37195  38.2%     -    0s\n",
            "H    0     0                    3666.0300000 2523.37195  31.2%     -    0s\n",
            "H    0     0                    3583.4100000 2637.16769  26.4%     -    0s\n",
            "H    0     0                    3033.2900000 2637.16769  13.1%     -    0s\n",
            "H    0     0                    2963.0100000 2637.16769  11.0%     -    0s\n",
            "     0     0 2741.89774    0    1 2963.01000 2741.89774  7.46%     -    0s\n",
            "     0     0 2809.19000    0    2 2963.01000 2809.19000  5.19%     -    0s\n",
            "     0     0 2961.12034    0    2 2963.01000 2961.12034  0.06%     -    0s\n",
            "\n",
            "Cutting planes:\n",
            "  Gomory: 2\n",
            "  Implied bound: 20\n",
            "  MIR: 2\n",
            "  Flow cover: 2\n",
            "  Relax-and-lift: 2\n",
            "\n",
            "Explored 1 nodes (69 simplex iterations) in 0.02 seconds (0.00 work units)\n",
            "Thread count was 20 (of 20 available processors)\n",
            "\n",
            "Solution count 4: 2963.01 3583.41 3666.03 4085.02 \n",
            "\n",
            "Optimal solution found (tolerance 1.00e-04)\n",
            "Best objective 2.963010000000e+03, best bound 2.963010000000e+03, gap 0.0000%\n",
            "Facility Atlanta is opened.\n",
            "Facility Dallas is opened.\n",
            "Facility Los Angeles is opened.\n",
            "Total Rental Costs: 1478.9999999999995K\n",
            "Total Shipping Costs: 1484.0100000000002K\n"
          ]
        }
      ],
      "source": [
        "import numpy as np\n",
        "import matplotlib.pyplot as plt\n",
        "from gurobipy import Model, GRB, quicksum\n",
        "\n",
        "model = Model(\"Facility Location Problem\")\n",
        "\n",
        "# DECISION VARIABLES\n",
        "# create a binary variable for each facility (1 if facility is opened, 0 otherwise)\n",
        "F = model.addVars(rental_costs.keys(), vtype=GRB.BINARY, name=\"Facility_Opened\")\n",
        "# create a decision variable x for the number of units shipped from each facility to each zone\n",
        "x = model.addVars(shipping_costs.keys(), vtype=GRB.CONTINUOUS, lb=0, name=\"Units_Shipped\")\n",
        "\n",
        "# OBJECTIVE FUNCTION\n",
        "# minimize total cost (rental + shipping)\n",
        "model.setObjective(\n",
        "    quicksum(rental_costs[i] * F[i] for i in rental_costs.keys()) +\n",
        "    quicksum(shipping_costs[i, z] * x[i, z] for i, z in shipping_costs.keys()),\n",
        "    GRB.MINIMIZE\n",
        ")\n",
        "\n",
        "# CONSTRAINTS\n",
        "# ensure demand is met in each zone\n",
        "for z in demand.keys():\n",
        "    model.addConstr(\n",
        "        quicksum(x[i, z] for i in rental_costs.keys()) >= demand[z],\n",
        "        name=f\"Demand_Constraint_{z}\"\n",
        "    )\n",
        "\n",
        "# ensure capacity is not exceeded at each facility\n",
        "for i in rental_costs.keys():\n",
        "    model.addConstr(\n",
        "        quicksum(x[i, z] for z in demand.keys()) <= capacity[i] * F[i],\n",
        "        name=f\"Capacity_Constraint_{i}\"\n",
        "    )\n",
        "\n",
        "# ensure that if a facility is opened, it can ship to all zones\n",
        "for i in rental_costs.keys():\n",
        "    for z in demand.keys():\n",
        "        model.addConstr(\n",
        "            x[i, z] <= capacity[i] * F[i],\n",
        "            name=f\"Facility_Opened_Constraint_{i}_{z}\"\n",
        "        )\n",
        "\n",
        "\n",
        "# optimize the model\n",
        "model.optimize()\n",
        "\n",
        "# print what facilities are opened\n",
        "for i in rental_costs.keys():\n",
        "    if F[i].x > 0.5:  # if the facility is opened\n",
        "        print(f\"Facility {i} is opened.\")\n",
        "\n",
        "# print the total rental costs\n",
        "print(f\"Total Rental Costs: {model.ObjVal - quicksum(shipping_costs[i, z] * x[i, z].x for i, z in shipping_costs.keys())}K\")\n",
        "\n",
        "#print the total forecasted shipping costs\n",
        "print(f\"Total Shipping Costs: {quicksum(shipping_costs[i, z] * x[i, z].x for i, z in shipping_costs.keys())}K\")\n"
      ]
    },
    {
      "cell_type": "markdown",
      "metadata": {
        "id": "IbGvz2LrBXy5"
      },
      "source": [
        "---\n",
        "## Question 2 (55 points): Using Simulation to Better Assess a Recommendation.\n",
        "\n"
      ]
    },
    {
      "cell_type": "markdown",
      "metadata": {
        "id": "fdHzY1UhBXy5"
      },
      "source": [
        "In the previous question, you determined an optimal fulfillment plan under the assumption that forecasted **annual** demand is known with certainty. However, in practice, demand fluctuates from month to month, and total annual demand may deviate from the forecast.\n",
        "\n",
        "SwiftShip has committed to renting fulfillment centers in **Atlanta**, **Dallas**, and **Los Angeles** for the upcoming year. In addition, SwiftShip has contracted with a third-party logistics (3PL) firm that can deliver units directly from a central factory to any customer zone **at a cost of \\$20 per unit**. Since this option is expensive, SwiftShip prefers to use it **only when** the fulfillment centers are unable to satisfy monthly demand due to capacity constraints.\n",
        "\n",
        "The company wants to better understand how much it might realistically spend on shipping over the year, given these sources of variability. To support this analysis, you will conduct a **simulation study** to estimate the *realized annual shipping cost* under random monthly demand.\n",
        "\n",
        "### Assumptions:\n",
        "- The **monthly capacity** of each fulfillment center is one-twelfth (1/12) of its annual capacity.\n",
        "- Monthly demand in each customer zone is modeled as **normally distributed**, with:\n",
        "  - Mean equal to **1/12 of the forecasted annual demand**, and  \n",
        "  - Standard deviation equal to **40% of the monthly mean**.\n",
        "  - Monthly demand values are **capped at zero from below** (i.e., if a simulated demand is negative, treat it as zero).\n",
        "  - Monthly demand across zones is assumed independent. \n",
        "  \n",
        "- Demand should be fulfilled in the **least costly way**, using:\n",
        "  - The three active fulfillment centers (Atlanta, Dallas, Los Angeles), or  \n",
        "  - The third-party firm (at \\$20/unit) if necessary\n"
      ]
    },
    {
      "cell_type": "markdown",
      "metadata": {},
      "source": [
        "#### Part a (20 points)\n",
        "\n",
        "Remember that simulation modeling involves two key steps:\n",
        "\n",
        "1. **Modeling uncertainty** — deciding how to represent uncertain quantities (like demand) as random variables.\n",
        "2. **Outcome evaluation** — computing the outcomes of interest (like cost or service levels) as a function of those random variables and your decisions.\n",
        "\n",
        "We'll begin by focusing on the second step.\n",
        "\n",
        "Write a function that takes as input a **NumPy array of length 20** representing the **realized monthly demand** for each customer zone. Your function should use this demand to determine the **least-cost way to serve that demand**, using only the three active fulfillment centers (**Atlanta**, **Dallas**, and **Los Angeles**) and, if necessary, the third-party firm (at a cost of \\$20 per unit)."
      ]
    },
    {
      "cell_type": "code",
      "execution_count": 32,
      "metadata": {},
      "outputs": [],
      "source": [
        "def least_monthly_cost_fulfillment(realized_monthly_demand):\n",
        "    active_centers = ['Atlanta', 'Dallas', 'Los Angeles']\n",
        "    monthly_capacity = {center: capacity[center] / 12 for center in active_centers}\n",
        "    remaining_capacity = monthly_capacity.copy()\n",
        "    monthly_cost = 0\n",
        "    TPF_per_unit_cost = 20 # per unit shipping cost if using third party firm\n",
        "\n",
        "    zones = list(demand.keys())\n",
        "\n",
        "    for i, zone in enumerate(zones):\n",
        "        demand_units = realized_monthly_demand[i]\n",
        "        shipping_costs_for_zone = {center: shipping_costs[(center, zone)] for center in active_centers}\n",
        "        sorted_centers = sorted(shipping_costs_for_zone, key=shipping_costs_for_zone.get) # sorting centers with lowest cost first\n",
        "        for center in sorted_centers:\n",
        "            if demand_units <= 0:\n",
        "                break\n",
        "            if remaining_capacity[center] > 0:\n",
        "                units_to_ship = min(demand_units, remaining_capacity[center])\n",
        "                monthly_cost += shipping_costs_for_zone[center] * units_to_ship\n",
        "                demand_units -= units_to_ship\n",
        "                remaining_capacity[center] -= units_to_ship\n",
        "            else: \n",
        "                monthly_cost += TPF_per_unit_cost * demand_units\n",
        "                demand_units = 0\n",
        "                \n",
        "    return monthly_cost\n"
      ]
    },
    {
      "cell_type": "markdown",
      "metadata": {},
      "source": [
        "#### Part b (20 points)\n",
        "\n",
        "Use the function you wrote in Part a) to write a simulation that estimates the **expected monthly shipping cost** for SwiftShip.\n",
        "\n",
        "- Run **100 replications**, where each replication simulates a single month of demand across all customer zones.\n",
        "- Use a random seed of **8675309** for reproducibility.\n",
        "\n",
        "At the end, report the following:\n",
        "- An estimate of the **expected monthly shipping cost**\n",
        "- A **95% confidence interval** for the expected monthly shipping cost\n",
        "- An estimate of the **expected annual shipping cost** (based on your monthly estimate)\n"
      ]
    },
    {
      "cell_type": "code",
      "execution_count": 34,
      "metadata": {},
      "outputs": [
        {
          "name": "stdout",
          "output_type": "stream",
          "text": [
            "Average Monthly Cost: 92.38145889802873\n",
            "95% Confidence Interval: (90.66550999053992, 94.09740780551753)\n",
            "Estimated Expected Annual Shipping Costs: 1108.5775067763448\n"
          ]
        }
      ],
      "source": [
        "np.random.seed(8675309)\n",
        "\n",
        "numReps = 100\n",
        "monthly_costs = np.zeros(numReps)\n",
        "\n",
        "\n",
        "for i in range(numReps):\n",
        "    realized_monthly_demand = np.random.normal(\n",
        "        loc=demand[z] / 12, scale=0.4 * demand[z] / 12, size=len(demand)\n",
        "    )\n",
        "    realized_monthly_demand = np.maximum(realized_monthly_demand, 0)\n",
        "    \n",
        "    monthly_costs[i] = least_monthly_cost_fulfillment(realized_monthly_demand)\n",
        "\n",
        "\n",
        "print(f\"Average Monthly Cost: {np.mean(monthly_costs)}\")\n",
        "\n",
        "#print a 95% confidence interval for the average monthly cost\n",
        "\n",
        "avg_monthly_cost = np.mean(monthly_costs)\n",
        "std_monthly_cost = np.std(monthly_costs)\n",
        "\n",
        "conf_int_up = avg_monthly_cost + 1.96 * (std_monthly_cost / np.sqrt(numReps))\n",
        "conf_int_down = avg_monthly_cost - 1.96 * (std_monthly_cost / np.sqrt(numReps))\n",
        "\n",
        "print(f\"95% Confidence Interval: ({conf_int_down}, {conf_int_up})\")\n",
        "\n",
        "# print the estimated expected annual shipping costs\n",
        "annual_shipping_costs = np.mean(monthly_costs) * 12\n",
        "print(f\"Estimated Expected Annual Shipping Costs: {annual_shipping_costs}\")\n",
        "\n",
        "\n"
      ]
    },
    {
      "cell_type": "markdown",
      "metadata": {},
      "source": [
        "#### Part c) (5 points)\n",
        "briefly compare your annual estimate from this simulation to the total shipping cost from your answer in Part 1. What do you notice?"
      ]
    },
    {
      "cell_type": "markdown",
      "metadata": {},
      "source": [
        "#### Part d) (10 points)\n",
        "Modify your previous simulation to calculate the probability that the monthly shipping costs exceeds \\$140K.  How does this compare to what your answer in Q1 suggests?"
      ]
    },
    {
      "cell_type": "markdown",
      "metadata": {},
      "source": [
        "#### Part e) (0 points) (Challenge only for fun.)\n",
        "Can you think of a better optimization formulation for Q1 that would better capture some of the issues around uncertainty?  Write out the mathematical formulation formally below. "
      ]
    }
  ],
  "metadata": {
    "colab": {
      "provenance": []
    },
    "kernelspec": {
      "display_name": "base",
      "language": "python",
      "name": "python3"
    },
    "language_info": {
      "codemirror_mode": {
        "name": "ipython",
        "version": 3
      },
      "file_extension": ".py",
      "mimetype": "text/x-python",
      "name": "python",
      "nbconvert_exporter": "python",
      "pygments_lexer": "ipython3",
      "version": "3.12.3"
    }
  },
  "nbformat": 4,
  "nbformat_minor": 0
}
