{
  "cells": [
    {
      "cell_type": "markdown",
      "metadata": {
        "id": "43Q1Kr27slP2"
      },
      "source": [
        "# BUAD 313 - Spring 2025 - Assignment 3 (160 points)\n",
        "\n",
        "Notes:\n",
        " - You may work in teams of up to 3.  Submit one assignment for the three of you, but please ensure it has all 3 of your names and @usc.edu emails.\n",
        " - You must submit your work as a .ipynb file (jupyter notebook). The grader has to be able to run your notebook. Code that doesn't run gets zero points.  A Great way to check that your code runs is to Select \"Clear All Outputs\", \"Restart\" and then \"Run All\" and make sure it still shows all your answer properly!\n",
        " - Use the existing sections below to submit your answers below.  You can add additional Python/markdown cells to describe and explain your solution, but keep it tidy.  Consider formatting some of your markdown cells for the grader.  [Markdown Guide](https://www.markdownguide.org/basic-syntax/)\n",
        " - For some of hte modeling quesitons, you may prefer to write your solution with paper and pencil and then include a photo in the markdown.  That's OK! Just please remember to include the file for your photo in your submission so that it renders proeprly.\n",
        "\n",
        "The deadline for this assignment is **11:59 PM Pacific Time on Friday March 14, 2025**. Late submissions will not be accepted."
      ]
    },
    {
      "cell_type": "markdown",
      "metadata": {
        "id": "gl2SRTZtslP6"
      },
      "source": [
        "Below are the standard Python packages that we use for optimization models in this course. By running this next Python cell, you will have these packages available to use in all your answers contained in this file."
      ]
    },
    {
      "cell_type": "code",
      "execution_count": null,
      "metadata": {
        "id": "I7B24wZdslP7"
      },
      "outputs": [],
      "source": [
        "import numpy as np\n",
        "from gurobipy import Model, GRB, quicksum\n",
        "import pandas as pd"
      ]
    },
    {
      "cell_type": "markdown",
      "metadata": {
        "id": "Rg9OV7uAslP8"
      },
      "source": [
        "## Team Names and Emails:\n",
        " <font color=\"blue\">**(Edit this cell)**</font>\n",
        " - Team Member 1\n",
        " - Team Member 2\n",
        " - Team Member 3"
      ]
    },
    {
      "cell_type": "markdown",
      "metadata": {
        "id": "pBtXL4yxslP8"
      },
      "source": [
        "## Question 1 (35 Points): An Instagram Puzzle\n",
        "\n",
        "The following puzzle appeared on my Instagram feed one day.\n",
        "<img src=\"lock_puzzle.jpg\" alt=\"A lock Puzzle\" width=\"200\" style=\"float: right; margin-left: 10px;\">\n",
        "\n",
        "Your task is to write an optimization formulation that correctly determines the code to the lock.  \n"
      ]
    },
    {
      "cell_type": "markdown",
      "metadata": {
        "id": "gVg7AqZLBXyy"
      },
      "source": [
        "\n",
        "\n",
        "#### Part a (10 Points)\n",
        "Define the decision variables for your problem.  Describe what they are meant to represent (be specific) and include their type (continuous, integer, binary)."
      ]
    },
    {
      "cell_type": "markdown",
      "metadata": {
        "id": "uN9xZf5vBXyz"
      },
      "source": [
        "<font color=\"green\">  **Solution:**\n",
        "\n",
        "We will have binary decision variables $X_{n, p}$ which will be 1 if number $n$ is in position $p$, 0 if not. These are defined for every p in positions = [1,2,3] and n in numbers = [0, 1,2,3,4,5,6,7,8,9].\n",
        "</font>\n"
      ]
    },
    {
      "cell_type": "markdown",
      "metadata": {
        "id": "zS6hU5lYBXy0"
      },
      "source": [
        "<font color = \"red\"> **Grading Rubric:**\n",
        "\n",
        "- You do not have to match the variable names $X_{n,p}$ etc exactly for full credit, but your variables must be structured so that it is *possible* to model all the constraints and objective of the problem.  If that is not the case, partial credit was awarded for the parts of the decision variables that are sufficient.  Extraneous variables that are still used correctly are also ok\n",
        "- If students use $X_{p,n}$ instead of $X_{n,p}$, still award points but ensure that their notation consistent throughout the rest of this problem\n",
        "- Lose 5 points if a student tracks ONLY numbers or ONLY positions\n",
        "- Lose 4 points if there are no variable names\n",
        "- Lose 6 points if there is no description of the variables; If the description was sufficiently vague, some loss of partial credit up to 6 points.\n",
        "- Lose 4 points if the student did not indicate the type of the variable or indicated it wrong (ie, said continuous)\n",
        "</font>"
      ]
    },
    {
      "cell_type": "markdown",
      "metadata": {
        "id": "ZuOqmSIOBXy0"
      },
      "source": [
        "#### Part b (15 Points)\n",
        "Introduce constraints that correspond to each of the clues in the puzzle. Briefly describe the meaning of each constraint. Be sure to indicate which constraint or constraints corresponds to each clue."
      ]
    },
    {
      "cell_type": "markdown",
      "metadata": {
        "id": "FwbiZcp_BXy1"
      },
      "source": [
        "<font color=\"green\">  **Solution:**\n",
        "\n",
        "1. $X_{3, 1}$ $+$ $X_{0, 2}$ $+$ $X_{2, 3}$ $==$ $1$\n",
        "  *   One number is correct and in the right place for 3 0 2\n",
        "\n",
        "2. $X_{3,1} + X_{5,2} + X_{6,3} == 0$\n",
        "  *   All of these are in the wrong place for 3 5 6\n",
        "\n",
        "3. $X_{3,2} + X_{3,3} + X_{5,1} + X_{5,3} + X_{6,1} + X_{6,2} == 1$\n",
        "  *   One of these numbers is correct but in a different place for 3 5 6\n",
        "\n",
        "4. $X_{5,1} + X_{7,2} + X_{4,3} == 0$\n",
        "  *   All of these are in the wrong place for 5 7 4\n",
        "\n",
        "5. $X_{5,2} + X_{5,3} + X_{7,1} + X_{7,3} + X_{4,1} + X_{4,2} == 2$\n",
        "  *   Two numbers are right but their positions were wrong in 5 7 4\n",
        "\n",
        "6. $X_{n,p} == 0$ for $p$ in $positions$ and $n$ in $[6,8,9]$\n",
        "  *   Nothing is correct for 6 8 9\n",
        "\n",
        "7. $X_{6,1} + X_{7,2} + X_{0,3} == 0$\n",
        "  *   Wrong places for 6 7 0\n",
        "\n",
        "8. $X_{6,2} + X_{6,3} + X_{7,1} + X_{7,3} + X_{0,1} + X_{0,2} == 1$\n",
        " *  One number is correct but in the wrong place for 6 7 0\n",
        "\n",
        "9. $\\sum_{n\\ in\\ numbers} X_{n,p} == 1$ for each $p$ in $positions$\n",
        " *  Exactly one number per position must be chosen\n",
        "\n",
        "\n",
        "</font>"
      ]
    },
    {
      "cell_type": "markdown",
      "metadata": {
        "id": "OVR8S_IzBXy1"
      },
      "source": [
        "<font color = \"red\"> **Grading Rubric:**\n",
        "\n",
        " - Must use the decision variables specified in the previous part of the student solution.\n",
        " - Partial credit should be awarded if some, but not all, of the necessary restrictions are in place\n",
        " - If students use a different but equivalent form for a constraint (ie, X[3,1] = 0, X[5, 2] = 0, X[6, 3] = 0 instead of x[3,1] + x[5,2] + x[6,3] == 0), award full points for the constraint\n",
        " - If constraints 2, 4, 7, or 9 are missing: lose 1 point each\n",
        " - If constraint 6 is partially written (ie, only writing that X[6,1] == 0 X[8,2] == 0 X[9,3] == 0), then lose 1 point\n",
        " - If constraints 1, 3, 5, or 8 are missing: lose 3 points each\n",
        "</font>"
      ]
    },
    {
      "cell_type": "markdown",
      "metadata": {
        "id": "mDi0s0VvBXy1"
      },
      "source": [
        "#### Part c (10 Points)\n",
        "Code up your model in Gurobi and solve it.  Print the 3 digit code that opens the lock as a number like \"XXX\""
      ]
    },
    {
      "cell_type": "markdown",
      "metadata": {
        "id": "5edaM3eoBXy1"
      },
      "source": [
        "<font color = \"blue\"> Solution:\n",
        "</font>"
      ]
    },
    {
      "cell_type": "code",
      "execution_count": null,
      "metadata": {
        "colab": {
          "base_uri": "https://localhost:8080/"
        },
        "id": "r6jN1hgvBXy1",
        "outputId": "8b3e981c-ffc9-482f-e056-a5b11d9a2691"
      },
      "outputs": [
        {
          "name": "stdout",
          "output_type": "stream",
          "text": [
            "Gurobi Optimizer version 12.0.1 build v12.0.1rc0 (linux64 - \"Ubuntu 22.04.4 LTS\")\n",
            "\n",
            "CPU model: Intel(R) Xeon(R) CPU @ 2.20GHz, instruction set [SSE2|AVX|AVX2]\n",
            "Thread count: 1 physical cores, 2 logical processors, using up to 2 threads\n",
            "\n",
            "Optimize a model with 16 rows, 30 columns and 93 nonzeros\n",
            "Model fingerprint: 0x857fc056\n",
            "Variable types: 0 continuous, 30 integer (30 binary)\n",
            "Coefficient statistics:\n",
            "  Matrix range     [1e+00, 1e+00]\n",
            "  Objective range  [0e+00, 0e+00]\n",
            "  Bounds range     [1e+00, 1e+00]\n",
            "  RHS range        [1e+00, 2e+00]\n",
            "Found heuristic solution: objective 0.0000000\n",
            "\n",
            "Explored 0 nodes (0 simplex iterations) in 0.01 seconds (0.00 work units)\n",
            "Thread count was 1 (of 2 available processors)\n",
            "\n",
            "Solution count 1: 0 \n",
            "\n",
            "Optimal solution found (tolerance 1.00e-04)\n",
            "Best objective 0.000000000000e+00, best bound 0.000000000000e+00, gap 0.0000%\n",
            "405"
          ]
        }
      ],
      "source": [
        "m = Model(\"lock\")\n",
        "positions = [1, 2, 3]\n",
        "x = m.addVars(range(10), positions, vtype=GRB.BINARY, name=\"x\")\n",
        "\n",
        "#every position must have a number\n",
        "for j in positions:\n",
        "    m.addConstr(quicksum(x[i, j] for i in range(10)) == 1)\n",
        "\n",
        "#302: One number is correct and in right place\n",
        "m.addConstr(x[3, 1] + x[0, 2] + x[2, 3] == 1)\n",
        "\n",
        "#356: all of these are in the wrong place\n",
        "m.addConstr(x[3, 1] + x[5, 2] + x[6, 3] == 0)\n",
        "\n",
        "#356 One number is correct but in the wrong place\n",
        "m.addConstr(\n",
        "    x[3, 2] + x[3, 3] +\n",
        "    x[5, 1] + x[5, 3] +\n",
        "    x[6, 1 ]+ x[6, 2] == 1\n",
        ")\n",
        "\n",
        "#574: all of these are in the wrong place\n",
        "m.addConstr(x[5, 1] + x[7, 2] + x[4, 3] == 0)\n",
        "\n",
        "#574: Two Numbers are Correct but in the wrong place\n",
        "m.addConstr(\n",
        "    x[5, 2] + x[5, 3] +\n",
        "    x[7, 1] + x[7, 3] +\n",
        "    x[4, 1] + x[4, 2] == 2\n",
        ")\n",
        "\n",
        "#689 Nothing is correct\n",
        "m.addConstr(x[6,1] == 0)\n",
        "m.addConstr(x[8,2] == 0)\n",
        "m.addConstr(x[9,3] == 0)\n",
        "\n",
        "#670: all of these are in the wrong place\n",
        "m.addConstr(x[6,1] + x[7,2] + x[0,3] == 0)\n",
        "\n",
        "#670: One number is correct but in the wrong place\n",
        "m.addConstr(\n",
        "    x[6, 2] + x[6, 3] +\n",
        "    x[7, 1] + x[7, 3] +\n",
        "    x[0, 1] + x[0, 2] == 1\n",
        ")\n",
        "\n",
        "# each position should have exactly 1 number chosen\n",
        "for p in positions:\n",
        "    m.addConstr(quicksum(x[i, p] for i in range(10)) == 1)\n",
        "\n",
        "m.optimize()\n",
        "\n",
        "#print the solution\n",
        "for j in positions:\n",
        "    for i in range(10):\n",
        "        if x[i, j].x > 0.5:\n",
        "            print(i, end=\"\")"
      ]
    },
    {
      "cell_type": "markdown",
      "metadata": {
        "id": "WbUe-6fcBXy2"
      },
      "source": [
        "<font color = \"red\"> **Grading Rubric:**\n",
        "\n",
        " <font color = \"red\">- Code needs to implement the model defined by the student in the previous parts, i.e, earlier mistakes do *not* carry forward.  Partial credit may be awarded if some, but not all of the coded model matches the mathematical model described in earlier parts.  Full points should be reserved for the implementation matching the formulation exactly, solving, and reporting the solution.\n",
        " - No code presented receives zero points, as does code that does not run.\n",
        " - For minor errors (ie, mistyping a constraint and getting the wrong solution), lose 1 or 2 points (depending on the severity of the typo)\n",
        "</font>\n",
        "</font>"
      ]
    },
    {
      "cell_type": "markdown",
      "metadata": {
        "id": "aD0EdpnSahIC"
      },
      "source": [
        "---\n",
        "## Question 2 (85 Points): Chronochaos: An Anachronism Puzzle\n",
        "\n",
        "*Note: Although the below question references characters in popular fiction, you do not need to have seen any of the corresponding movies or tv shows to solve the question.  All information you need is below.*\n",
        "\n",
        "Kang the Conqueror, the master of time manipulation, has disrupted history by scattering five famous historical figures across the wrong time periods.  \n",
        "\n",
        "Led by the most excellent duo -- Bill and Ted from San Dimas, California --  a team of legendary time travelers is working to restore order. Each time traveler found exactly one historical figure who stranded in the wrong time period and returned that figure to that figure's home time period.  Kang hid figures in distinct time periods.  Your task is to determine\n",
        "1. **Which time traveler rescued which historical figure.**  \n",
        "2. **Where they found that historical figure (i.e., the incorrect time period Kang placed them in).**  \n",
        "\n",
        "##### **The Time Travelers**  \n",
        "- **Captain America** (*Avengers: Endgame*)  \n",
        "- **Doctor Who** (*Doctor Who*)  \n",
        "- **Marty McFly** (*Back to the Future*)  \n",
        "- **Bill & Ted** (*Bill & Ted’s Excellent Adventure*)  \n",
        "- **Rick Sanchez** (*Rick and Morty*)  \n",
        "\n",
        "(For Clarity, Bill and Ted are best friends and always travel together.)\n",
        "\n",
        "##### **The Historical Figures (And Their Home Time Periods)**    \n",
        "- Cleopatra (*Ancient Egypt*)  \n",
        "- Miyamoto Musashi (*Feudal Japan*)  \n",
        "- Leonardo da Vinci (*Renaissance*)  \n",
        "- Calamity Jane (*American Wild West*)  \n",
        "- AI Overlord XG-23 (*The Future*)  \n",
        "\n",
        "##### **The Time Periods Kang Hid Figures In**  \n",
        "(*Each historical figure was discovered in one of these incorrect time periods before being returned home.*)  \n",
        "- Ancient Egypt  \n",
        "- Feudal Japan  \n",
        "- Renaissance  \n",
        "- American Wild West  \n",
        "- The Future  \n",
        "\n",
        "##### **Logical Clues**  \n",
        "To help you, here are 12 clues.\n",
        "\n",
        "1. Doctor Who did **not** find Cleopatra.  \n",
        "2. The hero who rescued Cleopatra did **not** find her in the Wild West.  \n",
        "3. The time traveler who **rescued Miyamoto Musashi** found him stranded in \"The Future\".\n",
        "4. Bill & Ted did **not** find Leonardo da Vinci.  \n",
        "5. Captain America has never visited the Renaissance.  \n",
        "6. Bill & Ted  found a historical figure who originally lived in either the Renaissance or Ancient Egypt.\n",
        "7. Doctor Who deeply distrusts mechanical lifeforms and hence did **not** rescue **AI Overlord XG-23**.  \n",
        "8. Captain America did **not** rescue **Cleopatra**.\n",
        "9. Rick Sanchez found a historical figure stranded in a time period that occurred after that historical figure's home time period.\n",
        "10. If either of Rick Sanchez or Doctor Who rescued Leonardo Da Vinci, then one of Captain America and Marty McFly rescued Calamity Jane.\n",
        "11. Marty McFly went to the Old West to rescue someone.\n",
        "12. Calamity Jane has never been to Egypt."
      ]
    },
    {
      "cell_type": "code",
      "execution_count": null,
      "metadata": {
        "id": "vL9p1X81BXy3"
      },
      "outputs": [],
      "source": [
        "heros = [\n",
        "    \"Captain America\",\n",
        "    \"Doctor Who\",\n",
        "    \"Marty McFly\",\n",
        "    \"Bill & Ted\",\n",
        "    \"Rick Sanchez\"\n",
        "]\n",
        "\n",
        "figures = [\n",
        "    \"Cleopatra\",\n",
        "    \"Miyamoto Musashi\",\n",
        "    \"Leonardo da Vinci\",\n",
        "    \"Calamity Jane\",\n",
        "    \"AI Overlord XG-23\"\n",
        "]\n",
        "\n",
        "periods = [\n",
        "    \"Ancient Egypt\",\n",
        "    \"Feudal Japan\",\n",
        "    \"Renaissance\",\n",
        "    \"Wild West\",\n",
        "    \"The Future\"\n",
        "]"
      ]
    },
    {
      "cell_type": "markdown",
      "metadata": {
        "id": "vf4bKaLFahIC"
      },
      "source": [
        "#### Part a (10 points)\n",
        "What are the decision variables for this problem?  Describe what they mean in words (clearly).  Be sure to indicate their type (continuous, integer, or binary)."
      ]
    },
    {
      "cell_type": "markdown",
      "metadata": {
        "id": "4KRKaGkJahIC"
      },
      "source": [
        "<font color=\"blue\"> Solution:\n",
        "We will have binary decision variables $X_{i, j, k}$ which will be $1$ if time traveler $i$ rescued historical figure $j$ from time period $k$ and $0$ otherwise.  These are defined for every $i$ in travelers, $j$ in historical_figures, $k$ in time periods.  \n",
        "\n",
        "For clarity, this is $5^3 = 125$ variables.\n",
        "</font>"
      ]
    },
    {
      "cell_type": "markdown",
      "metadata": {
        "id": "zMlKeR_fahIC"
      },
      "source": [
        "<font color=\"red\"> **Grading Rubric**\n",
        "- <font color=\"red\">Students do no have to match the variable names Xi,j,k etc exactly for full credit, but your variables must be structured so that it is possible to model all the constraints and objective of the problem. If that is not the case, partial credit was awarded for the parts of the decision variables that are sufficient. Extraneous variables that are still used correctly are also ok\n",
        "- <font color=\"red\">Lose 6 points if a student tracks only time travelers, historical figures, or periods.\n",
        "- Lose 3 points if a student tracks only two of the above.\n",
        "- Lose 4 points if there are no variable names.\n",
        "- Lose 6 points if there is no descriptio of the variables; If the description was sufficiently vague, some loss of partial credit up to 6 points.\n",
        "- Lose 4 points if the student did not indicate the type of variable or indicated it wrong (i.e. continuous)\n",
        "\n",
        "</font>"
      ]
    },
    {
      "cell_type": "markdown",
      "metadata": {
        "id": "Ir2hoMHoahIC"
      },
      "source": [
        "#### Part b (24  points)\n",
        "Introduce linear constraints for each of the 12 logical clues in the puzzle.  Be sure to indicate which constraint corresponds to which clue."
      ]
    },
    {
      "cell_type": "markdown",
      "metadata": {
        "id": "FAw9zAVMahID"
      },
      "source": [
        "<font color=\"blue\"> **Solution**  \n",
        "1. There are at least two answers that are both equivalent:  \n",
        " - $X[\\text{Doctor Who}, \\text{Cleopatra}, k] = 0$ for all $k$ in periods.  \n",
        " - $\\sum_{k \\in \\text{periods}} X[\\text{Doctor Who}, \\text{Cleopatra}, k] = 0$.  \n",
        " Convince yourself you understand why both are correct.  \n",
        "2. Again, there are at least two ways to formulate this.  \n",
        " - $\\sum_{h \\in \\text{heros}} X[h, \\text{Cleopatra}, \\text{Wild West}] = 0$.\n",
        " - Or, $X[h, \\text{Cleopatra}, \\text{Wild West}] = 0$ for all $h$ in heros.\n",
        "3. $\\sum_{j \\in \\text{heros}} X[h, \\text{Miyamoto Musashi}, \\text{The Future}] == 1$.\n",
        "4. Again, at least two ways to do this:\n",
        " - $\\sum_{k \\in \\text{periods}} X[\\text{Bill \\& Ted}, \\text{Leonardo Da Vinci}, k] = 0.$\n",
        " - $X[\\text{Bill \\& Ted}, \\text{Leonardo Da Vinci}, k] = 0$ for all $k \\in$ periods.\n",
        "5. There are actually two ideas hidden in this. First, Captain America didn't find anyone in the Renaissance.  This idea can itself be written in two ways:\n",
        " - $\\sum_{f \\in \\text{figures}} X[\\text{Captain America}, f, \\text{Renaissance}] = 0.$\n",
        " - OR $X[\\text{Captain America}, f, \\text{Renaissance}] = 0$  for all $f \\in$ figures.\n",
        "\n",
        " Second, Captain America didn't rescue Leonardo Da Vinci!  (If he did, he would have to return him to the Renaissance.)  This idea can also be written in two ways:\n",
        "  - $X[\\text{Captain America}, \\text{Leonardo Da Vinci}, k] = 0$ for all $k \\in $ periods.\n",
        "  - OR $\\sum_{k\\in \\text{periods}} X[\\text{Captain America}, \\text{Leonardo Da Vinci}, k] = 0$.\n",
        "6. $\\sum_{k \\in \\text{periods}} X[\\text{Bill \\& Ted}, \\text{Leonardo da Vinci}, k] + \\sum_{k \\in \\text{periods}} X[\\text{Bill \\& Ted}, \\text{Cleopatra}, k]  \\geq 1$.  (You could alternatively set this to be $= 1$, since they have to rescue exactly one person.)\n",
        "7. At least two ways to write it:\n",
        " - $X[\\text{Doctor Who}, \\text{AI Overlord XG-23}, k] = 0$ for all $k \\in $ periods\n",
        "  - OR $\\sum_{k \\in \\text{periods}} X[\\text{Doctor Who}, \\text{AI Overlord XG-23}, k] = 0$.\n",
        "8. Once again, at least two ways to write it.  \n",
        " - $X[\\text{Captain America}, \\text{Cleopatra}, k] = 0$ for all $k \\in $ periods.\n",
        " - OR $\\sum_{k \\in \\text{periods}} X[\\text{Captain America}, \\text{Cleopatra}, k] = 0$.\n",
        "9. One way to encode this is:\n",
        "\n",
        "$$\n",
        "\\begin{aligned}\n",
        "    &X[\\text{Rick Sanchez}, \\text{Cleopatra}, \\text{Feudal Japan}] +\n",
        "    X[\\text{Rick Sanchez}, \\text{Cleopatra}, \\text{Renaissance}] + \\\\\n",
        "    &X[\\text{Rick Sanchez}, \\text{Cleopatra}, \\text{Wild West}] +\n",
        "    X[\\text{Rick Sanchez}, \\text{Cleopatra}, \\text{The Future}] + \\\\\n",
        "    &X[\\text{Rick Sanchez}, \\text{Miyamoto Musashi}, \\text{Renaissance}] +\n",
        "    X[\\text{Rick Sanchez}, \\text{Miyamoto Musashi}, \\text{Wild West}] + \\\\\n",
        "    &X[\\text{Rick Sanchez}, \\text{Miyamoto Musashi}, \\text{The Future}] + \\\\\n",
        "    &X[\\text{Rick Sanchez}, \\text{Leonardo da Vinci}, \\text{Wild West}] +\n",
        "    X[\\text{Rick Sanchez}, \\text{Leonardo da Vinci}, \\text{The Future}] + \\\\\n",
        "    &X[\\text{Rick Sanchez}, \\text{Calamity Jane}, \\text{The Future}] = 1\n",
        "\\end{aligned}\n",
        "$$\n",
        "\n",
        "\n",
        "10.\n",
        "$$\n",
        "\\begin{aligned}\n",
        "\\sum_{p \\in \\text{periods}} &\\left( X[\\text{Rick Sanchez}, \\text{Leonardo da Vinci}, p] + X[\\text{Dr. Who}, \\text{Leonardo da Vinci}, p]\\right)\n",
        "\\\\\n",
        "& \\quad \\ \\leq \\\n",
        "\\sum_{p \\in \\text{periods}} \\left( X[\\text{Captain America}, \\text{Calamity Jane}, p] + X[\\text{Marty McFly}, \\text{Calamity Jane}, p]\\right)\n",
        "\\end{aligned}\n",
        "$$\n",
        "\n",
        "\n",
        "11.\n",
        "$\\sum_{f \\in \\text{figures}} X[\\text{Marty McFly}, f, \\text{Wild West}] == 1.$\n",
        "\n",
        "12.\n",
        "$\\sum_{h \\in \\text{heros}} X[h, \\text{Calamity Jane}, \\text{Ancient Egypt}] == 0$.\n",
        "\n",
        "</font>\n",
        "\n",
        " <font color = \"red\"> Grading Notes:\n",
        " - <font color = \"red\"> Must use the decision variables specified in the previous part of the student solution.\n",
        " - <font color = \"red\">Partial credit should be awarded if some, but not all, of the necessary restrictions are in place\n",
        " - If a constraint(except for constraint 5)is missing: lose 2 points each.\n",
        " - If the whole constraint 5 is missing: lose 2 points; if part of constraint 5 (e.g. Captain America cannot have rescued Leonardo da Vinci)\n",
        "  </font>"
      ]
    },
    {
      "cell_type": "markdown",
      "metadata": {
        "id": "bAyIoHZCBXy3"
      },
      "source": [
        "#### Part c) (15 Points)\n",
        "There are some other logical constraints implied by the puzzle. For example, each hero must rescue exactly one figure, and Kang hid figures in a time period different from their own time period.  \n",
        "\n",
        "Introduce linear constraints to encode these (and any other) logical restrictions implied by the puzzle.  Explain each constraint you introduce and what it is meant to capture.  "
      ]
    },
    {
      "cell_type": "markdown",
      "metadata": {
        "id": "msRPNuMobd4Q"
      },
      "source": []
    },
    {
      "cell_type": "markdown",
      "metadata": {
        "id": "h57I7W-HBXy3"
      },
      "source": [
        "<font color=\"blue\"> Solution:  (needs constraints.)\n",
        "\n",
        "1. Every Time traveler rescues exactly one figure.\n",
        "\n",
        "$$\n",
        "\\sum_{p \\in \\text{periods}} \\sum_{f \\in \\text{figures}} x[h, f, p] == 1 \\quad \\forall h \\in \\text{heros}.\n",
        "$$\n",
        "\n",
        "2. Every figure is rescued by exactly one time traveler.  \n",
        "$$\n",
        "\\sum_{p \\in \\text{periods}} \\sum_{h \\in \\text{heros}} x[h, f, p] == 1 \\quad \\forall f \\in \\text{figures}\n",
        "$$\n",
        "\n",
        "3. Every time period has exactly one figure hidden in it by Kang.  \n",
        "$$\n",
        "\\sum_{f \\in \\text{figure}} \\sum_{h \\in \\text{heros}} x[h, f, p] == 1 \\quad \\forall p in \\text{periods}.\n",
        "$$\n",
        "\n",
        "4. Every figure is hidden in a time period that is not their own.\n",
        "\n",
        "$$\n",
        "\\begin{aligned}\n",
        "\\sum_{h \\in \\text{heros}} X[h, \\text{Cleopatra}, \\text{Ancient Egypt}] = 0.\n",
        "\\\\\n",
        "\\sum_{h \\in \\text{heros}} X[h, \\text{Miyamoto Musashi}, \\text{Feudal Japan}] = 0.\n",
        "\\\\\n",
        "\\sum_{h \\in \\text{heros}} X[h, \\text{Leonardo Da Vinci}, \\text{Renaissance}] = 0.\n",
        "\\\\\n",
        "\\sum_{h \\in \\text{heros}} X[h, \\text{Calamity Jane}, \\text{Wild West}] = 0.\n",
        "\\\\\n",
        "\\sum_{h \\in \\text{heros}} X[h, \\text{AI Overlord XG-23}, \\text{The Future}] = 0.\n",
        "\\end{aligned}\n",
        "$$\n",
        "</font>"
      ]
    },
    {
      "cell_type": "markdown",
      "metadata": {
        "id": "q90_rLu3ahID"
      },
      "source": [
        "#### Part d (6 points)\n",
        "For the objective function of your optimization problem, I claim you can take it to be the function $0$. Explain clearly why that is sufficient."
      ]
    },
    {
      "cell_type": "markdown",
      "metadata": {
        "id": "mwvLKLhQahID"
      },
      "source": [
        "<font color = \"blue\"> Solution:  The puzzle just asks us to find a feasible relationship between the heros, figures and time periods.  There's no notion of a \"best\" one.  Any feasible one is fine, so it doesn't matter what we pick for the objective function.\n",
        "</font>"
      ]
    },
    {
      "cell_type": "markdown",
      "metadata": {
        "id": "LqWrDtsGBXy4"
      },
      "source": [
        "\n",
        "<font color=\"red\"> **Grading Rubric**\n",
        "- <font color = \"red\"> if the student did not explain that any feasible solution is fine: lose 3 points\n",
        "- if the student gives an objective function that doesn't make sense in this case: lose 3 points\n",
        "\n",
        "</font>"
      ]
    },
    {
      "cell_type": "markdown",
      "metadata": {
        "id": "sWycbRu6ahID"
      },
      "source": [
        "#### Part e (20 points)\n",
        "Implement your model in Gurobi and report an optimal solution. Print the solution \"nicely\" as five bullet points of the form:\n",
        " - HERO rescued FIGURE from PERIOD."
      ]
    },
    {
      "cell_type": "code",
      "execution_count": null,
      "metadata": {
        "id": "dhx9rZkbBXy4",
        "outputId": "009a6384-fadc-49fd-d295-0888587110dd"
      },
      "outputs": [
        {
          "name": "stdout",
          "output_type": "stream",
          "text": [
            "Gurobi Optimizer version 11.0.3 build v11.0.3rc0 (mac64[x86] - Darwin 23.6.0 23G93)\n",
            "\n",
            "CPU model: Intel(R) Core(TM) i7-1068NG7 CPU @ 2.30GHz\n",
            "Thread count: 4 physical cores, 8 logical processors, using up to 8 threads\n",
            "\n",
            "Optimize a model with 66 rows, 125 columns and 615 nonzeros\n",
            "Model fingerprint: 0x7cfb152e\n",
            "Variable types: 0 continuous, 125 integer (125 binary)\n",
            "Coefficient statistics:\n",
            "  Matrix range     [1e+00, 1e+00]\n",
            "  Objective range  [0e+00, 0e+00]\n",
            "  Bounds range     [1e+00, 1e+00]\n",
            "  RHS range        [1e+00, 1e+00]\n",
            "Presolve removed 59 rows and 116 columns\n",
            "Presolve time: 0.00s\n",
            "Presolved: 7 rows, 9 columns, 28 nonzeros\n",
            "Variable types: 0 continuous, 9 integer (9 binary)\n",
            "Found heuristic solution: objective 0.0000000\n",
            "\n",
            "Explored 0 nodes (0 simplex iterations) in 0.02 seconds (0.00 work units)\n",
            "Thread count was 8 (of 8 available processors)\n",
            "\n",
            "Solution count 1: 0 \n",
            "\n",
            "Optimal solution found (tolerance 1.00e-04)\n",
            "Best objective 0.000000000000e+00, best bound 0.000000000000e+00, gap 0.0000%\n"
          ]
        }
      ],
      "source": [
        "#create a gurobi model called TimeTravel\n",
        "m = Model(\"TimeTravel\")\n",
        "\n",
        "#create binary variables for every combination of hero, figure, time period\n",
        "x= m.addVars(heros, figures, periods, vtype=GRB.BINARY, name=\"x\")\n",
        "\n",
        "#add the logical rules one by one\n",
        "\n",
        "#doctor who did not find Cleopatra\n",
        "for k in periods:\n",
        "    m.addConstr(x[\"Doctor Who\", \"Cleopatra\", k] == 0, \"DoctorWho_Cleopatra\")\n",
        "\n",
        "#the hero who rescued cleopatra did not find her in the wild west\n",
        "for h in heros:\n",
        "    m.addConstr(x[h, \"Cleopatra\", \"Wild West\"] == 0, \"Cleopatra_WildWest\")\n",
        "\n",
        "#the time traveler who rescued Miyaomoto Musashi fond him in the future\n",
        "m.addConstr(\n",
        "    quicksum(x[h, \"Miyamoto Musashi\", \"The Future\"] for h in heros) == 1,\n",
        "    \"Musashi_Future\")\n",
        "\n",
        "#bill and ted did not find leonado da vinci\n",
        "for k in periods:\n",
        "    m.addConstr(x[\"Bill & Ted\", \"Leonardo da Vinci\", k] == 0, \"BillTed_Leonardo\")\n",
        "\n",
        "#captain america has never visited the renaissance.  That means he did not rescue Leonardo Da vinci\n",
        "for k in periods:\n",
        "    m.addConstr(x[\"Captain America\", \"Leonardo da Vinci\", k] == 0, \"CaptainAmerica_Leonardo\")\n",
        "\n",
        "#similarly, he didn't find anyone in the renaissance\n",
        "for f in figures:\n",
        "    m.addConstr(x[\"Captain America\", f, \"Renaissance\"] == 0, \"CaptainAmerica_Renaissance\")\n",
        "\n",
        "#Bill and Ted found a historical figure who originaly lived in either the renaissance or Ancient Egypt\n",
        "m.addConstr(quicksum(x[\"Bill & Ted\", \"Cleopatra\", k] for k in periods) +\n",
        "                quicksum(x[\"Bill & Ted\", \"Leonardo da Vinci\", k] for k in periods) >= 1,\n",
        "                \"BillTed_HistoricalFigure\")\n",
        "\n",
        "#Doctor who did not rescue AI Overlord XG-23\n",
        "for k in periods:\n",
        "    m.addConstr(x[\"Doctor Who\", \"AI Overlord XG-23\", k] == 0, \"DoctorWho_AIOverlord\")\n",
        "\n",
        "#Captain America did not rescue Cleopatra\n",
        "for k in periods:\n",
        "    m.addConstr(x[\"Captain America\", \"Cleopatra\", k] == 0, \"CaptainAmerica_Cleopatra\")\n",
        "\n",
        "#Rick Sanchez rescued a figure from a time period after the figure's home time\n",
        "m.addConstr(\n",
        "    quicksum(x[\"Rick Sanchez\", \"Cleopatra\", k] for k in periods[1:]) +\n",
        "    quicksum(x[\"Rick Sanchez\", \"Miyamoto Musashi\", k] for k in periods[2:]) +\n",
        "    quicksum(x[\"Rick Sanchez\", \"Leonardo da Vinci\", k] for k in periods[3:]) +\n",
        "    quicksum(x[\"Rick Sanchez\", \"Calamity Jane\", k] for k in periods[4:]) >= 1,\n",
        "    \"RickRescuedSomeoneLater\"\n",
        ")\n",
        "\n",
        "#if either Rick Sanchez or Doctor Who Rescued Leonardo da Vinci, then\n",
        "# either captain America or Marty McFly Rescued Calamity Jane\n",
        "m.addConstr(\n",
        "    quicksum(x[\"Rick Sanchez\", \"Leonardo da Vinci\", k] for k in periods) +\n",
        "    quicksum(x[\"Doctor Who\", \"Leonardo da Vinci\", k] for k in periods) <=\n",
        "    quicksum(x[\"Captain America\", \"Calamity Jane\", k] for k in periods) +\n",
        "    quicksum(x[\"Marty McFly\", \"Calamity Jane\", k] for k in periods),\n",
        "    \"RickDoctor_Leonardo_CaptainAmerica_MartyMcFly_CalamityJane\")\n",
        "\n",
        "\n",
        "#Marty McFly went to the old west\n",
        "m.addConstr(quicksum(x[\"Marty McFly\", f, \"Wild West\"] for f in figures) == 1,\n",
        "            \"MartyMcFly_WildWest\")\n",
        "\n",
        "#Calamity Jane has never been to Egypt\n",
        "m.addConstr(quicksum(x[h, \"Calamity Jane\", \"Ancient Egypt\"] for h in heros) == 0)\n",
        "\n",
        "#Some implicit Constraints\n",
        "#every hero rescued exactly one figure\n",
        "for h in heros:\n",
        "    m.addConstr(quicksum(x[h, f, k] for f in figures for k in periods) == 1, \"Hero_Rescued_Figure\")\n",
        "\n",
        "#every figure was rescued by exactly one hero\n",
        "for f in figures:\n",
        "    m.addConstr(quicksum(x[h, f, k] for h in heros for k in periods) == 1, \"Figure_Rescued_Hero\")\n",
        "\n",
        "#every time period has a figure hidden in it\n",
        "for k in periods:\n",
        "    m.addConstr(quicksum(x[h, f, k] for h in heros for f in figures) == 1, \"Figure_Hidden_TimePeriod\")\n",
        "\n",
        "#every figure was hidden in some time period\n",
        "for f in figures:\n",
        "    m.addConstr(quicksum(x[h, f, k] for h in heros for k in periods) == 1, \"Figure_Hidden\")\n",
        "\n",
        "#every figure was stranded in a time period that was not their own.\n",
        "for f in figures:\n",
        "    #first pull out the corresponding time period\n",
        "    p = periods[figures.index(f)]\n",
        "    m.addConstr(quicksum(x[h, f, p] for h in heros) == 0, \"Figure_Stranded_TimeDifferentPeriod\")\n",
        "\n",
        "#set an objective of zero\n",
        "m.setObjective(0, GRB.MINIMIZE)\n",
        "#optimize the model\n",
        "m.optimize()"
      ]
    },
    {
      "cell_type": "code",
      "execution_count": null,
      "metadata": {
        "id": "pXbkmD_DBXy4",
        "outputId": "062c5ab1-1632-4cb3-fa62-cf45df50dd1c"
      },
      "outputs": [
        {
          "name": "stdout",
          "output_type": "stream",
          "text": [
            "Captain America rescued Calamity Jane in Feudal Japan\n",
            "Doctor Who rescued Miyamoto Musashi in The Future\n",
            "Marty McFly rescued Leonardo da Vinci in Wild West\n",
            "Bill & Ted rescued AI Overlord XG-23 in Ancient Egypt\n",
            "Rick Sanchez rescued Cleopatra in Renaissance\n"
          ]
        }
      ],
      "source": [
        "#printing solution nicely\n",
        "for h in heros:\n",
        "    for f in figures:\n",
        "        for p in periods:\n",
        "            if x[h, f, p].x > 0:\n",
        "                #print the hero, the figure, and the time period\n",
        "                print(f\"{h} rescued {f} in {p}\")\n",
        "\n"
      ]
    },
    {
      "cell_type": "markdown",
      "metadata": {
        "id": "cDqpE9PwahID"
      },
      "source": [
        "<font color = \"red\"> Grading Notes:\n",
        "- <font color = \"red\"> Code needs to implement the model defined by the student in the previous parts, i.e, earlier mistakes do not carry forward. Partial credit may be awarded if some, but not all of the coded model matches the mathematical model described in earlier parts. Full points should be reserved for the implementation matching the formulation exactly, solving, and reporting the solution\n",
        "- <font color = \"red\"> No code presented receives zero points, as does code that does not run.\n",
        "- For minor errors (ie, mistyping a constraint and getting the wrong solution), lose 1 or 2 points (depending on the severity of the typo)\n",
        "\n",
        "</font>"
      ]
    },
    {
      "cell_type": "markdown",
      "metadata": {
        "id": "uG36ARcDBXy5"
      },
      "source": [
        "#### Part f) (10 points).\n",
        "Is your solution the only possible solution?  Justify your response using your optimization model.  If there are many solutions, count the number of solutions to the puzzle.\n",
        "*Hint*:  There are 3 possible solutions. :) Your goal is to write code that finds them all."
      ]
    },
    {
      "cell_type": "markdown",
      "metadata": {
        "id": "J6bG5W1KBXy5"
      },
      "source": [
        "<font color = \"blue\"> **Solution:**  See below for code.  This code will sequentially add a constraint to the model that excludes the previous optimal solution and tehn try to resolve.  It successfully resolves, it means it found an alternate feasible solution that solves the puzzle and takes note of it.  If it returns \"infeasible\", it means that the problem doesn't have any more feasible solutions (since we excluded some already).  \n",
        "</font>"
      ]
    },
    {
      "cell_type": "code",
      "execution_count": null,
      "metadata": {
        "id": "JdC4XsN-BXy5",
        "outputId": "7501dbeb-4959-49d4-a6b0-dbbbeab547fd"
      },
      "outputs": [
        {
          "name": "stdout",
          "output_type": "stream",
          "text": [
            "Gurobi Optimizer version 11.0.3 build v11.0.3rc0 (mac64[x86] - Darwin 23.6.0 23G93)\n",
            "\n",
            "CPU model: Intel(R) Core(TM) i7-1068NG7 CPU @ 2.30GHz\n",
            "Thread count: 4 physical cores, 8 logical processors, using up to 8 threads\n",
            "\n",
            "Optimize a model with 66 rows, 125 columns and 615 nonzeros\n",
            "Model fingerprint: 0x7cfb152e\n",
            "Variable types: 0 continuous, 125 integer (125 binary)\n",
            "Coefficient statistics:\n",
            "  Matrix range     [1e+00, 1e+00]\n",
            "  Objective range  [0e+00, 0e+00]\n",
            "  Bounds range     [1e+00, 1e+00]\n",
            "  RHS range        [1e+00, 1e+00]\n",
            "Presolved: 7 rows, 9 columns, 28 nonzeros\n",
            "\n",
            "Continuing optimization...\n",
            "\n",
            "\n",
            "Explored 0 nodes (0 simplex iterations) in 0.02 seconds (0.00 work units)\n",
            "Thread count was 8 (of 8 available processors)\n",
            "\n",
            "Solution count 1: 0 \n",
            "\n",
            "Optimal solution found (tolerance 1.00e-04)\n",
            "Best objective 0.000000000000e+00, best bound 0.000000000000e+00, gap 0.0000%\n",
            "Gurobi Optimizer version 11.0.3 build v11.0.3rc0 (mac64[x86] - Darwin 23.6.0 23G93)\n",
            "\n",
            "CPU model: Intel(R) Core(TM) i7-1068NG7 CPU @ 2.30GHz\n",
            "Thread count: 4 physical cores, 8 logical processors, using up to 8 threads\n",
            "\n",
            "Optimize a model with 67 rows, 125 columns and 740 nonzeros\n",
            "Model fingerprint: 0xc140519b\n",
            "Variable types: 0 continuous, 125 integer (125 binary)\n",
            "Coefficient statistics:\n",
            "  Matrix range     [1e+00, 1e+00]\n",
            "  Objective range  [0e+00, 0e+00]\n",
            "  Bounds range     [1e+00, 1e+00]\n",
            "  RHS range        [1e+00, 4e+00]\n",
            "\n",
            "MIP start from previous solve did not produce a new incumbent solution\n",
            "MIP start from previous solve violates constraint R66 by 1.000000000\n",
            "\n",
            "Presolve removed 67 rows and 125 columns\n",
            "Presolve time: 0.00s\n",
            "Presolve: All rows and columns removed\n",
            "\n",
            "Explored 0 nodes (0 simplex iterations) in 0.10 seconds (0.00 work units)\n",
            "Thread count was 1 (of 8 available processors)\n",
            "\n",
            "Solution count 1: 0 \n",
            "\n",
            "Optimal solution found (tolerance 1.00e-04)\n",
            "Best objective 0.000000000000e+00, best bound 0.000000000000e+00, gap 0.0000%\n",
            "Gurobi Optimizer version 11.0.3 build v11.0.3rc0 (mac64[x86] - Darwin 23.6.0 23G93)\n",
            "\n",
            "CPU model: Intel(R) Core(TM) i7-1068NG7 CPU @ 2.30GHz\n",
            "Thread count: 4 physical cores, 8 logical processors, using up to 8 threads\n",
            "\n",
            "Optimize a model with 68 rows, 125 columns and 865 nonzeros\n",
            "Model fingerprint: 0x71783d6d\n",
            "Variable types: 0 continuous, 125 integer (125 binary)\n",
            "Coefficient statistics:\n",
            "  Matrix range     [1e+00, 1e+00]\n",
            "  Objective range  [0e+00, 0e+00]\n",
            "  Bounds range     [1e+00, 1e+00]\n",
            "  RHS range        [1e+00, 4e+00]\n",
            "\n",
            "MIP start from previous solve did not produce a new incumbent solution\n",
            "MIP start from previous solve violates constraint R67 by 1.000000000\n",
            "\n",
            "Presolve removed 68 rows and 125 columns\n",
            "Presolve time: 0.00s\n",
            "Presolve: All rows and columns removed\n",
            "\n",
            "Explored 0 nodes (0 simplex iterations) in 0.02 seconds (0.00 work units)\n",
            "Thread count was 1 (of 8 available processors)\n",
            "\n",
            "Solution count 1: 0 \n",
            "\n",
            "Optimal solution found (tolerance 1.00e-04)\n",
            "Best objective 0.000000000000e+00, best bound 0.000000000000e+00, gap 0.0000%\n",
            "Gurobi Optimizer version 11.0.3 build v11.0.3rc0 (mac64[x86] - Darwin 23.6.0 23G93)\n",
            "\n",
            "CPU model: Intel(R) Core(TM) i7-1068NG7 CPU @ 2.30GHz\n",
            "Thread count: 4 physical cores, 8 logical processors, using up to 8 threads\n",
            "\n",
            "Optimize a model with 69 rows, 125 columns and 990 nonzeros\n",
            "Model fingerprint: 0x99432cd5\n",
            "Variable types: 0 continuous, 125 integer (125 binary)\n",
            "Coefficient statistics:\n",
            "  Matrix range     [1e+00, 1e+00]\n",
            "  Objective range  [0e+00, 0e+00]\n",
            "  Bounds range     [1e+00, 1e+00]\n",
            "  RHS range        [1e+00, 4e+00]\n",
            "\n",
            "MIP start from previous solve did not produce a new incumbent solution\n",
            "MIP start from previous solve violates constraint R68 by 1.000000000\n",
            "\n",
            "Presolve removed 69 rows and 125 columns\n",
            "Presolve time: 0.00s\n",
            "Presolve: All rows and columns removed\n",
            "\n",
            "Explored 0 nodes (0 simplex iterations) in 0.02 seconds (0.00 work units)\n",
            "Thread count was 1 (of 8 available processors)\n",
            "\n",
            "Solution count 1: 0 \n",
            "\n",
            "Optimal solution found (tolerance 1.00e-04)\n",
            "Best objective 0.000000000000e+00, best bound 0.000000000000e+00, gap 0.0000%\n",
            "Gurobi Optimizer version 11.0.3 build v11.0.3rc0 (mac64[x86] - Darwin 23.6.0 23G93)\n",
            "\n",
            "CPU model: Intel(R) Core(TM) i7-1068NG7 CPU @ 2.30GHz\n",
            "Thread count: 4 physical cores, 8 logical processors, using up to 8 threads\n",
            "\n",
            "Optimize a model with 70 rows, 125 columns and 1115 nonzeros\n",
            "Model fingerprint: 0x47f946d6\n",
            "Variable types: 0 continuous, 125 integer (125 binary)\n",
            "Coefficient statistics:\n",
            "  Matrix range     [1e+00, 1e+00]\n",
            "  Objective range  [0e+00, 0e+00]\n",
            "  Bounds range     [1e+00, 1e+00]\n",
            "  RHS range        [1e+00, 4e+00]\n",
            "\n",
            "MIP start from previous solve did not produce a new incumbent solution\n",
            "MIP start from previous solve violates constraint R69 by 1.000000000\n",
            "\n",
            "Presolve removed 70 rows and 125 columns\n",
            "Presolve time: 0.00s\n",
            "Presolve: All rows and columns removed\n",
            "\n",
            "Explored 0 nodes (0 simplex iterations) in 0.02 seconds (0.00 work units)\n",
            "Thread count was 1 (of 8 available processors)\n",
            "\n",
            "Solution count 1: 0 \n",
            "\n",
            "Optimal solution found (tolerance 1.00e-04)\n",
            "Best objective 0.000000000000e+00, best bound 0.000000000000e+00, gap 0.0000%\n",
            "Gurobi Optimizer version 11.0.3 build v11.0.3rc0 (mac64[x86] - Darwin 23.6.0 23G93)\n",
            "\n",
            "CPU model: Intel(R) Core(TM) i7-1068NG7 CPU @ 2.30GHz\n",
            "Thread count: 4 physical cores, 8 logical processors, using up to 8 threads\n",
            "\n",
            "Optimize a model with 71 rows, 125 columns and 1240 nonzeros\n",
            "Model fingerprint: 0x60d7736e\n",
            "Variable types: 0 continuous, 125 integer (125 binary)\n",
            "Coefficient statistics:\n",
            "  Matrix range     [1e+00, 1e+00]\n",
            "  Objective range  [0e+00, 0e+00]\n",
            "  Bounds range     [1e+00, 1e+00]\n",
            "  RHS range        [1e+00, 4e+00]\n",
            "\n",
            "MIP start from previous solve did not produce a new incumbent solution\n",
            "MIP start from previous solve violates constraint R70 by 1.000000000\n",
            "\n",
            "Presolve removed 71 rows and 125 columns\n",
            "Presolve time: 0.00s\n",
            "Presolve: All rows and columns removed\n",
            "\n",
            "Explored 0 nodes (0 simplex iterations) in 0.02 seconds (0.00 work units)\n",
            "Thread count was 1 (of 8 available processors)\n",
            "\n",
            "Solution count 1: 0 \n",
            "\n",
            "Optimal solution found (tolerance 1.00e-04)\n",
            "Best objective 0.000000000000e+00, best bound 0.000000000000e+00, gap 0.0000%\n",
            "Gurobi Optimizer version 11.0.3 build v11.0.3rc0 (mac64[x86] - Darwin 23.6.0 23G93)\n",
            "\n",
            "CPU model: Intel(R) Core(TM) i7-1068NG7 CPU @ 2.30GHz\n",
            "Thread count: 4 physical cores, 8 logical processors, using up to 8 threads\n",
            "\n",
            "Optimize a model with 72 rows, 125 columns and 1365 nonzeros\n",
            "Model fingerprint: 0x51e6676e\n",
            "Variable types: 0 continuous, 125 integer (125 binary)\n",
            "Coefficient statistics:\n",
            "  Matrix range     [1e+00, 1e+00]\n",
            "  Objective range  [0e+00, 0e+00]\n",
            "  Bounds range     [1e+00, 1e+00]\n",
            "  RHS range        [1e+00, 4e+00]\n",
            "\n",
            "MIP start from previous solve did not produce a new incumbent solution\n",
            "MIP start from previous solve violates constraint R71 by 1.000000000\n",
            "\n",
            "Presolve removed 56 rows and 117 columns\n",
            "Presolve time: 0.00s\n",
            "\n",
            "Explored 0 nodes (0 simplex iterations) in 0.02 seconds (0.00 work units)\n",
            "Thread count was 1 (of 8 available processors)\n",
            "\n",
            "Solution count 0\n",
            "\n",
            "Model is infeasible\n",
            "Best objective -, best bound -, gap -\n",
            "Number of distinct solutions: 6\n"
          ]
        }
      ],
      "source": [
        "num_solutions = 0\n",
        "for i in range(500):\n",
        "    m.optimize()\n",
        "\n",
        "    #if the model is optimal\n",
        "    if m.status == GRB.OPTIMAL:\n",
        "        num_solutions += 1\n",
        "        #extract the optimal values\n",
        "        optimal_values = m.getAttr('x', x)\n",
        "\n",
        "        #add a constraint that at least one value must be different\n",
        "        m.addConstr(\n",
        "            quicksum(x[h, f, p] for h in heros for f in figures for p in periods\n",
        "                  if optimal_values[h, f, p] == 0) +\n",
        "            quicksum((1-x[h, f, p]) for h in heros for f in figures for p in periods\n",
        "                  if optimal_values[h, f, p] > 0)\n",
        "                  >= 1\n",
        "        )\n",
        "    else:\n",
        "        break\n",
        "\n",
        "print(\"Number of distinct solutions:\", num_solutions)"
      ]
    },
    {
      "cell_type": "markdown",
      "metadata": {
        "id": "oIEyezeHBXy5"
      },
      "source": [
        "<font color = \"red\"> **Grading Rubric**\n",
        "- Manually adjusting constraints instead of using a for loop is acceptable and earns full credit as long as the code produces the correct number of solutions.\n",
        "- Lose 3 points if a student adds a constraint to exclude a previous solution instead of modifying the quicksum constraint correctly.\n",
        "- Lose 7 points if a student manually counts the number of solutions instead of coding it.\n",
        "- No points should be deducted if the incorrect number of solutions is due to an error carried over from previous parts.\n",
        " - Lose 9 points if students imply reads the \"solution count\" from the gurobi output and incorrectly returns this.  Please see the code for the Dream Team where we did a computation just like this!\n",
        "</font>"
      ]
    },
    {
      "cell_type": "markdown",
      "metadata": {
        "id": "IbGvz2LrBXy5"
      },
      "source": [
        "---\n",
        "## Question 3 (40 points): This is Heavy Stuff.\n",
        "\n",
        "A local hardware store sells bags of cement, which are delivered by a supplier. Each month, the store must decide how many bags to order to meet customer demand while minimizing costs.\n",
        "\n",
        "- When  the store places an order, the supplier charges a **fixed shipping fee of $K**, regardless of how many bags ordered.  Ordred bags are delivered instantaneously at the beginning of the month (no lead time).\n",
        "- Each bag costs **$c** to purchase from the supplier.\n",
        "- Any bags not sold can be stored in a nearby warehouse, incurring a **holding cost of $h** per bag per month for the rented storage space.\n",
        "- We are given a forecast $d_t$ of monthly demand for cement bags in month $t$ as input data for $t$ in the next $24$ months.\n",
        "- Any cement left at the end of 24 months that is unsold is worth $v$ dollars per bag.  Assume that the store currently has $I_1 = 7$ bags.\n",
        "\n",
        "In this problem, you will write a mixed-integer, linear optimization problem to determine the optimal ordering strategy for the hardware store.\n"
      ]
    },
    {
      "cell_type": "markdown",
      "metadata": {
        "id": "fdHzY1UhBXy5"
      },
      "source": [
        "#### Part a (10 points)\n",
        "Define your decision variables.  Make clear their type (continuous, integer, binary) and describe what they represent in words."
      ]
    },
    {
      "cell_type": "markdown",
      "metadata": {
        "id": "VaYZifVvBXy6"
      },
      "source": [
        "<font color=\"blue\"> Solution:\n",
        "\n",
        "We have three sets of decision variables\n",
        " - $x_t$ which will be $1$ if we place an order in month $t$ (binary) for all $t =1, \\ldots, 24$.\n",
        " - $q_t$ which will be the quantity we order in month $t$ (integer) for all $t = 1, \\ldots, 24$\n",
        " - $I_t$ which will represent the inventory of of cement bags at beginning of the  month $t$.  (continuous) for all $t = 1, \\ldots, 25$.\n",
        "\n",
        "Notice we introuced one extra inventory variable to represent the inventory at the \"beginning of month 25\" which is like the end of month $t$.  \n",
        "\n",
        "It is also ok to take $q_t$ to be continuous, and/or $I_t$ to be integer.  (You should think about why that's a good enough approximation in this problem.)\n",
        " </font>"
      ]
    },
    {
      "cell_type": "markdown",
      "metadata": {
        "id": "0mBqBBZfBXy6"
      },
      "source": [
        "<font color = \"red\"> **Grading Rubric** \n",
        "You did not need to match the variable names exactly, and equivalent formulations that are still correct due earn full credit. \n",
        " - 3 points for the $x_t$ variables.  Lose 1 points if not indicated they are binary in desccription, but are binary in code below.  Lose 2 points if they are not binary in eithe rplace. \n",
        "  - 3 points for the q_t variables.  It is ok to make these integer or continuous.  (full credit either way.)\n",
        "   - 4 points for the $I_t$ variables.  Students should be clear about whether this represents inventory at the beginning of the month or end of month and it should match code below.  In the code we've written, $I_t$ represents inventory at beginning of month (before orders for month $t$ are placed and before demand for month $t$ occurs.)  Some students will not have introduced a 25th month. That is ok here, but will lose points below in formulation if they do not account for ending inventory correctly. \n",
        "</font>"
      ]
    },
    {
      "cell_type": "markdown",
      "metadata": {
        "id": "XkvA6yATBXy_"
      },
      "source": [
        "#### Part b (15 points)\n",
        "Write the constraints for your problem.  Describe the meaning of each constraint in words."
      ]
    },
    {
      "cell_type": "markdown",
      "metadata": {
        "id": "0tEk4beVBXy_"
      },
      "source": [
        "<font color = \"blue\"> ** Solution**\n",
        "\n",
        "We first relate the inventory to the order quantities.  We've seen constraints like these before in many problems.\n",
        " - $I_{t+1} = I_t + q_t - d_t$ for all $t = 1, \\ldots, 24$.  \n",
        "\n",
        "In words, the inventory at the beginning of next month, will be the inventory this month, plu whatever we order this month, minus whatever demand we have to serve this month.\n",
        "\n",
        "We also naturally have non-negativeity and binary constraints:\n",
        "- $q_t \\geq 0$ for all $t = 1, \\ldots, 24$.\n",
        "- $I_t \\geq 0$ for all $t =1, \\ldots, 25$.\n",
        "- $x_t \\in \\{0 ,1\\}$ for all $t =1, \\ldots, 24$.\n",
        "\n",
        "We know the initial inventory:\n",
        " - $I_1 = 7$.\n",
        "\n",
        "Finally, the important part is relating $x_t$ and $q_t$ if we order, then $x_t$ must be $1$.  To do this, we need to think a little bit. Since having extra cement is costly (it's worthless at the end of 24 months and I have to pay holding costs), I'm never going to order more than I need.  Thus, the maxiumum I'd ever order for $q_t$ is the sum of the forecasts.  Let $M$ (for maximum order quantity) be the sum of the demand of the forecasted demands (this is data!).  Then, I introduce the constraints:\n",
        " - $q_t \\leq M x_t$ for all $t =1, \\ldots, 24$.  \n",
        "\n",
        "Then, if $x_t = 0$, $q_t$ must be zero.  And, if $x_t = 1$, the order $q_t$ can be as large as it wants to be.  Not it is critical that $M$ be chosen sufficiently large, but not so large that it affects the solution time.  \n",
        "\n",
        "Since $M$ must be bigger than any possible order $q_t$, and the most we'd ever order is the whole forecasted demand (and then store it all for the 24 months) a good choice of $M$ might be the $\\sum_{t =1}^{24} d_t$.\n",
        "\n",
        "</font>"
      ]
    },
    {
      "cell_type": "markdown",
      "metadata": {
        "id": "rR8lA88QBXzA"
      },
      "source": [
        "<font color = \"red\"> **Grading Rubric** One has to be very careful about the indexing for this problem. The solution above indexes in month t which ranges from 1 to 24. If student introduce a new indexing variable that ranges from 0 to 24, or from 0 to 25, their constraints must be consistent.  \n",
        "\n",
        "### 5 points for the Inventory Update equations\n",
        "This is tricky.  The way the solution models is that $I_t$ represents the beginning of month t's inventory.  Hence, \n",
        "$I_{t+1} = I_t + q_t - d_t$ for $t=1, \\ldots, 24$.  \n",
        "In words, the inventory at beginning month $t+1$ will be the inventory at month $t$, plus whatever you orderd in month $t$, minus whatever demand occured in month $t$.  This, in my mind, is the most \"natural\" model.  Notice that the range of $t$ is from $1$ to $24$, so this equation does not give the value of $I_1$ and it ***does*** give the value of I_{25}$.  The value of $I_1$ is given by the explicit constraint $I_1 = 7$. ($I_{25}$ represents the inventoy we will have at the end of month $24$ for salvage.)\n",
        "\n",
        " - Incorrect range for the indexing variable $t$ (or equivalent) loses 2 points.  Notice, this will depend on the particular way you wrote the constraint.  \n",
        "\n",
        "Some students tried to model this with $I_t$ as th einventory at the end of the month (i.e. after orders came in and demand realized) or the ``middle\" (after orders came in, but before demand realized).  These choices will involve different update equations and a different treatment of $I_1$.  For example, if you want $I_t$ to represent the inventory at the end of month $t$, then we might write:\n",
        "$$\n",
        "I_{t+1} = I_t + q_{t+1} - d_{t+1}\n",
        "$$\n",
        "for $t = 0, \\ldots, 23$ and add the constraint that $I_0 = 7$.  Here $I_{24}$ will represent our ending inventory. Notice the equation, the range of $t$ and how we use the $7$ are all different.  \n",
        "- An incorrect inventory update equation (i.e., one that cannot be seen as \"beginning\" or \"end\" of month) earns zero points. \n",
        " - A small error on indexing range relative to how you wrote the equation loses 2 points.  \n",
        "\n",
        "\n",
        "### Modeling initial inventory.  3 points.\n",
        "- Failure to model the initial inventory as described above (in either \"begining\" or \"ending\" notation) loses 1 points.  Not mentioning inintial inventory at all loses 3 points. \n",
        "\n",
        "### Various non-negativity and binary constraints 2 points\n",
        "Formulation must include these constraints even if used correctly in code.  \n",
        "\n",
        "\n",
        "### Big M constraint (5 points)\n",
        "There are varioud correct formulations of the big M constraint  Any correct formulation is sufficient.  \n",
        "Loses 2 point if does not indicate a reasonable, valid size for $M$. \n",
        "Loses 1 point if mentions that $M$ must be big, or gives a very big value (like $1$ million) without explicitly rationalizing a good reasonable choice\n",
        "\n",
        "</font>"
      ]
    },
    {
      "cell_type": "markdown",
      "metadata": {
        "id": "Tkz_-EWFBXzA"
      },
      "source": [
        "####  Part c) (5 points)\n",
        "Write the objective function of your problem.  "
      ]
    },
    {
      "cell_type": "markdown",
      "metadata": {
        "id": "8Q4fDougBXzA"
      },
      "source": [
        "<font color = \"blue\"> **Solution**\n",
        "$$\n",
        "\\min \\quad K\\sum_{t=1}^{24} x_t + c\\sum_{t=1}^{24}q_t  + h\\sum_{t=1}^{24} I_t - vI_{25}\n",
        "$$\n",
        "The first three terms correspond to fixed costs, per unit ordering costs, and holding costs respectively.  The last term is the value of the leftover bags.  "
      ]
    },
    {
      "cell_type": "markdown",
      "metadata": {
        "id": "oqXC4726BXzA"
      },
      "source": [
        "<font color = \"red\"> **Grading Rubric** \n",
        "\n",
        " - No penalty for small errors in range of the inventory holding costs, but please check your work to see if it makes sense!\n",
        " - Loses 1 point if fails to include teh salvage costs.\n",
        " - Loses 3 points if fails to include the fixed costs for ordering.\n",
        "</font>"
      ]
    },
    {
      "cell_type": "markdown",
      "metadata": {
        "id": "BYp9ctgkBXzA"
      },
      "source": [
        "#### Part d) (10 points)\n",
        "Code and solve your optimization problem in Gurobi.  You should print out\n",
        " - the solution table (months are rows) where you indicate how much is ordered in each month.  \n",
        " - The number of times you ordered\n",
        " - The optimal objective value.\n",
        "\n",
        "I provided some input data to get you started."
      ]
    },
    {
      "cell_type": "code",
      "execution_count": null,
      "metadata": {
        "id": "te8lMx9sBXzA"
      },
      "outputs": [],
      "source": [
        "#Some input tadata.\n",
        "forecasts = [ 4, 16, 14, 10, 32, 40, 11,  4, 11,  4, 13, 31, 38,  2, 34, 16, 37,\n",
        "       11, 37, 43, 40,  7, 25, 10]\n",
        "\n",
        "periods = range(1, len(forecasts) + 1)\n",
        "\n",
        "K = 100\n",
        "c = 5\n",
        "h = 1\n",
        "I1 = 7\n",
        "v  = 1"
      ]
    },
    {
      "cell_type": "markdown",
      "metadata": {
        "id": "qxSy-7p-BXzA"
      },
      "source": [
        "<font color =\"blue\"> **Solution**\n",
        "</font>"
      ]
    },
    {
      "cell_type": "code",
      "execution_count": null,
      "metadata": {
        "id": "YXyZTI2BBXzC",
        "outputId": "21cb3781-4a3b-4e56-eb2c-6c75ff0802bb"
      },
      "outputs": [
        {
          "name": "stdout",
          "output_type": "stream",
          "text": [
            "Gurobi Optimizer version 11.0.3 build v11.0.3rc0 (mac64[x86] - Darwin 23.6.0 23G93)\n",
            "\n",
            "CPU model: Intel(R) Core(TM) i7-1068NG7 CPU @ 2.30GHz\n",
            "Thread count: 4 physical cores, 8 logical processors, using up to 8 threads\n",
            "\n",
            "Optimize a model with 49 rows, 73 columns and 121 nonzeros\n",
            "Model fingerprint: 0xebc29720\n",
            "Variable types: 49 continuous, 24 integer (24 binary)\n",
            "Coefficient statistics:\n",
            "  Matrix range     [1e+00, 5e+02]\n",
            "  Objective range  [1e+00, 1e+02]\n",
            "  Bounds range     [1e+00, 1e+00]\n",
            "  RHS range        [2e+00, 4e+01]\n",
            "Found heuristic solution: objective 4725.0000000\n",
            "Presolve removed 3 rows and 4 columns\n",
            "Presolve time: 0.00s\n",
            "Presolved: 46 rows, 69 columns, 114 nonzeros\n",
            "Variable types: 45 continuous, 24 integer (24 binary)\n",
            "\n",
            "Root relaxation: objective 2.568571e+03, 59 iterations, 0.00 seconds (0.00 work units)\n",
            "\n",
            "    Nodes    |    Current Node    |     Objective Bounds      |     Work\n",
            " Expl Unexpl |  Obj  Depth IntInf | Incumbent    BestBd   Gap | It/Node Time\n",
            "\n",
            "     0     0 2568.57143    0   21 4725.00000 2568.57143  45.6%     -    0s\n",
            "H    0     0                    4570.0000000 2568.57143  43.8%     -    0s\n",
            "H    0     0                    4525.0000000 2568.57143  43.2%     -    0s\n",
            "H    0     0                    4342.0000000 2568.57143  40.8%     -    0s\n",
            "H    0     0                    4305.0000000 2568.57143  40.3%     -    0s\n",
            "H    0     0                    4203.0000000 3111.12842  26.0%     -    0s\n",
            "H    0     0                    3864.0000000 3111.12842  19.5%     -    0s\n",
            "     0     0 3111.12842    0   19 3864.00000 3111.12842  19.5%     -    0s\n",
            "H    0     0                    3828.0000000 3152.87465  17.6%     -    0s\n",
            "H    0     0                    3776.0000000 3152.87465  16.5%     -    0s\n",
            "H    0     0                    3706.0000000 3152.87465  14.9%     -    0s\n",
            "     0     0 3482.01180    0   13 3706.00000 3482.01180  6.04%     -    0s\n",
            "H    0     0                    3570.0000000 3506.49755  1.78%     -    0s\n",
            "     0     0 3509.20938    0   14 3570.00000 3509.20938  1.70%     -    0s\n",
            "     0     0 3509.44408    0   12 3570.00000 3509.44408  1.70%     -    0s\n",
            "     0     0 3554.58772    0    3 3570.00000 3554.58772  0.43%     -    0s\n",
            "H    0     0                    3563.0000000 3556.49133  0.18%     -    0s\n",
            "H    0     0                    3558.0000000 3556.49133  0.04%     -    0s\n",
            "     0     0 3556.49133    0    3 3558.00000 3556.49133  0.04%     -    0s\n",
            "\n",
            "Cutting planes:\n",
            "  Gomory: 1\n",
            "  Implied bound: 17\n",
            "  Clique: 1\n",
            "  Flow cover: 16\n",
            "  Flow path: 9\n",
            "  Relax-and-lift: 1\n",
            "\n",
            "Explored 1 nodes (134 simplex iterations) in 0.22 seconds (0.00 work units)\n",
            "Thread count was 8 (of 8 available processors)\n",
            "\n",
            "Solution count 10: 3558 3563 3570 ... 4342\n",
            "\n",
            "Optimal solution found (tolerance 1.00e-04)\n",
            "Best objective 3.558000000000e+03, best bound 3.558000000000e+03, gap 0.0000%\n"
          ]
        }
      ],
      "source": [
        "M = sum(forecasts)\n",
        "demand_dict = dict(zip(periods, forecasts))\n",
        "\n",
        "#create a gurobi model called \"cement\n",
        "m = Model(\"cement\")\n",
        "\n",
        "x = m.addVars(periods, vtype=GRB.BINARY, name=\"x\")\n",
        "q = m.addVars(periods, vtype=GRB.CONTINUOUS, name=\"q\")\n",
        "I = m.addVars(range(1, len(forecasts) + 2), vtype=GRB.CONTINUOUS, name=\"I\")\n",
        "\n",
        "for t in periods:\n",
        "    m.addConstr(I[t+1] == I[t] + q[t] - demand_dict[t], \"Inventory\")\n",
        "\n",
        "m.addConstr(I[1] == I1, \"InitialInventory\")\n",
        "\n",
        "for t in periods:\n",
        "    m.addConstr(q[t] <= M * x[t], \"EncodingOrderTimes\")\n",
        "\n",
        "m.setObjective(\n",
        "    quicksum(K * x[t] + c * q[t] + h * I[t] for t in periods) - v * I[len(periods) + 1],\n",
        "    GRB.MINIMIZE\n",
        ")\n",
        "\n",
        "m.optimize()"
      ]
    },
    {
      "cell_type": "code",
      "execution_count": null,
      "metadata": {
        "id": "skh6fHCzBXzC",
        "outputId": "3ae20ffb-591a-460f-99d4-d2b85369ca55"
      },
      "outputs": [
        {
          "name": "stdout",
          "output_type": "stream",
          "text": [
            "1: \t 0.0\n",
            "2: \t 37.0\n",
            "3: \t 0.0\n",
            "4: \t 0.0\n",
            "5: \t 87.0\n",
            "6: \t 0.0\n",
            "7: \t 0.0\n",
            "8: \t 0.0\n",
            "9: \t 28.0\n",
            "10: \t 0.0\n",
            "11: \t 0.0\n",
            "12: \t 71.0\n",
            "13: \t 0.0\n",
            "14: \t 0.0\n",
            "15: \t 98.0\n",
            "16: \t 0.0\n",
            "17: \t 0.0\n",
            "18: \t 0.0\n",
            "19: \t 80.0\n",
            "20: \t 0.0\n",
            "21: \t 82.0\n",
            "22: \t 0.0\n",
            "23: \t 0.0\n",
            "24: \t 0.0\n",
            "Number of orders: 7.0\n",
            "Total cost: 3558.0\n"
          ]
        }
      ],
      "source": [
        "for t in periods:\n",
        "    #print all numbers with 1 decimal place\n",
        "    #print(f\"{t}: \\t Order {q[t].x:.1f} \\t Inventory {I[t].x:.1f} \\t Demand {demand_dict[t]:.1f} \\t x {x[t].x:.1f}\")\n",
        "    print(f\"{t}: \\t {q[t].x:.1f}\")\n",
        "\n",
        "\n",
        "num_orders  = sum(x[t].x for t in periods)\n",
        "print(\"Number of orders:\", num_orders)\n",
        "\n",
        "#print total objective value\n",
        "print(\"Total cost:\", m.ObjVal)"
      ]
    },
    {
      "cell_type": "markdown",
      "metadata": {
        "id": "Yad0s16uBXzC"
      },
      "source": [
        "<font color = \"red\"> **Grading Rubric** \n",
        "\n",
        "As always, code that doesn't run earns zero points.\n",
        "\n",
        "Full credit was reserved for solutions which ocrrectly implemented the mathematical formulation that the student had provided.  Mismatches between the code and teh formulation were penalized heavily.  A correct implementation of a formulation that had some errors still receives full-credit.  \n",
        "\n",
        "The most common error was indexing.   Note, I introduced a demand_dict so that I can index $d_t$ as demand_dict[$t$] for $t =1, \\ldots, 24$.  For students that worked direclty with the forecasts, note that $d_t = forecasts[t-1]$ for $t =1, \\ldots, 24$.  Because forecasts are a list and hence indexed from zero. This was a common error.  A similar common error iterating over $t in range(24)$ which typically gives $t = 0, \\ldots, 23$ but accessing the wrong elements of the $q_t$, $x_t$ and $I_t$ dictionaries of variables.  (Note, depending on hwo you defined hte variable,s you might need to access q[$t+1$] in order to get element $q_t$.  these sorts of annoyances are exactly why I coded the solution as I did above.)\n",
        "\n",
        "Indexing errors like this coudl lose up to 5 points.\n",
        "\n",
        "Remaining 10 points were allocated around including all appropriate famileis of constraints with the correct indexing ranges on teh for loops. \n",
        "\n",
        "</font>"
      ]
    },
    {
      "cell_type": "markdown",
      "metadata": {
        "id": "CwZAJXXlBXzC"
      },
      "source": []
    }
  ],
  "metadata": {
    "colab": {
      "provenance": []
    },
    "kernelspec": {
      "display_name": "base",
      "language": "python",
      "name": "python3"
    },
    "language_info": {
      "codemirror_mode": {
        "name": "ipython",
        "version": 3
      },
      "file_extension": ".py",
      "mimetype": "text/x-python",
      "name": "python",
      "nbconvert_exporter": "python",
      "pygments_lexer": "ipython3",
      "version": "3.11.5"
    }
  },
  "nbformat": 4,
  "nbformat_minor": 0
}
