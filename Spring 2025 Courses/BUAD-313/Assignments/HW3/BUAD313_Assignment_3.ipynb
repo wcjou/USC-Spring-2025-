{
  "cells": [
    {
      "cell_type": "markdown",
      "metadata": {
        "id": "43Q1Kr27slP2"
      },
      "source": [
        "# BUAD 313 - Spring 2025 - Assignment 3 (160 points)\n",
        "\n",
        "Notes:\n",
        " - You may work in teams of up to 3.  Submit one assignment for the three of you, but please ensure it has all 3 of your names and @usc.edu emails.\n",
        " - You must submit your work as a .ipynb file (jupyter notebook). The grader has to be able to run your notebook. Code that doesn't run gets zero points.  A Great way to check that your code runs is to Select \"Clear All Outputs\", \"Restart\" and then \"Run All\" and make sure it still shows all your answer properly!\n",
        " - Use the existing sections below to submit your answers below.  You can add additional Python/markdown cells to describe and explain your solution, but keep it tidy.  Consider formatting some of your markdown cells for the grader.  [Markdown Guide](https://www.markdownguide.org/basic-syntax/)\n",
        " - For some of the modeling quesitons, you may prefer to write your solution with paper and pencil and then include a photo in the markdown.  That's OK! Just please remember to include the file for your photo in your submission so that it renders proeprly.\n",
        "\n",
        "The deadline for this assignment is **11:59 PM Pacific Time on Friday March 14, 2025**. Late submissions will not be accepted."
      ]
    },
    {
      "cell_type": "markdown",
      "metadata": {
        "id": "gl2SRTZtslP6"
      },
      "source": [
        "Below are the standard Python packages that we use for optimization models in this course. By running this next Python cell, you will have these packages available to use in all your answers contained in this file."
      ]
    },
    {
      "cell_type": "code",
      "execution_count": null,
      "metadata": {
        "colab": {
          "base_uri": "https://localhost:8080/",
          "height": 357
        },
        "id": "I7B24wZdslP7",
        "outputId": "94916b0d-6536-4431-b44a-6ac3d9fb128f"
      },
      "outputs": [],
      "source": [
        "import numpy as np\n",
        "from gurobipy import Model, GRB, quicksum\n",
        "import pandas as pd"
      ]
    },
    {
      "cell_type": "markdown",
      "metadata": {
        "id": "Rg9OV7uAslP8"
      },
      "source": [
        "## Team Names and Emails:\n",
        " <font color=\"blue\">**(Edit this cell)**</font>\n",
        " - Team Member 1\n",
        " - Team Member 2\n",
        " - Team Member 3"
      ]
    },
    {
      "cell_type": "markdown",
      "metadata": {
        "id": "pBtXL4yxslP8"
      },
      "source": [
        "## Question 1 (35 Points): An Instagram Puzzle\n",
        "\n",
        "The following puzzle appeared on my Instagram feed one day. \n",
        "<img src=\"lock_puzzle.jpg\" alt=\"A lock Puzzle\" width=\"200\" style=\"float: right; margin-left: 10px;\">\n",
        "\n",
        "Your task is to write an optimization formulation that correctly determines the code to the lock.  \n"
      ]
    },
    {
      "cell_type": "markdown",
      "metadata": {},
      "source": [
        "\n",
        "\n",
        "#### Part a (10 Points)\n",
        "Define the decision variables for your problem.  Describe what they are meant to represent (be specific) and include their type (continuous, integer, binary)."
      ]
    },
    {
      "cell_type": "markdown",
      "metadata": {},
      "source": [
        "#### Part b (15 Points)\n",
        "Introduce constraints that corresponding ot each of the clues in the puzzle. Briefly describe the meaning of each constraint. Be sure to indicate which constraint or constraints corresponds to each clue."
      ]
    },
    {
      "cell_type": "markdown",
      "metadata": {},
      "source": [
        "#### Part c (10 Points)\n",
        "Code up your model in Gurobi and solve it.  Print the 3 digit code that opens the lock as a number like \"XXX\""
      ]
    },
    {
      "cell_type": "markdown",
      "metadata": {
        "id": "aD0EdpnSahIC"
      },
      "source": [
        "---\n",
        "## Question 2 (85 Points): Chronochaos: An Anachronism Puzzle\n",
        "\n",
        "*Note: Although the below question references characters in popular fiction, you do not need to have seen any of the corresponding movies or tv shows to solve the question.  All information you need is below.*\n",
        "\n",
        "Kang the Conqueror, the master of time manipulation, has disrupted history by scattering five famous historical figures across the wrong time periods.  \n",
        "\n",
        "Led by the most excellent duo -- Bill and Ted from San Dimas, California --  a team of legendary time travelers is working to restore order. Each time traveler found exactly one historical figure who was stranded in the wrong time period and returned that figure to that figure's home time period.  Kang hid figures in distinct time periods.  Your task is to determine\n",
        "1. **Which time traveler rescued which historical figure.**  \n",
        "2. **Where they found that historical figure (i.e., the incorrect time period Kang placed them in).**  \n",
        "\n",
        "##### **The Time Travelers**  \n",
        "- **Captain America** (*Avengers: Endgame*)  \n",
        "- **Doctor Who** (*Doctor Who*)  \n",
        "- **Marty McFly** (*Back to the Future*)  \n",
        "- **Bill & Ted** (*Bill & Ted’s Excellent Adventure*)  \n",
        "- **Rick Sanchez** (*Rick and Morty*)  \n",
        "\n",
        "(For Clarity, Bill and Ted are best friends and always travel together.)\n",
        "\n",
        "##### **The Historical Figures (And Their Home Time Periods)**    \n",
        "- Cleopatra (*Ancient Egypt*)  \n",
        "- Miyamoto Musashi (*Feudal Japan*)  \n",
        "- Leonardo da Vinci (*Renaissance*)  \n",
        "- Calamity Jane (*American Wild West*)  \n",
        "- AI Overlord XG-23 (*The Future*)  \n",
        "\n",
        "##### **The Time Periods Kang Hid Figures In**  \n",
        "(*Each historical figure was discovered in one of these incorrect time periods before being returned home.*)  \n",
        "- Ancient Egypt  \n",
        "- Feudal Japan  \n",
        "- Renaissance  \n",
        "- American Wild West  \n",
        "- The Future  \n",
        "\n",
        "##### **Logical Clues**  \n",
        "To help you, here are 12 clues.\n",
        "\n",
        "1. Doctor Who did **not** find Cleopatra.  \n",
        "2. The hero who rescued Cleopatra did **not** find her in the Wild West.  \n",
        "3. The time traveler who **rescued Miyamoto Musashi** found him stranded in \"The Future\".\n",
        "4. Bill & Ted did **not** find Leonardo da Vinci.  \n",
        "5. Captain America has never visited the Renaissance.  \n",
        "6. Bill & Ted  found a historical figure who originally lived in either the Renaissance or Ancient Egypt.\n",
        "7. Doctor Who deeply distrusts mechanical lifeforms and hence did **not** rescue **AI Overlord XG-23**.  \n",
        "8. Captain America did **not** rescue **Cleopatra**.\n",
        "9. Rick Sanchez found a historical figure stranded in a time period that occurred after that historical figure's home time period.\n",
        "10. If either of Rick Sanchez or Doctor Who rescued Leonardo Da Vinci, then one of Captain America and Marty McFly rescued Calamity Jane. \n",
        "11. Marty McFly went to the Old West to rescue someone.\n",
        "12. Calamity Jane has never been to Egypt. "
      ]
    },
    {
      "cell_type": "code",
      "execution_count": null,
      "metadata": {},
      "outputs": [],
      "source": [
        "heros = [\n",
        "    \"Captain America\",\n",
        "    \"Doctor Who\",\n",
        "    \"Marty McFly\",\n",
        "    \"Bill & Ted\",\n",
        "    \"Rick Sanchez\"\n",
        "]\n",
        "\n",
        "figures = [\n",
        "    \"Cleopatra\",\n",
        "    \"Miyamoto Musashi\",\n",
        "    \"Leonardo da Vinci\",\n",
        "    \"Calamity Jane\",\n",
        "    \"AI Overlord XG-23\"\n",
        "]\n",
        "\n",
        "periods = [\n",
        "    \"Ancient Egypt\",\n",
        "    \"Feudal Japan\",\n",
        "    \"Renaissance\",\n",
        "    \"Wild West\",\n",
        "    \"The Future\"\n",
        "]"
      ]
    },
    {
      "cell_type": "markdown",
      "metadata": {
        "id": "vf4bKaLFahIC"
      },
      "source": [
        "#### Part a (10 points)\n",
        "What are the decision variables for this problem?  Describe what they mean in words (clearly).  Be sure to indicate their type (continuous, integer, or binary)."
      ]
    },
    {
      "cell_type": "markdown",
      "metadata": {
        "id": "Ir2hoMHoahIC"
      },
      "source": [
        "#### Part b (24  points)\n",
        "Introduce linear constraints for each of the 12 logical clues in the puzzle.  Be sure to indicate which constraint corresponds to which clue."
      ]
    },
    {
      "cell_type": "markdown",
      "metadata": {},
      "source": [
        "#### Part c) (15 Points) \n",
        "There are some other logical constraints implied by the puzzle. For example, each hero must rescue exactly one figure, and Kang hid figures in a time period different from their own time period.  \n",
        "\n",
        "Introduce linear constraints to encode these (and any other) logical restrictions implied by the puzzle.  Explain each constraint you introduce and what it is meant to capture.  "
      ]
    },
    {
      "cell_type": "markdown",
      "metadata": {
        "id": "q90_rLu3ahID"
      },
      "source": [
        "#### Part d (6 points)\n",
        "For the objective function of your optimization problem, I claim you can take it to be the function $0$. Explain clearly why that is sufficient."
      ]
    },
    {
      "cell_type": "markdown",
      "metadata": {
        "id": "sWycbRu6ahID"
      },
      "source": [
        "#### Part e (20 points)\n",
        "Implement your model in Gurobi and report an optimal solution. Print the solution \"nicely\" as five bullet points of the form:\n",
        " - HERO rescued FIGURE from PERIOD. "
      ]
    },
    {
      "cell_type": "markdown",
      "metadata": {},
      "source": [
        "#### Part f) (10 points). \n",
        "Is your solution the only possible solution?  Justify your response using your optimization model.  If there are many solutions, count the number of solutions to the puzzle and print them each out nicely.\n",
        "\n",
        "*Hint*: I believe there are 3 possible solutions, although I'm not infallible. Your goal is to write code that finds them all."
      ]
    },
    {
      "cell_type": "markdown",
      "metadata": {},
      "source": [
        "---\n",
        "## Question 3 (40 points): This is Heavy Stuff.\n",
        "\n",
        "A local hardware store sells bags of cement, which are delivered by a supplier. Each month, the store must decide how many bags to order to meet customer demand while minimizing costs.\n",
        "\n",
        "- When  the store places an order, the supplier charges a **fixed shipping fee of $K**, regardless of how many bags ordered.  Ordred bags are delivered instantaneously at the beginning of the month (no lead time).\n",
        "- Each bag costs **$c** to purchase from the supplier.\n",
        "- Any bags not sold can be stored in a nearby warehouse, incurring a **holding cost of $h** per bag per month for the rented storage space.\n",
        "- We are given a forecast $d_t$ of monthly demand for cement bags in month $t$ as input data for $t$ in the next $24$ months. \n",
        "- Any cement left at the end of 24 months that is unsold is worth $v$ dollars per bag.  Assume that the store currently has $I_1 = 7$ bags. \n",
        "\n",
        "In this problem, you will write a mixed-integer, linear optimization problem to determine the optimal ordering strategy for the hardware store.\n"
      ]
    },
    {
      "cell_type": "markdown",
      "metadata": {},
      "source": [
        "#### Part a (10 points)\n",
        "Define your decision variables.  Make clear their type (continuous, integer, binary) and describe what they represent in words."
      ]
    },
    {
      "cell_type": "markdown",
      "metadata": {},
      "source": [
        "#### Part b (15 points)\n",
        "Write the constraints for your problem.  Describe the meaning of each constraint in words."
      ]
    },
    {
      "cell_type": "markdown",
      "metadata": {},
      "source": [
        "####  Part c) (5 points)\n",
        "Write the objective function of your problem.  "
      ]
    },
    {
      "cell_type": "markdown",
      "metadata": {},
      "source": [
        "#### Part d) (10 points)\n",
        "Code and solve your optimization problem in Gurobi.  You should print out\n",
        " - the solution table (months are rows) where you indicate how much is ordered in each month.  \n",
        " - The number of times you ordered\n",
        " - The optimal objective value.\n",
        "\n",
        "I provided some input data to get you started."
      ]
    },
    {
      "cell_type": "code",
      "execution_count": null,
      "metadata": {},
      "outputs": [],
      "source": [
        "#Some input tadata.\n",
        "forecasts = [ 4, 16, 14, 10, 32, 40, 11,  4, 11,  4, 13, 31, 38,  2, 34, 16, 37,\n",
        "       11, 37, 43, 40,  7, 25, 10]\n",
        "\n",
        "periods = range(1, len(forecasts) + 1)\n",
        "\n",
        "K = 100\n",
        "c = 5\n",
        "h = 1\n",
        "I1 = 7\n",
        "v  = 1"
      ]
    },
    {
      "cell_type": "markdown",
      "metadata": {},
      "source": []
    }
  ],
  "metadata": {
    "colab": {
      "provenance": []
    },
    "kernelspec": {
      "display_name": "base",
      "language": "python",
      "name": "python3"
    },
    "language_info": {
      "codemirror_mode": {
        "name": "ipython",
        "version": 3
      },
      "file_extension": ".py",
      "mimetype": "text/x-python",
      "name": "python",
      "nbconvert_exporter": "python",
      "pygments_lexer": "ipython3",
      "version": "3.11.5"
    }
  },
  "nbformat": 4,
  "nbformat_minor": 0
}
