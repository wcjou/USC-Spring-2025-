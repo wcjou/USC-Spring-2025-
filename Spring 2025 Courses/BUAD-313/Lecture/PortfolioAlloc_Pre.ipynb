{
 "cells": [
  {
   "cell_type": "markdown",
   "metadata": {},
   "source": [
    "### A Simple Portfolio Allocation Problem\n",
    "\n",
    "This example develops a very simple portfolio allocation problem. Real world portfolio allocation is complex!  A good exercise is reviewing this model (after we build it) and testing your modeling skills:  What aspects of the problem are not being modeled?  Are we modeling all the important aspects?  How much do you trust the solutions?"
   ]
  },
  {
   "cell_type": "code",
   "execution_count": 1,
   "metadata": {},
   "outputs": [],
   "source": [
    "import numpy as np\n",
    "import pandas as pd\n",
    "import matplotlib.pyplot as plt\n",
    "from gurobipy import Model, GRB, quicksum"
   ]
  },
  {
   "cell_type": "markdown",
   "metadata": {},
   "source": [
    "### Loading Data"
   ]
  },
  {
   "cell_type": "markdown",
   "metadata": {},
   "source": [
    "I did the work of reading in the data for you so that you guys can focus on modeling.  Please read the code below and try to understand what it's doing. Ask questions!"
   ]
  },
  {
   "cell_type": "code",
   "execution_count": 2,
   "metadata": {},
   "outputs": [
    {
     "name": "stdout",
     "output_type": "stream",
     "text": [
      "['AAPL' 'ARKK' 'BABA' 'BITO' 'EEM' 'EWJ' 'FSLR' 'GLD' 'GRN' 'HASI' 'ICLN'\n",
      " 'LIT' 'MSFT' 'NVDA' 'PLD' 'SWBI' 'TSLA' 'TSM' 'USO' 'VNO' 'VOO' 'XOM']\n",
      "['20211201' '20220101' '20220201' '20220301' '20220401' '20220501'\n",
      " '20220601' '20220701' '20220801' '20220901' '20221001' '20221101'\n",
      " '20221201' '20230101' '20230201' '20230301' '20230401' '20230501'\n",
      " '20230601' '20230701' '20230801' '20230901' '20231001' '20231101'\n",
      " '20231201' '20240101']\n"
     ]
    }
   ],
   "source": [
    "#read monthly_ret_simple.csv using numpy, but ignore the first row and ignore first column\n",
    "monthly_returns = np.genfromtxt('monthly_ret_simple.csv', delimiter=',', skip_header=True)[:,1:]  \n",
    "\n",
    "#read in just the first row of monthly_ret_simple.csv, ignore first column and label as tickers\n",
    "tickers = np.genfromtxt('monthly_ret_simple.csv', delimiter=',', max_rows=1, dtype=str) [1:]\n",
    "\n",
    "#read in just the first column of monthly_ret_simple.csv, ignoring the first row and label as dates\n",
    "dates = np.genfromtxt('monthly_ret_simple.csv', delimiter=',', skip_header=True, usecols=0, dtype=str)\n",
    "\n",
    "print(tickers)\n",
    "print(dates)\n",
    "\n",
    "#convert monthly_returns into a dictionary where\n",
    "# the keys are pairs of (date, ticker) and values are the return\n",
    "monthly_returns_dict = { (dates[i], tickers[j]) : monthly_returns[i,j] for i in range(len(dates)) for j in range(len(tickers)) }\n"
   ]
  },
  {
   "cell_type": "markdown",
   "metadata": {},
   "source": [
    "\n",
    "\"tickers\", \"dates\" and \"monthly_returns_dict\" are goign to be our data in this problem. You'll only need to access those three from now on."
   ]
  },
  {
   "cell_type": "markdown",
   "metadata": {},
   "source": [
    "### Test your understanding.  \n",
    "\n",
    "Answer the following questions about the data.\n",
    "\n",
    "1. How many months of data do we have? \n",
    "2. How many assets are there?\n",
    "3. Compute a dictionary (keys are tickers) with values equal to the average_return of the coresponding asset in the dataset."
   ]
  },
  {
   "cell_type": "code",
   "execution_count": 3,
   "metadata": {},
   "outputs": [
    {
     "name": "stdout",
     "output_type": "stream",
     "text": [
      "{'AAPL': 0.007962174562988165, 'ARKK': -0.02173595572070678, 'BABA': -0.010382806866335357, 'BITO': 0.000590642684546822, 'EEM': -0.005079491470947254, 'EWJ': 0.00298429310119473, 'FSLR': 0.024968737500251328, 'GLD': 0.005752078658272582, 'GRN': -0.0021916739910450974, 'HASI': -0.01682302006508153, 'ICLN': -0.015419963112962409, 'LIT': -0.025713755364530057, 'MSFT': 0.010151493918484774, 'NVDA': 0.039998657444333036, 'PLD': 0.00030779600932548764, 'SWBI': -0.01001146798594438, 'TSLA': -0.009013664900598626, 'TSM': 0.007147300679139748, 'USO': 0.01802947653185009, 'VNO': -0.0005043382832834743, 'VOO': 0.005154818629344502, 'XOM': 0.028356495553137975}\n"
     ]
    },
    {
     "data": {
      "text/plain": [
       "0.039998657444333036"
      ]
     },
     "execution_count": 3,
     "metadata": {},
     "output_type": "execute_result"
    }
   ],
   "source": [
    "# create a dictionary with keys as tickers and values as the average monthyl return for that ticker\n",
    "avg_monthly_returns = { ticker : np.mean(monthly_returns[:,i]) for i, ticker in enumerate(tickers) }\n",
    "\n",
    "print(avg_monthly_returns)\n",
    "\n",
    "max_return = max(avg_monthly_returns.values())\n",
    "max_return"
   ]
  },
  {
   "cell_type": "markdown",
   "metadata": {},
   "source": []
  },
  {
   "cell_type": "markdown",
   "metadata": {},
   "source": [
    "## On to the Actual Modeling!"
   ]
  },
  {
   "cell_type": "code",
   "execution_count": 4,
   "metadata": {},
   "outputs": [
    {
     "name": "stdout",
     "output_type": "stream",
     "text": [
      "Set parameter Username\n",
      "Set parameter LicenseID to value 2609347\n",
      "Academic license - for non-commercial use only - expires 2026-01-13\n",
      "Gurobi Optimizer version 12.0.0 build v12.0.0rc1 (mac64[x86] - Darwin 23.5.0 23F79)\n",
      "\n",
      "CPU model: Intel(R) Core(TM) i5-1038NG7 CPU @ 2.00GHz\n",
      "Thread count: 4 physical cores, 8 logical processors, using up to 8 threads\n",
      "\n",
      "Optimize a model with 54 rows, 48 columns and 1240 nonzeros\n",
      "Model fingerprint: 0x29ff3f7d\n",
      "Coefficient statistics:\n",
      "  Matrix range     [9e-05, 1e+00]\n",
      "  Objective range  [1e+00, 1e+00]\n",
      "  Bounds range     [0e+00, 0e+00]\n",
      "  RHS range        [1e-02, 1e+00]\n",
      "Presolve removed 26 rows and 0 columns\n",
      "Presolve time: 0.03s\n",
      "Presolved: 28 rows, 48 columns, 642 nonzeros\n",
      "\n",
      "Iteration    Objective       Primal Inf.    Dual Inf.      Time\n",
      "       0    0.0000000e+00   2.559825e+00   0.000000e+00      0s\n",
      "\n",
      "Solved in 19 iterations and 0.05 seconds (0.00 work units)\n",
      "Infeasible model\n"
     ]
    },
    {
     "ename": "ValueError",
     "evalue": "x and y must have same first dimension, but have shapes (1,) and (0,)",
     "output_type": "error",
     "traceback": [
      "\u001b[0;31m---------------------------------------------------------------------------\u001b[0m",
      "\u001b[0;31mValueError\u001b[0m                                Traceback (most recent call last)",
      "Cell \u001b[0;32mIn[4], line 29\u001b[0m\n\u001b[1;32m     25\u001b[0m m\u001b[38;5;241m.\u001b[39msetObjective(quicksum(d[t] \u001b[38;5;28;01mfor\u001b[39;00m t \u001b[38;5;129;01min\u001b[39;00m dates), GRB\u001b[38;5;241m.\u001b[39mMINIMIZE)\n\u001b[1;32m     27\u001b[0m m\u001b[38;5;241m.\u001b[39moptimize()\n\u001b[0;32m---> 29\u001b[0m plt\u001b[38;5;241m.\u001b[39mplot(max_return, optimal_risks, \u001b[38;5;124m'\u001b[39m\u001b[38;5;124mro\u001b[39m\u001b[38;5;124m'\u001b[39m)\n\u001b[1;32m     30\u001b[0m plt\u001b[38;5;241m.\u001b[39mshow()\n",
      "File \u001b[0;32m/Applications/anaconda3/lib/python3.12/site-packages/matplotlib/pyplot.py:3794\u001b[0m, in \u001b[0;36mplot\u001b[0;34m(scalex, scaley, data, *args, **kwargs)\u001b[0m\n\u001b[1;32m   3786\u001b[0m \u001b[38;5;129m@_copy_docstring_and_deprecators\u001b[39m(Axes\u001b[38;5;241m.\u001b[39mplot)\n\u001b[1;32m   3787\u001b[0m \u001b[38;5;28;01mdef\u001b[39;00m \u001b[38;5;21mplot\u001b[39m(\n\u001b[1;32m   3788\u001b[0m     \u001b[38;5;241m*\u001b[39margs: \u001b[38;5;28mfloat\u001b[39m \u001b[38;5;241m|\u001b[39m ArrayLike \u001b[38;5;241m|\u001b[39m \u001b[38;5;28mstr\u001b[39m,\n\u001b[0;32m   (...)\u001b[0m\n\u001b[1;32m   3792\u001b[0m     \u001b[38;5;241m*\u001b[39m\u001b[38;5;241m*\u001b[39mkwargs,\n\u001b[1;32m   3793\u001b[0m ) \u001b[38;5;241m-\u001b[39m\u001b[38;5;241m>\u001b[39m \u001b[38;5;28mlist\u001b[39m[Line2D]:\n\u001b[0;32m-> 3794\u001b[0m     \u001b[38;5;28;01mreturn\u001b[39;00m gca()\u001b[38;5;241m.\u001b[39mplot(\n\u001b[1;32m   3795\u001b[0m         \u001b[38;5;241m*\u001b[39margs,\n\u001b[1;32m   3796\u001b[0m         scalex\u001b[38;5;241m=\u001b[39mscalex,\n\u001b[1;32m   3797\u001b[0m         scaley\u001b[38;5;241m=\u001b[39mscaley,\n\u001b[1;32m   3798\u001b[0m         \u001b[38;5;241m*\u001b[39m\u001b[38;5;241m*\u001b[39m({\u001b[38;5;124m\"\u001b[39m\u001b[38;5;124mdata\u001b[39m\u001b[38;5;124m\"\u001b[39m: data} \u001b[38;5;28;01mif\u001b[39;00m data \u001b[38;5;129;01mis\u001b[39;00m \u001b[38;5;129;01mnot\u001b[39;00m \u001b[38;5;28;01mNone\u001b[39;00m \u001b[38;5;28;01melse\u001b[39;00m {}),\n\u001b[1;32m   3799\u001b[0m         \u001b[38;5;241m*\u001b[39m\u001b[38;5;241m*\u001b[39mkwargs,\n\u001b[1;32m   3800\u001b[0m     )\n",
      "File \u001b[0;32m/Applications/anaconda3/lib/python3.12/site-packages/matplotlib/axes/_axes.py:1779\u001b[0m, in \u001b[0;36mAxes.plot\u001b[0;34m(self, scalex, scaley, data, *args, **kwargs)\u001b[0m\n\u001b[1;32m   1536\u001b[0m \u001b[38;5;250m\u001b[39m\u001b[38;5;124;03m\"\"\"\u001b[39;00m\n\u001b[1;32m   1537\u001b[0m \u001b[38;5;124;03mPlot y versus x as lines and/or markers.\u001b[39;00m\n\u001b[1;32m   1538\u001b[0m \n\u001b[0;32m   (...)\u001b[0m\n\u001b[1;32m   1776\u001b[0m \u001b[38;5;124;03m(``'green'``) or hex strings (``'#008000'``).\u001b[39;00m\n\u001b[1;32m   1777\u001b[0m \u001b[38;5;124;03m\"\"\"\u001b[39;00m\n\u001b[1;32m   1778\u001b[0m kwargs \u001b[38;5;241m=\u001b[39m cbook\u001b[38;5;241m.\u001b[39mnormalize_kwargs(kwargs, mlines\u001b[38;5;241m.\u001b[39mLine2D)\n\u001b[0;32m-> 1779\u001b[0m lines \u001b[38;5;241m=\u001b[39m [\u001b[38;5;241m*\u001b[39m\u001b[38;5;28mself\u001b[39m\u001b[38;5;241m.\u001b[39m_get_lines(\u001b[38;5;28mself\u001b[39m, \u001b[38;5;241m*\u001b[39margs, data\u001b[38;5;241m=\u001b[39mdata, \u001b[38;5;241m*\u001b[39m\u001b[38;5;241m*\u001b[39mkwargs)]\n\u001b[1;32m   1780\u001b[0m \u001b[38;5;28;01mfor\u001b[39;00m line \u001b[38;5;129;01min\u001b[39;00m lines:\n\u001b[1;32m   1781\u001b[0m     \u001b[38;5;28mself\u001b[39m\u001b[38;5;241m.\u001b[39madd_line(line)\n",
      "File \u001b[0;32m/Applications/anaconda3/lib/python3.12/site-packages/matplotlib/axes/_base.py:296\u001b[0m, in \u001b[0;36m_process_plot_var_args.__call__\u001b[0;34m(self, axes, data, *args, **kwargs)\u001b[0m\n\u001b[1;32m    294\u001b[0m     this \u001b[38;5;241m+\u001b[39m\u001b[38;5;241m=\u001b[39m args[\u001b[38;5;241m0\u001b[39m],\n\u001b[1;32m    295\u001b[0m     args \u001b[38;5;241m=\u001b[39m args[\u001b[38;5;241m1\u001b[39m:]\n\u001b[0;32m--> 296\u001b[0m \u001b[38;5;28;01myield from\u001b[39;00m \u001b[38;5;28mself\u001b[39m\u001b[38;5;241m.\u001b[39m_plot_args(\n\u001b[1;32m    297\u001b[0m     axes, this, kwargs, ambiguous_fmt_datakey\u001b[38;5;241m=\u001b[39mambiguous_fmt_datakey)\n",
      "File \u001b[0;32m/Applications/anaconda3/lib/python3.12/site-packages/matplotlib/axes/_base.py:486\u001b[0m, in \u001b[0;36m_process_plot_var_args._plot_args\u001b[0;34m(self, axes, tup, kwargs, return_kwargs, ambiguous_fmt_datakey)\u001b[0m\n\u001b[1;32m    483\u001b[0m     axes\u001b[38;5;241m.\u001b[39myaxis\u001b[38;5;241m.\u001b[39mupdate_units(y)\n\u001b[1;32m    485\u001b[0m \u001b[38;5;28;01mif\u001b[39;00m x\u001b[38;5;241m.\u001b[39mshape[\u001b[38;5;241m0\u001b[39m] \u001b[38;5;241m!=\u001b[39m y\u001b[38;5;241m.\u001b[39mshape[\u001b[38;5;241m0\u001b[39m]:\n\u001b[0;32m--> 486\u001b[0m     \u001b[38;5;28;01mraise\u001b[39;00m \u001b[38;5;167;01mValueError\u001b[39;00m(\u001b[38;5;124mf\u001b[39m\u001b[38;5;124m\"\u001b[39m\u001b[38;5;124mx and y must have same first dimension, but \u001b[39m\u001b[38;5;124m\"\u001b[39m\n\u001b[1;32m    487\u001b[0m                      \u001b[38;5;124mf\u001b[39m\u001b[38;5;124m\"\u001b[39m\u001b[38;5;124mhave shapes \u001b[39m\u001b[38;5;132;01m{\u001b[39;00mx\u001b[38;5;241m.\u001b[39mshape\u001b[38;5;132;01m}\u001b[39;00m\u001b[38;5;124m and \u001b[39m\u001b[38;5;132;01m{\u001b[39;00my\u001b[38;5;241m.\u001b[39mshape\u001b[38;5;132;01m}\u001b[39;00m\u001b[38;5;124m\"\u001b[39m)\n\u001b[1;32m    488\u001b[0m \u001b[38;5;28;01mif\u001b[39;00m x\u001b[38;5;241m.\u001b[39mndim \u001b[38;5;241m>\u001b[39m \u001b[38;5;241m2\u001b[39m \u001b[38;5;129;01mor\u001b[39;00m y\u001b[38;5;241m.\u001b[39mndim \u001b[38;5;241m>\u001b[39m \u001b[38;5;241m2\u001b[39m:\n\u001b[1;32m    489\u001b[0m     \u001b[38;5;28;01mraise\u001b[39;00m \u001b[38;5;167;01mValueError\u001b[39;00m(\u001b[38;5;124mf\u001b[39m\u001b[38;5;124m\"\u001b[39m\u001b[38;5;124mx and y can be no greater than 2D, but have \u001b[39m\u001b[38;5;124m\"\u001b[39m\n\u001b[1;32m    490\u001b[0m                      \u001b[38;5;124mf\u001b[39m\u001b[38;5;124m\"\u001b[39m\u001b[38;5;124mshapes \u001b[39m\u001b[38;5;132;01m{\u001b[39;00mx\u001b[38;5;241m.\u001b[39mshape\u001b[38;5;132;01m}\u001b[39;00m\u001b[38;5;124m and \u001b[39m\u001b[38;5;132;01m{\u001b[39;00my\u001b[38;5;241m.\u001b[39mshape\u001b[38;5;132;01m}\u001b[39;00m\u001b[38;5;124m\"\u001b[39m)\n",
      "\u001b[0;31mValueError\u001b[0m: x and y must have same first dimension, but have shapes (1,) and (0,)"
     ]
    },
    {
     "data": {
      "image/png": "[encoded data removed]",
      "text/plain": [
       "<Figure size 640x480 with 1 Axes>"
      ]
     },
     "metadata": {},
     "output_type": "display_data"
    }
   ],
   "source": [
    "target_return_grid = np.linspace(0, max_return, 30)\n",
    "optimal_risks = []\n",
    "\n",
    "m = Model(\"portfolio\")\n",
    "\n",
    "target_return = 0.01\n",
    "\n",
    "# Decision Variables\n",
    "x = m.addVars(tickers, lb=0, name=\"t\")\n",
    "d = m.addVars(dates, lb = 0, name=\"d\")\n",
    "\n",
    "# Constraints\n",
    "\n",
    "# add a constraint so that the sum of the portfolio is equal to 100%\n",
    "m.addConstr((quicksum(x[i] for i in tickers) == 1), name=\"portfolio_sum\")\n",
    "\n",
    "# add a constrain so that the sum of the average monthly returns is greater than or equal to the target return\n",
    "m.addConstr(quicksum(x[i] * avg_monthly_returns[i] for i in tickers) >= target_return, name=\"target_return\")\n",
    "\n",
    "# add a constraint for the absolute mean deviation of returns\n",
    "for t in dates:\n",
    "    m.addConstr(quicksum(x[i] * monthly_returns_dict[(t, i)] for i in tickers) - d[t] <= 0, name=f\"abs_mean_dev_{t}\")\n",
    "    m.addConstr(-quicksum(x[i] * monthly_returns_dict[(t, i)] for i in tickers) + d[t] <= 0, name=f\"abs_mean_dev_{t}\")\n",
    "\n",
    "m.setObjective(quicksum(d[t] for t in dates), GRB.MINIMIZE)\n",
    "\n",
    "m.optimize()\n"
   ]
  },
  {
   "cell_type": "markdown",
   "metadata": {},
   "source": [
    "### What happens if you ask for a target return of 10%?\n",
    "\n",
    "Does this make sense?  what's the largest target return you can ask for?  You can either reason about this, or modify our optimization problem to compute it!  What's the minimal return you could ask for?"
   ]
  },
  {
   "cell_type": "markdown",
   "metadata": {},
   "source": [
    "### Pareto Curve\n"
   ]
  },
  {
   "cell_type": "code",
   "execution_count": null,
   "metadata": {},
   "outputs": [],
   "source": []
  },
  {
   "cell_type": "markdown",
   "metadata": {},
   "source": [
    "There should be a tradeoff between risk and reward.  The larger the target_reward I require, the more risk I must have to accept.  In the next part of the problem, we're looking ot make a plot with the x-axis as the target_reward, and the y-axis as the risk."
   ]
  },
  {
   "cell_type": "code",
   "execution_count": null,
   "metadata": {},
   "outputs": [],
   "source": []
  },
  {
   "cell_type": "code",
   "execution_count": null,
   "metadata": {},
   "outputs": [],
   "source": []
  },
  {
   "cell_type": "markdown",
   "metadata": {},
   "source": [
    "### How does this connect to Sensitivity analysis?\n",
    "Pick a value on the plot, say target_reward = 0.025.  Compute the sensitivity analysis table at that point.  Can you use this table to determine the slope of your plot at target_reward = 0.25?  Where do you expect the next kink is?"
   ]
  },
  {
   "cell_type": "markdown",
   "metadata": {},
   "source": []
  }
 ],
 "metadata": {
  "kernelspec": {
   "display_name": "base",
   "language": "python",
   "name": "python3"
  },
  "language_info": {
   "codemirror_mode": {
    "name": "ipython",
    "version": 3
   },
   "file_extension": ".py",
   "mimetype": "text/x-python",
   "name": "python",
   "nbconvert_exporter": "python",
   "pygments_lexer": "ipython3",
   "version": "3.12.7"
  }
 },
 "nbformat": 4,
 "nbformat_minor": 2
}
