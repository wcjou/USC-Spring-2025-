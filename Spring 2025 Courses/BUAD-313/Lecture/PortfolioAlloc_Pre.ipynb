{
 "cells": [
  {
   "cell_type": "markdown",
   "metadata": {},
   "source": [
    "### A Simple Portfolio Allocation Problem\n",
    "\n",
    "This example develops a very simple portfolio allocation problem. Real world portfolio allocation is complex!  A good exercise is reviewing this model (after we build it) and testing your modeling skills:  What aspects of the problem are not being modeled?  Are we modeling all the important aspects?  How much do you trust the solutions?"
   ]
  },
  {
   "cell_type": "code",
   "execution_count": 1,
   "metadata": {},
   "outputs": [],
   "source": [
    "import numpy as np\n",
    "import pandas as pd\n",
    "import matplotlib.pyplot as plt\n",
    "from gurobipy import Model, GRB, quicksum"
   ]
  },
  {
   "cell_type": "markdown",
   "metadata": {},
   "source": [
    "### Loading Data"
   ]
  },
  {
   "cell_type": "markdown",
   "metadata": {},
   "source": [
    "I did the work of reading in the data for you so that you guys can focus on modeling.  Please read the code below and try to understand what it's doing. Ask questions!"
   ]
  },
  {
   "cell_type": "code",
   "execution_count": 2,
   "metadata": {},
   "outputs": [
    {
     "name": "stdout",
     "output_type": "stream",
     "text": [
      "['AAPL' 'ARKK' 'BABA' 'BITO' 'EEM' 'EWJ' 'FSLR' 'GLD' 'GRN' 'HASI' 'ICLN'\n",
      " 'LIT' 'MSFT' 'NVDA' 'PLD' 'SWBI' 'TSLA' 'TSM' 'USO' 'VNO' 'VOO' 'XOM']\n",
      "['20211201' '20220101' '20220201' '20220301' '20220401' '20220501'\n",
      " '20220601' '20220701' '20220801' '20220901' '20221001' '20221101'\n",
      " '20221201' '20230101' '20230201' '20230301' '20230401' '20230501'\n",
      " '20230601' '20230701' '20230801' '20230901' '20231001' '20231101'\n",
      " '20231201' '20240101']\n"
     ]
    }
   ],
   "source": [
    "#read monthly_ret_simple.csv using numpy, but ignore the first row and ignore first column\n",
    "monthly_returns = np.genfromtxt('monthly_ret_simple.csv', delimiter=',', skip_header=True)[:,1:]  \n",
    "\n",
    "#read in just the first row of monthly_ret_simple.csv, ignore first column and label as tickers\n",
    "tickers = np.genfromtxt('monthly_ret_simple.csv', delimiter=',', max_rows=1, dtype=str) [1:]\n",
    "\n",
    "#read in just the first column of monthly_ret_simple.csv, ignoring the first row and label as dates\n",
    "dates = np.genfromtxt('monthly_ret_simple.csv', delimiter=',', skip_header=True, usecols=0, dtype=str)\n",
    "\n",
    "print(tickers)\n",
    "print(dates)\n",
    "\n",
    "#convert monthly_returns into a dictionary where\n",
    "# the keys are pairs of (date, ticker) and values are the return\n",
    "monthly_returns_dict = { (dates[i], tickers[j]) : monthly_returns[i,j] for i in range(len(dates)) for j in range(len(tickers)) }\n"
   ]
  },
  {
   "cell_type": "markdown",
   "metadata": {},
   "source": [
    "\n",
    "\"tickers\", \"dates\" and \"monthly_returns_dict\" are goign to be our data in this problem. You'll only need to access those three from now on."
   ]
  },
  {
   "cell_type": "markdown",
   "metadata": {},
   "source": [
    "### Test your understanding.  \n",
    "\n",
    "Answer the following questions about the data.\n",
    "\n",
    "1. How many months of data do we have? \n",
    "2. How many assets are there?\n",
    "3. Compute a dictionary (keys are tickers) with values equal to the average_return of the coresponding asset in the dataset."
   ]
  },
  {
   "cell_type": "code",
   "execution_count": null,
   "metadata": {},
   "outputs": [
    {
     "name": "stdout",
     "output_type": "stream",
     "text": [
      "Min average return:  -0.025713755364530057\n",
      "Max average return:  0.039998657444333036\n",
      "Median average return:  0.00044921934693615477\n"
     ]
    }
   ],
   "source": []
  },
  {
   "cell_type": "markdown",
   "metadata": {},
   "source": []
  },
  {
   "cell_type": "markdown",
   "metadata": {},
   "source": [
    "## On to the Actual Modeling!"
   ]
  },
  {
   "cell_type": "code",
   "execution_count": null,
   "metadata": {},
   "outputs": [],
   "source": []
  },
  {
   "cell_type": "markdown",
   "metadata": {},
   "source": [
    "### What happens if you ask for a target return of 10%?\n",
    "\n",
    "Does this make sense?  what's the largest target return you can ask for?  You can either reason about this, or modify our optimization problem to compute it!  What's the minimal return you could ask for?"
   ]
  },
  {
   "cell_type": "markdown",
   "metadata": {},
   "source": [
    "### Pareto Curve\n"
   ]
  },
  {
   "cell_type": "code",
   "execution_count": null,
   "metadata": {},
   "outputs": [],
   "source": []
  },
  {
   "cell_type": "markdown",
   "metadata": {},
   "source": [
    "There should be a tradeoff between risk and reward.  The larger the target_reward I require, the more risk I must have to accept.  In the next part of the problem, we're looking ot make a plot with the x-axis as the target_reward, and the y-axis as the risk."
   ]
  },
  {
   "cell_type": "code",
   "execution_count": null,
   "metadata": {},
   "outputs": [],
   "source": []
  },
  {
   "cell_type": "code",
   "execution_count": null,
   "metadata": {},
   "outputs": [],
   "source": []
  },
  {
   "cell_type": "markdown",
   "metadata": {},
   "source": [
    "### How does this connect to Sensitivity analysis?\n",
    "Pick a value on the plot, say target_reward = 0.025.  Compute the sensitivity analysis table at that point.  Can you use this table to determine the slope of your plot at target_reward = 0.25?  Where do you expect the next kink is?"
   ]
  },
  {
   "cell_type": "markdown",
   "metadata": {},
   "source": []
  }
 ],
 "metadata": {
  "kernelspec": {
   "display_name": "base",
   "language": "python",
   "name": "python3"
  },
  "language_info": {
   "codemirror_mode": {
    "name": "ipython",
    "version": 3
   },
   "file_extension": ".py",
   "mimetype": "text/x-python",
   "name": "python",
   "nbconvert_exporter": "python",
   "pygments_lexer": "ipython3",
   "version": "3.11.5"
  }
 },
 "nbformat": 4,
 "nbformat_minor": 2
}
