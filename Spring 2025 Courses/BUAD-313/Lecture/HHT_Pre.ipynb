{
 "cells": [
  {
   "cell_type": "markdown",
   "metadata": {},
   "source": [
    "### The HHT Game\n",
    "Rules of the game\n",
    " - 2 players\n",
    " - We flip a fair coin (only one coin) and watch the sequence that comes up.\n",
    " - If Player 1 spots a consecutive HHT before Player 2 spots a HTT, then Player 1 wins.  Else Player 2 wins. \n"
   ]
  },
  {
   "cell_type": "code",
   "execution_count": 1,
   "metadata": {},
   "outputs": [
    {
     "name": "stdout",
     "output_type": "stream",
     "text": [
      "(1, 4)\n"
     ]
    }
   ],
   "source": [
    "import random\n",
    "\n",
    "#This function simulates game play for up to max)num_turns turns.\n",
    "#It returns the winner and the number of turns taken to finish.\n",
    "def simulate_game(max_num_turns=100):\n",
    "    p1_score = \"\"\n",
    "    p2_score = \"\"\n",
    "    for turn in range(max_num_turns):\n",
    "        coin_flip = random.choice((\"H\", \"T\"))\n",
    "        if p1_score == \"\" and p2_score == \"\":\n",
    "            if coin_flip == \"H\":\n",
    "                p1_score = \"H\"\n",
    "                p2_score = \"H\"\n",
    "        elif p1_score == \"H\" and p2_score == \"H\":\n",
    "            if coin_flip == \"H\":\n",
    "                p1_score = \"HH\"\n",
    "                p2_score = \"H\"\n",
    "            else:\n",
    "                p1_score = \"\"\n",
    "                p2_score = \"HT\"\n",
    "        elif p1_score == \"\" and p2_score == \"HT\":\n",
    "            if coin_flip == \"H\":\n",
    "                p1_score = \"H\"\n",
    "                p2_score = \"H\"\n",
    "            else:\n",
    "                p1_score = \"\"\n",
    "                p2_score = \"HTT\"\n",
    "                return 2, turn + 1\n",
    "        elif p1_score == \"HH\" and p2_score == \"H\":\n",
    "            if coin_flip == \"H\":\n",
    "                p1_score = \"HH\"\n",
    "                p2_score = \"H\"\n",
    "            else:\n",
    "                p1_score = \"HHT\"\n",
    "                p2_score = \"HT\"\n",
    "                return 1, turn + 1\n",
    "    raise Exception(\"Game did not finish within max number of turns\")\n",
    "\n",
    "print(simulate_game())\n",
    "\n",
    "\n"
   ]
  },
  {
   "cell_type": "code",
   "execution_count": 2,
   "metadata": {},
   "outputs": [
    {
     "name": "stdout",
     "output_type": "stream",
     "text": [
      "Estimated probability that player 1 wins: 0.691\n",
      "Average number of turns: <function mean at 0x10e44d580>\n"
     ]
    }
   ],
   "source": [
    "import numpy as np\n",
    "numReps = 1000\n",
    "random.seed(8675309)\n",
    "\n",
    "prob_p1_wins = 0\n",
    "num_turns = np.zeros(numReps)\n",
    "\n",
    "for sim in range(numReps):\n",
    "    winner, turn = simulate_game()\n",
    "    num_turns[sim] = turn\n",
    "    if winner == 1:\n",
    "        prob_p1_wins += 1\n",
    "\n",
    "prob_p1_wins\n",
    "print(\"Estimated probability that player 1 wins:\", prob_p1_wins/numReps)\n",
    "average_turns = np.mean\n",
    "print(\"Average number of turns:\", average_turns)    "
   ]
  },
  {
   "cell_type": "code",
   "execution_count": 4,
   "metadata": {},
   "outputs": [
    {
     "name": "stdout",
     "output_type": "stream",
     "text": [
      "95% CI for number of turns: 3.0 11.0\n"
     ]
    }
   ],
   "source": [
    "\n"
   ]
  },
  {
   "cell_type": "markdown",
   "metadata": {},
   "source": [
    "### Is the game fair?\n",
    "Let's compute an (approximate) confidence interval."
   ]
  },
  {
   "cell_type": "code",
   "execution_count": null,
   "metadata": {},
   "outputs": [],
   "source": []
  }
 ],
 "metadata": {
  "kernelspec": {
   "display_name": "base",
   "language": "python",
   "name": "python3"
  },
  "language_info": {
   "codemirror_mode": {
    "name": "ipython",
    "version": 3
   },
   "file_extension": ".py",
   "mimetype": "text/x-python",
   "name": "python",
   "nbconvert_exporter": "python",
   "pygments_lexer": "ipython3",
   "version": "3.12.7"
  }
 },
 "nbformat": 4,
 "nbformat_minor": 2
}
