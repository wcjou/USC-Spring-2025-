{
 "cells": [
  {
   "cell_type": "markdown",
   "id": "38bf0e46",
   "metadata": {},
   "source": [
    "## Drone Assisted Emergency Medical Response\n",
    "\n",
    "***This case uses synthetic data throughout.***\n",
    "\n",
    "To simplify things a bit, let's say the region we care about (Ontario) is a square with coordinates going from $[0, 1]$.  We divy up the square into $49$ zones, and we assume the time to get to a cardiac event is essentially the same as the time to get to the zone center.  There are 11 potential depot locations.  We have data on the number of cardiac arrest events at different zone centers over the past year, and, from our data science team, their best estimate of the rate of incidents per per year for each zone.  \n",
    "\n",
    "The cell below loads up this data and makes a small plot to give you a sense of the data."
   ]
  },
  {
   "cell_type": "code",
   "execution_count": null,
   "id": "e78f5061",
   "metadata": {},
   "outputs": [],
   "source": [
    "import numpy as np\n",
    "import matplotlib.pyplot as plt\n",
    "from gurobipy import Model, GRB, quicksum\n",
    "\n",
    "#load historical_event_rates.csv as a numpy array\n",
    "#the way this was stored,teh first two columns describe the zone center, \n",
    "# third colum is the number of events in that zone over last year\n",
    "# the fourth column is a precise estimate of the rate of events per year (fit with some statistical model)\n",
    "historical_event_counts = np.loadtxt('historical_event_rates.csv', delimiter=',', skiprows=1)\n",
    "zone_centers = historical_event_counts[:, :2]  # first two columns are zone centers\n",
    "event_rates = historical_event_counts[:, 3]  # fourth column is our best estimate of event_rates\n",
    "\n",
    "#load depot_locations.csv as a numpy array\n",
    "depot_locations = np.loadtxt('depot_locations.csv', delimiter=',', skiprows=1)\n",
    "\n",
    "#load distance_matrix.csv as a numpy array\n",
    "distance_matrix = np.loadtxt('distance_matrix.csv', delimiter=',', skiprows=1)"
   ]
  },
  {
   "cell_type": "code",
   "execution_count": null,
   "id": "a4aa5277",
   "metadata": {},
   "outputs": [],
   "source": [
    "#create a plot of the zone_centers, where the size of each point is proportional to the event_counts\n",
    "plt.figure(figsize=(7, 5))\n",
    "plt.scatter(zone_centers[:, 0], zone_centers[:, 1], s=event_rates * 20, alpha=0.5, c='blue', edgecolors='k')\n",
    "# Add depot locations to the plot\n",
    "plt.scatter(depot_locations[:, 0], depot_locations[:, 1], s=100, c='red', marker='X', label='Depots')\n",
    "plt.title('Historical Event Rates and Potential Depot Locations')\n",
    "plt.show()\n"
   ]
  },
  {
   "cell_type": "markdown",
   "id": "d551e6f5",
   "metadata": {},
   "source": [
    "### Towards a formulation\n",
    "We have some problem data:\n",
    " - A drone can travel the length of region (i.e. a distance of $1$) in 1 minute\n",
    " - After a lot of internal debate, Decion-makers want to open 5 drone depots.\n",
    "\n",
    "Using this information, formulate and solve a mixed-binary, linear optimization problem to determine which depots to open"
   ]
  },
  {
   "cell_type": "code",
   "execution_count": null,
   "id": "afbf91ca",
   "metadata": {},
   "outputs": [],
   "source": [
    "drone_speed = 1  #in units of length of region/minute\n",
    "max_depots = 5  # maximum number of depots we can open is the number of depot locations available\n",
    " \n",
    "m = Model(\"Emergency Response Optimization\")\n"
   ]
  },
  {
   "cell_type": "markdown",
   "id": "0431d8fe",
   "metadata": {},
   "source": [
    "## Plot the routing plan"
   ]
  },
  {
   "cell_type": "code",
   "execution_count": null,
   "id": "65cdf4ba",
   "metadata": {},
   "outputs": [],
   "source": [
    "#make a plotof the zones served by each depot\n",
    "plt.figure(figsize=(7, 5))\n",
    "# Plot zone centers\n",
    "plt.scatter(zone_centers[:, 0], zone_centers[:, 1], s=event_rates * 10, alpha=0.5, c='blue', edgecolors='k', label='Zone Centers')\n",
    "# Plot depot locations\n",
    "plt.scatter(depot_locations[:, 0], depot_locations[:, 1], s=100, c='red', marker='X', label='Depots')\n",
    "# Plot lines from depots to zones they serve\n",
    "for i in range(num_zones):\n",
    "    for j in range(num_depots):\n",
    "        if x[i, j].X > 0.5:  # If the zone is served by this depot\n",
    "            plt.plot([zone_centers[i, 0], depot_locations[j, 0]], [zone_centers[i, 1], depot_locations[j, 1]], 'k--', alpha=0.5)\n",
    "plt.title('Zones Served by Depots')\n",
    "plt.legend()\n",
    "plt.show()"
   ]
  },
  {
   "cell_type": "markdown",
   "id": "4f2a7550",
   "metadata": {},
   "source": [
    "### Simulating to understand the robustness of the solution\n",
    "\n",
    "Our choice of depots depends on the estimated rate of incidents in each zone.  But these rates are estimated.  Might small errors in those estimated rates manifest as large increases in response time?  \n",
    "\n",
    "You consult your data science friend.  They suggest that since you're not very sure about the rates, you might perturb the estimated rates by a random amount that's about 5\\% of the current value.  Your friend suggest by multiplying by a random number chosen between .95 and 1.05\n",
    "\n",
    " Run a simulation where you perturb the rates of incidents randomly as suggested above and compute a histogram for the total response time in the system."
   ]
  },
  {
   "cell_type": "code",
   "execution_count": null,
   "id": "9c56c895",
   "metadata": {},
   "outputs": [],
   "source": [
    "noise_frac = .15\n",
    "numReps = 1000\n",
    "tot_time = np.zeros(numReps)\n",
    "new_lambdas = np.zeros(num_zones)\n"
   ]
  },
  {
   "cell_type": "markdown",
   "id": "ecee1675",
   "metadata": {},
   "source": [
    "## The number of depots\n",
    "\n",
    "The American Heart Association recommends that an AED be placed on a patient who has a cardiac incident within 5 minutes.  How many depots would you need to accomplish this?"
   ]
  },
  {
   "cell_type": "markdown",
   "id": "a53fb091",
   "metadata": {},
   "source": []
  }
 ],
 "metadata": {
  "kernelspec": {
   "display_name": "base",
   "language": "python",
   "name": "python3"
  },
  "language_info": {
   "codemirror_mode": {
    "name": "ipython",
    "version": 3
   },
   "file_extension": ".py",
   "mimetype": "text/x-python",
   "name": "python",
   "nbconvert_exporter": "python",
   "pygments_lexer": "ipython3",
   "version": "3.11.5"
  }
 },
 "nbformat": 4,
 "nbformat_minor": 5
}
