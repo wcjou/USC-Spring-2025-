{
 "cells": [
  {
   "cell_type": "code",
   "execution_count": 1,
   "metadata": {},
   "outputs": [],
   "source": [
    "import numpy as np\n",
    "import matplotlib.pyplot as plt\n",
    "import scipy.stats as stats"
   ]
  },
  {
   "cell_type": "code",
   "execution_count": 2,
   "metadata": {},
   "outputs": [],
   "source": [
    "# define numSim as the number of replications\n",
    "numSim = 1\n",
    "\n",
    "# define numCus as the number of customers\n",
    "numCus = 2 ** 10\n",
    "\n",
    "# define the arrival rate, lam\n",
    "lam = 1\n",
    "\n",
    "# define the service rate, mu\n",
    "mu = 1"
   ]
  },
  {
   "cell_type": "code",
   "execution_count": 3,
   "metadata": {},
   "outputs": [],
   "source": [
    "for i in range(numSim):\n",
    "\n",
    "    # set A, T, and S equal to 0 for each step\n",
    "    A = [0] * numCus  #arrival times\n",
    "    T = [0] * numCus  #start of service times\n",
    "    S = [0] * numCus  #service durations\n",
    "    D = [0] * numCus  #completion times\n",
    "    W = [0] * numCus  #waiting times\n",
    "    I = [0] * numCus  #cumulative idle time of server\n",
    "\n",
    "    # Iniitalzie system with first customer\n",
    "    A[0] = np.random.exponential(1)\n",
    "    T[0] = A[0]\n",
    "    S[0] = np.random.exponential(1/2)\n",
    "    D[0] = S[0]\n",
    "    I[0] = T[0]\n",
    "\n",
    "\n",
    "    #iterate over the remaining customers\n",
    "    for n in range(1, numCus):\n",
    "\n",
    "        # customer n's arrival time is the last arrival time plus a random inter-arrival time\n",
    "        A[n] = A[n-1] + np.random.exponential(1)\n",
    "        # customer n's start of service time is the maximum between their arrival time and the time customer n-1 completed service\n",
    "        T[n] = max(A[n], T[n-1] + S[n-1])\n",
    "        # generate customer n's service duration\n",
    "        S[n] = np.random.exponential(1/2)\n",
    "\n",
    "        W[n] = T[n] - A[n]\n",
    "        D[n] = T[n] + S[n]\n",
    "\n",
    "        I[n] = I[n-1] + T[n] - D[n-1]\n",
    "\n"
   ]
  },
  {
   "cell_type": "code",
   "execution_count": 4,
   "metadata": {},
   "outputs": [
    {
     "name": "stdout",
     "output_type": "stream",
     "text": [
      "Customers in the queueing model:\n",
      "\tA\t\tT\t\tS\t\tD\t\tW\t\tI\t\t\n",
      "1014 :\t996.8\t\t997.7\t\t1.5\t\t999.2\t\t0.9\t\t472.0\t\t\n",
      "1015 :\t1001.5\t\t1001.5\t\t1.4\t\t1002.9\t\t0.0\t\t474.3\t\t\n",
      "1016 :\t1002.9\t\t1002.9\t\t0.1\t\t1003.0\t\t0.0\t\t474.4\t\t\n",
      "1017 :\t1004.6\t\t1004.6\t\t0.6\t\t1005.3\t\t0.0\t\t476.0\t\t\n",
      "1018 :\t1006.6\t\t1006.6\t\t0.4\t\t1007.0\t\t0.0\t\t477.3\t\t\n",
      "1019 :\t1006.8\t\t1007.0\t\t0.7\t\t1007.7\t\t0.2\t\t477.3\t\t\n",
      "1020 :\t1007.1\t\t1007.7\t\t1.3\t\t1009.0\t\t0.6\t\t477.3\t\t\n",
      "1021 :\t1007.4\t\t1009.0\t\t0.0\t\t1009.1\t\t1.7\t\t477.3\t\t\n",
      "1022 :\t1008.6\t\t1009.1\t\t0.8\t\t1009.9\t\t0.5\t\t477.3\t\t\n",
      "1023 :\t1009.1\t\t1009.9\t\t0.4\t\t1010.3\t\t0.9\t\t477.3\t\t\n",
      "1024 :\t1009.2\t\t1010.3\t\t0.1\t\t1010.4\t\t1.2\t\t477.3\t\t\n"
     ]
    }
   ],
   "source": [
    "print(\"Customers in the queueing model:\")\n",
    "print('\\t', end='')\n",
    "for val in ['A', 'T', 'S', 'D', 'W', 'I']:\n",
    "    print(val, end='\\t\\t')\n",
    "print()\n",
    "for n in range(numCus - 11, numCus):\n",
    "    print(str(n+1) + ' :', end='\\t')\n",
    "    print(str(round(A[n], 1)), end='\\t\\t')\n",
    "    print(str(round(T[n], 1)), end='\\t\\t')\n",
    "    print(str(round(S[n], 1)), end='\\t\\t')\n",
    "    print(str(round(D[n], 1)), end='\\t\\t')\n",
    "    print(str(round(W[n], 1)), end='\\t\\t')\n",
    "    print(str(round(I[n], 1)), end='\\t\\t')\n",
    "        \n",
    "    print()"
   ]
  },
  {
   "cell_type": "code",
   "execution_count": 5,
   "metadata": {},
   "outputs": [
    {
     "name": "stdout",
     "output_type": "stream",
     "text": [
      "Observed utilization: 0.5276449266782018\n",
      "Observed idleness: 0.47235507332179816\n",
      "Average wait: 0.558749434173093\n"
     ]
    }
   ],
   "source": [
    "print('Observed utilization: ' + str(1 - I[-1]/D[-1]))\n",
    "print('Observed idleness: ' + str(I[-1]/D[-1]))\n",
    "\n",
    "print('Average wait: '+ str(np.mean(W)))\n"
   ]
  },
  {
   "cell_type": "code",
   "execution_count": 6,
   "metadata": {},
   "outputs": [],
   "source": [
    "##Let's compute the actual queue length at different times\n",
    "\n",
    "#this is when the last customer finishes service\n",
    "maxTime = D[-1]\n",
    "\n",
    "time_grid = np.linspace(0, maxTime, num=100)  # create a time grid from 0 to maxTime with 100 points\n",
    "queue = np.zeros(len(time_grid))  # initialize the queue length array\n",
    "\n",
    "for i in range(len(time_grid)):\n",
    "    t = time_grid[i]\n",
    "\n",
    "    # Count the number of arrivals and departures up to time t\n",
    "    arrivals = np.sum(A < t)  # number of arrivals before time t\n",
    "    departures = np.sum(D < t)  # number of departures before time t\n",
    "    queue[i] = arrivals - departures  # queue length at time t\n",
    "\n",
    "    #we need to account for the person that might be in service at time t\n",
    "    queue[i] = max(0, queue[i] - 1)"
   ]
  },
  {
   "cell_type": "code",
   "execution_count": 10,
   "metadata": {},
   "outputs": [
    {
     "data": {
      "image/png": "[encoded data removed]",
      "text/plain": [
       "<Figure size 1000x600 with 1 Axes>"
      ]
     },
     "metadata": {},
     "output_type": "display_data"
    }
   ],
   "source": [
    "#plot the queue length over time with piecewise constant interpolation\n",
    "plt.figure(figsize=(10, 6))\n",
    "plt.step(time_grid, queue, where='post', label='Queue Length', color='blue', linewidth=2)\n",
    "plt.title('Queue Length Over Time')\n",
    "plt.xlabel('Time')\n",
    "plt.ylabel('Queue Length')\n",
    "plt.xlim(0, maxTime)\n",
    "plt.ylim(0, np.max(queue) + 1)\n",
    "plt.grid()\n",
    "plt.legend()\n",
    "plt.tight_layout()\n",
    "plt.show()\n",
    "\n"
   ]
  },
  {
   "cell_type": "code",
   "execution_count": 8,
   "metadata": {},
   "outputs": [
    {
     "name": "stdout",
     "output_type": "stream",
     "text": [
      "0.55\n",
      "0.558749434173093\n",
      "1.0803561936674992\n"
     ]
    }
   ],
   "source": [
    "print(np.mean(queue))\n",
    "print(lam * np.mean(W))\n",
    "\n",
    "print(1*(np.mean(S) + np.mean(W)))"
   ]
  }
 ],
 "metadata": {
  "kernelspec": {
   "display_name": "base",
   "language": "python",
   "name": "python3"
  },
  "language_info": {
   "codemirror_mode": {
    "name": "ipython",
    "version": 3
   },
   "file_extension": ".py",
   "mimetype": "text/x-python",
   "name": "python",
   "nbconvert_exporter": "python",
   "pygments_lexer": "ipython3",
   "version": "3.12.7"
  }
 },
 "nbformat": 4,
 "nbformat_minor": 2
}
