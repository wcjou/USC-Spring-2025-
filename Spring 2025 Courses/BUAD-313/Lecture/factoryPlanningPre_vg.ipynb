{
 "cells": [
  {
   "cell_type": "markdown",
   "metadata": {},
   "source": [
    "## BUAD 313 -- Session 7/8 (Modeling/Solving Systematically) -- Factory Planning LP"
   ]
  },
  {
   "cell_type": "code",
   "execution_count": 85,
   "metadata": {},
   "outputs": [],
   "source": [
    "import numpy as np\n",
    "from gurobipy import Model, GRB, quicksum"
   ]
  },
  {
   "cell_type": "markdown",
   "metadata": {},
   "source": [
    "In Session 7, we introduced `Step 0` in optimization model formulation, which is to identify the structure of the input data. We're going to start by defining index sets, and then loading in some data by reading it in from a file and manipulating it."
   ]
  },
  {
   "cell_type": "markdown",
   "metadata": {},
   "source": [
    "### Scalar Data in the Case"
   ]
  },
  {
   "cell_type": "code",
   "execution_count": 86,
   "metadata": {},
   "outputs": [],
   "source": [
    "#scalar data from the case, just written by hand\n",
    "max_storage = 100\n",
    "end_stock = 50\n",
    "hours_per_mach = 384\n",
    "storage_cost = 0.75\n"
   ]
  },
  {
   "cell_type": "markdown",
   "metadata": {},
   "source": [
    "### Defining Index Sets"
   ]
  },
  {
   "cell_type": "code",
   "execution_count": 87,
   "metadata": {},
   "outputs": [],
   "source": [
    "#define a list of products labeled A through G\n",
    "products = ['A', 'B', 'C', 'D', 'E', 'F', 'G']\n",
    "\n",
    "#define a list of integers from 1 to 12, representing the months of the year\n",
    "months = [1, 2, 3, 4, 5, 6, 7, 8, 9, 10, 11, 12]\n",
    "\n",
    "#define a list of machines types: grinding, vertical drilling, horizontal, boring, and planing, abbreviated by first letter (capitalized)\n",
    "machines = ['G', 'V', 'H', 'B', 'P']\n",
    "\n",
    "#define a list of tasks: produce, sell, and store \n",
    "tasks = ['Produce', 'Sell', 'Store']"
   ]
  },
  {
   "cell_type": "markdown",
   "metadata": {},
   "source": [
    "### Loading Indexed Data"
   ]
  },
  {
   "cell_type": "code",
   "execution_count": 88,
   "metadata": {},
   "outputs": [],
   "source": [
    "# short indexed data \n",
    "# I just typed these out by hand for convenience.  \n",
    "# Be careful with ordering!  Needs to match index sets above!\n",
    "resources = [4, 2, 3, 1, 1]\n",
    "unit_profits = [15, 9, 12, 6, 16.5, 13.5, 4.5] "
   ]
  },
  {
   "cell_type": "markdown",
   "metadata": {},
   "source": []
  },
  {
   "cell_type": "code",
   "execution_count": 98,
   "metadata": {},
   "outputs": [
    {
     "data": {
      "text/plain": [
       "(5, 7)"
      ]
     },
     "execution_count": 98,
     "metadata": {},
     "output_type": "execute_result"
    }
   ],
   "source": [
    "## In this cell we're going to read in some csv data for the process_requirements, demand, and machine_down\n",
    "process_requirements = np.genfromtxt('process_requirements.csv', delimiter=',', skip_header=True)[:, 1:]\n",
    "demand = np.genfromtxt('demand.csv', delimiter=',', skip_header=True)[:, 1:]\n",
    "machine_down = np.genfromtxt('machine_down.csv', delimiter=',', skip_header=True)[:, 1:]\n"
   ]
  },
  {
   "cell_type": "markdown",
   "metadata": {},
   "source": [
    "### Converting to Dictionaries\n",
    "\n",
    "The next step isn't strictly necessary and is a little wasteful in terms of inefficiency.  We could just use the numpy arrays directly.  But it's a good example of how to convert the data to dictionaries if you want to use them in the model.  And accessing data via dictionaries is sometimes more intuitive than accessing via array indexing."
   ]
  },
  {
   "cell_type": "code",
   "execution_count": 107,
   "metadata": {},
   "outputs": [],
   "source": [
    "#create the dictionaries here\n",
    "\n",
    "seasons_dict = {'Winter': 'W', 'Spring': 'Sp', 'Summer': 'Su', 'Fall': 'F'}\n",
    "demand_dict = {(months[i], products[j]): demand[i, j] for i in range(12) for j in range(7)}\n",
    "# define machine_dict as a dictionary with keys as months and machines and values from machine_down\n",
    "machine_dict = {(months[i], machines[j]): machine_down[i, j] for i in range(12) for j in range(5)}\n",
    "# define the unit_profit_dict as  dictionary with keys as machines and values as from resources\n",
    "unit_profit_dict = {products[i]: unit_profits[i] for i in range(7)}\n",
    "# define resource_dict as a dictionary iwth keys as machines and values as from reosurces\n",
    "resource_dict = {machines[i]: resources[i] for i in range(5)}\n",
    "# define process_requirements_dict as a dictionary with keys as products and values as from process_requirements\n",
    "proc_req_dict = {\n",
    "    (products[i], machines[j]): process_requirements[j, i]  # Ensure correct indexing\n",
    "    for i in range(len(products))  # Loop over products\n",
    "    for j in range(len(machines))  # Loop over machines\n",
    "}\n"
   ]
  },
  {
   "cell_type": "code",
   "execution_count": 93,
   "metadata": {},
   "outputs": [],
   "source": [
    "#let's also add one more dictionary that will be useful later, which is the available machine hours for each machine and month, accounting for machine down time\n",
    "\n",
    "# create a dictionary with keys as months and machines and \n",
    "# values as difference between the number of resources available minus the number of machines downf for that machine\n",
    "available_hours_dict = {(months[m], machines[ma]): hours_per_mach * (resources[ma] - machine_down[m, ma]) for m in range(12) for ma in range(5)}"
   ]
  },
  {
   "cell_type": "markdown",
   "metadata": {},
   "source": [
    "It's a good idea to print out your dictionaries (or parts of them) to make sure they look the way you intended."
   ]
  },
  {
   "cell_type": "code",
   "execution_count": 64,
   "metadata": {},
   "outputs": [
    {
     "name": "stdout",
     "output_type": "stream",
     "text": [
      "Available Hours\n",
      "\tG\tV\tH\tB\tP\n",
      "1\t1152.0\t768.0\t1152.0\t384.0\t384.0\t\n",
      "2\t1536.0\t768.0\t384.0\t384.0\t384.0\t\n",
      "3\t1536.0\t768.0\t1152.0\t0.0\t384.0\t\n",
      "4\t1536.0\t384.0\t1152.0\t384.0\t384.0\t\n",
      "5\t1152.0\t384.0\t1152.0\t384.0\t384.0\t\n",
      "6\t1152.0\t768.0\t768.0\t384.0\t0.0\t\n",
      "7\t1536.0\t768.0\t384.0\t0.0\t384.0\t\n",
      "8\t1536.0\t384.0\t1152.0\t384.0\t384.0\t\n",
      "9\t1152.0\t768.0\t1152.0\t384.0\t0.0\t\n",
      "10\t1536.0\t768.0\t1152.0\t0.0\t384.0\t\n",
      "11\t1536.0\t384.0\t1152.0\t384.0\t384.0\t\n",
      "12\t1536.0\t768.0\t768.0\t384.0\t0.0\t\n"
     ]
    }
   ],
   "source": [
    "# print out the available dict as atab separated table with months as the rows and machines as the columns\n",
    "print('Available Hours')\n",
    "print('\\t' + '\\t'.join(machines))\n",
    "for month in months:\n",
    "    print(month, end='\\t')\n",
    "    for machine in machines:\n",
    "        print(available_hours_dict[month, machine], end='\\t')\n",
    "    print()\n",
    "\n",
    "\n"
   ]
  },
  {
   "cell_type": "markdown",
   "metadata": {},
   "source": [
    "Looks good! On to getting the full LP into Gurobi. These are the `Step 1`, `Step 2`, and `Step 3` in optimization model formulation that we know: decision variables, objective function, and constraints. Still though, we can be more systematic in our approach to this than we have been so far in class. For didactic purposes, let us actually add the constraints before the objective function. (*As long as they are all added, the order in which they are written does not matter.*)"
   ]
  },
  {
   "cell_type": "code",
   "execution_count": 103,
   "metadata": {},
   "outputs": [
    {
     "name": "stdout",
     "output_type": "stream",
     "text": [
      "Gurobi Optimizer version 12.0.0 build v12.0.0rc1 (mac64[x86] - Darwin 23.5.0 23F79)\n"
     ]
    },
    {
     "name": "stdout",
     "output_type": "stream",
     "text": [
      "\n",
      "CPU model: Intel(R) Core(TM) i5-1038NG7 CPU @ 2.00GHz\n",
      "Thread count: 4 physical cores, 8 logical processors, using up to 8 threads\n",
      "\n",
      "Optimize a model with 396 rows, 252 columns and 1052 nonzeros\n",
      "Model fingerprint: 0x72938184\n",
      "Coefficient statistics:\n",
      "  Matrix range     [1e-02, 1e+00]\n",
      "  Objective range  [8e-01, 2e+01]\n",
      "  Bounds range     [0e+00, 0e+00]\n",
      "  RHS range        [5e+01, 2e+03]\n",
      "Presolve removed 380 rows and 208 columns\n",
      "Presolve time: 0.04s\n",
      "Presolved: 16 rows, 44 columns, 58 nonzeros\n",
      "\n",
      "Iteration    Objective       Primal Inf.    Dual Inf.      Time\n",
      "       0    3.0581250e+05   3.905000e+02   0.000000e+00      0s\n",
      "       4    2.5908652e+05   0.000000e+00   0.000000e+00      0s\n",
      "\n",
      "Solved in 4 iterations and 0.06 seconds (0.00 work units)\n",
      "Optimal objective  2.590865179e+05\n"
     ]
    }
   ],
   "source": [
    "#create a gurobi model called factory\n",
    "factory = Model('factory')\n",
    "\n",
    "# VARIABLES\n",
    "x = factory.addVars(products, tasks, months, name='x', lb=0) # addVars (different from addVar) default is continuous\n",
    "\n",
    "# CONSTRAINTS\n",
    "for m in months:\n",
    "    for p in products:\n",
    "        factory.addConstr(x[p, 'Sell', m] <= demand_dict[m, p], name='Demand' + str(m) + str(p))\n",
    "\n",
    "for m in months:\n",
    "    for p in products:\n",
    "        factory.addConstr(x[p, 'Store', m] <= max_storage, name='MaxStorage' + str(m) + str(p))\n",
    "\n",
    "for p in products:\n",
    "    factory.addConstr(x[p, 'Store', 12] == end_stock, name='EndStock' + str(p))\n",
    "\n",
    "for m in months:\n",
    "    for mach in machines:\n",
    "        factory.addConstr(\n",
    "            quicksum(proc_req_dict[p, mach] * x[p, 'Produce', m] for p in products) <= available_hours_dict[m, mach],\n",
    "            name='MachineHours' + str(m) + str(mach)\n",
    "        )\n",
    "\n",
    "for m in months:\n",
    "    for p in products:\n",
    "        if m == 1:\n",
    "            factory.addConstr(x[p, 'Store', m] == x[p, 'Produce', m] - x[p, 'Sell', m], name='FirstMonthStoreBalance' + str(p))\n",
    "        else:\n",
    "            factory.addConstr(x[p, 'Store', m-1] + x[p, 'Produce', m] - x[p, 'Sell', m] == x[p, 'Store', m], name='StoreBalance' + str(m) + str(p))\n",
    "\n",
    "for m in months[1:]:\n",
    "    for p in products:\n",
    "        factory.addConstr(x[p, 'Store', m-1] + x[p, 'Produce', m] - x[p, 'Sell', m] == x[p, 'Store', m], name='StoreBalance' + str(m) + str(p))\n",
    "\n",
    "\n",
    "\n",
    "# OBJECTIVE FUNCTION\n",
    "\n",
    "# set the objective function to be the difference between\n",
    "# the sum over all products j and months m of the unit profit of product p times the amount sold of product j in month m\n",
    "# minus storage_cost times the sum over all products j and months m of the amount stored of product p in month m\n",
    "factory.setObjective(\n",
    "    quicksum(unit_profit_dict[p] * x[p, 'Sell', m] for p in products for m in months) - \n",
    "    storage_cost * quicksum(x[p, 'Store', m] for p in products for m in months), GRB.MAXIMIZE\n",
    ")\n",
    "\n",
    "# SOLVE\n",
    "\n",
    "# optimize the model\n",
    "factory.optimize()"
   ]
  },
  {
   "cell_type": "code",
   "execution_count": 104,
   "metadata": {},
   "outputs": [
    {
     "name": "stdout",
     "output_type": "stream",
     "text": [
      "Optimal Solution\n",
      "\tA\tB\tC\tD\tE\tF\tG\n",
      "1\t500.0\t888.5714285714287\t382.5\t300.0\t800.0\t200.0\t0.0\t\n",
      "2\t700.0\t600.0\t117.5\t0.0\t500.0\t300.0\t250.0\t\n",
      "3\t0.0\t0.0\t0.0\t0.0\t0.0\t400.0\t0.0\t\n",
      "4\t200.0\t300.0\t400.0\t500.0\t200.0\t0.0\t100.0\t\n",
      "5\t0.0\t100.0\t600.0\t100.0\t1100.0\t300.0\t100.0\t\n",
      "6\t600.0\t600.0\t0.0\t400.0\t0.0\t500.0\t0.0\t\n",
      "7\t0.0\t0.0\t100.0\t0.0\t0.0\t500.0\t0.0\t\n",
      "8\t0.0\t400.0\t100.0\t200.0\t900.0\t400.0\t220.0\t\n",
      "9\t400.0\t100.0\t0.0\t0.0\t0.0\t0.0\t0.0\t\n",
      "10\t0.0\t0.0\t400.0\t0.0\t0.0\t351.66666666666663\t0.0\t\n",
      "11\t600.0\t200.0\t400.0\t250.0\t1050.0\t348.33333333333337\t200.0\t\n",
      "12\t450.0\t1050.0\t0.0\t550.0\t0.0\t550.0\t0.0\t\n"
     ]
    }
   ],
   "source": [
    "# PRINT RESULTS\n",
    "\n",
    "# print a tab separated tabled of the optimal values of the decision variables\n",
    "print('Optimal Solution')\n",
    "print('\\t' + '\\t'.join(products))\n",
    "for m in months:\n",
    "    print(m, end='\\t')\n",
    "    for p in products:\n",
    "        print(x[p, 'Produce', m].x, end='\\t')\n",
    "    print()\n",
    "\n",
    "    "
   ]
  },
  {
   "cell_type": "code",
   "execution_count": null,
   "metadata": {},
   "outputs": [],
   "source": []
  }
 ],
 "metadata": {
  "kernelspec": {
   "display_name": "base",
   "language": "python",
   "name": "python3"
  },
  "language_info": {
   "codemirror_mode": {
    "name": "ipython",
    "version": 3
   },
   "file_extension": ".py",
   "mimetype": "text/x-python",
   "name": "python",
   "nbconvert_exporter": "python",
   "pygments_lexer": "ipython3",
   "version": "3.12.7"
  }
 },
 "nbformat": 4,
 "nbformat_minor": 2
}
