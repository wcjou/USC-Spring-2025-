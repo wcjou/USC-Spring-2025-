{
 "cells": [
  {
   "cell_type": "markdown",
   "metadata": {},
   "source": [
    "## BUAD 313 -- Session 7/8 (Modeling/Solving Systematically) -- Factory Planning LP"
   ]
  },
  {
   "cell_type": "code",
   "execution_count": null,
   "metadata": {},
   "outputs": [],
   "source": [
    "import numpy as np\n",
    "from gurobipy import Model, GRB, quicksum"
   ]
  },
  {
   "cell_type": "markdown",
   "metadata": {},
   "source": [
    "In Session 7, we introduced `Step 0` in optimization model formulation, which is to identify the structure of the input data. We're going to start by defining index sets, and then loading in some data by reading it in from a file and manipulating it."
   ]
  },
  {
   "cell_type": "markdown",
   "metadata": {},
   "source": [
    "### Scalar Data in the Case"
   ]
  },
  {
   "cell_type": "code",
   "execution_count": null,
   "metadata": {},
   "outputs": [],
   "source": [
    "#scalar data from the case, just written by hand\n",
    "max_storage = 100\n",
    "end_stock = 50\n",
    "hours_per_mach = 384\n",
    "storage_cost = 0.75\n"
   ]
  },
  {
   "cell_type": "markdown",
   "metadata": {},
   "source": [
    "### Defining Index Sets"
   ]
  },
  {
   "cell_type": "code",
   "execution_count": null,
   "metadata": {},
   "outputs": [],
   "source": [
    "#define a list of products labeled A through G\n",
    "products = ['A', 'B', 'C', 'D', 'E', 'F', 'G']\n",
    "\n",
    "#define a list of integers from 1 to 12, representing the months of the year\n",
    "months = [1, 2, 3, 4, 5, 6, 7, 8, 9, 10, 11, 12]\n",
    "\n",
    "#define a list of machines types: grinding, vertical drilling, horizontal, boring, and planing, abbreviated by first letter (capitalized)\n",
    "machines = ['G', 'V', 'H', 'B', 'P']\n",
    "\n",
    "#define a list of tasks: produce, sell, and store \n",
    "tasks = ['Produce', 'Sell', 'Store']"
   ]
  },
  {
   "cell_type": "markdown",
   "metadata": {},
   "source": [
    "### Loading Indexed Data"
   ]
  },
  {
   "cell_type": "code",
   "execution_count": null,
   "metadata": {},
   "outputs": [],
   "source": [
    "# short indexed data \n",
    "# I just typed these out by hand for convenience.  \n",
    "# Be careful with ordering!  Needs to match index sets above!\n",
    "resources = [4, 2, 3, 1, 1]\n",
    "unit_profits = [15, 9, 12, 6, 16.5, 13.5, 4.5] "
   ]
  },
  {
   "cell_type": "code",
   "execution_count": null,
   "metadata": {},
   "outputs": [],
   "source": [
    "## In this cell we're going to read in some csv data for the process_requirements, demand, and machine_down\n",
    "\n"
   ]
  },
  {
   "cell_type": "markdown",
   "metadata": {},
   "source": [
    "### Converting to Dictionaries\n",
    "\n",
    "The next step isn't strictly necessary and is a little wasteful in terms of inefficiency.  We could just use the numpy arrays directly.  But it's a good example of how to convert the data to dictionaries if you want to use them in the model.  And accessing data via dictionaries is sometimes more intuitive than accessing via array indexing."
   ]
  },
  {
   "cell_type": "code",
   "execution_count": null,
   "metadata": {},
   "outputs": [],
   "source": [
    "#create teh dictionaries here\n"
   ]
  },
  {
   "cell_type": "code",
   "execution_count": null,
   "metadata": {},
   "outputs": [],
   "source": [
    "#let's also add one more dictionary that will be useful later, which is the available machine hours for each machine and month, accounting for machine down time\n"
   ]
  },
  {
   "cell_type": "markdown",
   "metadata": {},
   "source": [
    "It's a good idea to print out your dictionaries (or parts of them) to make sure they look the way you intended."
   ]
  },
  {
   "cell_type": "code",
   "execution_count": null,
   "metadata": {},
   "outputs": [],
   "source": []
  },
  {
   "cell_type": "markdown",
   "metadata": {},
   "source": [
    "Looks good! On to getting the full LP into Gurobi. These are the `Step 1`, `Step 2`, and `Step 3` in optimization model formulation that we know: decision variables, objective function, and constraints. Still though, we can be more systematic in our approach to this than we have been so far in class. For didactic purposes, let us actually add the constraints before the objective function. (*As long as they are all added, the order in which they are written does not matter.*)"
   ]
  },
  {
   "cell_type": "code",
   "execution_count": null,
   "metadata": {},
   "outputs": [],
   "source": [
    "#create a gurobi model called factory\n",
    "factory = Model('factory')\n",
    "\n",
    "# VARIABLES\n",
    "\n",
    "\n",
    "\n",
    "# CONSTRAINTS\n",
    "\n",
    "\n",
    "\n",
    "# OBJECTIVE FUNCTION\n",
    "\n",
    "# SOLVE\n",
    "\n",
    "# optimize the model\n",
    "factory.optimize()"
   ]
  },
  {
   "cell_type": "code",
   "execution_count": null,
   "metadata": {},
   "outputs": [],
   "source": [
    "# PRINT RESULTS\n"
   ]
  },
  {
   "cell_type": "code",
   "execution_count": null,
   "metadata": {},
   "outputs": [],
   "source": []
  }
 ],
 "metadata": {
  "kernelspec": {
   "display_name": "base",
   "language": "python",
   "name": "python3"
  },
  "language_info": {
   "codemirror_mode": {
    "name": "ipython",
    "version": 3
   },
   "file_extension": ".py",
   "mimetype": "text/x-python",
   "name": "python",
   "nbconvert_exporter": "python",
   "pygments_lexer": "ipython3",
   "version": "3.12.7"
  }
 },
 "nbformat": 4,
 "nbformat_minor": 2
}
