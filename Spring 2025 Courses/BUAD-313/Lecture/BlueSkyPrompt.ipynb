{
 "cells": [
  {
   "cell_type": "markdown",
   "metadata": {},
   "source": [
    "***BlueSky Airlines Case***"
   ]
  },
  {
   "cell_type": "markdown",
   "metadata": {},
   "source": [
    "Python packages for simulation:"
   ]
  },
  {
   "cell_type": "code",
   "execution_count": 1,
   "metadata": {},
   "outputs": [],
   "source": [
    "import numpy as np\n",
    "import matplotlib.pyplot as plt\n",
    "import scipy.stats as stats"
   ]
  },
  {
   "cell_type": "markdown",
   "metadata": {},
   "source": [
    "**Question 1**"
   ]
  },
  {
   "cell_type": "markdown",
   "metadata": {},
   "source": [
    "This question asks for a deterministic function, so we can simply describe it in a markdown cell. Given the demand for FF, $D_{F}$, and the demand for SS, $D_S$, the revenue with a SS booking limit equal to 120 is\n",
    "\n",
    "R = 350 * min(D_s, 120) + 850 * min(D_f, 200 - min(D_s, 120))\n",
    "\n"
   ]
  },
  {
   "cell_type": "markdown",
   "metadata": {},
   "source": [
    "**Question 2**\n",
    "\n",
    "Creating our baseline simulation"
   ]
  },
  {
   "cell_type": "code",
   "execution_count": 2,
   "metadata": {},
   "outputs": [],
   "source": [
    "# set the number of simulations, numRep\n",
    "numRep = 5000\n",
    "\n",
    "# define two fare types, SS and FF\n",
    "fareType = ['SS', 'FF']\n",
    "\n",
    "# define mean and standard deviations dictionaries for the two fare types: 130 and 45 for SS, 55 and 20 for FF\n",
    "mean = {'SS': 130, 'FF': 55}\n",
    "stdev = {'SS': 45, 'FF': 20}\n",
    "\n",
    "# define prices for the two fare types: 350 for SS, 850 for FF\n",
    "price = {'SS': 350, 'FF': 850}\n",
    "\n",
    "# define the booking limit for SS, 120\n",
    "bookLimitSS = 120\n",
    "\n",
    "# define the plane capacity, 200\n",
    "planeCapacity = 200\n"
   ]
  },
  {
   "cell_type": "code",
   "execution_count": 8,
   "metadata": {},
   "outputs": [
    {
     "ename": "ValueError",
     "evalue": "The truth value of an array with more than one element is ambiguous. Use a.any() or a.all()",
     "output_type": "error",
     "traceback": [
      "\u001b[0;31m---------------------------------------------------------------------------\u001b[0m",
      "\u001b[0;31mValueError\u001b[0m                                Traceback (most recent call last)",
      "Cell \u001b[0;32mIn[8], line 6\u001b[0m\n\u001b[1;32m      4\u001b[0m D_s \u001b[38;5;241m=\u001b[39m np\u001b[38;5;241m.\u001b[39mrandom\u001b[38;5;241m.\u001b[39mnormal(mean[\u001b[38;5;124m'\u001b[39m\u001b[38;5;124mSS\u001b[39m\u001b[38;5;124m'\u001b[39m], stdev[\u001b[38;5;124m'\u001b[39m\u001b[38;5;124mSS\u001b[39m\u001b[38;5;124m'\u001b[39m], planeCapacity)\n\u001b[1;32m      5\u001b[0m D_f \u001b[38;5;241m=\u001b[39m np\u001b[38;5;241m.\u001b[39mrandom\u001b[38;5;241m.\u001b[39mnormal(mean[\u001b[38;5;124m'\u001b[39m\u001b[38;5;124mFF\u001b[39m\u001b[38;5;124m'\u001b[39m], stdev[\u001b[38;5;124m'\u001b[39m\u001b[38;5;124mFF\u001b[39m\u001b[38;5;124m'\u001b[39m], planeCapacity)\n\u001b[0;32m----> 6\u001b[0m rev \u001b[38;5;241m=\u001b[39m price[\u001b[38;5;124m'\u001b[39m\u001b[38;5;124mSS\u001b[39m\u001b[38;5;124m'\u001b[39m] \u001b[38;5;241m*\u001b[39m np\u001b[38;5;241m.\u001b[39mminimum(bookLimitSS, D_s) \u001b[38;5;241m+\u001b[39m price[\u001b[38;5;124m'\u001b[39m\u001b[38;5;124mFF\u001b[39m\u001b[38;5;124m'\u001b[39m] \u001b[38;5;241m*\u001b[39m np\u001b[38;5;241m.\u001b[39mminimum(D_f, planeCapacity \u001b[38;5;241m-\u001b[39m \u001b[38;5;28mmin\u001b[39m(bookLimitSS, D_s))\n\u001b[1;32m      7\u001b[0m revenues[rep] \u001b[38;5;241m=\u001b[39m rev\n",
      "\u001b[0;31mValueError\u001b[0m: The truth value of an array with more than one element is ambiguous. Use a.any() or a.all()"
     ]
    }
   ],
   "source": [
    "revenues = np.zeros(numRep)\n",
    "\n",
    "for rep in range(numRep):\n",
    "    D_s = np.random.normal(mean['SS'], stdev['SS'], planeCapacity)\n",
    "    D_f = np.random.normal(mean['FF'], stdev['FF'], planeCapacity)\n",
    "    rev = price['SS'] * np.minimum(bookLimitSS, D_s) + price['FF'] * np.minimum(D_f, planeCapacity - min(bookLimitSS, D_s))\n",
    "    revenues[rep] = rev"
   ]
  },
  {
   "cell_type": "code",
   "execution_count": null,
   "metadata": {},
   "outputs": [],
   "source": [
    "\n",
    "# print the expected revenue\n",
    "print('Expected revenue:', np.mean(revenues))\n",
    "\n",
    "# compute the 95% confidence interval\n",
    "conf_up = np.mean(revenues) + 1.96 * np.std(revenues) / np.sqrt(numRep)\n",
    "conf_down = np.mean(revenues) - 1.96 * np.std(revenues) / np.sqrt(numRep)\n",
    "print('95% confidence interval:', conf_down, conf_up)\n"
   ]
  },
  {
   "cell_type": "markdown",
   "metadata": {},
   "source": [
    "**Question 3**\n",
    "The optimal booking limit?"
   ]
  },
  {
   "cell_type": "markdown",
   "metadata": {},
   "source": []
  },
  {
   "cell_type": "markdown",
   "metadata": {},
   "source": [
    "**Question 4** Overbooking"
   ]
  },
  {
   "cell_type": "markdown",
   "metadata": {},
   "source": []
  }
 ],
 "metadata": {
  "kernelspec": {
   "display_name": "base",
   "language": "python",
   "name": "python3"
  },
  "language_info": {
   "codemirror_mode": {
    "name": "ipython",
    "version": 3
   },
   "file_extension": ".py",
   "mimetype": "text/x-python",
   "name": "python",
   "nbconvert_exporter": "python",
   "pygments_lexer": "ipython3",
   "version": "3.12.7"
  }
 },
 "nbformat": 4,
 "nbformat_minor": 2
}
