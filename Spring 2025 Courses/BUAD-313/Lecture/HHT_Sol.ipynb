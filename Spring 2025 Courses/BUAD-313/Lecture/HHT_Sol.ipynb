{
 "cells": [
  {
   "cell_type": "markdown",
   "metadata": {},
   "source": [
    "### The HHT Game\n",
    "Rules of the game\n",
    " - 2 players\n",
    " - We flip a fair coin (only one coin) and watch the sequence that comes up.\n",
    " - If Player 1 spots a consecutive HHT before Player 2 spots a HTT, then Player 1 wins.  Else Player 2 wins. \n"
   ]
  },
  {
   "cell_type": "code",
   "execution_count": null,
   "metadata": {},
   "outputs": [],
   "source": [
    "import random\n",
    "\n",
    "#This function simulates game play for up to max)num_turns turns.\n",
    "#It returns the winner (1 or 2) and the number of turns taken to finish.\n",
    "def simulate_game(max_num_turns=100):\n",
    "    player1_state = ''  # tracking progress towards HHT\n",
    "    player2_state = ''  # tracking progress towards HTT\n",
    "\n",
    "    for turn in range(0, max_num_turns):\n",
    "        flip = random.choice(['H', 'T'])\n",
    "\n",
    "        # Update Player 1 state (HHT)\n",
    "        if player1_state == '':\n",
    "            if flip == 'H':\n",
    "                player1_state = 'H'\n",
    "            else:\n",
    "                player1_state = ''\n",
    "        elif player1_state == 'H':\n",
    "            if flip == 'H':\n",
    "                player1_state = 'HH'\n",
    "            else:\n",
    "                player1_state = ''\n",
    "        elif player1_state == 'HH':\n",
    "            if flip == 'T':\n",
    "                return 1, turn + 1\n",
    "            else:\n",
    "                player1_state = 'HH'\n",
    "\n",
    "        # Update Player 2 state (HTT)\n",
    "        if player2_state == '':\n",
    "            if flip == 'H':\n",
    "                player2_state = 'H'\n",
    "            else:\n",
    "                player2_state = ''\n",
    "        elif player2_state == 'H':\n",
    "            if flip == 'T':\n",
    "                player2_state = 'HT'\n",
    "            else:\n",
    "                player2_state = 'H'\n",
    "        elif player2_state == 'HT':\n",
    "            if flip == 'T':\n",
    "                return 2, turn + 1\n",
    "            else:\n",
    "                player2_state = 'H'\n",
    "\n",
    "    raise RuntimeError(f\"Game did not finish within {max_num_turns} turns\")\n",
    "\n"
   ]
  },
  {
   "cell_type": "code",
   "execution_count": null,
   "metadata": {},
   "outputs": [
    {
     "name": "stdout",
     "output_type": "stream",
     "text": [
      "Player 1 wins 0.6711 fration of the games.\n",
      "Average number of turns: 5.33\n"
     ]
    }
   ],
   "source": [
    "numSims = 10000\n",
    "\n",
    "num_1_wins = 0\n",
    "avg_num_turns = 0\n",
    "for i in range(numSims):\n",
    "    winner, num_turns = simulate_game()\n",
    "    avg_num_turns += num_turns\n",
    "    if winner == 1:\n",
    "        num_1_wins += 1\n",
    "avg_num_turns /= numSims\n",
    "print(f\"Player 1 wins {num_1_wins/numSims} fration of the games.\")\n",
    "print(f\"Average number of turns: {avg_num_turns:.2f}\")"
   ]
  },
  {
   "cell_type": "markdown",
   "metadata": {},
   "source": [
    "### Is the winning fration plausibly 2/3?\n",
    "Let's compute an (approximate) confidence interval."
   ]
  },
  {
   "cell_type": "code",
   "execution_count": 7,
   "metadata": {},
   "outputs": [
    {
     "name": "stdout",
     "output_type": "stream",
     "text": [
      "Standard deviation: 0.0047\n",
      "95% confidence interval: (0.6619, 0.6803)\n"
     ]
    }
   ],
   "source": [
    "phat = num_1_wins / numSims\n",
    "std_dev = ((phat * (1 - phat)) / numSims) ** 0.5\n",
    "print(f\"Standard deviation: {std_dev:.4f}\")\n",
    "\n",
    "#print a confidence interval\n",
    "z = 1.96  # for 95% confidence\n",
    "lower_bound = phat - z * std_dev\n",
    "upper_bound = phat + z * std_dev\n",
    "print(f\"95% confidence interval: ({lower_bound:.4f}, {upper_bound:.4f})\")"
   ]
  },
  {
   "cell_type": "code",
   "execution_count": null,
   "metadata": {},
   "outputs": [],
   "source": []
  }
 ],
 "metadata": {
  "kernelspec": {
   "display_name": "base",
   "language": "python",
   "name": "python3"
  },
  "language_info": {
   "codemirror_mode": {
    "name": "ipython",
    "version": 3
   },
   "file_extension": ".py",
   "mimetype": "text/x-python",
   "name": "python",
   "nbconvert_exporter": "python",
   "pygments_lexer": "ipython3",
   "version": "3.11.5"
  }
 },
 "nbformat": 4,
 "nbformat_minor": 2
}
