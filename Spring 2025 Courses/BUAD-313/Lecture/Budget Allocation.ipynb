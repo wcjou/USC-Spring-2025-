{
 "cells": [
  {
   "cell_type": "markdown",
   "metadata": {},
   "source": [
    "### Project Investments"
   ]
  },
  {
   "cell_type": "code",
   "execution_count": 1,
   "metadata": {},
   "outputs": [],
   "source": [
    "import numpy as np\n",
    "from gurobipy import Model, GRB, quicksum\n",
    "import pandas as pd"
   ]
  },
  {
   "cell_type": "markdown",
   "metadata": {},
   "source": [
    "##  Step 0:  Data Wrangling\n",
    "I did this for you.."
   ]
  },
  {
   "cell_type": "code",
   "execution_count": 7,
   "metadata": {},
   "outputs": [],
   "source": [
    "# define a set of projects 1 through 20\n",
    "projects = range(1, 21)\n",
    "\n",
    "investment_costs = [\n",
    "    13, 30, 20, 13, 27, 23, 25, 18, 17, 15, \n",
    "    11, 25, 22, 11, 22, 24, 26, 22, 20, 12\n",
    "]\n",
    "\n",
    "net_earnings = [\n",
    "    4, 25, 18, 10, 15, 18, 24, 17, 13, 11, \n",
    "    5, 19, 15, 9, 17, 19, 25, 17, 10, 1\n",
    "]\n",
    "\n",
    "total_budget = 220"
   ]
  },
  {
   "cell_type": "markdown",
   "metadata": {},
   "source": [
    "### Formulate a Model"
   ]
  },
  {
   "cell_type": "code",
   "execution_count": 19,
   "metadata": {},
   "outputs": [
    {
     "name": "stdout",
     "output_type": "stream",
     "text": [
      "Gurobi Optimizer version 12.0.0 build v12.0.0rc1 (mac64[x86] - Darwin 23.5.0 23F79)\n",
      "\n",
      "CPU model: Intel(R) Core(TM) i5-1038NG7 CPU @ 2.00GHz\n",
      "Thread count: 4 physical cores, 8 logical processors, using up to 8 threads\n",
      "\n",
      "Optimize a model with 1 rows, 20 columns and 20 nonzeros\n",
      "Model fingerprint: 0x52dd7d1e\n",
      "Variable types: 0 continuous, 20 integer (20 binary)\n",
      "Coefficient statistics:\n",
      "  Matrix range     [1e+01, 3e+01]\n",
      "  Objective range  [1e+00, 2e+01]\n",
      "  Bounds range     [1e+00, 1e+00]\n",
      "  RHS range        [2e+02, 2e+02]\n",
      "Found heuristic solution: objective 156.0000000\n",
      "Presolve removed 1 rows and 20 columns\n",
      "Presolve time: 0.00s\n",
      "Presolve: All rows and columns removed\n",
      "\n",
      "Explored 0 nodes (0 simplex iterations) in 0.04 seconds (0.00 work units)\n",
      "Thread count was 1 (of 8 available processors)\n",
      "\n",
      "Solution count 2: 187 156 \n",
      "\n",
      "Optimal solution found (tolerance 1.00e-04)\n",
      "Best objective 1.870000000000e+02, best bound 1.870000000000e+02, gap 0.0000%\n",
      "Project 2 is selected\n",
      "Investment cost: 30\n",
      "Net earnings: 25\n",
      "\n",
      "Project 3 is selected\n",
      "Investment cost: 20\n",
      "Net earnings: 18\n",
      "\n",
      "Project 6 is selected\n",
      "Investment cost: 23\n",
      "Net earnings: 18\n",
      "\n",
      "Project 7 is selected\n",
      "Investment cost: 25\n",
      "Net earnings: 24\n",
      "\n",
      "Project 8 is selected\n",
      "Investment cost: 18\n",
      "Net earnings: 17\n",
      "\n",
      "Project 9 is selected\n",
      "Investment cost: 17\n",
      "Net earnings: 13\n",
      "\n",
      "Project 12 is selected\n",
      "Investment cost: 25\n",
      "Net earnings: 19\n",
      "\n",
      "Project 14 is selected\n",
      "Investment cost: 11\n",
      "Net earnings: 9\n",
      "\n",
      "Project 16 is selected\n",
      "Investment cost: 24\n",
      "Net earnings: 19\n",
      "\n",
      "Project 17 is selected\n",
      "Investment cost: 26\n",
      "Net earnings: 25\n",
      "\n"
     ]
    }
   ],
   "source": [
    "m = Model()\n",
    "\n",
    "x = m.addVars(projects, vtype=GRB.BINARY) # x is a dictionary with the keys as the project (1-20) and the values as the binary decision variable (0 or 1)\n",
    "\n",
    "m.setObjective(quicksum(net_earnings[i-1] * x[i] for i in projects), GRB.MAXIMIZE)\n",
    "\n",
    "m.addConstr(quicksum(investment_costs[i-1] * x[i] for i in projects) <= total_budget)\n",
    "\n",
    "m.optimize()\n",
    "\n",
    "\n",
    "# print the results\n",
    "for i in projects:\n",
    "    if x[i].x > 0.5:\n",
    "        print(f\"Project {i} is selected\")\n",
    "        print(f\"Investment cost: {investment_costs[i-1]}\")\n",
    "        print(f\"Net earnings: {net_earnings[i-1]}\")\n",
    "        print()\n",
    "\n",
    "\n"
   ]
  }
 ],
 "metadata": {
  "kernelspec": {
   "display_name": "base",
   "language": "python",
   "name": "python3"
  },
  "language_info": {
   "codemirror_mode": {
    "name": "ipython",
    "version": 3
   },
   "file_extension": ".py",
   "mimetype": "text/x-python",
   "name": "python",
   "nbconvert_exporter": "python",
   "pygments_lexer": "ipython3",
   "version": "3.12.7"
  },
  "orig_nbformat": 4
 },
 "nbformat": 4,
 "nbformat_minor": 2
}
