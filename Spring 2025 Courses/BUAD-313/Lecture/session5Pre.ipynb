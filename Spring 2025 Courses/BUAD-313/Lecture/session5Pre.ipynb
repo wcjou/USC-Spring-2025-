{
 "cells": [
  {
   "cell_type": "markdown",
   "metadata": {},
   "source": [
    "## BUAD 313 - Spring 2025\n",
    "### Refinery Optimization\n",
    "\n",
    "This LP is based on the refinery optimization problem described in the mini-case reading, which is available on Brightspace. Please refer to that pdf for the full details of the problem -- it is quite detailed for just two pages! \n",
    "\n",
    "The first cell imports the packages we always use for optimization problems."
   ]
  },
  {
   "cell_type": "code",
   "execution_count": 1,
   "metadata": {},
   "outputs": [],
   "source": [
    "import numpy as np\n",
    "from gurobipy import Model, GRB, quicksum"
   ]
  },
  {
   "cell_type": "markdown",
   "metadata": {},
   "source": [
    "This next cell introduces the model and defines the decision variables. Because there are many variables, it also prints the number of variables and the names of the variables so that we can check that we have all the variables we wrote down in our model. *However, it is not necessary to print the number or names of the variables in your implementation, and you can remove this code if you like.*"
   ]
  },
  {
   "cell_type": "code",
   "execution_count": null,
   "metadata": {},
   "outputs": [
    {
     "data": {
      "text/plain": [
       "<gurobi.Constr *Awaiting Model Update*>"
      ]
     },
     "execution_count": 12,
     "metadata": {},
     "output_type": "execute_result"
    }
   ],
   "source": [
    "# define a gurobipy model m and name it \"refinery\"\n",
    "m = Model(\"refinery\")\n",
    "\n",
    "# VARIABLES\n",
    "\n",
    "# add linear decision variables for the input of distillation process: CrudeA and CrudeB\n",
    "CrudeA = m.addVar(vtype=GRB.CONTINUOUS, name=\"CrudeA\")\n",
    "CrudeB = m.addVar(vtype=GRB.CONTINUOUS, name=\"CrudeB\")\n",
    "\n",
    "# add linear decision variables for the output of distillation process: LightN, MedN, HeavyN, LightO, HeavyO, Res\n",
    "LightN = m.addVar(vtype=GRB.CONTINUOUS, name=\"LightN\")\n",
    "MedN = m.addVar(vtype=GRB.CONTINUOUS, name=\"MedN\")\n",
    "HeavyN = m.addVar(vtype=GRB.CONTINUOUS, name=\"HeavyN\")\n",
    "LightO = m.addVar(vtype=GRB.CONTINUOUS, name=\"LightO\")\n",
    "HeavyO = m.addVar(vtype=GRB.CONTINUOUS, name=\"HeavyO\")\n",
    "Res = m.addVar(vtype=GRB.CONTINUOUS, name=\"Res\")\n",
    "\n",
    "# add linear decision variables for the inputs of the reforming process: LightN_ReformedG, MedN_ReformedG, HeavyN_ReformedG\n",
    "LightN_ReformedG = m.addVar(vtype=GRB.CONTINUOUS, name=\"LightN_ReformedG\")\n",
    "MedN_ReformedG = m.addVar(vtype=GRB.CONTINUOUS, name=\"MedN_ReformedG\")\n",
    "HeavyN_ReformedG = m.addVar(vtype=GRB.CONTINUOUS, name=\"HeavyN_ReformedG\")\n",
    "\n",
    "# add a linear decision variable for the output of the reforming process: ReformedG\n",
    "ReformedG = m.addVar(vtype=GRB.CONTINUOUS, name=\"ReformedG\")\n",
    "\n",
    "# add linear decision variables for the inputs of the cracking process: LightO_Crack, HeavyO_Crack\n",
    "LightO_Crack = m.addVar(vtype=GRB.CONTINUOUS, name=\"LightO_Crack\")\n",
    "HeavyO_Crack = m.addVar(vtype=GRB.CONTINUOUS, name=\"HeavyO_Crack\")\n",
    "\n",
    "# add linear decision variables for the outputs of the cracking process: CrackedG, CrackedO\n",
    "CrackedG = m.addVar(vtype=GRB.CONTINUOUS, name=\"CrackedG\")\n",
    "CrackedO = m.addVar(vtype=GRB.CONTINUOUS, name=\"CrackedO\")\n",
    "\n",
    "# add linear decision variables for the inputs of the blending process for PMF: LightN_PMF, MedN_PMF, HeavyN_PMF, ReformedG_PMF, CrackedG_PMF\n",
    "LightN_PMF = m.addVar(vtype=GRB.CONTINUOUS, name=\"LightN_PMF\")\n",
    "MedN_PMF = m.addVar(vtype=GRB.CONTINUOUS, name=\"MedN_PMF\")\n",
    "HeavyN_PMF = m.addVar(vtype=GRB.CONTINUOUS, name=\"HeavyN_PMF\")\n",
    "ReformedG_PMF = m.addVar(vtype=GRB.CONTINUOUS, name=\"ReformedG_PMF\")\n",
    "CrackedG_PMF = m.addVar(vtype=GRB.CONTINUOUS, name=\"CrackedG_PMF\")\n",
    "\n",
    "# add a linear decision variable for the output of the blending process for PMF: PMF\n",
    "PMF = m.addVar(vtype=GRB.CONTINUOUS, name=\"PMF\")\n",
    "\n",
    "# add linear decision variables for the inputs of the blending process for RMF: LightN_RMF, MedN_RMF, HeavyN_RMF, ReformedG_RMF, CrackedG_RMF\n",
    "LightN_RMF = m.addVar(vtype=GRB.CONTINUOUS, name=\"LightN_RMF\")\n",
    "MedN_RMF = m.addVar(vtype=GRB.CONTINUOUS, name=\"MedN_RMF\")\n",
    "HeavyN_RMF = m.addVar(vtype=GRB.CONTINUOUS, name=\"HeavyN_RMF\")\n",
    "ReformedG_RMF = m.addVar(vtype=GRB.CONTINUOUS, name=\"ReformedG_RMF\")\n",
    "CrackedG_RMF = m.addVar(vtype=GRB.CONTINUOUS, name=\"CrackedG_RMF\")\n",
    "\n",
    "# add a linear decision variable for the output of the blending process for RMF: RMF\n",
    "RMF = m.addVar(vtype=GRB.CONTINUOUS, name=\"RMF\")\n",
    "# add linear decision variables for the inputs of the blending process for JF: LightO_JF, HeavyO_JF, CrackedO_JF, Res_JF\n",
    "LightO_JF = m.addVar(vtype=GRB.CONTINUOUS, name=\"LightO_JF\")\n",
    "HeavyO_JF = m.addVar(vtype=GRB.CONTINUOUS, name=\"HeavyO_JF\")\n",
    "CrackedO_JF = m.addVar(vtype=GRB.CONTINUOUS, name=\"CrackedO_JF\")\n",
    "Res_JF = m.addVar(vtype=GRB.CONTINUOUS, name=\"Res_JF\")\n",
    "\n",
    "# add a linear decision variable for the output of the blending process for JF: JF\n",
    "JF = m.addVar(vtype=GRB.CONTINUOUS, name=\"JF\")\n",
    "\n",
    "# add linear decision variables for the inputs of the blending process for FO: LightO_FO, HeavyO_FO, CrackedO_FO, Res_FO\n",
    "LightO_FO = m.addVar(vtype=GRB.CONTINUOUS, name=\"LightO_FO\")\n",
    "HeavyO_FO = m.addVar(vtype=GRB.CONTINUOUS, name=\"HeavyO_FO\")\n",
    "CrackedO_FO = m.addVar(vtype=GRB.CONTINUOUS, name=\"CrackedO_FO\")\n",
    "Res_FO = m.addVar(vtype=GRB.CONTINUOUS, name=\"Res_FO\")\n",
    "\n",
    "# add a linear decision variable for the output of the blending process for FO: FO\n",
    "FO = m.addVar(vtype=GRB.CONTINUOUS, name=\"FO\")\n",
    "\n",
    "# add a linear decision variable for the input for the process to create LBO: Res_LBO\n",
    "Res_LBO = m.addVar(vtype=GRB.CONTINUOUS, name=\"Res_LBO\")\n",
    "\n",
    "# add a linear decision variable for the output of the process to create LBO: LBO\n",
    "LBO = m.addVar(vtype=GRB.CONTINUOUS, name=\"LBO\")\n",
    "\n",
    "# update the model to include the variables\n",
    "m.update()\n",
    "\n",
    "# # print the number of decision variables in the model\n",
    "# print(\"Number of decision variables in the model = \", m.NumVars)\n",
    "# # print the names of the variables in the model, with one variable per line and numbers in front of the variables, starting at 1\n",
    "# for i, v in enumerate(m.getVars()):\n",
    "#     print(i+1, v.varName)\n",
    "\n",
    "# CONSTRAINTS\n",
    "\n",
    "m.addConstr(CrudeA <= 20000, name=\"CrudeALimit\")\n",
    "m.addConstr(CrudeB <= 30000, name=\"CrudeBLimit\")\n",
    "m.addConstr(CrudeA + CrudeB <= 45000, name=\"DistillationLimit\")\n",
    "m.addConstr(LightN_ReformedG + MedN_ReformedG + HeavyN_ReformedG <= 10000, name=\"ReformingLimit\")\n",
    "m.addConstr(LightO_Crack + HeavyO_Crack <= 8000, name=\"CrackingLimit\")\n",
    "m.addConstr(LBO>=500, name=\"LBO_LowerLimit\")\n",
    "m.addConstr(LBO<=1000, name=\"LBO_UpperLimit\")\n",
    "m.addConstr(PMF >= 0.4*RMF, name=\"PMF_RMF_Limit\")\n",
    "\n",
    "# blending constraints for fuel oil\n",
    "m.addConstr(10*FO/18 == LightO_FO, name=\"FO_Blending_LightO\")\n",
    "m.addConstr(3*FO/18 == HeavyO_FO, name=\"FO_Blending_HeavyO\")\n",
    "m.addConstr(4*FO/18 == CrackedO_FO, name=\"FO_Blending_CrackedO\")\n",
    "m.addConstr(1*FO/18 == Res_FO, name=\"FO_Blending_Res\")\n",
    "\n",
    "# volume constraints\n",
    "m.addConstr(JF == LightO_JF + HeavyO_JF + CrackedO_JF + Res_JF, name=\"JF_Volume\")\n",
    "m.addConstr(1 * LightO_JF + 0.60*HeavyO_JF + 1.50 * CrackedO_JF + 0.05 * Res_JF <= JF, name=\"VaporPressureRequirement\")\n",
    "\n",
    "\n",
    "\n",
    "\n",
    "\n",
    "\n"
   ]
  },
  {
   "cell_type": "markdown",
   "metadata": {},
   "source": [
    "*From this point forward, we will complete the model together in class.*"
   ]
  },
  {
   "cell_type": "markdown",
   "metadata": {},
   "source": []
  }
 ],
 "metadata": {
  "kernelspec": {
   "display_name": "base",
   "language": "python",
   "name": "python3"
  },
  "language_info": {
   "codemirror_mode": {
    "name": "ipython",
    "version": 3
   },
   "file_extension": ".py",
   "mimetype": "text/x-python",
   "name": "python",
   "nbconvert_exporter": "python",
   "pygments_lexer": "ipython3",
   "version": "3.12.7"
  }
 },
 "nbformat": 4,
 "nbformat_minor": 2
}
