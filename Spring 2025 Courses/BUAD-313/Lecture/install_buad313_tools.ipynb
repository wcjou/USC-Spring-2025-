{
 "cells": [
  {
   "cell_type": "code",
   "execution_count": 1,
   "metadata": {},
   "outputs": [
    {
     "name": "stdout",
     "output_type": "stream",
     "text": [
      "Collecting git+https://github.com/vgupta1/313_tools.git\n",
      "  Cloning https://github.com/vgupta1/313_tools.git to c:\\users\\willi\\appdata\\local\\temp\\pip-req-build-w_39kzcz\n",
      "  Resolved https://github.com/vgupta1/313_tools.git to commit 6e9bdef0097564861f8f57c4ed38a7de033dc320\n",
      "  Preparing metadata (setup.py): started\n",
      "  Preparing metadata (setup.py): finished with status 'done'\n",
      "Building wheels for collected packages: buad313_tools\n",
      "  Building wheel for buad313_tools (setup.py): started\n",
      "  Building wheel for buad313_tools (setup.py): finished with status 'done'\n",
      "  Created wheel for buad313_tools: filename=buad313_tools-0.1-py3-none-any.whl size=3411 sha256=bbc42703a9bfff461452454b9cea9e66109daf6f56a25cfecab196dcb5b2dda2\n",
      "  Stored in directory: C:\\Users\\willi\\AppData\\Local\\Temp\\pip-ephem-wheel-cache-twlv0v_a\\wheels\\19\\55\\81\\cd5f1cc12092c193115a97aa51a854c57a1534e1ad91653d41\n",
      "Successfully built buad313_tools\n",
      "Installing collected packages: buad313_tools\n",
      "Successfully installed buad313_tools-0.1\n"
     ]
    },
    {
     "name": "stderr",
     "output_type": "stream",
     "text": [
      "  Running command git clone --filter=blob:none --quiet https://github.com/vgupta1/313_tools.git 'C:\\Users\\willi\\AppData\\Local\\Temp\\pip-req-build-w_39kzcz'\n"
     ]
    }
   ],
   "source": [
    "!pip install git+https://github.com/vgupta1/313_tools.git"
   ]
  },
  {
   "cell_type": "code",
   "execution_count": 2,
   "metadata": {},
   "outputs": [],
   "source": [
    "import buad313_tools"
   ]
  },
  {
   "cell_type": "code",
   "execution_count": null,
   "metadata": {},
   "outputs": [],
   "source": [
    "# to call sensitivity analysis:\n",
    "# buad313_tools.sensitivity_analysis(model)"
   ]
  }
 ],
 "metadata": {
  "kernelspec": {
   "display_name": "base",
   "language": "python",
   "name": "python3"
  },
  "language_info": {
   "codemirror_mode": {
    "name": "ipython",
    "version": 3
   },
   "file_extension": ".py",
   "mimetype": "text/x-python",
   "name": "python",
   "nbconvert_exporter": "python",
   "pygments_lexer": "ipython3",
   "version": "3.12.7"
  }
 },
 "nbformat": 4,
 "nbformat_minor": 2
}
