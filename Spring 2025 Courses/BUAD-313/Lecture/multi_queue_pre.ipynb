{
 "cells": [
  {
   "cell_type": "markdown",
   "id": "9b80d083",
   "metadata": {},
   "source": [
    "## A MultiServer Queue\n",
    "\n",
    "Let's develop a simulation for single FIFO Queue that leads to 3 servers.  \n",
    " - Customer arrivals follow a poisson process with rate $\\lambda$, (i.e. the interarrival times are exponentially distributed with mean $1/\\lambda$).\n",
    " - Service Times are follow an exponential distribution with mean $1/\\mu$.\n",
    " - There are $c$ different servers.\n",
    "\n",
    " We want to simulate one replication path with $numCustomer$ arrivals."
   ]
  },
  {
   "cell_type": "code",
   "execution_count": 12,
   "id": "0f680c59",
   "metadata": {},
   "outputs": [],
   "source": [
    "import numpy as np  "
   ]
  },
  {
   "cell_type": "markdown",
   "id": "7c3f06e4",
   "metadata": {},
   "source": [
    "Write a function that takes in $\\lambda$, $\\mu$, $c$, numCustomers, simulates one replication path, and returns ther arrays A, S, D of the arrival times, start of service, and departure times for the first numCustomer arrivals."
   ]
  },
  {
   "cell_type": "code",
   "execution_count": null,
   "id": "f740d98e",
   "metadata": {},
   "outputs": [],
   "source": []
  },
  {
   "cell_type": "markdown",
   "id": "25f0aac0",
   "metadata": {},
   "source": [
    "#### For you:  Write a function that takes in the arrays A, S, D and computes \n",
    " - The average waiting time across customers\n",
    " - The average length of the queue (averaged over time)"
   ]
  },
  {
   "cell_type": "markdown",
   "id": "9b12ba87",
   "metadata": {},
   "source": [
    "### (For you): Compute the expected average waiting time across the first 100 arrivals using a simulation with 1000 path"
   ]
  },
  {
   "cell_type": "markdown",
   "id": "4df73620",
   "metadata": {},
   "source": [
    "### More interesting service times\n",
    "Suppose you believe that 10\\% of customers have very difficult requests that take a long time for service, say they take $1/\\mu_2 > 1/\\mu_1$ time.  How would you alter your simulation?"
   ]
  },
  {
   "cell_type": "code",
   "execution_count": null,
   "id": "fa469606",
   "metadata": {},
   "outputs": [],
   "source": []
  }
 ],
 "metadata": {
  "kernelspec": {
   "display_name": "base",
   "language": "python",
   "name": "python3"
  },
  "language_info": {
   "codemirror_mode": {
    "name": "ipython",
    "version": 3
   },
   "file_extension": ".py",
   "mimetype": "text/x-python",
   "name": "python",
   "nbconvert_exporter": "python",
   "pygments_lexer": "ipython3",
   "version": "3.11.5"
  }
 },
 "nbformat": 4,
 "nbformat_minor": 5
}
