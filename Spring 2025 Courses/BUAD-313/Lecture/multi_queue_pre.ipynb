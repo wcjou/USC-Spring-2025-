{
 "cells": [
  {
   "cell_type": "markdown",
   "id": "9b80d083",
   "metadata": {},
   "source": [
    "## A MultiServer Queue\n",
    "\n",
    "Let's develop a simulation for single FIFO Queue that leads to 3 servers.  \n",
    " - Customer arrivals follow a poisson process with rate $\\lambda$, (i.e. the interarrival times are exponentially distributed with mean $1/\\lambda$).\n",
    " - Service Times are follow an exponential distribution with mean $1/\\mu$.\n",
    " - There are $c$ different servers.\n",
    "\n",
    " We want to simulate one replication path with $numCustomer$ arrivals."
   ]
  },
  {
   "cell_type": "code",
   "execution_count": 1,
   "id": "0f680c59",
   "metadata": {},
   "outputs": [],
   "source": [
    "import numpy as np  "
   ]
  },
  {
   "cell_type": "markdown",
   "id": "7c3f06e4",
   "metadata": {},
   "source": [
    "Write a function that takes in $\\lambda$, $\\mu$, $c$, numCustomers, simulates one replication path, and returns ther arrays A, S, D of the arrival times, start of service, and departure times for the first numCustomer arrivals."
   ]
  },
  {
   "cell_type": "code",
   "execution_count": 13,
   "id": "f740d98e",
   "metadata": {},
   "outputs": [],
   "source": [
    "def sim_one_path(lam, mu, c, numCustomers):\n",
    "    A = np.zeros(numCustomers) # Arrival Times\n",
    "    S = np.zeros(numCustomers) # Service Start Times\n",
    "    D = np.zeros(numCustomers) # Departure Times\n",
    "\n",
    "    server_completes_at = np.full(c, np.inf) # serverState[i] is the time when server i is free\n",
    "    customers_in_service = [-1] * c\n",
    "    queue = [] # index of customers that are currently waiting\n",
    "    indx_arriving_customer = 0\n",
    "    next_arrival = np.random.exponential(1/lam) # time of next arrival\n",
    "    A[0] = next_arrival\n",
    "    now = 0\n",
    "    numCompletedService = 0\n",
    "\n",
    "    while True:\n",
    "        next_completion = np.min(server_completes_at)\n",
    "        # next event is an arrival\n",
    "        if next_arrival < next_completion: # someone arrives\n",
    "            now = next_arrival\n",
    "            # check if there is a free server\n",
    "            if np.max(server_completes_at) == np.inf:\n",
    "                indx_free_server = np.argmax(server_completes_at) # find the first free server\n",
    "                \n",
    "                # assign customer to free server\n",
    "                customers_in_service[indx_free_server] = indx_arriving_customer\n",
    "                server_completes_at[indx_free_server] = now + np.random.exponential(1/mu)\n",
    "                S[indx_arriving_customer] = now\n",
    "                # update for next arriving customer\n",
    "                indx_arriving_customer += 1\n",
    "                A[indx_arriving_customer] = now + np.random.exponential(1/lam)\n",
    "            else: # no free server, so add to the queue\n",
    "                queue.append(indx_arriving_customer)\n",
    "                # update for next arriving customer\n",
    "                \n",
    "            indx_arriving_customer += 1\n",
    "            A[indx_arriving_customer] = now + np.random.exponential(1/lam)\n",
    "        else: # next event is a completion\n",
    "            now = next_completion\n",
    "            \n",
    "            #find the server that completes first:\n",
    "            indx_completing_server = np.argmin(server_completes_at)\n",
    "            indx_leaving_customer = customers_in_service[indx_completing_server]\n",
    "\n",
    "            #record departure time\n",
    "            D[indx_leaving_customer] = now\n",
    "            numCompletedService += 1\n",
    "\n",
    "            if numCompletedService >= numCustomers:\n",
    "                break\n",
    "\n",
    "            # check if there are people waiting\n",
    "            if len(queue) > 0:\n",
    "                customer_entering_service = queue[0]\n",
    "                customers_in_service[indx_completing_server] = customer_entering_service\n",
    "                server_completes_at[indx_completing_server] = now + np.random.exponential(1/mu)\n",
    "                S[customer_entering_service] = now\n",
    "\n",
    "                #remove the customer from the queue\n",
    "                queue = queue[1:]\n",
    "            else: # no people waiting\n",
    "                customers_in_service[indx_completing_server] = -1\n",
    "                server_completes_at[indx_completing_server] = np.inf\n",
    "\n",
    "    return A, S, D\n"
   ]
  },
  {
   "cell_type": "code",
   "execution_count": 12,
   "id": "26e3db49",
   "metadata": {},
   "outputs": [
    {
     "ename": "IndexError",
     "evalue": "index 30 is out of bounds for axis 0 with size 30",
     "output_type": "error",
     "traceback": [
      "\u001b[0;31m---------------------------------------------------------------------------\u001b[0m",
      "\u001b[0;31mIndexError\u001b[0m                                Traceback (most recent call last)",
      "Cell \u001b[0;32mIn[12], line 1\u001b[0m\n\u001b[0;32m----> 1\u001b[0m sim_one_path(\u001b[38;5;241m1\u001b[39m, \u001b[38;5;241m.8\u001b[39m, \u001b[38;5;241m2\u001b[39m, \u001b[38;5;241m30\u001b[39m)\n",
      "Cell \u001b[0;32mIn[11], line 37\u001b[0m, in \u001b[0;36msim_one_path\u001b[0;34m(lam, mu, c, numCustomers)\u001b[0m\n\u001b[1;32m     34\u001b[0m         \u001b[38;5;66;03m# update for next arriving customer\u001b[39;00m\n\u001b[1;32m     36\u001b[0m     indx_arriving_customer \u001b[38;5;241m+\u001b[39m\u001b[38;5;241m=\u001b[39m \u001b[38;5;241m1\u001b[39m\n\u001b[0;32m---> 37\u001b[0m     A[indx_arriving_customer] \u001b[38;5;241m=\u001b[39m now \u001b[38;5;241m+\u001b[39m np\u001b[38;5;241m.\u001b[39mrandom\u001b[38;5;241m.\u001b[39mexponential(\u001b[38;5;241m1\u001b[39m\u001b[38;5;241m/\u001b[39mlam)\n\u001b[1;32m     38\u001b[0m \u001b[38;5;28;01melse\u001b[39;00m: \u001b[38;5;66;03m# next event is a completion\u001b[39;00m\n\u001b[1;32m     39\u001b[0m     now \u001b[38;5;241m=\u001b[39m next_completion\n",
      "\u001b[0;31mIndexError\u001b[0m: index 30 is out of bounds for axis 0 with size 30"
     ]
    }
   ],
   "source": [
    "sim_one_path(1, .8, 2, 30)"
   ]
  },
  {
   "cell_type": "markdown",
   "id": "25f0aac0",
   "metadata": {},
   "source": [
    "#### For you:  Write a function that takes in the arrays A, S, D and computes \n",
    " - The average waiting time across customers\n",
    " - The average length of the queue (averaged over time)"
   ]
  },
  {
   "cell_type": "markdown",
   "id": "9b12ba87",
   "metadata": {},
   "source": [
    "### (For you): Compute the expected average waiting time across the first 100 arrivals using a simulation with 1000 path"
   ]
  },
  {
   "cell_type": "markdown",
   "id": "4df73620",
   "metadata": {},
   "source": [
    "### More interesting service times\n",
    "Suppose you believe that 10\\% of customers have very difficult requests that take a long time for service, say they take $1/\\mu_2 > 1/\\mu_1$ time.  How would you alter your simulation?"
   ]
  },
  {
   "cell_type": "code",
   "execution_count": null,
   "id": "fa469606",
   "metadata": {},
   "outputs": [],
   "source": []
  }
 ],
 "metadata": {
  "kernelspec": {
   "display_name": "base",
   "language": "python",
   "name": "python3"
  },
  "language_info": {
   "codemirror_mode": {
    "name": "ipython",
    "version": 3
   },
   "file_extension": ".py",
   "mimetype": "text/x-python",
   "name": "python",
   "nbconvert_exporter": "python",
   "pygments_lexer": "ipython3",
   "version": "3.12.7"
  }
 },
 "nbformat": 4,
 "nbformat_minor": 5
}
