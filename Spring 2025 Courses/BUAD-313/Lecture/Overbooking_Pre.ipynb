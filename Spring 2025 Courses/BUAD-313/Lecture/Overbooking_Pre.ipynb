{
 "cells": [
  {
   "cell_type": "markdown",
   "metadata": {},
   "source": [
    "## BlueSky Airlines Case (Revisited)"
   ]
  },
  {
   "cell_type": "markdown",
   "metadata": {},
   "source": [
    "Python packages for simulation:"
   ]
  },
  {
   "cell_type": "code",
   "execution_count": 1,
   "metadata": {},
   "outputs": [],
   "source": [
    "import numpy as np\n",
    "import matplotlib.pyplot as plt"
   ]
  },
  {
   "cell_type": "markdown",
   "metadata": {},
   "source": [
    "Given the demand for FF, $D_{F}$, and the demand for SS, $D_S$, the revenue with a SS booking limit equal to 120 is\n",
    "\n",
    "$$\n",
    "R = 350 * \\min(D_S, 120) + 850 * \\min(D_F, 200 - \\min(D_S, 120))\n",
    "$$\n"
   ]
  },
  {
   "cell_type": "markdown",
   "metadata": {},
   "source": [
    "### Creating our baseline simulation"
   ]
  },
  {
   "cell_type": "code",
   "execution_count": 2,
   "metadata": {},
   "outputs": [],
   "source": [
    "# set the number of simulations, numRep\n",
    "numRep = 50000\n",
    "\n",
    "# define two fare types, SS and FF\n",
    "fareType = ['SS', 'FF']\n",
    "\n",
    "# define mean and standard deviations dictionaries for the two fare types: 130 and 45 for SS, 55 and 20 for FF\n",
    "mean = {'SS': 130, 'FF': 55}\n",
    "stdev = {'SS': 45, 'FF': 20}\n",
    "\n",
    "# define prices for the two fare types: 350 for SS, 850 for FF\n",
    "price = {'SS': 350, 'FF': 850}\n",
    "\n",
    "# define the booking limit for SS, 120\n",
    "bookLimitSS = 120\n",
    "\n",
    "# define the plane capacity, 200\n",
    "planeCapacity = 200\n",
    "\n",
    "# set the seed\n",
    "np.random.seed(18)"
   ]
  },
  {
   "cell_type": "code",
   "execution_count": 3,
   "metadata": {},
   "outputs": [],
   "source": [
    "revenues = np.zeros(numRep)\n",
    "prob_one_empty = 0\n",
    "prob_low_revenue = 0\n",
    "\n",
    "for rep in range(numRep):\n",
    "    #generate a normal random variable called DS with mean mean[SS] and standard deviation stdev[SS]\n",
    "    DS = np.random.normal(mean['SS'], stdev['SS'])\n",
    "    DS = max(0, DS)  # Ensure DS is non-negative\n",
    "\n",
    "    #round DS to the nearest integer\n",
    "    DS = round(DS)\n",
    "\n",
    "    #generate a normal random variable called DF with mean mean[FF] and standard deviation stdev[FF]\n",
    "    DF = np.random.normal(mean['FF'], stdev['FF'])\n",
    "    DF = max(0, DF)\n",
    "\n",
    "    #round DF to the nearest integer\n",
    "    DF = round(DF)\n",
    "\n",
    "    XS = min(DS, 120)\n",
    "    XF = min(DF, 200 - XS)\n",
    "\n",
    "    rev = 350 * XS + 850 * XF\n",
    "    revenues[rep] = rev\n",
    "\n",
    "    if XS + XF < planeCapacity:\n",
    "        prob_one_empty += 1\n",
    "\n",
    "    if rev < 75000:\n",
    "        prob_low_revenue += 1\n",
    "\n",
    "prob_one_empty /= numRep\n",
    "prob_low_revenue /= numRep"
   ]
  },
  {
   "cell_type": "code",
   "execution_count": 4,
   "metadata": {},
   "outputs": [
    {
     "name": "stdout",
     "output_type": "stream",
     "text": [
      "The average revenue is 83419.0\n",
      "The 95% confidence interval is 83264.0 to 83575.0\n",
      "The probability that there is at least one empty seat is 0.92596\n",
      "The probability that the revenue is less than 75,000 is 0.3033\n"
     ]
    }
   ],
   "source": [
    "#print the average revenue with zero digits\n",
    "print(\"The average revenue is\", round(np.mean(revenues), 0))\n",
    "\n",
    "#compute a 95% confidence interval for the average revenue\n",
    "CI_up   = np.mean(revenues) + 1.96 * np.std(revenues) / np.sqrt(numRep)\n",
    "CI_down = np.mean(revenues) - 1.96 * np.std(revenues) / np.sqrt(numRep)\n",
    "\n",
    "#print the confidence interval with zero digits\n",
    "print(\"The 95% confidence interval is\", round(CI_down, 0), \"to\", round(CI_up, 0))\n",
    "\n",
    "#print the probability that there is at least one empty seat\n",
    "print(\"The probability that there is at least one empty seat is\", prob_one_empty)\n",
    "\n",
    "#print the probability that the revenue is less than 75,000\n",
    "print(\"The probability that the revenue is less than 75,000 is\", prob_low_revenue)"
   ]
  },
  {
   "cell_type": "markdown",
   "metadata": {},
   "source": [
    "### Overbooking (alternate model)\n",
    "\n",
    "A simpler model of overbooking than the one presented in the case is as follows:\n",
    " - Round Demand so that it is a non-negative integer. \n",
    " - Each person independently \"flips a coin\" and shows up with probability $p_s$ or $p_F$ depending on their fare class.\n",
    "\n",
    "Use this modelto simulate expected revenue."
   ]
  },
  {
   "cell_type": "code",
   "execution_count": 5,
   "metadata": {},
   "outputs": [],
   "source": [
    "# define virtual capacity as 220\n",
    "virtualCapacity = 220\n",
    "\n",
    "# set the booking limit to 160\n",
    "bookLimit = 160\n",
    "\n",
    "# define a dictionary for the overbook cost for SS and FF to 450 and 1000, respectively\n",
    "overbookCost = {'SS': 450, 'FF': 1000}\n",
    "\n",
    "# define a list of revenues for each replication in the numSim simulations, and initialize it as a list of zeros\n",
    "revenue = np.zeros(numRep)\n",
    "\n",
    "#probabilities\n",
    "ps = .92\n",
    "pf = .95"
   ]
  },
  {
   "cell_type": "code",
   "execution_count": 6,
   "metadata": {},
   "outputs": [],
   "source": [
    "for n in range(numRep):\n",
    "    # generate a normal random variable for the SS demand using the mean and standard deviation defined above\n",
    "    demandSS = np.random.normal(mean['SS'], stdev['SS'])\n",
    "    \n",
    "    # generate a normal random variable for the FF demand using the mean and standard deviation defined above\n",
    "    demandFF = np.random.normal(mean['FF'], stdev['FF'])\n",
    "    \n",
    "    # calculate the number of tickets sold and the number of arrivals of each type of passengers\n",
    "    X_S = min(demandSS, bookLimit)\n",
    "    X_F = min(demandFF, virtualCapacity - X_S)"
   ]
  },
  {
   "cell_type": "code",
   "execution_count": null,
   "metadata": {},
   "outputs": [],
   "source": []
  },
  {
   "cell_type": "code",
   "execution_count": null,
   "metadata": {},
   "outputs": [],
   "source": []
  }
 ],
 "metadata": {
  "kernelspec": {
   "display_name": "base",
   "language": "python",
   "name": "python3"
  },
  "language_info": {
   "codemirror_mode": {
    "name": "ipython",
    "version": 3
   },
   "file_extension": ".py",
   "mimetype": "text/x-python",
   "name": "python",
   "nbconvert_exporter": "python",
   "pygments_lexer": "ipython3",
   "version": "3.12.7"
  }
 },
 "nbformat": 4,
 "nbformat_minor": 2
}
