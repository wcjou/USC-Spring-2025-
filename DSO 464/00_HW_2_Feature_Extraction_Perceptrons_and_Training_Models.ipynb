{
  "nbformat": 4,
  "nbformat_minor": 0,
  "metadata": {
    "colab": {
      "provenance": [],
      "toc_visible": true
    },
    "kernelspec": {
      "name": "python3",
      "display_name": "Python 3"
    },
    "language_info": {
      "name": "python"
    }
  },
  "cells": [
    {
      "cell_type": "markdown",
      "metadata": {
        "id": "702149d7"
      },
      "source": [
        "$\\rule{800pt}{20pt}$"
      ]
    },
    {
      "cell_type": "markdown",
      "metadata": {
        "id": "74b5cfbc"
      },
      "source": [
        "# Instructions\n",
        "<br>\n",
        "<font size=\"+1\">\n",
        "    <ul>\n",
        "        <li><b>Recommended Steps</b></li>\n",
        "        <br>\n",
        "        <ol>\n",
        "            <li>Read the prompt and summarize the task in your own words, using as few words as possible for ease of comprehension.</li>\n",
        "            <br>\n",
        "            <li>Pretend to be the computer program that you are trying to create. Examine the smaple inputs and manually produce the appropriate results. Afterward, verify the correctness of your logic by comparing with the given sample outputs.</li>\n",
        "            <br>\n",
        "            <li>On a scrap piece of paper, write step-by-step instructions so that someone else can pretend to be the computer program and produce the appropriate results for any possible inputs. These instructions should target a human audience who does not know the problem description and only has your instructions as a guide. These instructions should serve as the roadmap for your code.</li>\n",
        "            <br>\n",
        "            <li>On another scrap piece of paper, write fragments of Python code to implement each step in your roadmap, focusing especially on the trickiest parts of the logic.</li>\n",
        "            <br>\n",
        "            <li>With your roadmap and code fragments from the previous steps, type Python code into a new Jupyter notebook cel to solve the given problem. You should type incrementally and run the code whenever you add a small chunk. This allows you to correct errors as they occur. It may also be helpful to print intermediate results to verify that the code is carrying out the logic as desired.</li>\n",
        "            <br>\n",
        "            <li>Run your code with some sample inputs and verify that the outputs are exactly the same as the sample outputs.</li>\n",
        "            <br>\n",
        "            <li>Once all of your problems are finished, it is useful to click <i>Kernel</i> $\\rightarrow$ <i>Restart & Run All</i> to verify that your outputs for all of your problems continue to be correct. This helps to ensure that someone else will be able to replicate your results when running your notebook.</li>\n",
        "            <br>\n",
        "            <font color=\"red\"><li style=\"color:red\">Submit the <i>.ipynb</i> file on TurnItIn on Blackboard by the deadline. Be sure to refresh the page and double check your submission actually went through. <b>Note that you only need to submit your solutions, not all of the other recommended steps.</b> The recommended steps are meant to serve as a guide for your thinking process.</li></font>\n",
        "            <br>\n",
        "            <ul style=\"color:red\">\n",
        "            <font color=\"red\"><li>Do your best to make sure that I will be able to run it.</li>\n",
        "        <br>\n",
        "        <li>For example, read in the CSV files from the current directory. I.e., do not write the full path of the file in your code. That will allow me to run your notebook in any directory on my own PC.</li>\n",
        "        <br>\n",
        "        <li>Please use Text/Markdown cells to help me understand what you are doing. (I know it may be obvious, but I want to see that you know how to use Text/Markdown.)</li>\n",
        "        <br>\n",
        "        <li><b>Some of the questions may be vague, you can either ask me for clarification, or clearly explain your interpretation to the question and your solution to your interpretation</b>. Remember, an important part of being a data scientist is communication and soft skills, so take this as an opportunity to exercise those skills.</li></font>\n",
        "        <br>\n",
        "            </ul>\n",
        "        </ol>\n",
        "        <br>\n",
        "        $\\rule{800pt}{10pt}$\n",
        "        <br>\n",
        "        <li><b>Grading</b></li>\n",
        "        <br>\n",
        "        <li>There are four possible scores you can get from submitting this assignment on time (submitting a blank file or one without any apparent effort does not count). Note that the rubric is designed to incentivize you to go for $100%$ mastery of the material, as the little details matter in programming.</li>\n",
        "        <br>\n",
        "        <ul>\n",
        "            <li>Grade of $5$ out of $5$ - perfect submission with no significant errors</li>\n",
        "            <br>\n",
        "            <li>Grade of $4$ out of $5$ - near perfect submission with one or more significant errors</li>\n",
        "            <br>\n",
        "            <li>Grade of $2$ out of $5$ - apparent effort but far from perfect</li>\n",
        "            <br>\n",
        "            <li>Grade of $0$ out of $5$ - no submission or no apparent effort</li>\n",
        "            <br>\n",
        "        </ul>\n",
        "    </ul>\n",
        "</font>\n",
        "\n",
        "$\\square$"
      ]
    },
    {
      "cell_type": "markdown",
      "metadata": {
        "id": "0fb4a4c0"
      },
      "source": [
        "$\\rule{800pt}{20pt}$"
      ]
    },
    {
      "cell_type": "markdown",
      "metadata": {
        "id": "4a57d36f"
      },
      "source": [
        "# Before You Begin\n",
        "<br>\n",
        "<font size=\"+1\">\n",
        "    <ul>\n",
        "        <li>Please read: <b>Demand_Prediction_for_Algorithmic_and_Dynamic_Pricing_Using_Principal_Components_and_Perceptrons.ipynb</b></li>\n",
        "        <br>\n",
        "    </ul>\n",
        "</font>"
      ]
    },
    {
      "cell_type": "markdown",
      "metadata": {
        "id": "53e2370d"
      },
      "source": [
        "$\\rule{800pt}{20pt}$"
      ]
    },
    {
      "cell_type": "markdown",
      "source": [
        "# Imports"
      ],
      "metadata": {
        "id": "LA1Xzh9QPs_O"
      }
    },
    {
      "cell_type": "code",
      "execution_count": null,
      "metadata": {
        "colab": {
          "base_uri": "https://localhost:8080/"
        },
        "id": "528b2e2d",
        "outputId": "7693e04d-ca4e-4435-95b0-52c900230c99"
      },
      "outputs": [
        {
          "output_type": "stream",
          "name": "stdout",
          "text": [
            "Drive already mounted at /content/drive; to attempt to forcibly remount, call drive.mount(\"/content/drive\", force_remount=True).\n"
          ]
        }
      ],
      "source": [
        "import os\n",
        "import os.path\n",
        "import time\n",
        "from datetime import datetime\n",
        "\n",
        "import numpy as np\n",
        "import pandas as pd\n",
        "import seaborn as sns\n",
        "import matplotlib.pyplot as plt\n",
        "\n",
        "import tensorflow as tf\n",
        "from sklearn.preprocessing import StandardScaler\n",
        "import cvxpy as cp\n",
        "\n",
        "tf.keras.utils.set_random_seed(42)\n",
        "\n",
        "from google.colab import drive\n",
        "drive.mount('/content/drive')"
      ]
    },
    {
      "cell_type": "code",
      "execution_count": null,
      "metadata": {
        "colab": {
          "base_uri": "https://localhost:8080/",
          "height": 35
        },
        "id": "4acc2627",
        "outputId": "5c4bfd69-0a6c-4139-f0f9-7cc0a7d54ac2"
      },
      "outputs": [
        {
          "output_type": "execute_result",
          "data": {
            "text/plain": [
              "'/content'"
            ],
            "application/vnd.google.colaboratory.intrinsic+json": {
              "type": "string"
            }
          },
          "metadata": {},
          "execution_count": 2
        }
      ],
      "source": [
        "os.getcwd()"
      ]
    },
    {
      "cell_type": "code",
      "source": [
        "images_path = '/content/drive/My Drive/DSO_464_Fall_2024/Images'\n",
        "\n",
        "data_path = '/content/drive/My Drive/DSO_464_Fall_2024/01_Fundamentals_of_Machine_Learning_with_TensorFlow_I_EX_Predicting_Demand_with_Sales_Data_for_Dynamic_Pricing/Data'"
      ],
      "metadata": {
        "id": "ao6gAjeDXDqS"
      },
      "execution_count": null,
      "outputs": []
    },
    {
      "cell_type": "code",
      "source": [
        "# tf.keras.preprocessing.image.load_img(os.path.join(images_path, 'add_any_images_using_this_code.png'))"
      ],
      "metadata": {
        "id": "-U5iQ8JSNLeA"
      },
      "execution_count": null,
      "outputs": []
    },
    {
      "cell_type": "markdown",
      "source": [
        "$\\rule{800pt}{20pt}$"
      ],
      "metadata": {
        "id": "I_z9kc85Pwvu"
      }
    },
    {
      "cell_type": "markdown",
      "source": [
        "# Cleaning Walmart Sales Data\n",
        "<br>\n",
        "<font size=\"+1\">\n",
        "  <ul>\n",
        "    <li><b>RUN THE FOLLOWING CODE TO GENERATE THE DATA YOU WILL NEED FOR THE REST OF THE PROBLEMS.</b></li>\n",
        "    <br>\n",
        "    <br>\n",
        "    <li>We will use sales data from Walmart to estimate future demand of departments within stores (think of the stores' aggregate department sales as a proxy for all products' demand in that department, at that store).</li>\n",
        "    <br>\n",
        "    <ul>\n",
        "      <font color=\"blue\"><li>We will not implement the the optimization algorithms that use this forecast to compute the prices that maximize revenue, as this is outside the scope of the class, and involves a different set of tools (e.g. prescriptive analytics).</li></font>\n",
        "      <br>\n",
        "      <font color=\"red\"><li>In the process, we will introduce some of the core concepts of deep learning including:</li>\n",
        "      <br>\n",
        "      <ul>\n",
        "        <li>linear <b>algorithmic feature extraction</b>, i.e. representation learning via principal components analysis (PCA),</li>\n",
        "        <br>\n",
        "        <li>the perceptron algorithm, which is a single layer <b>fully connected neural network</b> with a linear activation function, i.e. a linear regression</li>\n",
        "        <br>\n",
        "        <li>a little bit of <b>Keras</b> and <b>TensorFlow</b> (more in HW 1),</li>\n",
        "        <br>\n",
        "        <li>and what the <i><b>learning</b></i> means in <b>deep learning</b> with gradient based optimization algorithms (GD, SGD, Batch and Mini-Batch GD).</li></font>\n",
        "        <br>\n",
        "      </ul>\n",
        "      <font color=\"blue\"><li>Remember, our goal for this notebook is to forecast a proxy (noisy measure) for demand (a single component in a pricing engine), rather than build a full dynamic optimal pricing engine.</li></font>\n",
        "      <br>\n",
        "    </ul>\n",
        "    <li>Our dataset comes from the Walmart sponsored <a href=\"https://www.kaggle.com/c/walmart-recruiting-store-sales-forecasting/overview\">Kaggle competition</a>, and the data consists of historical sales data for 45 Walmart stores located in different regions.</li>\n",
        "    <br>\n",
        "    <li>Each store contains many departments, and we will try to predict the sales for each department in each store.</li>\n",
        "    <br>\n",
        "    <ul>\n",
        "      <font color=\"red\"><li>That is, we're trying to predict sales $$\\text{Sales}_{\\text{store, department, time}} = Y_{i,j,t},$$ with variables $$(X_1, X_2, \\dots, X_p)$$ that we believe are related to sales through some function (that we don't know) $$ Y_{i,j,t} = f^{\\text{true}}(X_1, X_2, \\dots, X_p),$$ and we will try to approximate that unknown function with a deep learning algorithm that depends on weights (parameters) $$ \\widehat{Y}_{i,j,t} = f^{\\text{approx}}_{\\lambda}(X_1, X_2, \\dots, X_p; \\beta), $$ and we hope this approximation is very close to the true sales numbers $$ Y_{i,j,t} \\approx \\widehat{Y}_{i,j,t} \\iff \\text{error}(\\beta, \\lambda) = |Y_{i,j,t} - \\widehat{Y}_{i,j,t}| \\approx 0. $$ </li>\n",
        "      <li>This, of course, begs the question about how to find $$(\\beta, \\lambda),$$ this is what <b><i>training</i></b> does, and how to compute aggregate error over many samples, known as a <b><i>loss function</i></b>.</font>\n",
        "      <br>\n",
        "    </ul>\n",
        "    <li>This prediction problem is even more challenging since holiday discount (markdown) events are included in the data, and these discount events are known to impact sales (and therefore demand), but it is difficult to predict which departments are impacted and the magnitude of the impact.</li>\n",
        "    <br>\n",
        "  </ul>\n",
        "</font>\n",
        "\n",
        "$\\square$"
      ],
      "metadata": {
        "id": "RyHzMrR1pHKd"
      }
    },
    {
      "cell_type": "code",
      "source": [
        "####################################################################################################################################################\n",
        "# Description of Data - features.csv\n",
        "####################################################################################################################################################\n",
        "# Contains data related to the store, department, and regional activity for the given dates, such as:\n",
        "# the store number, the week\n",
        "# the average temperature in the region\n",
        "# the cost of fuel in the region\n",
        "# five anonymous variables (called MarkDown 1, 2, 3, 4, 5) related to promotional markdowns that Walmart is running\n",
        "  # MarkDown data is not available for all stores at all times\n",
        "# the consumer price index (CPI)\n",
        "# the unemployment rate\n",
        "# a binary variable that indicates whether the week is a special holiday or not\n",
        "  # the four holidays (Super Bowl, Labor Day, Thanksgiving, Christmas), fall within the following weeks in the data\n",
        "  # not all holidays are in the data, and dates are in the form: dd-mm-yy\n",
        "  # Super Bowl: 12-Feb-10, 11-Feb-11, 10-Feb-12, 8-Feb-13\n",
        "  # Labor Day: 10-Sep-10, 9-Sep-11, 7-Sep-12, 6-Sep-13\n",
        "  # Thanksgiving: 26-Nov-10, 25-Nov-11, 23-Nov-12, 29-Nov-13\n",
        "  # Christmas: 31-Dec-10, 30-Dec-11, 28-Dec-12, 27-Dec-13\n",
        "\n",
        "features_data = pd.read_csv(os.path.join(data_path, 'features.csv'))"
      ],
      "metadata": {
        "id": "BMKGzhT7Qz5E"
      },
      "execution_count": null,
      "outputs": []
    },
    {
      "cell_type": "code",
      "source": [
        "####################################################################################################################################################\n",
        "# Description of Data - stores.csv\n",
        "####################################################################################################################################################\n",
        "# Contains anonymized information about the 45 stores\n",
        "# These variables indicate the type of store and the size of the store\n",
        "\n",
        "stores_data = pd.read_csv(os.path.join(data_path, 'stores.csv'))"
      ],
      "metadata": {
        "id": "PDz0uHo6FrQK"
      },
      "execution_count": null,
      "outputs": []
    },
    {
      "cell_type": "code",
      "source": [
        "####################################################################################################################################################\n",
        "# Description of Data - train.csv\n",
        "####################################################################################################################################################\n",
        "# Contains the labels for the training data\n",
        "# Covers 2010-02-05 to 2012-11-01\n",
        "# It includes the store number, the department number, and the date (week)\n",
        "# Weekly sales for the given department in the given store\n",
        "# It also includes whether the week is a special holiday or not\n",
        "\n",
        "train_data = pd.read_csv(os.path.join(data_path, 'train.csv'))"
      ],
      "metadata": {
        "id": "sImy1LcHFtaD"
      },
      "execution_count": null,
      "outputs": []
    },
    {
      "cell_type": "code",
      "source": [
        "data = pd.merge(features_data, stores_data, on=[\"Store\"], how=\"outer\")\n",
        "\n",
        "data = pd.merge(data, train_data, on=[\"Store\", \"Date\", \"IsHoliday\"], how=\"inner\")"
      ],
      "metadata": {
        "id": "q_5XOvmltCjF"
      },
      "execution_count": null,
      "outputs": []
    },
    {
      "cell_type": "code",
      "source": [
        "data"
      ],
      "metadata": {
        "colab": {
          "base_uri": "https://localhost:8080/",
          "height": 609
        },
        "id": "dyESt0yhv7we",
        "outputId": "688f43ab-90c0-4759-c0f5-8adac3cfd587"
      },
      "execution_count": null,
      "outputs": [
        {
          "output_type": "execute_result",
          "data": {
            "text/plain": [
              "        Store        Date  Temperature  Fuel_Price  MarkDown1  MarkDown2  \\\n",
              "0           1  2010-02-05        42.31       2.572        NaN        NaN   \n",
              "1           1  2010-02-05        42.31       2.572        NaN        NaN   \n",
              "2           1  2010-02-05        42.31       2.572        NaN        NaN   \n",
              "3           1  2010-02-05        42.31       2.572        NaN        NaN   \n",
              "4           1  2010-02-05        42.31       2.572        NaN        NaN   \n",
              "...       ...         ...          ...         ...        ...        ...   \n",
              "421565     45  2012-10-26        58.85       3.882    4018.91      58.08   \n",
              "421566     45  2012-10-26        58.85       3.882    4018.91      58.08   \n",
              "421567     45  2012-10-26        58.85       3.882    4018.91      58.08   \n",
              "421568     45  2012-10-26        58.85       3.882    4018.91      58.08   \n",
              "421569     45  2012-10-26        58.85       3.882    4018.91      58.08   \n",
              "\n",
              "        MarkDown3  MarkDown4  MarkDown5         CPI  Unemployment  IsHoliday  \\\n",
              "0             NaN        NaN        NaN  211.096358         8.106      False   \n",
              "1             NaN        NaN        NaN  211.096358         8.106      False   \n",
              "2             NaN        NaN        NaN  211.096358         8.106      False   \n",
              "3             NaN        NaN        NaN  211.096358         8.106      False   \n",
              "4             NaN        NaN        NaN  211.096358         8.106      False   \n",
              "...           ...        ...        ...         ...           ...        ...   \n",
              "421565      100.0     211.94     858.33  192.308899         8.667      False   \n",
              "421566      100.0     211.94     858.33  192.308899         8.667      False   \n",
              "421567      100.0     211.94     858.33  192.308899         8.667      False   \n",
              "421568      100.0     211.94     858.33  192.308899         8.667      False   \n",
              "421569      100.0     211.94     858.33  192.308899         8.667      False   \n",
              "\n",
              "       Type    Size  Dept  Weekly_Sales  \n",
              "0         A  151315     1      24924.50  \n",
              "1         A  151315     2      50605.27  \n",
              "2         A  151315     3      13740.12  \n",
              "3         A  151315     4      39954.04  \n",
              "4         A  151315     5      32229.38  \n",
              "...     ...     ...   ...           ...  \n",
              "421565    B  118221    93       2487.80  \n",
              "421566    B  118221    94       5203.31  \n",
              "421567    B  118221    95      56017.47  \n",
              "421568    B  118221    97       6817.48  \n",
              "421569    B  118221    98       1076.80  \n",
              "\n",
              "[421570 rows x 16 columns]"
            ],
            "text/html": [
              "\n",
              "  <div id=\"df-32e0dcfd-cf60-44bc-a749-8075f83f22c2\" class=\"colab-df-container\">\n",
              "    <div>\n",
              "<style scoped>\n",
              "    .dataframe tbody tr th:only-of-type {\n",
              "        vertical-align: middle;\n",
              "    }\n",
              "\n",
              "    .dataframe tbody tr th {\n",
              "        vertical-align: top;\n",
              "    }\n",
              "\n",
              "    .dataframe thead th {\n",
              "        text-align: right;\n",
              "    }\n",
              "</style>\n",
              "<table border=\"1\" class=\"dataframe\">\n",
              "  <thead>\n",
              "    <tr style=\"text-align: right;\">\n",
              "      <th></th>\n",
              "      <th>Store</th>\n",
              "      <th>Date</th>\n",
              "      <th>Temperature</th>\n",
              "      <th>Fuel_Price</th>\n",
              "      <th>MarkDown1</th>\n",
              "      <th>MarkDown2</th>\n",
              "      <th>MarkDown3</th>\n",
              "      <th>MarkDown4</th>\n",
              "      <th>MarkDown5</th>\n",
              "      <th>CPI</th>\n",
              "      <th>Unemployment</th>\n",
              "      <th>IsHoliday</th>\n",
              "      <th>Type</th>\n",
              "      <th>Size</th>\n",
              "      <th>Dept</th>\n",
              "      <th>Weekly_Sales</th>\n",
              "    </tr>\n",
              "  </thead>\n",
              "  <tbody>\n",
              "    <tr>\n",
              "      <th>0</th>\n",
              "      <td>1</td>\n",
              "      <td>2010-02-05</td>\n",
              "      <td>42.31</td>\n",
              "      <td>2.572</td>\n",
              "      <td>NaN</td>\n",
              "      <td>NaN</td>\n",
              "      <td>NaN</td>\n",
              "      <td>NaN</td>\n",
              "      <td>NaN</td>\n",
              "      <td>211.096358</td>\n",
              "      <td>8.106</td>\n",
              "      <td>False</td>\n",
              "      <td>A</td>\n",
              "      <td>151315</td>\n",
              "      <td>1</td>\n",
              "      <td>24924.50</td>\n",
              "    </tr>\n",
              "    <tr>\n",
              "      <th>1</th>\n",
              "      <td>1</td>\n",
              "      <td>2010-02-05</td>\n",
              "      <td>42.31</td>\n",
              "      <td>2.572</td>\n",
              "      <td>NaN</td>\n",
              "      <td>NaN</td>\n",
              "      <td>NaN</td>\n",
              "      <td>NaN</td>\n",
              "      <td>NaN</td>\n",
              "      <td>211.096358</td>\n",
              "      <td>8.106</td>\n",
              "      <td>False</td>\n",
              "      <td>A</td>\n",
              "      <td>151315</td>\n",
              "      <td>2</td>\n",
              "      <td>50605.27</td>\n",
              "    </tr>\n",
              "    <tr>\n",
              "      <th>2</th>\n",
              "      <td>1</td>\n",
              "      <td>2010-02-05</td>\n",
              "      <td>42.31</td>\n",
              "      <td>2.572</td>\n",
              "      <td>NaN</td>\n",
              "      <td>NaN</td>\n",
              "      <td>NaN</td>\n",
              "      <td>NaN</td>\n",
              "      <td>NaN</td>\n",
              "      <td>211.096358</td>\n",
              "      <td>8.106</td>\n",
              "      <td>False</td>\n",
              "      <td>A</td>\n",
              "      <td>151315</td>\n",
              "      <td>3</td>\n",
              "      <td>13740.12</td>\n",
              "    </tr>\n",
              "    <tr>\n",
              "      <th>3</th>\n",
              "      <td>1</td>\n",
              "      <td>2010-02-05</td>\n",
              "      <td>42.31</td>\n",
              "      <td>2.572</td>\n",
              "      <td>NaN</td>\n",
              "      <td>NaN</td>\n",
              "      <td>NaN</td>\n",
              "      <td>NaN</td>\n",
              "      <td>NaN</td>\n",
              "      <td>211.096358</td>\n",
              "      <td>8.106</td>\n",
              "      <td>False</td>\n",
              "      <td>A</td>\n",
              "      <td>151315</td>\n",
              "      <td>4</td>\n",
              "      <td>39954.04</td>\n",
              "    </tr>\n",
              "    <tr>\n",
              "      <th>4</th>\n",
              "      <td>1</td>\n",
              "      <td>2010-02-05</td>\n",
              "      <td>42.31</td>\n",
              "      <td>2.572</td>\n",
              "      <td>NaN</td>\n",
              "      <td>NaN</td>\n",
              "      <td>NaN</td>\n",
              "      <td>NaN</td>\n",
              "      <td>NaN</td>\n",
              "      <td>211.096358</td>\n",
              "      <td>8.106</td>\n",
              "      <td>False</td>\n",
              "      <td>A</td>\n",
              "      <td>151315</td>\n",
              "      <td>5</td>\n",
              "      <td>32229.38</td>\n",
              "    </tr>\n",
              "    <tr>\n",
              "      <th>...</th>\n",
              "      <td>...</td>\n",
              "      <td>...</td>\n",
              "      <td>...</td>\n",
              "      <td>...</td>\n",
              "      <td>...</td>\n",
              "      <td>...</td>\n",
              "      <td>...</td>\n",
              "      <td>...</td>\n",
              "      <td>...</td>\n",
              "      <td>...</td>\n",
              "      <td>...</td>\n",
              "      <td>...</td>\n",
              "      <td>...</td>\n",
              "      <td>...</td>\n",
              "      <td>...</td>\n",
              "      <td>...</td>\n",
              "    </tr>\n",
              "    <tr>\n",
              "      <th>421565</th>\n",
              "      <td>45</td>\n",
              "      <td>2012-10-26</td>\n",
              "      <td>58.85</td>\n",
              "      <td>3.882</td>\n",
              "      <td>4018.91</td>\n",
              "      <td>58.08</td>\n",
              "      <td>100.0</td>\n",
              "      <td>211.94</td>\n",
              "      <td>858.33</td>\n",
              "      <td>192.308899</td>\n",
              "      <td>8.667</td>\n",
              "      <td>False</td>\n",
              "      <td>B</td>\n",
              "      <td>118221</td>\n",
              "      <td>93</td>\n",
              "      <td>2487.80</td>\n",
              "    </tr>\n",
              "    <tr>\n",
              "      <th>421566</th>\n",
              "      <td>45</td>\n",
              "      <td>2012-10-26</td>\n",
              "      <td>58.85</td>\n",
              "      <td>3.882</td>\n",
              "      <td>4018.91</td>\n",
              "      <td>58.08</td>\n",
              "      <td>100.0</td>\n",
              "      <td>211.94</td>\n",
              "      <td>858.33</td>\n",
              "      <td>192.308899</td>\n",
              "      <td>8.667</td>\n",
              "      <td>False</td>\n",
              "      <td>B</td>\n",
              "      <td>118221</td>\n",
              "      <td>94</td>\n",
              "      <td>5203.31</td>\n",
              "    </tr>\n",
              "    <tr>\n",
              "      <th>421567</th>\n",
              "      <td>45</td>\n",
              "      <td>2012-10-26</td>\n",
              "      <td>58.85</td>\n",
              "      <td>3.882</td>\n",
              "      <td>4018.91</td>\n",
              "      <td>58.08</td>\n",
              "      <td>100.0</td>\n",
              "      <td>211.94</td>\n",
              "      <td>858.33</td>\n",
              "      <td>192.308899</td>\n",
              "      <td>8.667</td>\n",
              "      <td>False</td>\n",
              "      <td>B</td>\n",
              "      <td>118221</td>\n",
              "      <td>95</td>\n",
              "      <td>56017.47</td>\n",
              "    </tr>\n",
              "    <tr>\n",
              "      <th>421568</th>\n",
              "      <td>45</td>\n",
              "      <td>2012-10-26</td>\n",
              "      <td>58.85</td>\n",
              "      <td>3.882</td>\n",
              "      <td>4018.91</td>\n",
              "      <td>58.08</td>\n",
              "      <td>100.0</td>\n",
              "      <td>211.94</td>\n",
              "      <td>858.33</td>\n",
              "      <td>192.308899</td>\n",
              "      <td>8.667</td>\n",
              "      <td>False</td>\n",
              "      <td>B</td>\n",
              "      <td>118221</td>\n",
              "      <td>97</td>\n",
              "      <td>6817.48</td>\n",
              "    </tr>\n",
              "    <tr>\n",
              "      <th>421569</th>\n",
              "      <td>45</td>\n",
              "      <td>2012-10-26</td>\n",
              "      <td>58.85</td>\n",
              "      <td>3.882</td>\n",
              "      <td>4018.91</td>\n",
              "      <td>58.08</td>\n",
              "      <td>100.0</td>\n",
              "      <td>211.94</td>\n",
              "      <td>858.33</td>\n",
              "      <td>192.308899</td>\n",
              "      <td>8.667</td>\n",
              "      <td>False</td>\n",
              "      <td>B</td>\n",
              "      <td>118221</td>\n",
              "      <td>98</td>\n",
              "      <td>1076.80</td>\n",
              "    </tr>\n",
              "  </tbody>\n",
              "</table>\n",
              "<p>421570 rows × 16 columns</p>\n",
              "</div>\n",
              "    <div class=\"colab-df-buttons\">\n",
              "\n",
              "  <div class=\"colab-df-container\">\n",
              "    <button class=\"colab-df-convert\" onclick=\"convertToInteractive('df-32e0dcfd-cf60-44bc-a749-8075f83f22c2')\"\n",
              "            title=\"Convert this dataframe to an interactive table.\"\n",
              "            style=\"display:none;\">\n",
              "\n",
              "  <svg xmlns=\"http://www.w3.org/2000/svg\" height=\"24px\" viewBox=\"0 -960 960 960\">\n",
              "    <path d=\"M120-120v-720h720v720H120Zm60-500h600v-160H180v160Zm220 220h160v-160H400v160Zm0 220h160v-160H400v160ZM180-400h160v-160H180v160Zm440 0h160v-160H620v160ZM180-180h160v-160H180v160Zm440 0h160v-160H620v160Z\"/>\n",
              "  </svg>\n",
              "    </button>\n",
              "\n",
              "  <style>\n",
              "    .colab-df-container {\n",
              "      display:flex;\n",
              "      gap: 12px;\n",
              "    }\n",
              "\n",
              "    .colab-df-convert {\n",
              "      background-color: #E8F0FE;\n",
              "      border: none;\n",
              "      border-radius: 50%;\n",
              "      cursor: pointer;\n",
              "      display: none;\n",
              "      fill: #1967D2;\n",
              "      height: 32px;\n",
              "      padding: 0 0 0 0;\n",
              "      width: 32px;\n",
              "    }\n",
              "\n",
              "    .colab-df-convert:hover {\n",
              "      background-color: #E2EBFA;\n",
              "      box-shadow: 0px 1px 2px rgba(60, 64, 67, 0.3), 0px 1px 3px 1px rgba(60, 64, 67, 0.15);\n",
              "      fill: #174EA6;\n",
              "    }\n",
              "\n",
              "    .colab-df-buttons div {\n",
              "      margin-bottom: 4px;\n",
              "    }\n",
              "\n",
              "    [theme=dark] .colab-df-convert {\n",
              "      background-color: #3B4455;\n",
              "      fill: #D2E3FC;\n",
              "    }\n",
              "\n",
              "    [theme=dark] .colab-df-convert:hover {\n",
              "      background-color: #434B5C;\n",
              "      box-shadow: 0px 1px 3px 1px rgba(0, 0, 0, 0.15);\n",
              "      filter: drop-shadow(0px 1px 2px rgba(0, 0, 0, 0.3));\n",
              "      fill: #FFFFFF;\n",
              "    }\n",
              "  </style>\n",
              "\n",
              "    <script>\n",
              "      const buttonEl =\n",
              "        document.querySelector('#df-32e0dcfd-cf60-44bc-a749-8075f83f22c2 button.colab-df-convert');\n",
              "      buttonEl.style.display =\n",
              "        google.colab.kernel.accessAllowed ? 'block' : 'none';\n",
              "\n",
              "      async function convertToInteractive(key) {\n",
              "        const element = document.querySelector('#df-32e0dcfd-cf60-44bc-a749-8075f83f22c2');\n",
              "        const dataTable =\n",
              "          await google.colab.kernel.invokeFunction('convertToInteractive',\n",
              "                                                    [key], {});\n",
              "        if (!dataTable) return;\n",
              "\n",
              "        const docLinkHtml = 'Like what you see? Visit the ' +\n",
              "          '<a target=\"_blank\" href=https://colab.research.google.com/notebooks/data_table.ipynb>data table notebook</a>'\n",
              "          + ' to learn more about interactive tables.';\n",
              "        element.innerHTML = '';\n",
              "        dataTable['output_type'] = 'display_data';\n",
              "        await google.colab.output.renderOutput(dataTable, element);\n",
              "        const docLink = document.createElement('div');\n",
              "        docLink.innerHTML = docLinkHtml;\n",
              "        element.appendChild(docLink);\n",
              "      }\n",
              "    </script>\n",
              "  </div>\n",
              "\n",
              "\n",
              "<div id=\"df-4a358bc4-1d65-42bf-b3a4-ea70856ca7bd\">\n",
              "  <button class=\"colab-df-quickchart\" onclick=\"quickchart('df-4a358bc4-1d65-42bf-b3a4-ea70856ca7bd')\"\n",
              "            title=\"Suggest charts\"\n",
              "            style=\"display:none;\">\n",
              "\n",
              "<svg xmlns=\"http://www.w3.org/2000/svg\" height=\"24px\"viewBox=\"0 0 24 24\"\n",
              "     width=\"24px\">\n",
              "    <g>\n",
              "        <path d=\"M19 3H5c-1.1 0-2 .9-2 2v14c0 1.1.9 2 2 2h14c1.1 0 2-.9 2-2V5c0-1.1-.9-2-2-2zM9 17H7v-7h2v7zm4 0h-2V7h2v10zm4 0h-2v-4h2v4z\"/>\n",
              "    </g>\n",
              "</svg>\n",
              "  </button>\n",
              "\n",
              "<style>\n",
              "  .colab-df-quickchart {\n",
              "      --bg-color: #E8F0FE;\n",
              "      --fill-color: #1967D2;\n",
              "      --hover-bg-color: #E2EBFA;\n",
              "      --hover-fill-color: #174EA6;\n",
              "      --disabled-fill-color: #AAA;\n",
              "      --disabled-bg-color: #DDD;\n",
              "  }\n",
              "\n",
              "  [theme=dark] .colab-df-quickchart {\n",
              "      --bg-color: #3B4455;\n",
              "      --fill-color: #D2E3FC;\n",
              "      --hover-bg-color: #434B5C;\n",
              "      --hover-fill-color: #FFFFFF;\n",
              "      --disabled-bg-color: #3B4455;\n",
              "      --disabled-fill-color: #666;\n",
              "  }\n",
              "\n",
              "  .colab-df-quickchart {\n",
              "    background-color: var(--bg-color);\n",
              "    border: none;\n",
              "    border-radius: 50%;\n",
              "    cursor: pointer;\n",
              "    display: none;\n",
              "    fill: var(--fill-color);\n",
              "    height: 32px;\n",
              "    padding: 0;\n",
              "    width: 32px;\n",
              "  }\n",
              "\n",
              "  .colab-df-quickchart:hover {\n",
              "    background-color: var(--hover-bg-color);\n",
              "    box-shadow: 0 1px 2px rgba(60, 64, 67, 0.3), 0 1px 3px 1px rgba(60, 64, 67, 0.15);\n",
              "    fill: var(--button-hover-fill-color);\n",
              "  }\n",
              "\n",
              "  .colab-df-quickchart-complete:disabled,\n",
              "  .colab-df-quickchart-complete:disabled:hover {\n",
              "    background-color: var(--disabled-bg-color);\n",
              "    fill: var(--disabled-fill-color);\n",
              "    box-shadow: none;\n",
              "  }\n",
              "\n",
              "  .colab-df-spinner {\n",
              "    border: 2px solid var(--fill-color);\n",
              "    border-color: transparent;\n",
              "    border-bottom-color: var(--fill-color);\n",
              "    animation:\n",
              "      spin 1s steps(1) infinite;\n",
              "  }\n",
              "\n",
              "  @keyframes spin {\n",
              "    0% {\n",
              "      border-color: transparent;\n",
              "      border-bottom-color: var(--fill-color);\n",
              "      border-left-color: var(--fill-color);\n",
              "    }\n",
              "    20% {\n",
              "      border-color: transparent;\n",
              "      border-left-color: var(--fill-color);\n",
              "      border-top-color: var(--fill-color);\n",
              "    }\n",
              "    30% {\n",
              "      border-color: transparent;\n",
              "      border-left-color: var(--fill-color);\n",
              "      border-top-color: var(--fill-color);\n",
              "      border-right-color: var(--fill-color);\n",
              "    }\n",
              "    40% {\n",
              "      border-color: transparent;\n",
              "      border-right-color: var(--fill-color);\n",
              "      border-top-color: var(--fill-color);\n",
              "    }\n",
              "    60% {\n",
              "      border-color: transparent;\n",
              "      border-right-color: var(--fill-color);\n",
              "    }\n",
              "    80% {\n",
              "      border-color: transparent;\n",
              "      border-right-color: var(--fill-color);\n",
              "      border-bottom-color: var(--fill-color);\n",
              "    }\n",
              "    90% {\n",
              "      border-color: transparent;\n",
              "      border-bottom-color: var(--fill-color);\n",
              "    }\n",
              "  }\n",
              "</style>\n",
              "\n",
              "  <script>\n",
              "    async function quickchart(key) {\n",
              "      const quickchartButtonEl =\n",
              "        document.querySelector('#' + key + ' button');\n",
              "      quickchartButtonEl.disabled = true;  // To prevent multiple clicks.\n",
              "      quickchartButtonEl.classList.add('colab-df-spinner');\n",
              "      try {\n",
              "        const charts = await google.colab.kernel.invokeFunction(\n",
              "            'suggestCharts', [key], {});\n",
              "      } catch (error) {\n",
              "        console.error('Error during call to suggestCharts:', error);\n",
              "      }\n",
              "      quickchartButtonEl.classList.remove('colab-df-spinner');\n",
              "      quickchartButtonEl.classList.add('colab-df-quickchart-complete');\n",
              "    }\n",
              "    (() => {\n",
              "      let quickchartButtonEl =\n",
              "        document.querySelector('#df-4a358bc4-1d65-42bf-b3a4-ea70856ca7bd button');\n",
              "      quickchartButtonEl.style.display =\n",
              "        google.colab.kernel.accessAllowed ? 'block' : 'none';\n",
              "    })();\n",
              "  </script>\n",
              "</div>\n",
              "    </div>\n",
              "  </div>\n"
            ]
          },
          "metadata": {},
          "execution_count": 9
        }
      ]
    },
    {
      "cell_type": "code",
      "source": [
        "## Splitting the Data Into Training and Testing Sets\n",
        "\n",
        "# When splitting the data, we will do a time-series split into a training set and a testing set,\n",
        "# where the training set contains data that occurred before the data that is in the testing set.\n",
        "\n",
        "# We must be very careful to prevent any data leakage, i.e. a lookahead bias, at this step."
      ],
      "metadata": {
        "id": "scW242mOtk_f"
      },
      "execution_count": null,
      "outputs": []
    },
    {
      "cell_type": "code",
      "source": [
        "data['Date'] = pd.to_datetime(data['Date'])\n",
        "\n",
        "data.set_index('Date', inplace=True)\n",
        "data.sort_index(inplace=True)"
      ],
      "metadata": {
        "id": "qiF63ndgkzMn"
      },
      "execution_count": null,
      "outputs": []
    },
    {
      "cell_type": "code",
      "source": [
        "# An approximate 70/30 Time Series Split\n",
        "\n",
        "training_data = data.loc[:'2012', :].copy()\n",
        "\n",
        "testing_data = data.loc['2012':, :].copy()"
      ],
      "metadata": {
        "id": "hD3NS_RIky99"
      },
      "execution_count": null,
      "outputs": []
    },
    {
      "cell_type": "code",
      "source": [
        "# We can probably safely fill all missing values with zero.\n",
        "# For the markdowns this means that there was no markdown.\n",
        "\n",
        "training_data.fillna(0, inplace=True)\n",
        "testing_data.fillna(0, inplace=True)"
      ],
      "metadata": {
        "id": "WihVt6bcLrzJ"
      },
      "execution_count": null,
      "outputs": []
    },
    {
      "cell_type": "code",
      "source": [
        "# We will only keep rows where we have nonnegative weekly sales, as this is a data error\n",
        "\n",
        "training_data = training_data[training_data['Weekly_Sales']>=0]\n",
        "\n",
        "testing_data = testing_data[testing_data['Weekly_Sales']>=0]"
      ],
      "metadata": {
        "id": "EZTxIWcdKv9_"
      },
      "execution_count": null,
      "outputs": []
    },
    {
      "cell_type": "code",
      "source": [
        "training_data['IsHoliday'] = np.where(training_data['IsHoliday'], 1, 0)\n",
        "testing_data['IsHoliday'] = np.where(testing_data['IsHoliday'], 1, 0)"
      ],
      "metadata": {
        "id": "sak8PRqjPil9",
        "colab": {
          "base_uri": "https://localhost:8080/"
        },
        "outputId": "577e83cd-4981-4376-cf08-a99b6f68dbde"
      },
      "execution_count": null,
      "outputs": [
        {
          "output_type": "stream",
          "name": "stderr",
          "text": [
            "<ipython-input-15-0d19938c4fbb>:1: SettingWithCopyWarning: \n",
            "A value is trying to be set on a copy of a slice from a DataFrame.\n",
            "Try using .loc[row_indexer,col_indexer] = value instead\n",
            "\n",
            "See the caveats in the documentation: https://pandas.pydata.org/pandas-docs/stable/user_guide/indexing.html#returning-a-view-versus-a-copy\n",
            "  training_data['IsHoliday'] = np.where(training_data['IsHoliday'], 1, 0)\n",
            "<ipython-input-15-0d19938c4fbb>:2: SettingWithCopyWarning: \n",
            "A value is trying to be set on a copy of a slice from a DataFrame.\n",
            "Try using .loc[row_indexer,col_indexer] = value instead\n",
            "\n",
            "See the caveats in the documentation: https://pandas.pydata.org/pandas-docs/stable/user_guide/indexing.html#returning-a-view-versus-a-copy\n",
            "  testing_data['IsHoliday'] = np.where(testing_data['IsHoliday'], 1, 0)\n"
          ]
        }
      ]
    },
    {
      "cell_type": "code",
      "source": [
        "# Make sure we can later recognize what a dummy once belonged to\n",
        "\n",
        "training_testing_data = [training_data, testing_data]\n",
        "\n",
        "for df in training_testing_data:\n",
        "  df['Type'] = 'Type_' + df['Type'].map(str)\n",
        "  df['Store'] = 'Store_' + df['Store'].map(str)\n",
        "  df['Dept'] = 'Dept_' + df['Dept'].map(str)\n",
        "  df['IsHoliday'] = 'IsHoliday_' + df['IsHoliday'].map(str)\n",
        "\n",
        "  df['Month'] = 'Month_' + df.index.month.map(str)\n",
        "\n",
        "  df['Black_Friday'] = np.where((df.index==datetime(2010, 11, 26).date()) | (df.index==datetime(2011, 11, 25).date()), 'yes', 'no')\n",
        "  df['Pre_Christmas'] = np.where((df.index==datetime(2010, 12, 23).date()) | (df.index==datetime(2010, 12, 24).date()) | (df.index==datetime(2011, 12, 23).date()) | (df.index==datetime(2011, 12, 24).date()), 'yes', 'no')\n",
        "  df['Black_Friday'] = 'Black_Friday_' + df['Black_Friday'].map(str)\n",
        "  df['Pre_Christmas'] = 'Pre_Christmas_' + df['Pre_Christmas'].map(str)"
      ],
      "metadata": {
        "id": "ak7GhMraRcLp"
      },
      "execution_count": null,
      "outputs": []
    },
    {
      "cell_type": "code",
      "source": [
        "# Create dummies for store features and for holiday indicator\n",
        "\n",
        "for df, i in zip(training_testing_data, range(2)):\n",
        "  type_dummies = pd.get_dummies(df['Type'], drop_first=True)\n",
        "  store_dummies = pd.get_dummies(df['Store'], drop_first=True)\n",
        "  dept_dummies = pd.get_dummies(df['Dept'], drop_first=True)\n",
        "  holiday_dummies = pd.get_dummies(df['IsHoliday'], drop_first=True)\n",
        "\n",
        "  month_dummies = pd.get_dummies(df['Month'], drop_first=True)\n",
        "\n",
        "  Black_Friday_dummies = pd.get_dummies(df['Black_Friday'], drop_first=True)\n",
        "  Pre_christmas_dummies = pd.get_dummies(df['Pre_Christmas'], drop_first=True)\n",
        "\n",
        "  if i == 1:\n",
        "    # Nov, Dec are not in the testing sample, so we must add the columns manually\n",
        "    df['Month_11'] = 0\n",
        "    df['Month_12'] = 0\n",
        "\n",
        "  training_testing_data[i] = pd.concat([df,\n",
        "                                        type_dummies, store_dummies, dept_dummies, holiday_dummies,\n",
        "                                        month_dummies,\n",
        "                                        Black_Friday_dummies, Pre_christmas_dummies],\n",
        "                                        axis=1)"
      ],
      "metadata": {
        "id": "I-LagFBaqTwr"
      },
      "execution_count": null,
      "outputs": []
    },
    {
      "cell_type": "code",
      "source": [
        "training_data = training_testing_data[0]\n",
        "\n",
        "testing_data = training_testing_data[1]"
      ],
      "metadata": {
        "id": "O8gv8tLXvfJh"
      },
      "execution_count": null,
      "outputs": []
    },
    {
      "cell_type": "code",
      "source": [
        "# Normalize the numerical variables using means and stds from the TRAINING DATA\n",
        "for df in training_testing_data:\n",
        "  df[['Unemployment', 'Temperature', 'Fuel_Price', 'CPI', 'MarkDown1', 'MarkDown2', 'MarkDown3', 'MarkDown4', 'MarkDown5']] = (df[['Unemployment', 'Temperature', 'Fuel_Price', 'CPI', 'MarkDown1', 'MarkDown2', 'MarkDown3', 'MarkDown4', 'MarkDown5']] - training_testing_data[0][['Unemployment', 'Temperature', 'Fuel_Price', 'CPI', 'MarkDown1', 'MarkDown2', 'MarkDown3', 'MarkDown4', 'MarkDown5']].mean())/(training_testing_data[0][['Unemployment', 'Temperature', 'Fuel_Price', 'CPI', 'MarkDown1', 'MarkDown2', 'MarkDown3', 'MarkDown4', 'MarkDown5']].std())\n"
      ],
      "metadata": {
        "id": "aguZbGtzOusn"
      },
      "execution_count": null,
      "outputs": []
    },
    {
      "cell_type": "code",
      "source": [
        "# Let's separate our data into X and Y\n",
        "\n",
        "X_train = training_data[training_data.columns.drop('Weekly_Sales')].select_dtypes(include=np.number)\n",
        "Y_train = training_data[['Weekly_Sales']]\n",
        "\n",
        "X_test = testing_data[testing_data.columns.drop('Weekly_Sales')].select_dtypes(include=np.number)\n",
        "Y_test = testing_data[['Weekly_Sales']]"
      ],
      "metadata": {
        "id": "u7HOPNJ6eYi9"
      },
      "execution_count": null,
      "outputs": []
    },
    {
      "cell_type": "code",
      "source": [
        "X_train.shape, X_test.shape, Y_train.shape, Y_test.shape"
      ],
      "metadata": {
        "colab": {
          "base_uri": "https://localhost:8080/"
        },
        "id": "4BNp-dU0fyDa",
        "outputId": "d7f4dcfd-d526-4c0d-a70f-335f674cb60e"
      },
      "execution_count": null,
      "outputs": [
        {
          "output_type": "execute_result",
          "data": {
            "text/plain": [
              "((420285, 148), (127026, 148), (420285, 1), (127026, 1))"
            ]
          },
          "metadata": {},
          "execution_count": 21
        }
      ]
    },
    {
      "cell_type": "code",
      "source": [
        "X_test = X_test[X_train.columns]"
      ],
      "metadata": {
        "id": "Le80tkfGWP-T"
      },
      "execution_count": null,
      "outputs": []
    },
    {
      "cell_type": "code",
      "source": [
        "scaler = StandardScaler()"
      ],
      "metadata": {
        "id": "O2k0aGV4V5-N"
      },
      "execution_count": null,
      "outputs": []
    },
    {
      "cell_type": "code",
      "source": [
        "# Fit the scaler to the training data and transform the training data\n",
        "x_train_norm = scaler.fit_transform(X_train)\n",
        "\n",
        "# Transform the test data with the same scaler\n",
        "x_test_norm = scaler.transform(X_test)"
      ],
      "metadata": {
        "id": "dmcXv_UZMlVE"
      },
      "execution_count": null,
      "outputs": []
    },
    {
      "cell_type": "code",
      "source": [
        "y_scaler = StandardScaler()"
      ],
      "metadata": {
        "id": "VietmM4MGat6"
      },
      "execution_count": null,
      "outputs": []
    },
    {
      "cell_type": "code",
      "source": [
        "# Fit the scaler to the training data and transform the training data\n",
        "y_train_norm = y_scaler.fit_transform(Y_train)\n",
        "\n",
        "# Transform the test data with the same scaler\n",
        "y_test_norm = y_scaler.transform(Y_test)"
      ],
      "metadata": {
        "id": "NESFg85nWgwA"
      },
      "execution_count": null,
      "outputs": []
    },
    {
      "cell_type": "markdown",
      "source": [
        "$\\rule{800pt}{20pt}$"
      ],
      "metadata": {
        "id": "jilI6DsS7uKc"
      }
    },
    {
      "cell_type": "markdown",
      "source": [
        "# Question 1: Tweaking Parameters in PCA\n",
        "\n",
        "\n",
        "- You do not have to watch the following videos, they are there to help clarify (however, I do think they are good).\n",
        "\n",
        "- Change the number of principal components (i.e. codings) to: 3, 9, 15, 50 and plot the loss on the entire training set vs the number of components\n",
        "\n",
        "  - Note, this could take roughly 5 minutes per each number of components iteration.\n",
        "\n",
        "- Additionally, generate a single plot of the loss per epoch for each number of components (add a legend for the number of components).\n",
        "\n",
        "- Describe what you observe and attempt to explain what you observe (just do your best here, we are **experimenting** and there is no right answer).\n",
        "\n",
        "- Finally, pick the number of components (codings) that give you the smallest loss, and use that to generate the features that will be used to predict demand in the next question.\n",
        "\n",
        "Please fill in the missing pieces of the code, and write your solutions below."
      ],
      "metadata": {
        "id": "N2Xz0qR3Pn6W"
      }
    },
    {
      "cell_type": "code",
      "source": [
        "from IPython.display import HTML\n",
        "\n",
        "# You do not have to watch the following video (but it is interesting)\n",
        "HTML('<iframe width=\"560\" height=\"315\" src=\"https://www.youtube.com/embed/FgakZw6K1QQ?si=EFGQrXGqBHcRsUYX\" title=\"YouTube video player\" frameborder=\"0\" allow=\"accelerometer; autoplay; clipboard-write; encrypted-media; gyroscope; picture-in-picture; web-share\" allowfullscreen></iframe>')"
      ],
      "metadata": {
        "colab": {
          "base_uri": "https://localhost:8080/",
          "height": 370
        },
        "id": "fj3IYT-QW8Y1",
        "outputId": "53c28629-3a7d-4827-a3b8-f3b8d6440df8"
      },
      "execution_count": null,
      "outputs": [
        {
          "output_type": "stream",
          "name": "stderr",
          "text": [
            "/usr/local/lib/python3.10/dist-packages/IPython/core/display.py:724: UserWarning: Consider using IPython.display.IFrame instead\n",
            "  warnings.warn(\"Consider using IPython.display.IFrame instead\")\n"
          ]
        },
        {
          "output_type": "execute_result",
          "data": {
            "text/plain": [
              "<IPython.core.display.HTML object>"
            ],
            "text/html": [
              "<iframe width=\"560\" height=\"315\" src=\"https://www.youtube.com/embed/FgakZw6K1QQ?si=EFGQrXGqBHcRsUYX\" title=\"YouTube video player\" frameborder=\"0\" allow=\"accelerometer; autoplay; clipboard-write; encrypted-media; gyroscope; picture-in-picture; web-share\" allowfullscreen></iframe>"
            ]
          },
          "metadata": {},
          "execution_count": 27
        }
      ]
    },
    {
      "cell_type": "code",
      "source": [
        "# Consider the following list of number of components - 3, 9, 15, 50\n",
        "number_of_components = [3, 9, 15, 50]"
      ],
      "metadata": {
        "id": "hNoLUx-Yi3z5"
      },
      "execution_count": null,
      "outputs": []
    },
    {
      "cell_type": "code",
      "source": [
        "# Complete the following code for the extraction of the principal components\n",
        "# Specifically, write code, or complete existing code in the following lines with three hashtags (###),\n",
        "# once you write or fill-in the code, be sure to UN-COMMENT your code,\n",
        "# everything else you can leave as is, and then run the cell.\n",
        "\n",
        "encoders = {} # creates an empty dictionary to store the encoder layer (which we will use to generate the principal components)\n",
        "history_data = {} # creates an empty dictionary to store the history of the training steps\n",
        "\n",
        "# Loop through the different number of components\n",
        "for num in number_of_components:\n",
        "  print(\"Now starting for:\", num, \"of components\")\n",
        "  tf.keras.utils.set_random_seed(42) # to ensure consistency of the random initialization of the weights\n",
        "\n",
        "   # We will organize the autoencoder into two subcomponents:\n",
        "   # the encoder - a regular sequential model with a single Dense layer\n",
        "   # the decoder - a regular sequential model with a single Dense layer\n",
        "\n",
        "   ### encoder = tf.keras.Sequential([tf.keras.layers.Input(shape=(None, ), tf.keras.layers.Dense(None)])\n",
        "\n",
        "   # The autoencoder's number of outputs must equal the number of inputs\n",
        "\n",
        "   ### decoder = tf.keras.Sequential([tf.keras.layers.Dense(None)])\n",
        "\n",
        "  # The autoencoder is a sequential model containing the encoder followed by the decoder\n",
        "  # To perform PCA, we don't use any activation function (i.e. all neurons are linear), and the loss function is MSE\n",
        "  # This is because PCA is a linear transformation\n",
        "\n",
        "  ### autoencoder = tf.keras.Sequential([None, None])\n",
        "  autoencoder.compile(loss=\"mse\")\n",
        "\n",
        "  # Note that we only use the inner hidden layer to generate the derived features\n",
        "  # These are known as the \"codings\"\n",
        "\n",
        "  history = autoencoder.fit(x_train_norm, x_train_norm, epochs=5, verbose=True)\n",
        "  encoders[num] = encoder\n",
        "  history_data[num] = history.history"
      ],
      "metadata": {
        "id": "V-tn7ISvlLF3"
      },
      "execution_count": null,
      "outputs": []
    },
    {
      "cell_type": "markdown",
      "source": [
        "## Plot of PCA losses"
      ],
      "metadata": {
        "id": "z2qd5BGXmq6Y"
      }
    },
    {
      "cell_type": "code",
      "source": [
        "# Run this code to visualize the error, how can you explain the following plot?\n",
        "# Write your explanation in a cell below this code.\n",
        "\n",
        "epochs = [i for i in range(1,6)]\n",
        "\n",
        "# Plotting\n",
        "plt.figure(figsize=(10, 6))\n",
        "plt.plot(epochs, history_data[3]['loss'], label='3 components')\n",
        "plt.plot(epochs, history_data[9]['loss'], label='9 components')\n",
        "plt.plot(epochs, history_data[15]['loss'], label='15 components')\n",
        "plt.plot(epochs, history_data[50]['loss'], label='50 components')\n",
        "plt.title('MSE vs. Epochs')\n",
        "plt.xlabel('Epochs')\n",
        "plt.ylabel('Mean Squared Error')\n",
        "plt.legend()\n",
        "plt.show()"
      ],
      "metadata": {
        "colab": {
          "base_uri": "https://localhost:8080/",
          "height": 564
        },
        "id": "Nqa1L3vpmYaA",
        "outputId": "0a8a6c92-c42f-4860-9c67-ee1598ba2466"
      },
      "execution_count": null,
      "outputs": [
        {
          "output_type": "display_data",
          "data": {
            "text/plain": [
              "<Figure size 1000x600 with 1 Axes>"
            ],
            "image/png": "[encoded data removed]"
          },
          "metadata": {}
        }
      ]
    },
    {
      "cell_type": "code",
      "source": [
        "# Write your explanation HERE.\n",
        "\n"
      ],
      "metadata": {
        "id": "H7JrIGTOhZug"
      },
      "execution_count": null,
      "outputs": []
    },
    {
      "cell_type": "markdown",
      "source": [
        "## Selection of Number of Components\n",
        "\n",
        "- Based on your above observations, choose the number of components that you think would be best to generate the principal components of your data."
      ],
      "metadata": {
        "id": "OCqLr66rmY6U"
      }
    },
    {
      "cell_type": "code",
      "source": [
        "### desired_num_of_components = None\n",
        "\n",
        "X_train_PC_codings = encoders[desired_num_of_components].predict(x_train_norm)\n",
        "\n",
        "X_test_PC_codings = encoders[desired_num_of_components].predict(x_test_norm)"
      ],
      "metadata": {
        "id": "XrvmWCFUmdzj"
      },
      "execution_count": null,
      "outputs": []
    },
    {
      "cell_type": "markdown",
      "source": [
        "$\\rule{800pt}{20pt}$"
      ],
      "metadata": {
        "id": "X7Xdiec1Pmc2"
      }
    },
    {
      "cell_type": "markdown",
      "source": [
        "# Question 2: Tweaking the Parameters and Model for a Single Layer Perceptron\n",
        "\n",
        "- Use the best principal components (codings) from the previous problem as the features for the following linear regression (single-layer perceptron) model.\n",
        "\n",
        "\n",
        "- Use the code given below to test three different optimizers (SGD, RMSProp, Adam) and plot the loss history vs the number of epochs for each optimizer choice.\n",
        "\n",
        "- Specify which optimizer gives the lowest error when training your perceptron model with 5 epochs.\n",
        "\n",
        "  - Feel free to make some other changes and report your results.\n",
        "\n",
        "\n",
        "\n",
        "Please fill in the missing pieces of the code, and write your solutions below."
      ],
      "metadata": {
        "id": "qqfXXogdQeaU"
      }
    },
    {
      "cell_type": "code",
      "source": [
        "# This describes what the model consists of\n",
        "\n",
        "lin_reg = tf.keras.Sequential([\n",
        "    tf.keras.layers.Input(shape=(X_train_PC_codings.shape[1],)),\n",
        "    tf.keras.layers.Normalization(axis=-1), # When -1 the last axis of the input is assumed to be a feature dimension and is normalized per index.\n",
        "    tf.keras.layers.Dense(1, activation='linear')\n",
        "  ])"
      ],
      "metadata": {
        "id": "zkRKG1vDklbl"
      },
      "execution_count": null,
      "outputs": []
    },
    {
      "cell_type": "code",
      "source": [
        "# Compile your model with SGD - complete the following code\n",
        "# Specifically, write code, or complete existing code in the following lines with three hashtags (###),\n",
        "# once you write or fill-in the code, be sure to UN-COMMENT your code,\n",
        "# everything else you can leave as is, and then run the cell.\n",
        "\n",
        "### lin_reg.compile(loss=\"mse\",optimizer=None) # you specify loss, optimizer, and any metrics"
      ],
      "metadata": {
        "id": "BYhoY3kNODhx"
      },
      "execution_count": null,
      "outputs": []
    },
    {
      "cell_type": "code",
      "source": [
        "X_train_PC_codings.shape"
      ],
      "metadata": {
        "colab": {
          "base_uri": "https://localhost:8080/"
        },
        "id": "U8Sdv_vAKYMu",
        "outputId": "6473d3ea-b1ce-49bd-f70e-1945edeb65c2"
      },
      "execution_count": null,
      "outputs": [
        {
          "output_type": "execute_result",
          "data": {
            "text/plain": [
              "(420285, 50)"
            ]
          },
          "metadata": {},
          "execution_count": 39
        }
      ]
    },
    {
      "cell_type": "code",
      "source": [
        "lin_reg.summary()"
      ],
      "metadata": {
        "colab": {
          "base_uri": "https://localhost:8080/"
        },
        "id": "qU4EiZD-HuCu",
        "outputId": "69b04082-6919-4f50-d29f-853bf237072b"
      },
      "execution_count": null,
      "outputs": [
        {
          "output_type": "stream",
          "name": "stdout",
          "text": [
            "Model: \"sequential_12\"\n",
            "_________________________________________________________________\n",
            " Layer (type)                Output Shape              Param #   \n",
            "=================================================================\n",
            " normalization (Normalizati  (None, 50)                101       \n",
            " on)                                                             \n",
            "                                                                 \n",
            " dense_8 (Dense)             (None, 1)                 51        \n",
            "                                                                 \n",
            "=================================================================\n",
            "Total params: 152 (612.00 Byte)\n",
            "Trainable params: 51 (204.00 Byte)\n",
            "Non-trainable params: 101 (408.00 Byte)\n",
            "_________________________________________________________________\n"
          ]
        }
      ]
    },
    {
      "cell_type": "code",
      "source": [
        "%%time\n",
        "# This is built-in training loop\n",
        "# It iterates over the training data in mini-batches (of some size, say 32 samples) for some number of epochs (an iteration over the entire training data)\n",
        "# For each batch, the model will compute the gradient of the loss with regard to the weights (which uses the Backpropagation algorithm)\n",
        "# It then moves the weights in the direction that will reduce the value of the loss for this batch of data\n",
        "\n",
        "\n",
        "sgd_history = lin_reg.fit(X_train_PC_codings, y_train_norm, epochs=5, verbose=True, batch_size = 32)"
      ],
      "metadata": {
        "id": "DlyfLMvQkl3N",
        "colab": {
          "base_uri": "https://localhost:8080/"
        },
        "outputId": "8bfed896-fdc5-4b8d-8bbf-3218ec42612a"
      },
      "execution_count": null,
      "outputs": [
        {
          "output_type": "stream",
          "name": "stdout",
          "text": [
            "Epoch 1/5\n",
            "13134/13134 [==============================] - 24s 2ms/step - loss: 0.9483\n",
            "Epoch 2/5\n",
            "13134/13134 [==============================] - 25s 2ms/step - loss: 0.9445\n",
            "Epoch 3/5\n",
            "13134/13134 [==============================] - 29s 2ms/step - loss: 0.9438\n",
            "Epoch 4/5\n",
            "13134/13134 [==============================] - 25s 2ms/step - loss: 0.9439\n",
            "Epoch 5/5\n",
            "13134/13134 [==============================] - 27s 2ms/step - loss: 0.9439\n",
            "CPU times: user 2min 13s, sys: 6.83 s, total: 2min 20s\n",
            "Wall time: 2min 9s\n"
          ]
        }
      ]
    },
    {
      "cell_type": "code",
      "source": [
        "# Returns the loss value & metrics values for the model\n",
        "\n",
        "lin_reg.evaluate(lin_reg.predict(X_train_PC_codings), y_train_norm)"
      ],
      "metadata": {
        "id": "60j6M7amkmA-",
        "colab": {
          "base_uri": "https://localhost:8080/"
        },
        "outputId": "d57b4100-1a7b-4fec-8f39-306740f24bbc"
      },
      "execution_count": null,
      "outputs": [
        {
          "output_type": "stream",
          "name": "stdout",
          "text": [
            "13134/13134 [==============================] - 22s 2ms/step\n",
            "13134/13134 [==============================] - 26s 2ms/step - loss: 1.0822\n"
          ]
        },
        {
          "output_type": "execute_result",
          "data": {
            "text/plain": [
              "1.0822170972824097"
            ]
          },
          "metadata": {},
          "execution_count": 42
        }
      ]
    },
    {
      "cell_type": "markdown",
      "source": [
        "## Now repeat the follwing steps for <a href=\"https://www.tensorflow.org/api_docs/python/tf/keras/optimizers/experimental/RMSprop\">RMSProp Optimizer</a>\n",
        "\n",
        "1. Create a model\n",
        "2. Compile model\n",
        "3. Fit the model to training data\n",
        "4. Evaluate model on test data\n",
        "\n",
        "Complete the code below to achieve it. (Feel free to look up what this optimizer is. See <a href=\"https://www.tensorflow.org/api_docs/python/tf/keras/optimizers/experimental/RMSprop\">here</a> for documentation.)"
      ],
      "metadata": {
        "id": "FGtLE2lbDAXs"
      }
    },
    {
      "cell_type": "code",
      "source": [
        "# Complete the following code\n",
        "# Specifically, write code, or complete existing code in the following lines with three hashtags (###),\n",
        "# once you write or fill-in the code, be sure to UN-COMMENT your code,\n",
        "# everything else you can leave as is, and then run the cell.\n",
        "\n",
        "# RMSProp\n",
        "### lin_reg = tf.keras.Sequential([\n",
        "###     tf.keras.layers.Input(shape=(None,)),\n",
        "###     tf.keras.layers.Normalization(axis=-1), # When -1 the last axis of the input is assumed to be a feature dimension and is normalized per index.\n",
        "###     tf.keras.layers.Dense(None, activation='linear')\n",
        "###   ])\n",
        "\n",
        "### lin_reg.compile(loss=\"mse\",optimizer=None)\n",
        "\n",
        "rms_history = lin_reg.fit(X_train_PC_codings, y_train_norm, epochs=5, verbose=True, batch_size=32)"
      ],
      "metadata": {
        "id": "64ETLShQchKG"
      },
      "execution_count": null,
      "outputs": []
    },
    {
      "cell_type": "code",
      "source": [
        "lin_reg.evaluate(lin_reg.predict(X_train_PC_codings), y_train_norm)"
      ],
      "metadata": {
        "colab": {
          "base_uri": "https://localhost:8080/"
        },
        "id": "vnDXrC3hbPRe",
        "outputId": "e7a2249e-6dfd-455a-ac8d-34d1ffcc6b10"
      },
      "execution_count": null,
      "outputs": [
        {
          "output_type": "stream",
          "name": "stdout",
          "text": [
            "13134/13134 [==============================] - 22s 2ms/step\n",
            "13134/13134 [==============================] - 22s 2ms/step - loss: 1.0737\n"
          ]
        },
        {
          "output_type": "execute_result",
          "data": {
            "text/plain": [
              "1.0737485885620117"
            ]
          },
          "metadata": {},
          "execution_count": 45
        }
      ]
    },
    {
      "cell_type": "markdown",
      "source": [
        "## Now repeat the follwing steps for <a href=\"https://www.tensorflow.org/api_docs/python/tf/keras/optimizers/experimental/Adam\">Adam Optimizer</a>\n",
        "\n",
        "1. Create a model\n",
        "2. Compile model\n",
        "3. Fit the model to training data\n",
        "4. Evaluate model on test data\n",
        "\n",
        "Complete the code below to achieve it. (Feel free to look up what this optimizer is. See <a href=\"https://www.tensorflow.org/api_docs/python/tf/keras/optimizers/experimental/Adam\">here</a> for documentation.)"
      ],
      "metadata": {
        "id": "ISlCWZ2Gc7Qb"
      }
    },
    {
      "cell_type": "code",
      "source": [
        "# Complete the following code\n",
        "# Specifically, write code, or complete existing code in the following lines with three hashtags (###),\n",
        "# once you write or fill-in the code, be sure to UN-COMMENT your code,\n",
        "# everything else you can leave as is, and then run the cell.\n",
        "\n",
        "# Adam\n",
        "\n",
        "### lin_reg = tf.keras.Sequential([\n",
        "###     tf.keras.layers.Input(shape=(None,)),\n",
        "###     tf.keras.layers.Normalization(axis=-1), # When -1 the last axis of the input is assumed to be a feature dimension and is normalized per index.\n",
        "###     tf.keras.layers.Dense(None, activation='linear')\n",
        "###   ])\n",
        "\n",
        "### lin_reg.compile(loss=\"mse\",optimizer=None)\n",
        "adam_history = lin_reg.fit(X_train_PC_codings, y_train_norm, epochs=5, verbose=True, batch_size=32)"
      ],
      "metadata": {
        "id": "5KK1C40Lc6d5"
      },
      "execution_count": null,
      "outputs": []
    },
    {
      "cell_type": "code",
      "source": [
        "lin_reg.evaluate(lin_reg.predict(X_train_PC_codings), y_train_norm)"
      ],
      "metadata": {
        "colab": {
          "base_uri": "https://localhost:8080/"
        },
        "id": "AoUIIWVDT7Mk",
        "outputId": "0db9d105-c13b-490d-d453-c2207e41bd32"
      },
      "execution_count": null,
      "outputs": [
        {
          "output_type": "stream",
          "name": "stdout",
          "text": [
            "13134/13134 [==============================] - 20s 2ms/step\n",
            "13134/13134 [==============================] - 21s 2ms/step - loss: 1.0671\n"
          ]
        },
        {
          "output_type": "execute_result",
          "data": {
            "text/plain": [
              "1.0670915842056274"
            ]
          },
          "metadata": {},
          "execution_count": 48
        }
      ]
    },
    {
      "cell_type": "markdown",
      "source": [
        "## Plotting the history"
      ],
      "metadata": {
        "id": "CGn2NJy9D-1z"
      }
    },
    {
      "cell_type": "code",
      "source": [
        "# Write your own code to display history of loss.\n",
        "# Hint: use and adapt the plotting code from the previous question.\n"
      ],
      "metadata": {
        "id": "poM2izD3QwOG"
      },
      "execution_count": null,
      "outputs": []
    },
    {
      "cell_type": "markdown",
      "source": [
        "$\\rule{800pt}{20pt}$"
      ],
      "metadata": {
        "id": "98yn2_ClWqtT"
      }
    },
    {
      "cell_type": "markdown",
      "metadata": {
        "id": "i8KjLcFaWqtV"
      },
      "source": [
        "$\\rule{800pt}{20pt}$"
      ]
    },
    {
      "cell_type": "markdown",
      "source": [
        "# Question 3: Implementing Mini-Batch SGD in a Training Loop for a Single-Layer Perceptron\n",
        "\n",
        "- This problem is using simpler simulated data, where we know the that pattern we are trying to learn.\n",
        "\n",
        "- We will start by creating a simple step-by-step mini-batch SGD"
      ],
      "metadata": {
        "id": "MThRUAhKWqtW"
      }
    },
    {
      "cell_type": "markdown",
      "source": [
        "## RECALL: Building a Custom Training Loop with TensorFlow\n",
        "<br>\n",
        "<font size=\"+1\">\n",
        "  <ul>\n",
        "    <li>What is a training loop?</li>\n",
        "    <br>\n",
        "    <ul>\n",
        "      <li>A training loop is a loop over training steps, i.e. steps that change weights in a direction that lowers the average errors.</li>\n",
        "      <br>\n",
        "    </ul>\n",
        "    <li>A training loop:</li>\n",
        "    <br>\n",
        "    <ul>\n",
        "      <li>iterates over the training data in mini-batches (of some size, say 32 samples) for some number of epochs (an iteration over the entire training data)</li>\n",
        "      <br>\n",
        "      <li>for each batch, the model will compute the gradient of the loss with regard to the weights (which uses the Backpropagation algorithm)</li>\n",
        "      <br>\n",
        "      <li>it then moves the weights in the direction that will reduce the value of the loss for this batch of data</li>\n",
        "      <br>\n",
        "    </ul>\n",
        "    <font color=\"red\"><li>In other words, a training loop:</li></font>\n",
        "    <br>\n",
        "    <ul>\n",
        "      <font color=\"red\"><li>samples data</li>\n",
        "      <br>\n",
        "      <li>generates predictions on the samples</li>\n",
        "      <br>\n",
        "      <li>computes the average error (loss) of the predictions and the sample targets</li>\n",
        "      <br>\n",
        "      <li>computes the gradient of the average error with respect to the weights</li>\n",
        "      <br>\n",
        "      <li>changes the weights according to a rule specified by the optimization algorithm</li>\n",
        "      <br>\n",
        "      <ul>\n",
        "        <font color=\"red\"><li>this rule is trying to move closer to the solution of the problem $$\\min_w L(w \\ ; \\underbrace{\\mathcal{D}}_{\\text{sample}\\\\ \\text{data}})$$</li></font>\n",
        "        <br>\n",
        "      </ul>\n",
        "      <li>and then repeats the sequence of steps</li></font>\n",
        "      <br>\n",
        "  </ul>\n",
        "  <li>For more on building a custom training loop, including things that can go wrong, see <a href=\"https://www.tensorflow.org/guide/autodiff#cases_where_gradient_returns_none\">here</a>.</li>\n",
        "  <br>\n",
        "</font>\n",
        "\n",
        "$\\square$"
      ],
      "metadata": {
        "id": "jCX5DgoYkvxG"
      }
    },
    {
      "cell_type": "code",
      "source": [
        "# Lets first create some synthetic data for a simple regression problem\n",
        "\n",
        "# Creating a synthetic dataset\n",
        "np.random.seed(0)\n",
        "data_size = 1000\n",
        "x_data = np.random.rand(data_size, 1).astype(np.float32)\n",
        "\n",
        "# y = 2x + 1 + noise\n",
        "y_data = 2 * x_data + 1 + 0.2 * np.random.randn(data_size, 1).astype(np.float32)"
      ],
      "metadata": {
        "id": "NNUjen5G_QBB"
      },
      "execution_count": null,
      "outputs": []
    },
    {
      "cell_type": "code",
      "source": [
        "# Complete the following code\n",
        "# Specifically, write code, or complete existing code in the following lines with three hashtags (###),\n",
        "# once you write or fill-in the code, be sure to UN-COMMENT your code,\n",
        "# everything else you can leave as is, and then run the cell.\n",
        "\n",
        "# Training\n",
        "learning_rate = 0.01\n",
        "epochs = 100\n",
        "batch_size = 16\n",
        "\n",
        "############################################# - to compute no of steps required in each epoch i.e, no of batches in each epoch\n",
        "### num_steps = None # Complete your code\n",
        "#############################################\n",
        "\n",
        "loss_history = []\n",
        "\n",
        "############################################# - to initialize variables. here we are intializing weight and bias\n",
        "### w = None # create a tensor variable of value 3.0 and name it as w - this is our slope / weight\n",
        "### b = None # create a tensor variable of value -1.0 and name it as b - this is our intercept / bias\n",
        "#############################################\n",
        "w_history = []\n",
        "b_history = []\n",
        "\n",
        "w_gradient_history = []\n",
        "b_gradient_history = []\n",
        "\n",
        "w_history.append(w.numpy())\n",
        "b_history.append(b.numpy())\n",
        "# Training loop\n",
        "### for epoch in range(None):\n",
        "    print(epoch,end='\\r')\n",
        "###    for i in range(0,None):\n",
        "\n",
        "        x_slice = x_data[num_steps * i: num_steps * (i + 1)]\n",
        "        y_slice = y_data[num_steps * i: num_steps * (i + 1)]\n",
        "\n",
        "        ###################################### - complete the code to fill gradient tape that is used to compute gradients\n",
        "        with tf.GradientTape() as tape:\n",
        "          ### y_pred = None\n",
        "          ### loss = None\n",
        "          gradients = tape.gradient(loss, [w, b])\n",
        "\n",
        "        w_gradient_history.append(gradients[0].numpy())\n",
        "        b_gradient_history.append(gradients[1].numpy())\n",
        "\n",
        "        ##################################### - complete the code to update the weights and bias\n",
        "        ### w.assign_sub(None)\n",
        "        ### b.assign_sub(None)\n",
        "        #####################################\n",
        "\n",
        "        w_history.append(w.numpy())\n",
        "        b_history.append(b.numpy())\n",
        "\n",
        "# Print trained parameters\n",
        "print(f\"Trained parameters: w = {w.numpy()}, b = {b.numpy()}\")"
      ],
      "metadata": {
        "id": "hZYg4vgLHAKn"
      },
      "execution_count": null,
      "outputs": []
    },
    {
      "cell_type": "code",
      "source": [
        "pd.DataFrame(w_gradient_history).plot()"
      ],
      "metadata": {
        "id": "s5i_baF1HWtN",
        "colab": {
          "base_uri": "https://localhost:8080/",
          "height": 447
        },
        "outputId": "aa8ba082-19e3-489a-ffe2-83b0f5189ba5"
      },
      "execution_count": null,
      "outputs": [
        {
          "output_type": "execute_result",
          "data": {
            "text/plain": [
              "<Axes: >"
            ]
          },
          "metadata": {},
          "execution_count": 54
        },
        {
          "output_type": "display_data",
          "data": {
            "text/plain": [
              "<Figure size 640x480 with 1 Axes>"
            ],
            "image/png": "[encoded data removed]"
          },
          "metadata": {}
        }
      ]
    },
    {
      "cell_type": "code",
      "source": [
        "pd.DataFrame(w_history).plot()"
      ],
      "metadata": {
        "id": "R6uQZlUNHXOU",
        "colab": {
          "base_uri": "https://localhost:8080/",
          "height": 447
        },
        "outputId": "455eb52c-babe-4255-8f9c-431530346917"
      },
      "execution_count": null,
      "outputs": [
        {
          "output_type": "execute_result",
          "data": {
            "text/plain": [
              "<Axes: >"
            ]
          },
          "metadata": {},
          "execution_count": 55
        },
        {
          "output_type": "display_data",
          "data": {
            "text/plain": [
              "<Figure size 640x480 with 1 Axes>"
            ],
            "image/png": "[encoded data removed]"
          },
          "metadata": {}
        }
      ]
    },
    {
      "cell_type": "code",
      "source": [
        "pd.DataFrame(b_history).plot()"
      ],
      "metadata": {
        "id": "xEsGh0LwHapi",
        "colab": {
          "base_uri": "https://localhost:8080/",
          "height": 448
        },
        "outputId": "3ad3f75c-6dce-4069-a901-873cb348727e"
      },
      "execution_count": null,
      "outputs": [
        {
          "output_type": "execute_result",
          "data": {
            "text/plain": [
              "<Axes: >"
            ]
          },
          "metadata": {},
          "execution_count": 56
        },
        {
          "output_type": "display_data",
          "data": {
            "text/plain": [
              "<Figure size 640x480 with 1 Axes>"
            ],
            "image/png": "[encoded data removed]"
          },
          "metadata": {}
        }
      ]
    },
    {
      "cell_type": "markdown",
      "metadata": {
        "id": "60dc1c31"
      },
      "source": [
        "$\\rule{800pt}{20pt}$"
      ]
    }
  ]
}